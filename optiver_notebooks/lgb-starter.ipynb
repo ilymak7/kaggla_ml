{
 "cells": [
  {
   "cell_type": "markdown",
   "metadata": {
    "_cell_guid": "b1076dfc-b9ad-4769-8c92-a6c4dae69d19",
    "_uuid": "8f2839f25d086af736a60e9eeb907d3b93b6e0e5",
    "execution": {
     "iopub.execute_input": "2021-07-05T17:50:17.732318Z",
     "iopub.status.busy": "2021-07-05T17:50:17.731903Z",
     "iopub.status.idle": "2021-07-05T17:50:19.647572Z",
     "shell.execute_reply": "2021-07-05T17:50:19.646491Z",
     "shell.execute_reply.started": "2021-07-05T17:50:17.732235Z"
    },
    "papermill": {
     "duration": 0.027223,
     "end_time": "2021-07-16T15:03:14.905740",
     "exception": false,
     "start_time": "2021-07-16T15:03:14.878517",
     "status": "completed"
    },
    "tags": []
   },
   "source": [
    "## LGB starter\n",
    "\n",
    "In this notebook:\n",
    "* I build simple features from book and trade datasets;\n",
    "* I train a lightgbm model **with weights** with a custom metric (RMSPE) and obtain a CV score;\n",
    "\n",
    "Credits to:\n",
    "* https://www.kaggle.com/jiashenliu/introduction-to-financial-concepts-and-data\n",
    "* https://www.kaggle.com/c/optiver-realized-volatility-prediction/discussion/250324\n",
    "\n",
    "**I hope it will be useful for beginners. By creating new variables you can easily improve this model.**"
   ]
  },
  {
   "cell_type": "code",
   "execution_count": 1,
   "metadata": {
    "execution": {
     "iopub.execute_input": "2021-07-16T15:03:14.961937Z",
     "iopub.status.busy": "2021-07-16T15:03:14.960585Z",
     "iopub.status.idle": "2021-07-16T15:03:14.966147Z",
     "shell.execute_reply": "2021-07-16T15:03:14.966639Z",
     "shell.execute_reply.started": "2021-07-16T12:21:46.435806Z"
    },
    "papermill": {
     "duration": 0.036368,
     "end_time": "2021-07-16T15:03:14.966977",
     "exception": false,
     "start_time": "2021-07-16T15:03:14.930609",
     "status": "completed"
    },
    "tags": []
   },
   "outputs": [],
   "source": [
    "# !pip install arch"
   ]
  },
  {
   "cell_type": "code",
   "execution_count": 2,
   "metadata": {
    "execution": {
     "iopub.execute_input": "2021-07-16T15:03:15.030321Z",
     "iopub.status.busy": "2021-07-16T15:03:15.029631Z",
     "iopub.status.idle": "2021-07-16T15:03:17.574728Z",
     "shell.execute_reply": "2021-07-16T15:03:17.574111Z",
     "shell.execute_reply.started": "2021-07-16T12:21:46.462200Z"
    },
    "papermill": {
     "duration": 2.582432,
     "end_time": "2021-07-16T15:03:17.574865",
     "exception": false,
     "start_time": "2021-07-16T15:03:14.992433",
     "status": "completed"
    },
    "tags": []
   },
   "outputs": [
    {
     "name": "stderr",
     "output_type": "stream",
     "text": [
      "C:\\Users\\amakr\\AppData\\Local\\Continuum\\anaconda3\\lib\\site-packages\\numpy\\_distributor_init.py:32: UserWarning: loaded more than 1 DLL from .libs:\n",
      "C:\\Users\\amakr\\AppData\\Local\\Continuum\\anaconda3\\lib\\site-packages\\numpy\\.libs\\libopenblas.NOIJJG62EMASZI6NYURL6JBKM4EVBGM7.gfortran-win_amd64.dll\n",
      "C:\\Users\\amakr\\AppData\\Local\\Continuum\\anaconda3\\lib\\site-packages\\numpy\\.libs\\libopenblas.WCDJNK7YVMPZQ2ME2ZZHJJRJ3JIKNDB7.gfortran-win_amd64.dll\n",
      "  stacklevel=1)\n"
     ]
    },
    {
     "data": {
      "text/html": [
       "<style type='text/css'>\n",
       ".datatable table.frame { margin-bottom: 0; }\n",
       ".datatable table.frame thead { border-bottom: none; }\n",
       ".datatable table.frame tr.coltypes td {  color: #FFFFFF;  line-height: 6px;  padding: 0 0.5em;}\n",
       ".datatable .bool    { background: #DDDD99; }\n",
       ".datatable .object  { background: #565656; }\n",
       ".datatable .int     { background: #5D9E5D; }\n",
       ".datatable .float   { background: #4040CC; }\n",
       ".datatable .str     { background: #CC4040; }\n",
       ".datatable .time    { background: #40CC40; }\n",
       ".datatable .row_index {  background: var(--jp-border-color3);  border-right: 1px solid var(--jp-border-color0);  color: var(--jp-ui-font-color3);  font-size: 9px;}\n",
       ".datatable .frame tbody td { text-align: left; }\n",
       ".datatable .frame tr.coltypes .row_index {  background: var(--jp-border-color0);}\n",
       ".datatable th:nth-child(2) { padding-left: 12px; }\n",
       ".datatable .hellipsis {  color: var(--jp-cell-editor-border-color);}\n",
       ".datatable .vellipsis {  background: var(--jp-layout-color0);  color: var(--jp-cell-editor-border-color);}\n",
       ".datatable .na {  color: var(--jp-cell-editor-border-color);  font-size: 80%;}\n",
       ".datatable .sp {  opacity: 0.25;}\n",
       ".datatable .footer { font-size: 9px; }\n",
       ".datatable .frame_dimensions {  background: var(--jp-border-color3);  border-top: 1px solid var(--jp-border-color0);  color: var(--jp-ui-font-color3);  display: inline-block;  opacity: 0.6;  padding: 1px 10px 1px 5px;}\n",
       "</style>\n"
      ],
      "text/plain": [
       "<IPython.core.display.HTML object>"
      ]
     },
     "metadata": {},
     "output_type": "display_data"
    }
   ],
   "source": [
    "from IPython.core.display import display, HTML\n",
    "# from arch import arch_model\n",
    "import pandas as pd\n",
    "import numpy as np # linear algebra\n",
    "import pandas as pd # data processing, CSV file I/O (e.g. pd.read_csv)\n",
    "import glob\n",
    "import os\n",
    "import gc\n",
    "from tqdm import tqdm\n",
    "from joblib import Parallel, delayed\n",
    "\n",
    "from sklearn import preprocessing, model_selection\n",
    "import lightgbm as lgb\n",
    "\n",
    "from sklearn.metrics import r2_score\n",
    "\n",
    "import matplotlib.pyplot as plt \n",
    "import seaborn as sns\n",
    "# from arch.__future__ import reindexing\n",
    "\n",
    "path_root = '../data/'\n",
    "path_data = '../data/'\n",
    "path_submissions = '/'\n",
    "\n",
    "target_name = 'target'\n",
    "scores_folds = {}\n"
   ]
  },
  {
   "cell_type": "code",
   "execution_count": 3,
   "metadata": {
    "execution": {
     "iopub.execute_input": "2021-07-16T15:03:17.632470Z",
     "iopub.status.busy": "2021-07-16T15:03:17.631448Z",
     "iopub.status.idle": "2021-07-16T15:03:17.635502Z",
     "shell.execute_reply": "2021-07-16T15:03:17.634757Z",
     "shell.execute_reply.started": "2021-07-16T12:21:48.896836Z"
    },
    "papermill": {
     "duration": 0.033404,
     "end_time": "2021-07-16T15:03:17.635684",
     "exception": false,
     "start_time": "2021-07-16T15:03:17.602280",
     "status": "completed"
    },
    "tags": []
   },
   "outputs": [],
   "source": [
    "# path_data"
   ]
  },
  {
   "cell_type": "code",
   "execution_count": 4,
   "metadata": {
    "execution": {
     "iopub.execute_input": "2021-07-16T15:03:17.692362Z",
     "iopub.status.busy": "2021-07-16T15:03:17.691694Z",
     "iopub.status.idle": "2021-07-16T15:03:17.695141Z",
     "shell.execute_reply": "2021-07-16T15:03:17.694056Z",
     "shell.execute_reply.started": "2021-07-16T12:21:48.901424Z"
    },
    "papermill": {
     "duration": 0.033426,
     "end_time": "2021-07-16T15:03:17.695301",
     "exception": false,
     "start_time": "2021-07-16T15:03:17.661875",
     "status": "completed"
    },
    "tags": []
   },
   "outputs": [],
   "source": [
    "# # test\n",
    "# stock_id = 0 \n",
    "# dataType = 'train'\n",
    "# key = ['stock_id', 'time_id', 'seconds_in_bucket']\n",
    "\n",
    "# df_book = pd.read_parquet(os.path.join(path_data, 'book_{}.parquet/stock_id={}/'.format(dataType, stock_id)))\n",
    "# df_book['stock_id'] = stock_id\n",
    "# cols = key + [col for col in df_book.columns if col not in key]\n",
    "# df_book = df_book[cols]\n",
    "# df_book['wap1'] = (df_book['bid_price1'] * df_book['ask_size1'] +\n",
    "#                                 df_book['ask_price1'] * df_book['bid_size1']) / (df_book['bid_size1'] + df_book['ask_size1'])\n",
    "# df_book['wap2'] = (df_book['bid_price2'] * df_book['ask_size2'] +\n",
    "#                                 df_book['ask_price2'] * df_book['bid_size2']) / (df_book['bid_size2'] + df_book['ask_size2'])\n",
    "# df_book['log_return1'] = df_book.groupby(by = ['time_id'])['wap1'].apply(log_return).fillna(0)\n",
    "# df_book['log_return2'] = df_book.groupby(by = ['time_id'])['wap2'].apply(log_return).fillna(0)\n",
    "# # df_book\n",
    "# features_to_apply_realized_volatility = ['log_return'+str(i+1) for i in range(2)]\n",
    "# stock_stat = df_book.groupby(by = ['stock_id', 'time_id'])[features_to_apply_realized_volatility]\\\n",
    "#                         .agg(realized_volatility).reset_index()\n",
    "# stock_stat"
   ]
  },
  {
   "cell_type": "code",
   "execution_count": 5,
   "metadata": {
    "execution": {
     "iopub.execute_input": "2021-07-16T15:03:17.751085Z",
     "iopub.status.busy": "2021-07-16T15:03:17.750355Z",
     "iopub.status.idle": "2021-07-16T15:03:17.753231Z",
     "shell.execute_reply": "2021-07-16T15:03:17.752572Z",
     "shell.execute_reply.started": "2021-07-16T12:21:48.916374Z"
    },
    "papermill": {
     "duration": 0.032328,
     "end_time": "2021-07-16T15:03:17.753370",
     "exception": false,
     "start_time": "2021-07-16T15:03:17.721042",
     "status": "completed"
    },
    "tags": []
   },
   "outputs": [],
   "source": [
    "# from sklearn.preprocessing import PolynomialFeatures\n",
    "\n",
    "# stock_stat['log_return1']**1"
   ]
  },
  {
   "cell_type": "code",
   "execution_count": 6,
   "metadata": {
    "execution": {
     "iopub.execute_input": "2021-07-16T15:03:17.838487Z",
     "iopub.status.busy": "2021-07-16T15:03:17.822401Z",
     "iopub.status.idle": "2021-07-16T15:03:17.853700Z",
     "shell.execute_reply": "2021-07-16T15:03:17.853131Z",
     "shell.execute_reply.started": "2021-07-16T12:25:00.399702Z"
    },
    "papermill": {
     "duration": 0.073558,
     "end_time": "2021-07-16T15:03:17.853852",
     "exception": false,
     "start_time": "2021-07-16T15:03:17.780294",
     "status": "completed"
    },
    "tags": []
   },
   "outputs": [],
   "source": [
    "def log_return(list_stock_prices):\n",
    "    return np.log(list_stock_prices).diff() \n",
    "\n",
    "def realized_volatility(series_log_return):\n",
    "    return np.sqrt(np.sum(series_log_return**2))\n",
    "\n",
    "def rmspe(y_true, y_pred):\n",
    "    return  (np.sqrt(np.mean(np.square((y_true - y_pred) / y_true))))\n",
    "# def arch_vol(ts):\n",
    "# #     ts = ts\n",
    "#     ts = ts.astype('double')\n",
    "#     model = arch_model(ts, mean='Constant', vol='ARCH', p=1,rescale = False)\n",
    "#     model_fit = model.fit(disp='off', show_warning=False)\n",
    "#     # forecast the test set\n",
    "#     yhat = model_fit.forecast(horizon=600)\n",
    "#     return np.sqrt(yhat.variance.values[-1, :].max())  \n",
    "def get_stock_stat(stock_id : int, dataType = 'train'):\n",
    "    key = ['stock_id', 'time_id', 'seconds_in_bucket']\n",
    "    \n",
    "    #Book features\n",
    "    df_book = pd.read_parquet(os.path.join(path_data, 'book_{}.parquet/stock_id={}/'.format(dataType, stock_id)))\n",
    "    df_book['stock_id'] = stock_id\n",
    "    cols = key + [col for col in df_book.columns if col not in key]\n",
    "    df_book = df_book[cols]\n",
    "    \n",
    "    df_book['wap1'] = (df_book['bid_price1'] * df_book['ask_size1'] +\n",
    "                                    df_book['ask_price1'] * df_book['bid_size1']) / (df_book['bid_size1'] + df_book['ask_size1'])\n",
    "    df_book['wap2'] = (df_book['bid_price2'] * df_book['ask_size2'] +\n",
    "                                    df_book['ask_price2'] * df_book['bid_size2']) / (df_book['bid_size2'] + df_book['ask_size2'])\n",
    "    df_book['log_return1'] = df_book.groupby(by = ['time_id'])['wap1'].apply(log_return).fillna(0)\n",
    "    df_book['log_return2'] = df_book.groupby(by = ['time_id'])['wap2'].apply(log_return).fillna(0)\n",
    "    #         sum_df_1 = df_book[df_book.seconds_in_bucket>= window].groupby(\"time_id\")[\"log_return\"].sum().reset_index()\n",
    "#         sum_df[\"volatility_\"+str(window)] = (sum_df_1[\"diff_log_wap2\"])**0.5\n",
    "#         sum_df['len_'+str(window)] = df[df.seconds_in_bucket>= window].groupby(\"time_id\").size().reset_index(drop = True)\n",
    "# #     sum_df = df.groupby(\"time_id\")[\"diff_log_wap2\"].sum().reset_index()\n",
    "# #     sum_df[\"volatility\"] = (sum_df[\"diff_log_wap2\"])**0.5\n",
    "#     sum_df[\"len_300\"] = sum_df[\"len_300\"]/(sum_df[\"len_0\"]*100)\n",
    "#     sum_df[\"len_540\"] = sum_df[\"len_540\"]/(sum_df[\"len_0\"]*100)\n",
    "#     sum_df[\"len_0\"] = sum_df[\"len_0\"]/(600*100)\n",
    "    features_to_apply_realized_volatility = ['log_return'+str(i+1) for i in range(2)]\n",
    "#     arch_volat  = df_book.groupby(by = ['stock_id', 'time_id'])[features_to_apply_realized_volatility]\\\n",
    "#                         .agg(arch_vol).reset_index().rename(columns={'log_return1': 'arch_vol_1','log_return2' : 'arch_vol_2'})\n",
    "#     arch_vol = arch_vol.rename()\n",
    "    stock_stat = df_book.groupby(by = ['stock_id', 'time_id'])[features_to_apply_realized_volatility]\\\n",
    "                        .agg(realized_volatility).reset_index()\n",
    "    df_book['wap_balance'] = abs(df_book['wap1'] - df_book['wap2'])\n",
    "    df_book['price_spread'] = (df_book['ask_price1'] - df_book['bid_price1']) / ((df_book['ask_price1'] + df_book['bid_price1'])/2)\n",
    "    df_book['bid_spread'] = df_book['bid_price1'] - df_book['bid_price2']\n",
    "    df_book['ask_spread'] = df_book['ask_price1'] - df_book['ask_price2']\n",
    "    df_book['total_volume'] = (df_book['ask_size1'] + df_book['ask_size2']) + (df_book['bid_size1'] + df_book['bid_size2'])\n",
    "    df_book['volume_imbalance'] = abs((df_book['ask_size1'] + df_book['ask_size2']) - (df_book['bid_size1'] + df_book['bid_size2']))\n",
    "    create_feature_dict = {\n",
    "        #'log_return':[realized_volatility],\n",
    "        #'log_return2':[realized_volatility],\n",
    "        'wap_balance':[np.mean],\n",
    "        'price_spread':[np.mean],\n",
    "        'bid_spread':[np.mean],\n",
    "        'ask_spread':[np.mean],\n",
    "        'volume_imbalance':[np.mean],\n",
    "        'total_volume':[np.mean],\n",
    "        'wap1':[np.mean],\n",
    "        'wap2':[np.mean],\n",
    "        'wap_balance':[np.std],\n",
    "        'price_spread':[np.std],\n",
    "        'bid_spread':[np.std],\n",
    "        'ask_spread':[np.std],\n",
    "        'volume_imbalance':[np.std],\n",
    "        'total_volume':[np.std],\n",
    "        'wap1':[np.std],\n",
    "        'wap2':[np.std],\n",
    "            }\n",
    "\n",
    "    #####groupby / all seconds\n",
    "    df_feature = pd.DataFrame(df_book.groupby(['time_id']).agg(create_feature_dict)).reset_index()\n",
    "    \n",
    "    df_feature.columns = ['_'.join(col) for col in df_feature.columns] #time_id is changed to time_id_\n",
    "        \n",
    "    ######groupby / last XX seconds\n",
    "    last_seconds = [300, 60,120]\n",
    "    \n",
    "    for second in last_seconds:\n",
    "        second = 600 - second \n",
    "    \n",
    "        df_feature_sec = pd.DataFrame(df_book.query(f'seconds_in_bucket >= {second}').groupby(['time_id']).agg(create_feature_dict)).reset_index()\n",
    "\n",
    "        df_feature_sec.columns = ['_'.join(col) for col in df_feature_sec.columns] #time_id is changed to time_id_\n",
    "     \n",
    "        df_feature_sec = df_feature_sec.add_suffix('_' + str(second))\n",
    "\n",
    "        df_feature = pd.merge(df_feature,df_feature_sec,how='left',left_on='time_id_',right_on=f'time_id__{second}')\n",
    "        df_feature = df_feature.drop([f'time_id__{second}'],axis=1)\n",
    "    \n",
    "    #create row_id\n",
    "#     stock_id = stock_id\n",
    "#     df_feature['row_id'] = df_feature['time_id_'].apply(lambda x:f'{stock_id}-{x}')\n",
    "    df_feature = df_feature.rename(columns = {'time_id_' : 'time_id'})\n",
    "    stock_stat = stock_stat.merge(df_feature, on='time_id', how='left').fillna(0)\n",
    "\n",
    "    for window in [300,540]:\n",
    "        a = df_book[df_book.seconds_in_bucket>= window].groupby(\"time_id\")[\"log_return1\"].agg(realized_volatility).reset_index().rename(columns={'log_return1': 'vol_1_'+str(window)})\n",
    "        b = df_book[df_book.seconds_in_bucket>= window].groupby(\"time_id\")[\"log_return2\"].agg(realized_volatility).reset_index().rename(columns={'log_return2': 'vol_2_'+str(window)})\n",
    "\n",
    "        stock_stat = stock_stat.merge(a, on='time_id', how='left').fillna(0)\n",
    "        stock_stat = stock_stat.merge(b, on='time_id', how='left').fillna(0)\n",
    "        stock_stat['len_'+str(window)] = df_book[df_book.seconds_in_bucket>= window].groupby(\"time_id\").size().reset_index(drop = True)\n",
    "    window = 0\n",
    "    stock_stat['len_'+str(window)] = df_book[df_book.seconds_in_bucket>= window].groupby(\"time_id\").size().reset_index(drop = True)\n",
    "#     stock_stat[log]\n",
    "    \n",
    "    \n",
    "        #Trade features\n",
    "    trade_stat =  pd.read_parquet(os.path.join(path_data,'trade_{}.parquet/stock_id={}'.format(dataType, stock_id)))\n",
    "    trade_stat = trade_stat.sort_values(by=['time_id', 'seconds_in_bucket']).reset_index(drop=True)\n",
    "    trade_stat['stock_id'] = stock_id\n",
    "    cols = key + [col for col in trade_stat.columns if col not in key]\n",
    "    trade_stat = trade_stat[cols]\n",
    "    agg_df = trade_stat.groupby(['stock_id', 'time_id']).agg(mean_sec_in_bucket = ('seconds_in_bucket', 'mean'), \n",
    "                                                     mean_price = ('price', 'mean'),\n",
    "                                                     mean_size = ('size', 'mean'),\n",
    "                                                     mean_order = ('order_count', 'mean'),\n",
    "                                                     max_sec_in_bucket = ('seconds_in_bucket', 'max'), \n",
    "                                                     max_price = ('price', 'max'),\n",
    "                                                     max_size = ('size', 'max'),\n",
    "                                                     max_order = ('order_count', 'max'),\n",
    "                                                     min_sec_in_bucket = ('seconds_in_bucket', 'min'), \n",
    "                                                     min_price = ('price', 'min'),\n",
    "                                                     min_size = ('size', 'min'),\n",
    "                                                     sum_size = ('size', 'sum'),\n",
    "                                                     min_order = ('order_count', 'min'),\n",
    "                                                     median_sec_in_bucket = ('seconds_in_bucket', 'median'), \n",
    "                                                     median_price = ('price', 'median'),\n",
    "                                                     median_size = ('size', 'median'),\n",
    "                                                     median_order = ('order_count', 'median')\n",
    "                                                    ).reset_index()\n",
    "#     arch_preds = stock_stat.groupby(['stock_id', 'time_id'])\n",
    "    stock_stat = stock_stat.merge(agg_df, on=['stock_id', 'time_id'], how='left').fillna(0)\n",
    "    trade_stat['trade_log_return1'] = trade_stat.groupby(by = ['time_id'])['price'].apply(log_return).fillna(0)\n",
    "    trade_stat = trade_stat.groupby(by = ['stock_id', 'time_id'])[['trade_log_return1']]\\\n",
    "                           .agg(realized_volatility).reset_index()\n",
    "    #Joining book and trade features\n",
    "    stock_stat = stock_stat.merge(trade_stat, on=['stock_id', 'time_id'], how='left').fillna(-999)\n",
    "    for i in [2,3]:\n",
    "        stock_stat['log_return1_'+str(i)] = stock_stat['log_return1']**i\n",
    "        stock_stat['log_return2_'+str(i)] = stock_stat['log_return2']**i\n",
    "        stock_stat['trade_log_return1_'+str(i)] = stock_stat['trade_log_return1']**i\n",
    "    return stock_stat\n",
    "\n",
    "def get_dataSet(stock_ids : list, dataType = 'train'):\n",
    "\n",
    "    stock_stat = Parallel(n_jobs=-1)(\n",
    "        delayed(get_stock_stat)(stock_id, dataType) \n",
    "        for stock_id in tqdm(stock_ids)\n",
    "    )\n",
    "    \n",
    "    stock_stat_df = pd.concat(stock_stat, ignore_index = True)\n",
    "\n",
    "    return stock_stat_df\n",
    "\n",
    "def feval_RMSPE(preds, train_data):\n",
    "    labels = train_data.get_label()\n",
    "    return 'RMSPE', round(rmspe(y_true = labels, y_pred = preds),5), False\n",
    "\n",
    "# params_lgbm = {\n",
    "#         'task': 'train',\n",
    "#         'boosting_type': 'gbdt',\n",
    "#         'learning_rate': 0.01,\n",
    "#         'objective': 'regression',\n",
    "#         'metric': 'None',\n",
    "#         'max_depth': -1,\n",
    "#         'n_jobs': -1,\n",
    "#         'feature_fraction': 0.7,\n",
    "#         'bagging_fraction': 0.7,\n",
    "#         'lambda_l2': 1,\n",
    "#         'verbose': -1\n",
    "#         #'bagging_freq': 5\n",
    "# }"
   ]
  },
  {
   "cell_type": "code",
   "execution_count": 7,
   "metadata": {
    "execution": {
     "iopub.execute_input": "2021-07-16T15:03:17.910576Z",
     "iopub.status.busy": "2021-07-16T15:03:17.909894Z",
     "iopub.status.idle": "2021-07-16T15:03:17.911988Z",
     "shell.execute_reply": "2021-07-16T15:03:17.912449Z",
     "shell.execute_reply.started": "2021-07-16T12:25:02.138084Z"
    },
    "papermill": {
     "duration": 0.03254,
     "end_time": "2021-07-16T15:03:17.912630",
     "exception": false,
     "start_time": "2021-07-16T15:03:17.880090",
     "status": "completed"
    },
    "tags": []
   },
   "outputs": [],
   "source": [
    "# get_stock_stat(0, dataType = 'train')\n"
   ]
  },
  {
   "cell_type": "code",
   "execution_count": 8,
   "metadata": {
    "execution": {
     "iopub.execute_input": "2021-07-16T15:03:17.970178Z",
     "iopub.status.busy": "2021-07-16T15:03:17.969441Z",
     "iopub.status.idle": "2021-07-16T15:03:17.972180Z",
     "shell.execute_reply": "2021-07-16T15:03:17.972933Z",
     "shell.execute_reply.started": "2021-07-16T12:25:03.643055Z"
    },
    "papermill": {
     "duration": 0.034996,
     "end_time": "2021-07-16T15:03:17.973144",
     "exception": false,
     "start_time": "2021-07-16T15:03:17.938148",
     "status": "completed"
    },
    "tags": []
   },
   "outputs": [],
   "source": [
    "# # df_book\n",
    "# # get_stock_stat(0, dataType = 'train')\n",
    "\n",
    "# def calc_wap(df):\n",
    "#     wap = (df['bid_price1'] * df['ask_size1'] + df['ask_price1'] * df['bid_size1'])/(df['bid_size1'] + df['ask_size1'])\n",
    "#     return wap\n",
    "# def calc_wap2(df):\n",
    "#     wap = (df['bid_price2'] * df['ask_size2'] + df['ask_price2'] * df['bid_size2'])/(df['bid_size2'] + df['ask_size2'])\n",
    "#     return wap\n",
    "# def log_return(list_stock_prices):\n",
    "#     return np.log(list_stock_prices).diff() \n",
    "# def realized_volatility(series):\n",
    "#     return np.sqrt(np.sum(series**2))\n",
    "# def count_unique(series):\n",
    "#     return len(np.unique(series))\n",
    "# def preprocessor_book(stock_id : int, dataType = 'train'):\n",
    "#     df = pd.read_parquet(os.path.join(path_data, 'book_{}.parquet/stock_id={}/'.format(dataType, stock_id)))\n",
    "#     #calculate return etc\n",
    "#     df['wap'] = calc_wap(df)\n",
    "#     df['log_return'] = df.groupby('time_id')['wap'].apply(log_return)\n",
    "    \n",
    "#     df['wap2'] = calc_wap2(df)\n",
    "#     df['log_return2'] = df.groupby('time_id')['wap2'].apply(log_return)\n",
    "    \n",
    "#     df['wap_balance'] = abs(df['wap'] - df['wap2'])\n",
    "    \n",
    "#     df['price_spread'] = (df['ask_price1'] - df['bid_price1']) / ((df['ask_price1'] + df['bid_price1'])/2)\n",
    "#     df['bid_spread'] = df['bid_price1'] - df['bid_price2']\n",
    "#     df['ask_spread'] = df['ask_price1'] - df['ask_price2']\n",
    "#     df['total_volume'] = (df['ask_size1'] + df['ask_size2']) + (df['bid_size1'] + df['bid_size2'])\n",
    "#     df['volume_imbalance'] = abs((df['ask_size1'] + df['ask_size2']) - (df['bid_size1'] + df['bid_size2']))\n",
    "\n",
    "#     #dict for aggregate\n",
    "#     create_feature_dict = {\n",
    "#         'log_return':[realized_volatility],\n",
    "#         'log_return2':[realized_volatility],\n",
    "#         'wap_balance':[np.mean],\n",
    "#         'price_spread':[np.mean],\n",
    "#         'bid_spread':[np.mean],\n",
    "#         'ask_spread':[np.mean],\n",
    "#         'volume_imbalance':[np.mean],\n",
    "#         'total_volume':[np.mean],\n",
    "#         'wap':[np.mean],\n",
    "#             }\n",
    "\n",
    "#     #####groupby / all seconds\n",
    "#     df_feature = pd.DataFrame(df.groupby(['time_id']).agg(create_feature_dict)).reset_index()\n",
    "    \n",
    "#     df_feature.columns = ['_'.join(col) for col in df_feature.columns] #time_id is changed to time_id_\n",
    "        \n",
    "#     ######groupby / last XX seconds\n",
    "#     last_seconds = [300]\n",
    "    \n",
    "#     for second in last_seconds:\n",
    "#         second = 600 - second \n",
    "    \n",
    "#         df_feature_sec = pd.DataFrame(df.query(f'seconds_in_bucket >= {second}').groupby(['time_id']).agg(create_feature_dict)).reset_index()\n",
    "\n",
    "#         df_feature_sec.columns = ['_'.join(col) for col in df_feature_sec.columns] #time_id is changed to time_id_\n",
    "     \n",
    "#         df_feature_sec = df_feature_sec.add_suffix('_' + str(second))\n",
    "\n",
    "#         df_feature = pd.merge(df_feature,df_feature_sec,how='left',left_on='time_id_',right_on=f'time_id__{second}')\n",
    "#         df_feature = df_feature.drop([f'time_id__{second}'],axis=1)\n",
    "    \n",
    "#     #create row_id\n",
    "# #     stock_id = stock_id\n",
    "#     df_feature['row_id'] = df_feature['time_id_'].apply(lambda x:f'{stock_id}-{x}')\n",
    "#     df_feature = df_feature.drop(['time_id_'],axis=1)\n",
    "    \n",
    "#     return df_feature\n"
   ]
  },
  {
   "cell_type": "code",
   "execution_count": 9,
   "metadata": {
    "execution": {
     "iopub.execute_input": "2021-07-16T15:03:18.029665Z",
     "iopub.status.busy": "2021-07-16T15:03:18.028994Z",
     "iopub.status.idle": "2021-07-16T15:03:18.033497Z",
     "shell.execute_reply": "2021-07-16T15:03:18.032836Z",
     "shell.execute_reply.started": "2021-07-16T12:25:06.199715Z"
    },
    "papermill": {
     "duration": 0.034256,
     "end_time": "2021-07-16T15:03:18.033661",
     "exception": false,
     "start_time": "2021-07-16T15:03:17.999405",
     "status": "completed"
    },
    "tags": []
   },
   "outputs": [],
   "source": [
    "# file_path = data_dir + \"book_train.parquet/stock_id=0\"\n",
    "# preprocessor_book(0,'train')"
   ]
  },
  {
   "cell_type": "markdown",
   "metadata": {
    "papermill": {
     "duration": 0.026788,
     "end_time": "2021-07-16T15:03:18.087141",
     "exception": false,
     "start_time": "2021-07-16T15:03:18.060353",
     "status": "completed"
    },
    "tags": []
   },
   "source": [
    "## Train and test datasets"
   ]
  },
  {
   "cell_type": "code",
   "execution_count": 10,
   "metadata": {
    "execution": {
     "iopub.execute_input": "2021-07-16T15:03:18.145595Z",
     "iopub.status.busy": "2021-07-16T15:03:18.144975Z",
     "iopub.status.idle": "2021-07-16T15:15:33.138559Z",
     "shell.execute_reply": "2021-07-16T15:15:33.137538Z",
     "shell.execute_reply.started": "2021-07-16T12:25:19.796031Z"
    },
    "papermill": {
     "duration": 735.025148,
     "end_time": "2021-07-16T15:15:33.139224",
     "exception": false,
     "start_time": "2021-07-16T15:03:18.114076",
     "status": "completed"
    },
    "tags": []
   },
   "outputs": [
    {
     "name": "stderr",
     "output_type": "stream",
     "text": [
      " 71%|█████████████████████████████████████████████████████████▊                       | 80/112 [04:22<01:53,  3.54s/it]C:\\Users\\amakr\\AppData\\Local\\Continuum\\anaconda3\\lib\\site-packages\\joblib\\externals\\loky\\process_executor.py:691: UserWarning: A worker stopped while some jobs were given to the executor. This can be caused by a too short worker timeout or by a memory leak.\n",
      "  \"timeout or by a memory leak.\", UserWarning\n",
      "100%|████████████████████████████████████████████████████████████████████████████████| 112/112 [06:13<00:00,  3.34s/it]\n"
     ]
    },
    {
     "name": "stdout",
     "output_type": "stream",
     "text": [
      "Wall time: 7min 1s\n",
      "Train shape: (428932, 68)\n"
     ]
    },
    {
     "data": {
      "text/html": [
       "<div>\n",
       "<style scoped>\n",
       "    .dataframe tbody tr th:only-of-type {\n",
       "        vertical-align: middle;\n",
       "    }\n",
       "\n",
       "    .dataframe tbody tr th {\n",
       "        vertical-align: top;\n",
       "    }\n",
       "\n",
       "    .dataframe thead th {\n",
       "        text-align: right;\n",
       "    }\n",
       "</style>\n",
       "<table border=\"1\" class=\"dataframe\">\n",
       "  <thead>\n",
       "    <tr style=\"text-align: right;\">\n",
       "      <th></th>\n",
       "      <th>stock_id</th>\n",
       "      <th>time_id</th>\n",
       "      <th>target</th>\n",
       "      <th>log_return1</th>\n",
       "      <th>log_return2</th>\n",
       "      <th>wap_balance_std</th>\n",
       "      <th>price_spread_std</th>\n",
       "      <th>bid_spread_std</th>\n",
       "      <th>ask_spread_std</th>\n",
       "      <th>volume_imbalance_std</th>\n",
       "      <th>...</th>\n",
       "      <th>median_price</th>\n",
       "      <th>median_size</th>\n",
       "      <th>median_order</th>\n",
       "      <th>trade_log_return1</th>\n",
       "      <th>log_return1_2</th>\n",
       "      <th>log_return2_2</th>\n",
       "      <th>trade_log_return1_2</th>\n",
       "      <th>log_return1_3</th>\n",
       "      <th>log_return2_3</th>\n",
       "      <th>trade_log_return1_3</th>\n",
       "    </tr>\n",
       "  </thead>\n",
       "  <tbody>\n",
       "    <tr>\n",
       "      <th>0</th>\n",
       "      <td>0</td>\n",
       "      <td>5</td>\n",
       "      <td>0.004136</td>\n",
       "      <td>0.004499</td>\n",
       "      <td>0.006999</td>\n",
       "      <td>0.000295</td>\n",
       "      <td>0.000211</td>\n",
       "      <td>0.000162</td>\n",
       "      <td>0.000126</td>\n",
       "      <td>107.260583</td>\n",
       "      <td>...</td>\n",
       "      <td>1.003879</td>\n",
       "      <td>19.5</td>\n",
       "      <td>2.0</td>\n",
       "      <td>0.002006</td>\n",
       "      <td>0.000020</td>\n",
       "      <td>0.000049</td>\n",
       "      <td>4.023593e-06</td>\n",
       "      <td>9.108666e-08</td>\n",
       "      <td>3.427834e-07</td>\n",
       "      <td>8.070883e-09</td>\n",
       "    </tr>\n",
       "    <tr>\n",
       "      <th>1</th>\n",
       "      <td>0</td>\n",
       "      <td>11</td>\n",
       "      <td>0.001445</td>\n",
       "      <td>0.001204</td>\n",
       "      <td>0.002476</td>\n",
       "      <td>0.000155</td>\n",
       "      <td>0.000157</td>\n",
       "      <td>0.000148</td>\n",
       "      <td>0.000065</td>\n",
       "      <td>102.139758</td>\n",
       "      <td>...</td>\n",
       "      <td>1.000192</td>\n",
       "      <td>3.0</td>\n",
       "      <td>1.0</td>\n",
       "      <td>0.000901</td>\n",
       "      <td>0.000001</td>\n",
       "      <td>0.000006</td>\n",
       "      <td>8.114041e-07</td>\n",
       "      <td>1.747070e-09</td>\n",
       "      <td>1.518601e-08</td>\n",
       "      <td>7.308964e-10</td>\n",
       "    </tr>\n",
       "  </tbody>\n",
       "</table>\n",
       "<p>2 rows × 68 columns</p>\n",
       "</div>"
      ],
      "text/plain": [
       "   stock_id  time_id    target  log_return1  log_return2  wap_balance_std  \\\n",
       "0         0        5  0.004136     0.004499     0.006999         0.000295   \n",
       "1         0       11  0.001445     0.001204     0.002476         0.000155   \n",
       "\n",
       "   price_spread_std  bid_spread_std  ask_spread_std  volume_imbalance_std  \\\n",
       "0          0.000211        0.000162        0.000126            107.260583   \n",
       "1          0.000157        0.000148        0.000065            102.139758   \n",
       "\n",
       "   ...  median_price  median_size  median_order  trade_log_return1  \\\n",
       "0  ...      1.003879         19.5           2.0           0.002006   \n",
       "1  ...      1.000192          3.0           1.0           0.000901   \n",
       "\n",
       "   log_return1_2  log_return2_2  trade_log_return1_2  log_return1_3  \\\n",
       "0       0.000020       0.000049         4.023593e-06   9.108666e-08   \n",
       "1       0.000001       0.000006         8.114041e-07   1.747070e-09   \n",
       "\n",
       "   log_return2_3  trade_log_return1_3  \n",
       "0   3.427834e-07         8.070883e-09  \n",
       "1   1.518601e-08         7.308964e-10  \n",
       "\n",
       "[2 rows x 68 columns]"
      ]
     },
     "metadata": {},
     "output_type": "display_data"
    },
    {
     "name": "stderr",
     "output_type": "stream",
     "text": [
      "100%|████████████████████████████████████████████████████████████████████████████████████████████| 1/1 [00:00<?, ?it/s]\n"
     ]
    },
    {
     "name": "stdout",
     "output_type": "stream",
     "text": [
      "Test shape: (3, 68)\n"
     ]
    },
    {
     "data": {
      "text/html": [
       "<div>\n",
       "<style scoped>\n",
       "    .dataframe tbody tr th:only-of-type {\n",
       "        vertical-align: middle;\n",
       "    }\n",
       "\n",
       "    .dataframe tbody tr th {\n",
       "        vertical-align: top;\n",
       "    }\n",
       "\n",
       "    .dataframe thead th {\n",
       "        text-align: right;\n",
       "    }\n",
       "</style>\n",
       "<table border=\"1\" class=\"dataframe\">\n",
       "  <thead>\n",
       "    <tr style=\"text-align: right;\">\n",
       "      <th></th>\n",
       "      <th>stock_id</th>\n",
       "      <th>time_id</th>\n",
       "      <th>row_id</th>\n",
       "      <th>log_return1</th>\n",
       "      <th>log_return2</th>\n",
       "      <th>wap_balance_std</th>\n",
       "      <th>price_spread_std</th>\n",
       "      <th>bid_spread_std</th>\n",
       "      <th>ask_spread_std</th>\n",
       "      <th>volume_imbalance_std</th>\n",
       "      <th>...</th>\n",
       "      <th>median_price</th>\n",
       "      <th>median_size</th>\n",
       "      <th>median_order</th>\n",
       "      <th>trade_log_return1</th>\n",
       "      <th>log_return1_2</th>\n",
       "      <th>log_return2_2</th>\n",
       "      <th>trade_log_return1_2</th>\n",
       "      <th>log_return1_3</th>\n",
       "      <th>log_return2_3</th>\n",
       "      <th>trade_log_return1_3</th>\n",
       "    </tr>\n",
       "  </thead>\n",
       "  <tbody>\n",
       "    <tr>\n",
       "      <th>0</th>\n",
       "      <td>0</td>\n",
       "      <td>4</td>\n",
       "      <td>0-4</td>\n",
       "      <td>0.000294</td>\n",
       "      <td>0.000252</td>\n",
       "      <td>0.000022</td>\n",
       "      <td>0.000028</td>\n",
       "      <td>0.0</td>\n",
       "      <td>0.000113</td>\n",
       "      <td>165.711597</td>\n",
       "      <td>...</td>\n",
       "      <td>1.000059</td>\n",
       "      <td>100.0</td>\n",
       "      <td>3.0</td>\n",
       "      <td>0.000295</td>\n",
       "      <td>8.655287e-08</td>\n",
       "      <td>6.350246e-08</td>\n",
       "      <td>8.711406e-08</td>\n",
       "      <td>2.546374e-11</td>\n",
       "      <td>1.600242e-11</td>\n",
       "      <td>2.571179e-11</td>\n",
       "    </tr>\n",
       "    <tr>\n",
       "      <th>1</th>\n",
       "      <td>0</td>\n",
       "      <td>32</td>\n",
       "      <td>0-32</td>\n",
       "      <td>0.000000</td>\n",
       "      <td>0.000000</td>\n",
       "      <td>0.000000</td>\n",
       "      <td>0.000000</td>\n",
       "      <td>0.0</td>\n",
       "      <td>0.000000</td>\n",
       "      <td>0.000000</td>\n",
       "      <td>...</td>\n",
       "      <td>0.000000</td>\n",
       "      <td>0.0</td>\n",
       "      <td>0.0</td>\n",
       "      <td>0.000000</td>\n",
       "      <td>0.000000e+00</td>\n",
       "      <td>0.000000e+00</td>\n",
       "      <td>0.000000e+00</td>\n",
       "      <td>0.000000e+00</td>\n",
       "      <td>0.000000e+00</td>\n",
       "      <td>0.000000e+00</td>\n",
       "    </tr>\n",
       "  </tbody>\n",
       "</table>\n",
       "<p>2 rows × 68 columns</p>\n",
       "</div>"
      ],
      "text/plain": [
       "   stock_id  time_id row_id  log_return1  log_return2  wap_balance_std  \\\n",
       "0         0        4    0-4     0.000294     0.000252         0.000022   \n",
       "1         0       32   0-32     0.000000     0.000000         0.000000   \n",
       "\n",
       "   price_spread_std  bid_spread_std  ask_spread_std  volume_imbalance_std  \\\n",
       "0          0.000028             0.0        0.000113            165.711597   \n",
       "1          0.000000             0.0        0.000000              0.000000   \n",
       "\n",
       "   ...  median_price  median_size  median_order  trade_log_return1  \\\n",
       "0  ...      1.000059        100.0           3.0           0.000295   \n",
       "1  ...      0.000000          0.0           0.0           0.000000   \n",
       "\n",
       "   log_return1_2  log_return2_2  trade_log_return1_2  log_return1_3  \\\n",
       "0   8.655287e-08   6.350246e-08         8.711406e-08   2.546374e-11   \n",
       "1   0.000000e+00   0.000000e+00         0.000000e+00   0.000000e+00   \n",
       "\n",
       "   log_return2_3  trade_log_return1_3  \n",
       "0   1.600242e-11         2.571179e-11  \n",
       "1   0.000000e+00         0.000000e+00  \n",
       "\n",
       "[2 rows x 68 columns]"
      ]
     },
     "metadata": {},
     "output_type": "display_data"
    }
   ],
   "source": [
    "train = pd.read_csv(os.path.join(path_data, 'train.csv'))\n",
    "%time train_stock_stat_df = get_dataSet(stock_ids = train['stock_id'].unique(), dataType = 'train')\n",
    "train = pd.merge(train, train_stock_stat_df, on = ['stock_id', 'time_id'], how = 'left')\n",
    "print('Train shape: {}'.format(train.shape))\n",
    "display(train.head(2))\n",
    "\n",
    "test = pd.read_csv(os.path.join(path_data, 'test.csv'))\n",
    "test_stock_stat_df = get_dataSet(stock_ids = test['stock_id'].unique(), dataType = 'test')\n",
    "test = pd.merge(test, test_stock_stat_df, on = ['stock_id', 'time_id'], how = 'left').fillna(0)\n",
    "print('Test shape: {}'.format(test.shape))\n",
    "display(test.head(2))"
   ]
  },
  {
   "cell_type": "code",
   "execution_count": 11,
   "metadata": {
    "execution": {
     "iopub.execute_input": "2021-07-16T15:15:33.225541Z",
     "iopub.status.busy": "2021-07-16T15:15:33.224263Z",
     "iopub.status.idle": "2021-07-16T15:15:34.863597Z",
     "shell.execute_reply": "2021-07-16T15:15:34.863071Z",
     "shell.execute_reply.started": "2021-07-16T12:46:31.662506Z"
    },
    "papermill": {
     "duration": 1.68595,
     "end_time": "2021-07-16T15:15:34.863784",
     "exception": false,
     "start_time": "2021-07-16T15:15:33.177834",
     "status": "completed"
    },
    "tags": []
   },
   "outputs": [],
   "source": [
    "# test.merge(enc2, on = 'stock_id')\n",
    "# train[train.columns[2:]].describe()\n",
    "# train"
   ]
  },
  {
   "cell_type": "code",
   "execution_count": 12,
   "metadata": {
    "execution": {
     "iopub.execute_input": "2021-07-16T15:15:34.948892Z",
     "iopub.status.busy": "2021-07-16T15:15:34.948182Z",
     "iopub.status.idle": "2021-07-16T15:15:34.950705Z",
     "shell.execute_reply": "2021-07-16T15:15:34.951217Z",
     "shell.execute_reply.started": "2021-07-14T09:24:07.896735Z"
    },
    "papermill": {
     "duration": 0.047947,
     "end_time": "2021-07-16T15:15:34.951424",
     "exception": false,
     "start_time": "2021-07-16T15:15:34.903477",
     "status": "completed"
    },
    "tags": []
   },
   "outputs": [],
   "source": [
    "# train.to_csv('cus_train.csv',index = False)\n",
    "# from sklearn.model_selection import StratifiedKFold\n",
    "# skf = StratifiedKFold(n_splits=4, random_state=0,shuffle = True)\n",
    "\n",
    "# skf.split(train, train['stock_id'])\n",
    "# kf = model_selection.KFold(n_splits=n_folds, stratify = train.time_id, random_state=2016)\n",
    "# enc = train.groupby('stock_id')['target'].agg(np.mean).reset_index().rename(columns = {'target' : 'mean_tar'})\n",
    "# enc2 = train.groupby('stock_id')['target'].agg(np.std).reset_index().rename(columns = {'target' : 'std_tar'})\n",
    "\n",
    "# train = enc.merge(train, on = 'stock_id').merge(enc2, on = 'stock_id')\n",
    "# test = test.merge(enc,on= 'stock_id').merge(enc2 , on = 'stock_id')"
   ]
  },
  {
   "cell_type": "code",
   "execution_count": 13,
   "metadata": {
    "execution": {
     "iopub.execute_input": "2021-07-16T15:15:35.033860Z",
     "iopub.status.busy": "2021-07-16T15:15:35.032803Z",
     "iopub.status.idle": "2021-07-16T15:15:35.040227Z",
     "shell.execute_reply": "2021-07-16T15:15:35.039623Z",
     "shell.execute_reply.started": "2021-07-14T11:55:34.637925Z"
    },
    "papermill": {
     "duration": 0.049564,
     "end_time": "2021-07-16T15:15:35.040639",
     "exception": false,
     "start_time": "2021-07-16T15:15:34.991075",
     "status": "completed"
    },
    "tags": []
   },
   "outputs": [],
   "source": [
    "# train.columns.tolist()"
   ]
  },
  {
   "cell_type": "code",
   "execution_count": 14,
   "metadata": {
    "execution": {
     "iopub.execute_input": "2021-07-16T15:15:35.126415Z",
     "iopub.status.busy": "2021-07-16T15:15:35.125758Z",
     "iopub.status.idle": "2021-07-16T15:15:35.207176Z",
     "shell.execute_reply": "2021-07-16T15:15:35.206487Z",
     "shell.execute_reply.started": "2021-07-16T12:47:31.800943Z"
    },
    "papermill": {
     "duration": 0.127319,
     "end_time": "2021-07-16T15:15:35.207318",
     "exception": false,
     "start_time": "2021-07-16T15:15:35.079999",
     "status": "completed"
    },
    "tags": []
   },
   "outputs": [],
   "source": [
    "# test\n",
    "df_train = train.copy()\n",
    "df_test = test.copy()"
   ]
  },
  {
   "cell_type": "code",
   "execution_count": 15,
   "metadata": {
    "execution": {
     "iopub.execute_input": "2021-07-16T15:15:35.290485Z",
     "iopub.status.busy": "2021-07-16T15:15:35.289843Z",
     "iopub.status.idle": "2021-07-16T15:15:35.292478Z",
     "shell.execute_reply": "2021-07-16T15:15:35.293109Z",
     "shell.execute_reply.started": "2021-07-16T12:47:32.725308Z"
    },
    "papermill": {
     "duration": 0.046348,
     "end_time": "2021-07-16T15:15:35.293327",
     "exception": false,
     "start_time": "2021-07-16T15:15:35.246979",
     "status": "completed"
    },
    "tags": []
   },
   "outputs": [],
   "source": [
    "# df_test"
   ]
  },
  {
   "cell_type": "code",
   "execution_count": 16,
   "metadata": {
    "execution": {
     "iopub.execute_input": "2021-07-16T15:15:35.376100Z",
     "iopub.status.busy": "2021-07-16T15:15:35.375382Z",
     "iopub.status.idle": "2021-07-16T15:15:36.384013Z",
     "shell.execute_reply": "2021-07-16T15:15:36.383311Z",
     "shell.execute_reply.started": "2021-07-16T12:47:33.633912Z"
    },
    "papermill": {
     "duration": 1.050466,
     "end_time": "2021-07-16T15:15:36.384166",
     "exception": false,
     "start_time": "2021-07-16T15:15:35.333700",
     "status": "completed"
    },
    "tags": []
   },
   "outputs": [],
   "source": [
    "# encoding trainging \n",
    "from sklearn.model_selection import KFold\n",
    "kf = KFold(n_splits=5, random_state=19901028, shuffle=True)\n",
    "oof = pd.DataFrame()                 # out-of-fold result\n",
    "models = []                          # models\n",
    "scores = 0.0  \n",
    "from sklearn.model_selection import KFold\n",
    "#stock_id target encoding\n",
    "# df_train['stock_id'] = df_train['row_id'].apply(lambda x:x.split('-')[0])\n",
    "# df_test['stock_id'] = df_test['row_id'].apply(lambda x:x.split('-')[0])\n",
    "\n",
    "stock_id_target_mean = df_train.groupby('stock_id')['target'].mean() \n",
    "df_test['stock_id_target_enc'] = df_test['stock_id'].map(stock_id_target_mean) # test_set\n",
    "\n",
    "#training\n",
    "tmp = np.repeat(np.nan, df_train.shape[0])\n",
    "kf = KFold(n_splits = 10, shuffle=True,random_state = 19911109)\n",
    "for idx_1, idx_2 in kf.split(df_train):\n",
    "    target_mean = df_train.iloc[idx_1].groupby('stock_id')['target'].mean()\n",
    "\n",
    "    tmp[idx_2] = df_train['stock_id'].iloc[idx_2].map(target_mean)\n",
    "df_train['stock_id_target_enc'] = tmp"
   ]
  },
  {
   "cell_type": "code",
   "execution_count": 17,
   "metadata": {
    "execution": {
     "iopub.execute_input": "2021-07-16T15:15:36.471673Z",
     "iopub.status.busy": "2021-07-16T15:15:36.470965Z",
     "iopub.status.idle": "2021-07-16T15:15:36.475757Z",
     "shell.execute_reply": "2021-07-16T15:15:36.476232Z",
     "shell.execute_reply.started": "2021-07-16T12:47:36.811363Z"
    },
    "papermill": {
     "duration": 0.051505,
     "end_time": "2021-07-16T15:15:36.476414",
     "exception": false,
     "start_time": "2021-07-16T15:15:36.424909",
     "status": "completed"
    },
    "tags": []
   },
   "outputs": [],
   "source": [
    "# train.time_id\n",
    "train['stock_id_target_enc'] = df_train['stock_id_target_enc']\n",
    "test['stock_id_target_enc'] = df_test['stock_id_target_enc']"
   ]
  },
  {
   "cell_type": "code",
   "execution_count": 22,
   "metadata": {
    "execution": {
     "iopub.execute_input": "2021-07-16T15:15:36.562888Z",
     "iopub.status.busy": "2021-07-16T15:15:36.562152Z",
     "iopub.status.idle": "2021-07-16T15:15:36.642096Z",
     "shell.execute_reply": "2021-07-16T15:15:36.642579Z",
     "shell.execute_reply.started": "2021-07-16T14:49:19.348583Z"
    },
    "papermill": {
     "duration": 0.12632,
     "end_time": "2021-07-16T15:15:36.642782",
     "exception": false,
     "start_time": "2021-07-16T15:15:36.516462",
     "status": "completed"
    },
    "tags": []
   },
   "outputs": [],
   "source": [
    "# train[train.time_id == 5]\n",
    "train['stock_id'] = train['stock_id'].astype('int')\n",
    "test['stock_id'] = test['stock_id'].astype('int')\n",
    "\n",
    "# train2 = train.copy()"
   ]
  },
  {
   "cell_type": "code",
   "execution_count": 23,
   "metadata": {
    "execution": {
     "iopub.execute_input": "2021-07-16T15:15:36.731336Z",
     "iopub.status.busy": "2021-07-16T15:15:36.730342Z",
     "iopub.status.idle": "2021-07-16T15:15:36.976822Z",
     "shell.execute_reply": "2021-07-16T15:15:36.976251Z",
     "shell.execute_reply.started": "2021-07-16T14:53:18.869816Z"
    },
    "papermill": {
     "duration": 0.293389,
     "end_time": "2021-07-16T15:15:36.977177",
     "exception": false,
     "start_time": "2021-07-16T15:15:36.683788",
     "status": "completed"
    },
    "tags": []
   },
   "outputs": [],
   "source": [
    "\n",
    "# train = train2[train.stock_id.isin(list(set(train.stock_id.unique().tolist())-set([31])))]"
   ]
  },
  {
   "cell_type": "markdown",
   "metadata": {
    "papermill": {
     "duration": 0.039994,
     "end_time": "2021-07-16T15:15:37.058580",
     "exception": false,
     "start_time": "2021-07-16T15:15:37.018586",
     "status": "completed"
    },
    "tags": []
   },
   "source": [
    "## Training model and making predictions"
   ]
  },
  {
   "cell_type": "code",
   "execution_count": 42,
   "metadata": {
    "execution": {
     "iopub.execute_input": "2021-07-16T15:15:37.169485Z",
     "iopub.status.busy": "2021-07-16T15:15:37.166128Z",
     "iopub.status.idle": "2021-07-16T15:42:43.759782Z",
     "shell.execute_reply": "2021-07-16T15:42:43.759233Z"
    },
    "papermill": {
     "duration": 1626.662214,
     "end_time": "2021-07-16T15:42:43.759942",
     "exception": false,
     "start_time": "2021-07-16T15:15:37.097728",
     "status": "completed"
    },
    "tags": []
   },
   "outputs": [
    {
     "name": "stdout",
     "output_type": "stream",
     "text": [
      "We consider 54 features\n"
     ]
    },
    {
     "name": "stderr",
     "output_type": "stream",
     "text": [
      "C:\\Users\\amakr\\AppData\\Local\\Continuum\\anaconda3\\lib\\site-packages\\lightgbm\\basic.py:1291: UserWarning: Using categorical_feature in Dataset.\n",
      "  warnings.warn('Using categorical_feature in Dataset.')\n"
     ]
    },
    {
     "name": "stdout",
     "output_type": "stream",
     "text": [
      "Training until validation scores don't improve for 500 rounds\n",
      "[250]\tvalid_0's rmse: 0.000591259\tvalid_0's RMSPE: 0.27356\n",
      "[500]\tvalid_0's rmse: 0.000557265\tvalid_0's RMSPE: 0.25784\n",
      "[750]\tvalid_0's rmse: 0.000549761\tvalid_0's RMSPE: 0.25436\n",
      "[1000]\tvalid_0's rmse: 0.000545442\tvalid_0's RMSPE: 0.25236\n",
      "[1250]\tvalid_0's rmse: 0.000543031\tvalid_0's RMSPE: 0.25125\n",
      "[1500]\tvalid_0's rmse: 0.000541571\tvalid_0's RMSPE: 0.25057\n",
      "[1750]\tvalid_0's rmse: 0.0005405\tvalid_0's RMSPE: 0.25008\n",
      "[2000]\tvalid_0's rmse: 0.000540149\tvalid_0's RMSPE: 0.24992\n",
      "[2250]\tvalid_0's rmse: 0.000539719\tvalid_0's RMSPE: 0.24972\n",
      "[2500]\tvalid_0's rmse: 0.000539287\tvalid_0's RMSPE: 0.24952\n",
      "[2750]\tvalid_0's rmse: 0.000538991\tvalid_0's RMSPE: 0.24938\n",
      "[3000]\tvalid_0's rmse: 0.000538887\tvalid_0's RMSPE: 0.24933\n",
      "[3250]\tvalid_0's rmse: 0.000539308\tvalid_0's RMSPE: 0.24953\n",
      "Early stopping, best iteration is:\n",
      "[2958]\tvalid_0's rmse: 0.000538849\tvalid_0's RMSPE: 0.24931\n",
      "Fold 1 lgb2: 0.24931\n",
      "Training until validation scores don't improve for 500 rounds\n",
      "[250]\tvalid_0's rmse: 0.000597994\tvalid_0's RMSPE: 0.27689\n",
      "[500]\tvalid_0's rmse: 0.00056329\tvalid_0's RMSPE: 0.26082\n",
      "[750]\tvalid_0's rmse: 0.000555447\tvalid_0's RMSPE: 0.25719\n",
      "[1000]\tvalid_0's rmse: 0.000551356\tvalid_0's RMSPE: 0.25529\n",
      "[1250]\tvalid_0's rmse: 0.000548941\tvalid_0's RMSPE: 0.25417\n",
      "[1500]\tvalid_0's rmse: 0.000547435\tvalid_0's RMSPE: 0.25348\n",
      "[1750]\tvalid_0's rmse: 0.000546273\tvalid_0's RMSPE: 0.25294\n",
      "[2000]\tvalid_0's rmse: 0.000545384\tvalid_0's RMSPE: 0.25253\n",
      "[2250]\tvalid_0's rmse: 0.000544711\tvalid_0's RMSPE: 0.25222\n",
      "[2500]\tvalid_0's rmse: 0.00054431\tvalid_0's RMSPE: 0.25203\n",
      "[2750]\tvalid_0's rmse: 0.000543998\tvalid_0's RMSPE: 0.25189\n",
      "[3000]\tvalid_0's rmse: 0.000543733\tvalid_0's RMSPE: 0.25176\n",
      "[3250]\tvalid_0's rmse: 0.000543652\tvalid_0's RMSPE: 0.25173\n",
      "[3500]\tvalid_0's rmse: 0.000543478\tvalid_0's RMSPE: 0.25164\n",
      "[3750]\tvalid_0's rmse: 0.000543217\tvalid_0's RMSPE: 0.25152\n",
      "[4000]\tvalid_0's rmse: 0.000543177\tvalid_0's RMSPE: 0.25151\n",
      "[4250]\tvalid_0's rmse: 0.000543095\tvalid_0's RMSPE: 0.25147\n",
      "[4500]\tvalid_0's rmse: 0.000542967\tvalid_0's RMSPE: 0.25141\n",
      "[4750]\tvalid_0's rmse: 0.00054297\tvalid_0's RMSPE: 0.25141\n",
      "[5000]\tvalid_0's rmse: 0.000542976\tvalid_0's RMSPE: 0.25141\n",
      "Early stopping, best iteration is:\n",
      "[4505]\tvalid_0's rmse: 0.00054296\tvalid_0's RMSPE: 0.2514\n",
      "Fold 2 lgb2: 0.2514\n",
      "Training until validation scores don't improve for 500 rounds\n",
      "[250]\tvalid_0's rmse: 0.000605361\tvalid_0's RMSPE: 0.28164\n",
      "[500]\tvalid_0's rmse: 0.000564234\tvalid_0's RMSPE: 0.2625\n",
      "[750]\tvalid_0's rmse: 0.000555717\tvalid_0's RMSPE: 0.25854\n",
      "[1000]\tvalid_0's rmse: 0.000551791\tvalid_0's RMSPE: 0.25671\n",
      "[1250]\tvalid_0's rmse: 0.000549678\tvalid_0's RMSPE: 0.25573\n",
      "[1500]\tvalid_0's rmse: 0.000549117\tvalid_0's RMSPE: 0.25547\n",
      "[1750]\tvalid_0's rmse: 0.000548747\tvalid_0's RMSPE: 0.2553\n",
      "[2000]\tvalid_0's rmse: 0.000548663\tvalid_0's RMSPE: 0.25526\n",
      "[2250]\tvalid_0's rmse: 0.000548409\tvalid_0's RMSPE: 0.25514\n",
      "[2500]\tvalid_0's rmse: 0.000548362\tvalid_0's RMSPE: 0.25512\n",
      "[2750]\tvalid_0's rmse: 0.000548307\tvalid_0's RMSPE: 0.25509\n",
      "Early stopping, best iteration is:\n",
      "[2370]\tvalid_0's rmse: 0.000548136\tvalid_0's RMSPE: 0.25501\n",
      "Fold 3 lgb2: 0.25501\n",
      "Training until validation scores don't improve for 500 rounds\n",
      "[250]\tvalid_0's rmse: 0.000603625\tvalid_0's RMSPE: 0.28136\n",
      "[500]\tvalid_0's rmse: 0.000568015\tvalid_0's RMSPE: 0.26476\n",
      "[750]\tvalid_0's rmse: 0.00056042\tvalid_0's RMSPE: 0.26122\n",
      "[1000]\tvalid_0's rmse: 0.000556719\tvalid_0's RMSPE: 0.2595\n",
      "[1250]\tvalid_0's rmse: 0.000554828\tvalid_0's RMSPE: 0.25861\n",
      "[1500]\tvalid_0's rmse: 0.000553532\tvalid_0's RMSPE: 0.25801\n",
      "[1750]\tvalid_0's rmse: 0.000552837\tvalid_0's RMSPE: 0.25769\n",
      "[2000]\tvalid_0's rmse: 0.000552838\tvalid_0's RMSPE: 0.25769\n",
      "[2250]\tvalid_0's rmse: 0.000552662\tvalid_0's RMSPE: 0.2576\n",
      "[2500]\tvalid_0's rmse: 0.000552459\tvalid_0's RMSPE: 0.25751\n",
      "[2750]\tvalid_0's rmse: 0.000552692\tvalid_0's RMSPE: 0.25762\n",
      "[3000]\tvalid_0's rmse: 0.000552488\tvalid_0's RMSPE: 0.25752\n",
      "[3250]\tvalid_0's rmse: 0.00055275\tvalid_0's RMSPE: 0.25765\n",
      "Early stopping, best iteration is:\n",
      "[2963]\tvalid_0's rmse: 0.000552423\tvalid_0's RMSPE: 0.25749\n",
      "Fold 4 lgb2: 0.25749\n",
      "Training until validation scores don't improve for 500 rounds\n",
      "[250]\tvalid_0's rmse: 0.000598878\tvalid_0's RMSPE: 0.27366\n",
      "[500]\tvalid_0's rmse: 0.000562777\tvalid_0's RMSPE: 0.25716\n",
      "[750]\tvalid_0's rmse: 0.00055515\tvalid_0's RMSPE: 0.25367\n",
      "[1000]\tvalid_0's rmse: 0.000551318\tvalid_0's RMSPE: 0.25192\n",
      "[1250]\tvalid_0's rmse: 0.000549072\tvalid_0's RMSPE: 0.2509\n",
      "[1500]\tvalid_0's rmse: 0.000547761\tvalid_0's RMSPE: 0.2503\n",
      "[1750]\tvalid_0's rmse: 0.000546673\tvalid_0's RMSPE: 0.2498\n",
      "[2000]\tvalid_0's rmse: 0.000546088\tvalid_0's RMSPE: 0.24953\n",
      "[2250]\tvalid_0's rmse: 0.000545643\tvalid_0's RMSPE: 0.24933\n",
      "[2500]\tvalid_0's rmse: 0.000545408\tvalid_0's RMSPE: 0.24922\n",
      "[2750]\tvalid_0's rmse: 0.000545256\tvalid_0's RMSPE: 0.24915\n",
      "[3000]\tvalid_0's rmse: 0.000545004\tvalid_0's RMSPE: 0.24904\n",
      "[3250]\tvalid_0's rmse: 0.000545045\tvalid_0's RMSPE: 0.24906\n",
      "[3500]\tvalid_0's rmse: 0.000544955\tvalid_0's RMSPE: 0.24902\n",
      "[3750]\tvalid_0's rmse: 0.000544779\tvalid_0's RMSPE: 0.24894\n",
      "[4000]\tvalid_0's rmse: 0.000544812\tvalid_0's RMSPE: 0.24895\n",
      "[4250]\tvalid_0's rmse: 0.000544766\tvalid_0's RMSPE: 0.24893\n",
      "Early stopping, best iteration is:\n",
      "[3812]\tvalid_0's rmse: 0.000544734\tvalid_0's RMSPE: 0.24891\n",
      "Fold 5 lgb2: 0.24891\n",
      "RMSPE lgb2: 0.25245 - Folds: [0.24931, 0.2514, 0.25501, 0.25749, 0.24891]\n"
     ]
    },
    {
     "data": {
      "text/html": [
       "<div>\n",
       "<style scoped>\n",
       "    .dataframe tbody tr th:only-of-type {\n",
       "        vertical-align: middle;\n",
       "    }\n",
       "\n",
       "    .dataframe tbody tr th {\n",
       "        vertical-align: top;\n",
       "    }\n",
       "\n",
       "    .dataframe thead th {\n",
       "        text-align: right;\n",
       "    }\n",
       "</style>\n",
       "<table border=\"1\" class=\"dataframe\">\n",
       "  <thead>\n",
       "    <tr style=\"text-align: right;\">\n",
       "      <th></th>\n",
       "      <th>row_id</th>\n",
       "      <th>target</th>\n",
       "    </tr>\n",
       "  </thead>\n",
       "  <tbody>\n",
       "    <tr>\n",
       "      <th>0</th>\n",
       "      <td>0-4</td>\n",
       "      <td>0.001282</td>\n",
       "    </tr>\n",
       "    <tr>\n",
       "      <th>1</th>\n",
       "      <td>0-32</td>\n",
       "      <td>0.001585</td>\n",
       "    </tr>\n",
       "  </tbody>\n",
       "</table>\n",
       "</div>"
      ],
      "text/plain": [
       "  row_id    target\n",
       "0    0-4  0.001282\n",
       "1   0-32  0.001585"
      ]
     },
     "metadata": {},
     "output_type": "display_data"
    },
    {
     "data": {
      "text/plain": [
       "Text(0, 0.5, 'Feature')"
      ]
     },
     "execution_count": 42,
     "metadata": {},
     "output_type": "execute_result"
    },
    {
     "data": {
      "image/png": "[encoded data removed]",
      "text/plain": [
       "<Figure size 576x432 with 1 Axes>"
      ]
     },
     "metadata": {
      "needs_background": "light"
     },
     "output_type": "display_data"
    }
   ],
   "source": [
    "cats = []\n",
    "model_name = 'lgb2'\n",
    "pred_name = 'pred_{}'.format(model_name)\n",
    "# features_to_consider = ['stock_id', 'log_return1', 'log_return2', 'trade_log_return1']\n",
    "features_to_consider = ['stock_id',\n",
    "#  'log_return1',\n",
    "#  'log_return2',\n",
    " 'wap_balance_std',\n",
    " 'price_spread_std',\n",
    " 'bid_spread_std',\n",
    " 'ask_spread_std',\n",
    " 'volume_imbalance_std',\n",
    " 'total_volume_std',\n",
    " 'wap1_std',\n",
    " 'wap2_std',\n",
    " 'wap_balance_std_300',\n",
    " 'price_spread_std_300',\n",
    " 'bid_spread_std_300',\n",
    " 'ask_spread_std_300',\n",
    " 'volume_imbalance_std_300',\n",
    " 'total_volume_std_300',\n",
    " 'wap1_std_300',\n",
    " 'wap2_std_300',\n",
    " 'wap_balance_std_540',\n",
    " 'price_spread_std_540',\n",
    " 'bid_spread_std_540',\n",
    " 'ask_spread_std_540',\n",
    " 'volume_imbalance_std_540',\n",
    " 'total_volume_std_540',\n",
    " 'wap1_std_540',\n",
    " 'wap2_std_540',\n",
    " 'wap_balance_std_480',\n",
    " 'price_spread_std_480',\n",
    " 'bid_spread_std_480',\n",
    " 'ask_spread_std_480',\n",
    " 'volume_imbalance_std_480',\n",
    " 'total_volume_std_480',\n",
    " 'wap1_std_480',\n",
    " 'wap2_std_480',\n",
    "#  'vol_1_300',\n",
    "#  'vol_2_300',\n",
    " 'len_300',\n",
    "#  'vol_1_540',\n",
    "#  'vol_2_540',\n",
    " 'len_540',\n",
    " 'len_0',\n",
    " 'mean_sec_in_bucket',\n",
    " 'mean_price',\n",
    " 'mean_size',\n",
    " 'mean_order',\n",
    " 'max_sec_in_bucket',\n",
    " 'max_price',\n",
    " 'max_size',\n",
    " 'max_order',\n",
    " 'min_sec_in_bucket',\n",
    " 'min_price',\n",
    " 'min_size',\n",
    " 'sum_size',\n",
    " 'min_order',\n",
    " 'median_sec_in_bucket',\n",
    " 'median_price',\n",
    " 'median_size',\n",
    " 'median_order',\n",
    "#  'trade_log_return1',\n",
    "#  'log_return1_2',\n",
    "#  'log_return2_2',\n",
    "#  'trade_log_return1_2',\n",
    "#  'log_return1_3',\n",
    "#  'log_return2_3',\n",
    "#  'trade_log_return1_3',\n",
    " 'stock_id_target_enc']\n",
    "#                        ]\n",
    "print('We consider {} features'.format(len(features_to_consider)))\n",
    "\n",
    "train[pred_name] = 0\n",
    "test['target'] = 0\n",
    "\n",
    "# n_folds_outer = 4\n",
    "n_folds = 5\n",
    "n_rounds = 10000\n",
    "# #StratifiedKFold(n_splits=5, random_state=0)\n",
    "# # kf = model_selection.KFold(n_splits=n_folds, stratify = train.time_id, random_state=2016)\n",
    "# # kf = model_selection.KFold(n_splits=n_folds,shuffle = True,random_state=2016)\n",
    "# # train.to_csv('cus_train.csv',index = False)\n",
    "# # from sklearn.model_selection import StratifiedKFold\n",
    "from sklearn.model_selection import StratifiedKFold , KFold\n",
    "kf = model_selection.KFold(n_splits=n_folds, shuffle=True, random_state=2016)\n",
    "features_to_consider = list(set(features_to_consider)-set(a)) \n",
    "time_ids = train.time_id.unique().tolist()\n",
    "for dev_index, val_index in kf.split(range(len(time_ids ))):\n",
    "    times_dev = [time_ids [i] for i in dev_index]; \n",
    "    times_val = [time_ids [i] for i in val_index];\n",
    "# skf0 = StratifiedKFold(n_splits=n_folds_outer, random_state=2016,shuffle = True)\n",
    "# skf = StratifiedKFold(n_splits=n_folds, random_state=45478,shuffle = True)\n",
    "params_lgbm = {\n",
    "        'task': 'train',\n",
    "        'boosting_type': 'gbdt',\n",
    "        'learning_rate': 0.01,\n",
    "        'objective': 'regression',\n",
    "        'metric': 'rmse',\n",
    "        'max_depth': -1,\n",
    "        'n_jobs': -1,\n",
    "        'feature_fraction': 0.8,\n",
    "        'bagging_fraction': 0.8,\n",
    "#         'lambda_l2': 1,\n",
    "        'lambda_l1' : 1,\n",
    "        'verbose': -1\n",
    "        #'bagging_freq': 5\n",
    "}\n",
    "\n",
    "# # train_X, val_X, train_y , val_y = train_test_split(train_df, train_df[cols_target], test_size=0.1, random_state = 0,stratify = train_df['Label'])\n",
    "# scores_folds[model_name] = []\n",
    "# score_outer = [0]*n_folds_outer\n",
    "# counter = 1\n",
    "# counter_outer = 0\n",
    "# # for dev_index, val_index in kf.split(range(len(train))):\n",
    "# # outer loop\n",
    "# for dev_index0, val_index0 in skf0.split(train, train['stock_id']):\n",
    "#     print('CV_outer {}/{}'.format(counter, n_folds_outer))\n",
    "#     X_train_X = train.loc[dev_index0, features_to_consider+['time_id']]\n",
    "#     y_train_X = train.loc[dev_index0, target_name]\n",
    "#     X_val_X = train.loc[val_index0, features_to_consider+['time_id']]\n",
    "#     y_val_X = train.loc[val_index0, target_name]\n",
    "#     for dev_index, val_index in skf.split(X_train_X, X_train_X['time_id']):\n",
    "#         print('CV {}/{}'.format(counter, n_folds_inner))\n",
    "#         X_train = train.loc[dev_index, features_to_consider]\n",
    "#         y_train = train.loc[dev_index, target_name].values\n",
    "#         X_val = train.loc[val_index, features_to_consider]\n",
    "#         y_val = train.loc[val_index, target_name].values\n",
    "\n",
    "#         #############################################################################################\n",
    "#         #LGB\n",
    "#         #############################################################################################\n",
    "#         train_data = lgb.Dataset(X_train, label=y_train, categorical_feature=cats, weight=1/np.power(y_train,2))\n",
    "#         val_data = lgb.Dataset(X_val, label=y_val, categorical_feature=cats, weight=1/np.power(y_val,2))\n",
    "\n",
    "#         model = lgb.train(params_lgbm, \n",
    "#                           train_data, \n",
    "#                           n_rounds, \n",
    "#                           valid_sets=val_data, \n",
    "#                           feval=feval_RMSPE,\n",
    "#                           verbose_eval= 250,\n",
    "#                           early_stopping_rounds=500\n",
    "#                          )\n",
    "#         preds = model.predict(train.loc[val_index, features_to_consider])\n",
    "#         score = round(rmspe(y_true = y_val, y_pred = preds),5)\n",
    "#         train.loc[val_index, pred_name] = train.loc[val_index, pred_name] + preds*(1/score)\n",
    "#         print('Fold {} {}: {}'.format(counter, model_name, score))\n",
    "#         scores_folds[model_name].append(score)\n",
    "#         counter += 1\n",
    "#         score_outer[counter_outer] += 1/score\n",
    "#         test[target_name] += (model.predict(test[features_to_consider]).clip(0,1e10))*(1/score)\n",
    "#     test[target_name] = test[target_name] \n",
    "#     counter_outer+=1\n",
    "# del train_data, val_data\n",
    "# test[target_name] = test[target_name]/(n_folds_outer)\n",
    "\n",
    "# score = round(rmspe(y_true = train[target_name].values, y_pred = train[pred_name].values/n_folds),5)\n",
    "# print('RMSPE {}: {} - Folds: {}'.format(model_name, score, scores_folds[model_name]))\n",
    "\n",
    "# display(test[['row_id', target_name]].head(2))\n",
    "# test[['row_id', target_name]].to_csv('submission.csv',index = False)\n",
    "\n",
    "# importances = pd.DataFrame({'Feature': model.feature_name(), \n",
    "#                             'Importance': model.feature_importance(importance_type='gain')})\n",
    "# importances.sort_values(by = 'Importance', inplace=True)\n",
    "# importances2 = importances.nlargest(50,'Importance', keep='first').sort_values(by='Importance', ascending=True)\n",
    "# importances2[['Importance', 'Feature']].plot(kind = 'barh', x = 'Feature', figsize = (8,6), color = 'blue', fontsize=11);plt.ylabel('Feature', fontsize=12)\n",
    "\n",
    "scores_folds[model_name] = []\n",
    "counter = 1\n",
    "# for dev_index, val_index in kf.split(range(len(train))):\n",
    "# for dev_index, val_index in skf.split(train, train['stock_id']):\n",
    "#     print('CV {}/{}'.format(counter, n_folds))\n",
    "#     X_train = train.loc[dev_index, features_to_consider]\n",
    "#     y_train = train.loc[dev_index, target_name].values\n",
    "#     X_val = train.loc[val_index, features_to_consider]\n",
    "#     y_val = train.loc[val_index, target_name].values\n",
    "from sklearn.model_selection import StratifiedKFold , KFold\n",
    "kf = model_selection.KFold(n_splits=n_folds, shuffle=True, random_state=2016)\n",
    "\n",
    "time_ids = train.time_id.unique().tolist()\n",
    "for dev_index, val_index in kf.split(range(len(time_ids ))):\n",
    "    times_dev = [time_ids [i] for i in dev_index]; \n",
    "    times_val = [time_ids [i] for i in val_index];\n",
    "    X_train = train.loc[train.time_id.isin(times_dev), features_to_consider]\n",
    "    y_train = train.loc[train.time_id.isin(times_dev), target_name].values\n",
    "    X_val = train.loc[train.time_id.isin(times_val), features_to_consider]\n",
    "    y_val = train.loc[train.time_id.isin(times_val), target_name].values\n",
    "    #############################################################################################\n",
    "    #LGB\n",
    "    #############################################################################################\n",
    "    train_data = lgb.Dataset(X_train, label=y_train, categorical_feature=cats, weight=1/np.power(y_train,2))\n",
    "    val_data = lgb.Dataset(X_val, label=y_val, categorical_feature=cats, weight=1/np.power(y_val,2))\n",
    "    \n",
    "    model = lgb.train(params_lgbm, \n",
    "                      train_data, \n",
    "                      n_rounds, \n",
    "                      valid_sets=val_data, \n",
    "                      feval=feval_RMSPE,\n",
    "                      verbose_eval= 250,\n",
    "                      early_stopping_rounds=500\n",
    "                     )\n",
    "    preds = model.predict(X_val)\n",
    "    train.loc[train.time_id.isin(times_val), pred_name] = preds\n",
    "    score = round(rmspe(y_true = y_val, y_pred = preds),5)\n",
    "    print('Fold {} {}: {}'.format(counter, model_name, score))\n",
    "    scores_folds[model_name].append(score)\n",
    "    counter += 1\n",
    "    test[target_name] += model.predict(test[features_to_consider]).clip(0,1e10)\n",
    "del train_data, val_data\n",
    "test[target_name] = test[target_name]/n_folds\n",
    "\n",
    "score = round(rmspe(y_true = train[target_name].values, y_pred = train[pred_name].values),5)\n",
    "print('RMSPE {}: {} - Folds: {}'.format(model_name, score, scores_folds[model_name]))\n",
    "\n",
    "display(test[['row_id', target_name]].head(2))\n",
    "test[['row_id', target_name]].to_csv('submission.csv',index = False)\n",
    "\n",
    "importances = pd.DataFrame({'Feature': model.feature_name(), \n",
    "                            'Importance': model.feature_importance(importance_type='gain')})\n",
    "importances.sort_values(by = 'Importance', inplace=True)\n",
    "importances2 = importances.nlargest(50,'Importance', keep='first').sort_values(by='Importance', ascending=True)\n",
    "importances2[['Importance', 'Feature']].plot(kind = 'barh', x = 'Feature', figsize = (8,6), color = 'blue', fontsize=11);plt.ylabel('Feature', fontsize=12)"
   ]
  },
  {
   "cell_type": "code",
   "execution_count": 21,
   "metadata": {
    "execution": {
     "iopub.execute_input": "2021-07-16T15:42:43.957379Z",
     "iopub.status.busy": "2021-07-16T15:42:43.955882Z",
     "iopub.status.idle": "2021-07-16T15:42:49.811376Z",
     "shell.execute_reply": "2021-07-16T15:42:49.813545Z",
     "shell.execute_reply.started": "2021-07-16T14:20:03.554738Z"
    },
    "papermill": {
     "duration": 5.960618,
     "end_time": "2021-07-16T15:42:49.813841",
     "exception": false,
     "start_time": "2021-07-16T15:42:43.853223",
     "status": "completed"
    },
    "tags": []
   },
   "outputs": [],
   "source": [
    "# from sklearn.cluster import AgglomerativeClustering\n",
    "# clustering = AgglomerativeClustering().fit(train['target'].values.reshape(-1, 1))\n",
    "# clustering\n",
    "# l = [0]*4\n",
    "# l[0]\n",
    "# l\n",
    "# clustering.labels_\n",
    "# sum(scores_folds[model_name])\n",
    "# round(rmspe(y_true = train[target_name].values, y_pred = train[pred_name].values/n_folds),15)\n",
    "\n",
    "# a= abs(train.corr()['target']).sort_values(ascending = False)"
   ]
  },
  {
   "cell_type": "code",
   "execution_count": 22,
   "metadata": {
    "execution": {
     "iopub.execute_input": "2021-07-16T15:42:50.012973Z",
     "iopub.status.busy": "2021-07-16T15:42:50.011702Z",
     "iopub.status.idle": "2021-07-16T15:42:50.020087Z",
     "shell.execute_reply": "2021-07-16T15:42:50.019397Z",
     "shell.execute_reply.started": "2021-07-16T14:25:27.211262Z"
    },
    "papermill": {
     "duration": 0.106405,
     "end_time": "2021-07-16T15:42:50.020237",
     "exception": false,
     "start_time": "2021-07-16T15:42:49.913832",
     "status": "completed"
    },
    "tags": []
   },
   "outputs": [
    {
     "data": {
      "text/plain": [
       "0.223621827708218"
      ]
     },
     "execution_count": 22,
     "metadata": {},
     "output_type": "execute_result"
    }
   ],
   "source": [
    "# a[a>0.5]\n",
    "# # gc\n",
    "# train.to_csv('custom_train.csv')\n",
    "# import pandas as pd \n",
    "# import numpy as np\n",
    "# # train\n",
    "# train = pd.read_csv('cus_train.csv')\n",
    "\n",
    "# round(rmspe(y_true = train[target_name].values, y_pred = train[pred_name].values  ),15)\n",
    "# target_name"
   ]
  },
  {
   "cell_type": "code",
   "execution_count": 23,
   "metadata": {
    "execution": {
     "iopub.execute_input": "2021-07-16T15:42:50.208486Z",
     "iopub.status.busy": "2021-07-16T15:42:50.207384Z",
     "iopub.status.idle": "2021-07-16T15:42:50.210712Z",
     "shell.execute_reply": "2021-07-16T15:42:50.210033Z",
     "shell.execute_reply.started": "2021-07-16T13:23:11.438490Z"
    },
    "papermill": {
     "duration": 0.100995,
     "end_time": "2021-07-16T15:42:50.210883",
     "exception": false,
     "start_time": "2021-07-16T15:42:50.109888",
     "status": "completed"
    },
    "tags": []
   },
   "outputs": [],
   "source": [
    "# from sklearn.model_selection import StratifiedKFold , KFold\n",
    "# kf = model_selection.KFold(n_splits=n_folds, shuffle=True, random_state=2016)\n",
    "\n",
    "# time_ids = train.time_id.unique().tolist()\n",
    "# for dev_index, val_index in kf.split(range(len(time_ids ))):\n",
    "#     times_dev = [time_ids [i] for i in dev_index]; \n",
    "#     times_val = [time_ids [i] for i in val_index];"
   ]
  },
  {
   "cell_type": "code",
   "execution_count": 24,
   "metadata": {
    "execution": {
     "iopub.execute_input": "2021-07-16T15:42:50.397266Z",
     "iopub.status.busy": "2021-07-16T15:42:50.396334Z",
     "iopub.status.idle": "2021-07-16T15:42:50.400819Z",
     "shell.execute_reply": "2021-07-16T15:42:50.400161Z",
     "shell.execute_reply.started": "2021-07-16T14:36:18.832295Z"
    },
    "papermill": {
     "duration": 0.098896,
     "end_time": "2021-07-16T15:42:50.400966",
     "exception": false,
     "start_time": "2021-07-16T15:42:50.302070",
     "status": "completed"
    },
    "tags": []
   },
   "outputs": [],
   "source": [
    "# len(times_val)\n",
    "# train.loc[train.time_id.isin(times_val)]\n",
    "import seaborn as sns \n",
    "# sns.distplot(np.log(train.loc[train.stock_id == 0].target))"
   ]
  },
  {
   "cell_type": "code",
   "execution_count": 25,
   "metadata": {
    "execution": {
     "iopub.execute_input": "2021-07-16T15:42:50.592220Z",
     "iopub.status.busy": "2021-07-16T15:42:50.591555Z",
     "iopub.status.idle": "2021-07-16T15:42:50.605809Z",
     "shell.execute_reply": "2021-07-16T15:42:50.605074Z",
     "shell.execute_reply.started": "2021-07-16T14:39:09.668430Z"
    },
    "papermill": {
     "duration": 0.113074,
     "end_time": "2021-07-16T15:42:50.605973",
     "exception": false,
     "start_time": "2021-07-16T15:42:50.492899",
     "status": "completed"
    },
    "tags": []
   },
   "outputs": [
    {
     "data": {
      "text/plain": [
       "False"
      ]
     },
     "execution_count": 25,
     "metadata": {},
     "output_type": "execute_result"
    }
   ],
   "source": [
    "s = (np.log(train.loc[train.stock_id == 0].target)).std()\n",
    "m = (np.log(train.loc[train.stock_id == 0].target)).mean()\n",
    "np.exp(m+(s**2)/2) == train.loc[train.stock_id == 0].target.mean()"
   ]
  },
  {
   "cell_type": "code",
   "execution_count": 26,
   "metadata": {
    "execution": {
     "iopub.execute_input": "2021-07-16T15:42:50.794818Z",
     "iopub.status.busy": "2021-07-16T15:42:50.794120Z",
     "iopub.status.idle": "2021-07-16T15:42:50.798268Z",
     "shell.execute_reply": "2021-07-16T15:42:50.798811Z",
     "shell.execute_reply.started": "2021-07-16T14:40:03.563690Z"
    },
    "papermill": {
     "duration": 0.101155,
     "end_time": "2021-07-16T15:42:50.798990",
     "exception": false,
     "start_time": "2021-07-16T15:42:50.697835",
     "status": "completed"
    },
    "tags": []
   },
   "outputs": [
    {
     "data": {
      "text/plain": [
       "0.004028478078328982"
      ]
     },
     "execution_count": 26,
     "metadata": {},
     "output_type": "execute_result"
    }
   ],
   "source": [
    "# np.exp(m+(s)/2)\n",
    "train.loc[train.stock_id == 0].target.mean()"
   ]
  },
  {
   "cell_type": "code",
   "execution_count": 19,
   "metadata": {
    "papermill": {
     "duration": 0.091469,
     "end_time": "2021-07-16T15:42:50.982328",
     "exception": false,
     "start_time": "2021-07-16T15:42:50.890859",
     "status": "completed"
    },
    "tags": []
   },
   "outputs": [],
   "source": [
    "train.to_csv('train_cust_starter.csv',index = False)"
   ]
  },
  {
   "cell_type": "code",
   "execution_count": 37,
   "metadata": {},
   "outputs": [],
   "source": [
    "# train\n",
    "a = importances2[['Importance', 'Feature']].sort_values(by  = 'Importance',ascending = False)['Feature'][:10].tolist()"
   ]
  },
  {
   "cell_type": "code",
   "execution_count": 41,
   "metadata": {},
   "outputs": [
    {
     "data": {
      "text/plain": [
       "price_spread_std        0.725629\n",
       "price_spread_std_300    0.752314\n",
       "wap2_std_300            0.733705\n",
       "wap2_std_480            0.740994\n",
       "len_0                  -0.054558\n",
       "wap1_std_540            0.700237\n",
       "wap2_std                0.715277\n",
       "wap1_std                0.698705\n",
       "wap_balance_std         0.738948\n",
       "wap_balance_std_540     0.720341\n",
       "target                  1.000000\n",
       "Name: target, dtype: float64"
      ]
     },
     "execution_count": 41,
     "metadata": {},
     "output_type": "execute_result"
    }
   ],
   "source": [
    "train[a+['target']].corr()['target']"
   ]
  }
 ],
 "metadata": {
  "kernelspec": {
   "display_name": "Python 3",
   "language": "python",
   "name": "python3"
  },
  "language_info": {
   "codemirror_mode": {
    "name": "ipython",
    "version": 3
   },
   "file_extension": ".py",
   "mimetype": "text/x-python",
   "name": "python",
   "nbconvert_exporter": "python",
   "pygments_lexer": "ipython3",
   "version": "3.7.4"
  },
  "papermill": {
   "default_parameters": {},
   "duration": 2386.649438,
   "end_time": "2021-07-16T15:42:52.087152",
   "environment_variables": {},
   "exception": null,
   "input_path": "__notebook__.ipynb",
   "output_path": "__notebook__.ipynb",
   "parameters": {},
   "start_time": "2021-07-16T15:03:05.437714",
   "version": "2.3.3"
  }
 },
 "nbformat": 4,
 "nbformat_minor": 5
}
