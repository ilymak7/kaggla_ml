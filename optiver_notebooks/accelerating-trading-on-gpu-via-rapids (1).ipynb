{
 "cells": [
  {
   "cell_type": "markdown",
   "id": "binary-holmes",
   "metadata": {
    "papermill": {
     "duration": 0.018817,
     "end_time": "2021-08-31T03:19:10.182821",
     "exception": false,
     "start_time": "2021-08-31T03:19:10.164004",
     "status": "completed"
    },
    "tags": []
   },
   "source": [
    "# Accelerating Trading on GPU via RAPIDS"
   ]
  },
  {
   "cell_type": "code",
   "execution_count": 1,
   "id": "fiscal-lewis",
   "metadata": {
    "execution": {
     "iopub.execute_input": "2021-08-31T03:19:10.227860Z",
     "iopub.status.busy": "2021-08-31T03:19:10.227044Z",
     "iopub.status.idle": "2021-08-31T03:19:15.242067Z",
     "shell.execute_reply": "2021-08-31T03:19:15.241444Z",
     "shell.execute_reply.started": "2021-08-31T02:42:14.075706Z"
    },
    "papermill": {
     "duration": 5.041687,
     "end_time": "2021-08-31T03:19:15.242231",
     "exception": false,
     "start_time": "2021-08-31T03:19:10.200544",
     "status": "completed"
    },
    "tags": []
   },
   "outputs": [
    {
     "data": {
      "text/html": [
       "<style type='text/css'>\n",
       ".datatable table.frame { margin-bottom: 0; }\n",
       ".datatable table.frame thead { border-bottom: none; }\n",
       ".datatable table.frame tr.coltypes td {  color: #FFFFFF;  line-height: 6px;  padding: 0 0.5em;}\n",
       ".datatable .bool    { background: #DDDD99; }\n",
       ".datatable .object  { background: #565656; }\n",
       ".datatable .int     { background: #5D9E5D; }\n",
       ".datatable .float   { background: #4040CC; }\n",
       ".datatable .str     { background: #CC4040; }\n",
       ".datatable .row_index {  background: var(--jp-border-color3);  border-right: 1px solid var(--jp-border-color0);  color: var(--jp-ui-font-color3);  font-size: 9px;}\n",
       ".datatable .frame tr.coltypes .row_index {  background: var(--jp-border-color0);}\n",
       ".datatable th:nth-child(2) { padding-left: 12px; }\n",
       ".datatable .hellipsis {  color: var(--jp-cell-editor-border-color);}\n",
       ".datatable .vellipsis {  background: var(--jp-layout-color0);  color: var(--jp-cell-editor-border-color);}\n",
       ".datatable .na {  color: var(--jp-cell-editor-border-color);  font-size: 80%;}\n",
       ".datatable .footer { font-size: 9px; }\n",
       ".datatable .frame_dimensions {  background: var(--jp-border-color3);  border-top: 1px solid var(--jp-border-color0);  color: var(--jp-ui-font-color3);  display: inline-block;  opacity: 0.6;  padding: 1px 10px 1px 5px;}\n",
       "</style>\n"
      ],
      "text/plain": [
       "<IPython.core.display.HTML object>"
      ]
     },
     "metadata": {},
     "output_type": "display_data"
    }
   ],
   "source": [
    "import cupy as cp\n",
    "import cudf\n",
    "import cuml\n",
    "import glob\n",
    "from tqdm import tqdm\n",
    "import lightgbm as lgb\n",
    "import numpy as np\n",
    "from sklearn.model_selection import KFold\n",
    "import matplotlib.pyplot as plt"
   ]
  },
  {
   "cell_type": "code",
   "execution_count": 2,
   "id": "surgical-award",
   "metadata": {
    "execution": {
     "iopub.execute_input": "2021-08-31T03:19:15.284759Z",
     "iopub.status.busy": "2021-08-31T03:19:15.284215Z",
     "iopub.status.idle": "2021-08-31T03:19:18.979175Z",
     "shell.execute_reply": "2021-08-31T03:19:18.978689Z",
     "shell.execute_reply.started": "2021-08-31T02:42:20.025529Z"
    },
    "papermill": {
     "duration": 3.718339,
     "end_time": "2021-08-31T03:19:18.979316",
     "exception": false,
     "start_time": "2021-08-31T03:19:15.260977",
     "status": "completed"
    },
    "tags": []
   },
   "outputs": [
    {
     "data": {
      "text/html": [
       "<div>\n",
       "<style scoped>\n",
       "    .dataframe tbody tr th:only-of-type {\n",
       "        vertical-align: middle;\n",
       "    }\n",
       "\n",
       "    .dataframe tbody tr th {\n",
       "        vertical-align: top;\n",
       "    }\n",
       "\n",
       "    .dataframe thead th {\n",
       "        text-align: right;\n",
       "    }\n",
       "</style>\n",
       "<table border=\"1\" class=\"dataframe\">\n",
       "  <thead>\n",
       "    <tr style=\"text-align: right;\">\n",
       "      <th></th>\n",
       "      <th>stock_id</th>\n",
       "      <th>time_id</th>\n",
       "      <th>target</th>\n",
       "    </tr>\n",
       "  </thead>\n",
       "  <tbody>\n",
       "    <tr>\n",
       "      <th>0</th>\n",
       "      <td>0</td>\n",
       "      <td>5</td>\n",
       "      <td>0.004136</td>\n",
       "    </tr>\n",
       "    <tr>\n",
       "      <th>1</th>\n",
       "      <td>0</td>\n",
       "      <td>11</td>\n",
       "      <td>0.001445</td>\n",
       "    </tr>\n",
       "    <tr>\n",
       "      <th>2</th>\n",
       "      <td>0</td>\n",
       "      <td>16</td>\n",
       "      <td>0.002168</td>\n",
       "    </tr>\n",
       "    <tr>\n",
       "      <th>3</th>\n",
       "      <td>0</td>\n",
       "      <td>31</td>\n",
       "      <td>0.002195</td>\n",
       "    </tr>\n",
       "    <tr>\n",
       "      <th>4</th>\n",
       "      <td>0</td>\n",
       "      <td>62</td>\n",
       "      <td>0.001747</td>\n",
       "    </tr>\n",
       "  </tbody>\n",
       "</table>\n",
       "</div>"
      ],
      "text/plain": [
       "   stock_id  time_id    target\n",
       "0         0        5  0.004136\n",
       "1         0       11  0.001445\n",
       "2         0       16  0.002168\n",
       "3         0       31  0.002195\n",
       "4         0       62  0.001747"
      ]
     },
     "execution_count": 2,
     "metadata": {},
     "output_type": "execute_result"
    }
   ],
   "source": [
    "PATH = \"/kaggle/input/optiver-realized-volatility-prediction\"\n",
    "\n",
    "\n",
    "def load_data(mode, path=\"/kaggle/input/optiver-realized-volatility-prediction\"):\n",
    "    # mode = \"train\"/\"test\"\n",
    "    file_name = f'{path}/{mode}.csv'\n",
    "    return cudf.read_csv(file_name)\n",
    "\n",
    "dev_df = load_data(\"train\", path=PATH)\n",
    "dev_df.head()"
   ]
  },
  {
   "cell_type": "code",
   "execution_count": 3,
   "id": "novel-keyboard",
   "metadata": {
    "execution": {
     "iopub.execute_input": "2021-08-31T03:19:19.021572Z",
     "iopub.status.busy": "2021-08-31T03:19:19.020713Z",
     "iopub.status.idle": "2021-08-31T03:19:22.747788Z",
     "shell.execute_reply": "2021-08-31T03:19:22.748245Z",
     "shell.execute_reply.started": "2021-08-31T02:42:24.253444Z"
    },
    "papermill": {
     "duration": 3.749983,
     "end_time": "2021-08-31T03:19:22.748407",
     "exception": false,
     "start_time": "2021-08-31T03:19:18.998424",
     "status": "completed"
    },
    "tags": []
   },
   "outputs": [
    {
     "data": {
      "text/plain": [
       "112"
      ]
     },
     "execution_count": 3,
     "metadata": {},
     "output_type": "execute_result"
    }
   ],
   "source": [
    "SCALE = 100\n",
    "dev_df[\"target\"] = SCALE*dev_df[\"target\"]\n",
    "\n",
    "stock_ids = dev_df[\"stock_id\"].unique()\n",
    "len(stock_ids)"
   ]
  },
  {
   "cell_type": "code",
   "execution_count": 4,
   "id": "seven-recycling",
   "metadata": {
    "execution": {
     "iopub.execute_input": "2021-08-31T03:19:22.793245Z",
     "iopub.status.busy": "2021-08-31T03:19:22.792614Z",
     "iopub.status.idle": "2021-08-31T03:19:22.970205Z",
     "shell.execute_reply": "2021-08-31T03:19:22.969729Z",
     "shell.execute_reply.started": "2021-08-31T02:42:28.669536Z"
    },
    "papermill": {
     "duration": 0.202816,
     "end_time": "2021-08-31T03:19:22.970331",
     "exception": false,
     "start_time": "2021-08-31T03:19:22.767515",
     "status": "completed"
    },
    "tags": []
   },
   "outputs": [
    {
     "data": {
      "text/plain": [
       "(112, 1)"
      ]
     },
     "execution_count": 4,
     "metadata": {},
     "output_type": "execute_result"
    }
   ],
   "source": [
    "order_book_training = glob.glob(f'{PATH}/book_train.parquet/*/*')\n",
    "order_book_test = glob.glob(f'{PATH}/book_test.parquet/*/*')\n",
    "\n",
    "len(order_book_training), len(order_book_test)"
   ]
  },
  {
   "cell_type": "code",
   "execution_count": 5,
   "id": "jewish-concentrate",
   "metadata": {
    "execution": {
     "iopub.execute_input": "2021-08-31T03:19:23.013546Z",
     "iopub.status.busy": "2021-08-31T03:19:23.013049Z",
     "iopub.status.idle": "2021-08-31T03:19:23.184627Z",
     "shell.execute_reply": "2021-08-31T03:19:23.185224Z",
     "shell.execute_reply.started": "2021-08-31T02:42:28.904445Z"
    },
    "papermill": {
     "duration": 0.195185,
     "end_time": "2021-08-31T03:19:23.185351",
     "exception": false,
     "start_time": "2021-08-31T03:19:22.990166",
     "status": "completed"
    },
    "tags": []
   },
   "outputs": [
    {
     "data": {
      "text/plain": [
       "(112, 1)"
      ]
     },
     "execution_count": 5,
     "metadata": {},
     "output_type": "execute_result"
    }
   ],
   "source": [
    "trades_training = glob.glob(f'{PATH}/trade_train.parquet/*/*')\n",
    "trades_test = glob.glob(f'{PATH}/trade_test.parquet/*/*')\n",
    "\n",
    "len(trades_training), len(trades_test) "
   ]
  },
  {
   "cell_type": "markdown",
   "id": "aerial-absolute",
   "metadata": {
    "papermill": {
     "duration": 0.018909,
     "end_time": "2021-08-31T03:19:23.223465",
     "exception": false,
     "start_time": "2021-08-31T03:19:23.204556",
     "status": "completed"
    },
    "tags": []
   },
   "source": [
    "## Using rapids-kaggle-utils for missing cuDF aggregation functions"
   ]
  },
  {
   "cell_type": "code",
   "execution_count": 6,
   "id": "comparable-eating",
   "metadata": {
    "execution": {
     "iopub.execute_input": "2021-08-31T03:19:23.265537Z",
     "iopub.status.busy": "2021-08-31T03:19:23.265052Z",
     "iopub.status.idle": "2021-08-31T03:19:23.270680Z",
     "shell.execute_reply": "2021-08-31T03:19:23.271233Z",
     "shell.execute_reply.started": "2021-08-31T02:42:29.100150Z"
    },
    "papermill": {
     "duration": 0.028849,
     "end_time": "2021-08-31T03:19:23.271396",
     "exception": false,
     "start_time": "2021-08-31T03:19:23.242547",
     "status": "completed"
    },
    "tags": []
   },
   "outputs": [
    {
     "name": "stdout",
     "output_type": "stream",
     "text": [
      "/kaggle/input/rapids-kaggle-utils\n"
     ]
    }
   ],
   "source": [
    "%cd /kaggle/input/rapids-kaggle-utils/"
   ]
  },
  {
   "cell_type": "code",
   "execution_count": 7,
   "id": "introductory-jewel",
   "metadata": {
    "execution": {
     "iopub.execute_input": "2021-08-31T03:19:23.334902Z",
     "iopub.status.busy": "2021-08-31T03:19:23.319259Z",
     "iopub.status.idle": "2021-08-31T03:19:23.362416Z",
     "shell.execute_reply": "2021-08-31T03:19:23.361948Z",
     "shell.execute_reply.started": "2021-08-31T03:01:49.115278Z"
    },
    "papermill": {
     "duration": 0.070449,
     "end_time": "2021-08-31T03:19:23.362517",
     "exception": false,
     "start_time": "2021-08-31T03:19:23.292068",
     "status": "completed"
    },
    "tags": []
   },
   "outputs": [],
   "source": [
    "import cu_utils.transform as cutran\n",
    "\n",
    "\n",
    "\n",
    "def log_diff(df, in_col, null_val):\n",
    "    df[\"logx\"] = df[in_col].log()\n",
    "    df[\"logx_shifted\"] = (df[[\"time_id\", \"logx\"]].groupby(\"time_id\", method='cudf')\n",
    "                             .apply_grouped(cutran.get_cu_shift_transform(shift_by=1, null_val=null_val),\n",
    "                                            incols={\"logx\": 'x'},\n",
    "                                            outcols=dict(y_out=cp.float32),\n",
    "                                            tpb=32)[\"y_out\"])\n",
    "    df[\"keep_row\"] = df[f\"logx_shifted\"] != null_val\n",
    "    return df[\"logx\"] - df[\"logx_shifted\"]\n",
    "\n",
    "def realized_vol(log_return):\n",
    "    return cp.sqrt((log_return*log_return).sum())\n",
    "\n",
    "def extract_raw_book_features(df, null_val=-9999):\n",
    "    df['wap1']=(df['bid_price1'] * df['ask_size1'] + df['ask_price1'] * df['bid_size1']) / (df['bid_size1'] + df['ask_size1'])\n",
    "    df['wap2']=(df['bid_price2'] * df['ask_size2'] + df['ask_price2'] * df['bid_size2']) / (df['bid_size2'] + df['ask_size2'])     \n",
    "    df['wap3']=(df['bid_price1'] * df['bid_size1'] + df['ask_price1'] * df['ask_size1']) / (df['bid_size1'] + df['ask_size1'])\n",
    "    df['wap4']=(df['bid_price2'] * df['bid_size2'] + df['ask_price2'] * df['ask_size2']) / (df['bid_size2'] + df['ask_size2'])                                                                                  \n",
    "    for n in [1,2,3,4]:\n",
    "        df[f\"log_return{n}\"] = log_diff(df, in_col=f\"wap{n}\", null_val=null_val)\n",
    "        df[f\"realized_vol{n}\"] = df[f\"log_return{n}\"]**2    \n",
    "    df['wap_balance'] = df['wap1'] - df['wap2']\n",
    "    df['price_spread'] = (df['ask_price1'] - df['bid_price1']) / ((df['ask_price1'] + df['bid_price1']) / 2)\n",
    "    df['price_spread1'] = (df['ask_price2'] - df['bid_price2']) / ((df['ask_price2'] + df['bid_price2']) / 2)\n",
    "    df['bid_spread'] = df['bid_price1'] - df['bid_price2']\n",
    "    df['ask_spread'] = df['ask_price1'] - df['ask_price2']\n",
    "    df[\"bid_ask_spread\"] = abs(df['bid_spread'] - df['ask_spread'])\n",
    "    df['total_volume'] = (df['ask_size1'] + df['ask_size2']) + (df['bid_size1'] + df['bid_size2'])\n",
    "    df['volume_imbalance'] = abs((df['ask_size1'] + df['ask_size2']) - (df['bid_size1'] + df['bid_size2']))\n",
    "    df = df[df[\"keep_row\"]]\n",
    "    return df\n",
    "\n",
    "\n",
    "def extract_raw_trade_features(df, null_val=-9999):\n",
    "    df[\"realized_vol_trade\"] = log_diff(df, in_col=f\"price\", null_val=null_val)**2\n",
    "    df[\"amount\"] = df['price']*df['size']\n",
    "    df = df[df[\"keep_row\"]]\n",
    "    return df\n",
    "\n",
    "\n",
    "def agg(df, feature_dict):\n",
    "    agg_df = df.groupby(\"time_id\").agg(feature_dict).reset_index()\n",
    "    def f(x):\n",
    "        if x[1] == \"\":\n",
    "            return x[0]\n",
    "        return x[0] + \"_\" + x[1]\n",
    "    \n",
    "    agg_df.columns = [f(x) for x in agg_df.columns]\n",
    "    col_vol=[col for col in agg_df.columns if 'realized_vol' in col and ('mean' in col or 'sum' in col)]\n",
    "    agg_df[col_vol]=agg_df[col_vol].sqrt()\n",
    "    return agg_df    \n",
    "\n",
    "\n",
    "def extract_book_stats(df):\n",
    "    feature_dict = {\n",
    "        'wap1': [\"sum\", \"std\"],\n",
    "        'wap2': [\"sum\", \"std\"],\n",
    "        'wap3': [\"sum\", \"std\"],\n",
    "        'wap4': [\"sum\", \"std\"],\n",
    "        'realized_vol1':[\"mean\"],\n",
    "        'realized_vol2':[\"mean\"],\n",
    "        'realized_vol3':[\"mean\"],\n",
    "        'realized_vol4':[\"mean\"],\n",
    "        'price_spread': [\"sum\", \"max\"],\n",
    "        'price_spread1': [\"sum\", \"max\"],\n",
    "        'wap_balance': [\"sum\", \"max\"],\n",
    "        'bid_spread': [\"sum\", \"max\"],\n",
    "        'ask_spread': [\"sum\", \"max\"],\n",
    "        'total_volume': [\"sum\", \"max\"],\n",
    "        'volume_imbalance': [\"sum\", \"max\"],\n",
    "        \"bid_ask_spread\":[\"sum\", \"max\"],\n",
    "    }\n",
    "    \n",
    "    return agg(df, feature_dict)\n",
    "    \n",
    "def extract_book_stats_time(df):\n",
    "    feature_dict = {\n",
    "        'realized_vol1':[\"mean\"],\n",
    "        'realized_vol2':[\"mean\"],\n",
    "        'realized_vol3':[\"mean\"],\n",
    "        'realized_vol4':[\"mean\"],\n",
    "    }\n",
    "    \n",
    "    return agg(df, feature_dict)\n",
    "    \n",
    "    \n",
    "def extract_trade_stats(df):\n",
    "    feature_dict = {\n",
    "        'realized_vol_trade': [\"mean\"],\n",
    "        'seconds_in_bucket':[\"nunique\"],\n",
    "        'size': [\"sum\",'max'],\n",
    "        'order_count': [\"sum\",'max'],\n",
    "        'amount':['sum','max'],\n",
    "    }\n",
    "    return agg(df, feature_dict)\n",
    "\n",
    "def extract_trade_stats_time(df):\n",
    "    feature_dict = {\n",
    "        'realized_vol_trade': [\"mean\"],\n",
    "        'seconds_in_bucket':[\"nunique\"],\n",
    "        'size': [\"sum\"],\n",
    "        'amount':['sum'],\n",
    "        'order_count': [\"sum\"],\n",
    "    }\n",
    "    return agg(df, feature_dict)\n",
    "\n",
    "def time_constraint_fe(df, stats_df, intervel_sec, fe_function, cols):\n",
    "    sub_df = df[(df[\"seconds_in_bucket\"] >= intervel_sec[0])&(df[\"seconds_in_bucket\"] <= intervel_sec[1])].reset_index(drop=True)\n",
    "    if sub_df.shape[0] > 0:\n",
    "        sub_stats = fe_function(sub_df)\n",
    "    else:\n",
    "        sub_stats = cudf.DataFrame(columns=cols)#\n",
    "    return stats_df.merge(sub_stats, on=\"time_id\", how=\"left\", suffixes=('', f'_{intervel_sec[0]}_{intervel_sec[1]}'))    \n",
    "    \n",
    "\n",
    "def feature_engineering(book_path, trade_path):\n",
    "    book_df = cudf.read_parquet(book_path)\n",
    "    book_df = extract_raw_book_features(book_df)\n",
    "    book_stats = extract_book_stats(book_df)\n",
    "    #book_cols = book_stats.columns\n",
    "    book_cols_time=['realized_vol1_mean','realized_vol2_mean','realized_vol3_mean','realized_vol4_mean']+['time_id']\n",
    "    \n",
    "    trade_df = cudf.read_parquet(trade_path)\n",
    "    trade_df = extract_raw_trade_features(trade_df)\n",
    "    trade_stats = extract_trade_stats(trade_df)\n",
    "    #trade_cols = trade_stats.columns\n",
    "    trade_cols_time=['realized_vol_trade_mean','seconds_in_bucket_nunique','size_sum','order_count_sum','amount_sum']+['time_id']\n",
    "    for intervel_sec in [[0, 240],[240, 480],[360, 600],[200,600],[300,600],[400,600]]:\n",
    "        book_stats = time_constraint_fe(book_df, book_stats, intervel_sec, extract_book_stats_time, book_cols_time) \n",
    "        trade_stats = time_constraint_fe(trade_df, trade_stats, intervel_sec, extract_trade_stats_time, trade_cols_time) \n",
    "    \n",
    "    return book_stats.merge(trade_stats, on=\"time_id\", how=\"left\")\n",
    "\n",
    "\n",
    "def process_data(order_book_paths, trade_paths, stock_ids):\n",
    "    stock_dfs = []\n",
    "    for book_path, trade_path in tqdm(list(zip(order_book_paths, trade_paths))):\n",
    "        stock_id = int(book_path.split(\"=\")[1].split(\"/\")[0])\n",
    "\n",
    "        df = feature_engineering(book_path, trade_path)\n",
    "        df[\"stock_id\"] = stock_id\n",
    "        stock_dfs.append(df)\n",
    "    return cudf.concat(stock_dfs)"
   ]
  },
  {
   "cell_type": "code",
   "execution_count": 8,
   "id": "caroline-salmon",
   "metadata": {
    "execution": {
     "iopub.execute_input": "2021-08-31T03:19:23.405785Z",
     "iopub.status.busy": "2021-08-31T03:19:23.405004Z",
     "iopub.status.idle": "2021-08-31T03:24:42.374480Z",
     "shell.execute_reply": "2021-08-31T03:24:42.373857Z",
     "shell.execute_reply.started": "2021-08-31T03:01:55.762736Z"
    },
    "papermill": {
     "duration": 318.992278,
     "end_time": "2021-08-31T03:24:42.374641",
     "exception": false,
     "start_time": "2021-08-31T03:19:23.382363",
     "status": "completed"
    },
    "tags": []
   },
   "outputs": [
    {
     "name": "stderr",
     "output_type": "stream",
     "text": [
      "100%|██████████| 112/112 [05:16<00:00,  2.83s/it]\n",
      "100%|██████████| 1/1 [00:01<00:00,  1.90s/it]\n"
     ]
    },
    {
     "data": {
      "text/plain": [
       "((428932, 92), (1, 92))"
      ]
     },
     "execution_count": 8,
     "metadata": {},
     "output_type": "execute_result"
    }
   ],
   "source": [
    "train = process_data(order_book_training, trades_training, stock_ids)\n",
    "test = process_data(order_book_test, trades_test, stock_ids)\n",
    "train.shape, test.shape"
   ]
  },
  {
   "cell_type": "code",
   "execution_count": 9,
   "id": "generous-synthetic",
   "metadata": {
    "execution": {
     "iopub.execute_input": "2021-08-31T03:24:42.488675Z",
     "iopub.status.busy": "2021-08-31T03:24:42.482745Z",
     "iopub.status.idle": "2021-08-31T03:24:43.856400Z",
     "shell.execute_reply": "2021-08-31T03:24:43.855730Z",
     "shell.execute_reply.started": "2021-08-31T03:07:24.592712Z"
    },
    "papermill": {
     "duration": 1.430878,
     "end_time": "2021-08-31T03:24:43.856572",
     "exception": false,
     "start_time": "2021-08-31T03:24:42.425694",
     "status": "completed"
    },
    "tags": []
   },
   "outputs": [],
   "source": [
    "def stock_time_fe(df):\n",
    "    cols = ['realized_vol1_mean', 'realized_vol2_mean', \n",
    "            'realized_vol1_mean_200_600', 'realized_vol2_mean_200_600',\n",
    "            'realized_vol1_mean_300_600', 'realized_vol2_mean_300_600', \n",
    "            'realized_vol1_mean_400_600', 'realized_vol2_mean_400_600',\n",
    "           ]\n",
    "    tmp_df=df[~df[\"is_test\"]]\n",
    "    for agg_col in [\"stock_id\", \"time_id\"]:\n",
    "        for agg_func in [\"mean\", \"max\", \"std\", \"min\"]:\n",
    "            agg_df = tmp_df.groupby(agg_col)[cols].agg(agg_func)\n",
    "            agg_df.columns = [f\"{agg_col}_{agg_func}_{col}\" for col in agg_df.columns]\n",
    "            df = df.merge(agg_df.reset_index(), on=agg_col, how=\"left\")\n",
    "    \n",
    "    return df\n",
    "\n",
    "train[\"is_test\"] = False\n",
    "test[\"is_test\"] = True\n",
    "all_df = train.append(test).reset_index(drop=True)\n",
    "\n",
    "all_df = stock_time_fe(all_df)\n",
    "train = all_df[~all_df[\"is_test\"]]\n",
    "test = all_df[all_df[\"is_test\"]].to_pandas()\n"
   ]
  },
  {
   "cell_type": "code",
   "execution_count": 10,
   "id": "convertible-jungle",
   "metadata": {
    "execution": {
     "iopub.execute_input": "2021-08-31T03:24:43.970421Z",
     "iopub.status.busy": "2021-08-31T03:24:43.969746Z",
     "iopub.status.idle": "2021-08-31T03:24:45.044012Z",
     "shell.execute_reply": "2021-08-31T03:24:45.044386Z",
     "shell.execute_reply.started": "2021-08-31T03:07:25.643034Z"
    },
    "papermill": {
     "duration": 1.134313,
     "end_time": "2021-08-31T03:24:45.044532",
     "exception": false,
     "start_time": "2021-08-31T03:24:43.910219",
     "status": "completed"
    },
    "tags": []
   },
   "outputs": [
    {
     "data": {
      "text/plain": [
       "154"
      ]
     },
     "execution_count": 10,
     "metadata": {},
     "output_type": "execute_result"
    }
   ],
   "source": [
    "train = dev_df.merge(train, on=[\"stock_id\", \"time_id\"], how=\"left\").to_pandas()\n",
    "\n",
    "num_features = [col for col in list(train.columns)\n",
    "            if col not in {\"stock_id\", \"time_id\", \"target\", \"is_test\"}]\n",
    "len(num_features)"
   ]
  },
  {
   "cell_type": "code",
   "execution_count": 11,
   "id": "interstate-performance",
   "metadata": {
    "execution": {
     "iopub.execute_input": "2021-08-31T03:24:45.156808Z",
     "iopub.status.busy": "2021-08-31T03:24:45.155799Z",
     "iopub.status.idle": "2021-08-31T03:24:45.170156Z",
     "shell.execute_reply": "2021-08-31T03:24:45.169432Z",
     "shell.execute_reply.started": "2021-08-31T03:07:26.834076Z"
    },
    "papermill": {
     "duration": 0.072155,
     "end_time": "2021-08-31T03:24:45.170294",
     "exception": false,
     "start_time": "2021-08-31T03:24:45.098139",
     "status": "completed"
    },
    "tags": []
   },
   "outputs": [],
   "source": [
    "# replace by order sum (tau)\n",
    "train['size_tau'] = np.sqrt( 1/ train['seconds_in_bucket_nunique'] )\n",
    "test['size_tau'] = np.sqrt( 1/ test['seconds_in_bucket_nunique'] )\n",
    "#train['size_tau_500'] = np.sqrt( 1/ train['seconds_in_bucket_count_500'] )\n",
    "#test['size_tau_500'] = np.sqrt( 1/ test['seconds_in_bucket_count_500'] )\n",
    "train['size_tau_400'] = np.sqrt( 1/ train['seconds_in_bucket_nunique_400_600'] )\n",
    "test['size_tau_400'] = np.sqrt( 1/ test['seconds_in_bucket_nunique_400_600'] )\n",
    "train['size_tau_300'] = np.sqrt( 1/ train['seconds_in_bucket_nunique_300_600'] )\n",
    "test['size_tau_300'] = np.sqrt( 1/ test['seconds_in_bucket_nunique_300_600'] )\n",
    "train['size_tau_200'] = np.sqrt( 1/ train['seconds_in_bucket_nunique_200_600'] )\n",
    "test['size_tau_200'] = np.sqrt( 1/ test['seconds_in_bucket_nunique_200_600'] )\n",
    "#train['size_tau_100'] = np.sqrt( 1/ train['seconds_in_bucket_count_100'] )\n",
    "#test['size_tau_100'] = np.sqrt( 1/ test['seconds_in_bucket_count_100'] )"
   ]
  },
  {
   "cell_type": "code",
   "execution_count": 12,
   "id": "diagnostic-triangle",
   "metadata": {
    "execution": {
     "iopub.execute_input": "2021-08-31T03:24:45.281897Z",
     "iopub.status.busy": "2021-08-31T03:24:45.280944Z",
     "iopub.status.idle": "2021-08-31T03:24:45.297138Z",
     "shell.execute_reply": "2021-08-31T03:24:45.296577Z",
     "shell.execute_reply.started": "2021-08-31T03:07:26.861153Z"
    },
    "papermill": {
     "duration": 0.074193,
     "end_time": "2021-08-31T03:24:45.297252",
     "exception": false,
     "start_time": "2021-08-31T03:24:45.223059",
     "status": "completed"
    },
    "tags": []
   },
   "outputs": [],
   "source": [
    "train['size_tau2'] = np.sqrt( 1/ train['order_count_sum'] )\n",
    "test['size_tau2'] = np.sqrt( 1/ test['order_count_sum'] )\n",
    "#train['size_tau2_500'] = np.sqrt( 0.16/ train['order_count_sum'] )\n",
    "#test['size_tau2_500'] = np.sqrt( 0.16/ test['order_count_sum'] )\n",
    "train['size_tau2_400'] = np.sqrt( 0.33/ train['order_count_sum'] )\n",
    "test['size_tau2_400'] = np.sqrt( 0.33/ test['order_count_sum'] )\n",
    "train['size_tau2_300'] = np.sqrt( 0.5/ train['order_count_sum'] )\n",
    "test['size_tau2_300'] = np.sqrt( 0.5/ test['order_count_sum'] )\n",
    "train['size_tau2_200'] = np.sqrt( 0.66/ train['order_count_sum'] )\n",
    "test['size_tau2_200'] = np.sqrt( 0.66/ test['order_count_sum'] )\n",
    "#train['size_tau2_100'] = np.sqrt( 0.83/ train['order_count_sum'] )\n",
    "#test['size_tau2_100'] = np.sqrt( 0.83/ test['order_count_sum'] )\n",
    "\n",
    "# delta tau\n",
    "train['size_tau2_d'] = train['size_tau2_400'] - train['size_tau2']\n",
    "test['size_tau2_d'] = test['size_tau2_400'] - test['size_tau2']"
   ]
  },
  {
   "cell_type": "code",
   "execution_count": 13,
   "id": "declared-imagination",
   "metadata": {
    "execution": {
     "iopub.execute_input": "2021-08-31T03:24:45.413593Z",
     "iopub.status.busy": "2021-08-31T03:24:45.412955Z",
     "iopub.status.idle": "2021-08-31T03:24:46.845291Z",
     "shell.execute_reply": "2021-08-31T03:24:46.844747Z",
     "shell.execute_reply.started": "2021-08-31T03:07:26.892529Z"
    },
    "papermill": {
     "duration": 1.49407,
     "end_time": "2021-08-31T03:24:46.845422",
     "exception": false,
     "start_time": "2021-08-31T03:24:45.351352",
     "status": "completed"
    },
    "tags": []
   },
   "outputs": [
    {
     "name": "stdout",
     "output_type": "stream",
     "text": [
      "[1 4 1 0 1 1 0 1 2 0 4 4 1 1 1 1 1 0 1 1 1 4 1 1 3 1 1 1 3 1 3 1 1 1 3 3 1\n",
      " 3 1 1 1 1 1 1 1 4 1 1 1 4 4 3 3 3 0 4 0 1 1 1 1 1 1 1 4 3 3 4 3 4 2 2 3 3\n",
      " 4 1 0 4 3 3 3 1 1 1 4 0 3 3 1 4 1 1 1 1 1 1 1 3 1 4 1 1 1 4 1 1 1 4 1 4 1\n",
      " 4]\n",
      "[3, 6, 9, 18, 61, 63, 86, 97]\n",
      "[0, 2, 4, 5, 7, 13, 14, 15, 16, 17, 19, 20, 21, 23, 26, 28, 29, 30, 32, 34, 35, 36, 39, 41, 42, 43, 44, 46, 47, 48, 51, 52, 53, 64, 66, 67, 68, 69, 70, 72, 85, 93, 94, 95, 100, 102, 103, 104, 105, 107, 108, 109, 111, 113, 114, 115, 118, 119, 120, 123, 125]\n",
      "[8, 80, 81]\n",
      "[27, 31, 33, 37, 38, 40, 58, 59, 60, 74, 75, 77, 82, 83, 88, 89, 90, 98, 99, 110]\n",
      "[1, 10, 11, 22, 50, 55, 56, 62, 73, 76, 78, 84, 87, 96, 101, 112, 116, 122, 124, 126]\n"
     ]
    }
   ],
   "source": [
    "import pandas as pd\n",
    "from sklearn.cluster import KMeans\n",
    "# making agg features\n",
    "\n",
    "train_p = dev_df.to_pandas()\n",
    "train_p = train_p.pivot(index='time_id', columns='stock_id', values='target')\n",
    "\n",
    "corr = train_p.corr()\n",
    "\n",
    "ids = corr.index\n",
    "\n",
    "kmeans = KMeans(n_clusters=5, random_state=0).fit(corr.values)\n",
    "print(kmeans.labels_)\n",
    "\n",
    "l = []\n",
    "for n in range(5):\n",
    "    l.append ( [ (x-1) for x in ( (ids+1)*(kmeans.labels_ == n)) if x > 0] )\n",
    "    \n",
    "\n",
    "mat = []\n",
    "matTest = []\n",
    "\n",
    "n = 0\n",
    "for ind in l:\n",
    "    print(ind)\n",
    "    newDf = train.loc[train['stock_id'].isin(ind) ]\n",
    "    newDf = newDf.groupby(['time_id']).agg(np.nanmean)\n",
    "    newDf.loc[:,'stock_id'] = str(n)+'c1'\n",
    "    mat.append ( newDf )\n",
    "    \n",
    "    newDf = test.loc[test['stock_id'].isin(ind) ]    \n",
    "    newDf = newDf.groupby(['time_id']).agg(np.nanmean)\n",
    "    newDf.loc[:,'stock_id'] = str(n)+'c1'\n",
    "    matTest.append ( newDf )\n",
    "    \n",
    "    n+=1\n",
    "    \n",
    "mat1 = pd.concat(mat).reset_index()\n",
    "mat1.drop(columns=['target'],inplace=True)\n",
    "\n",
    "mat2 = pd.concat(matTest).reset_index()"
   ]
  },
  {
   "cell_type": "code",
   "execution_count": 14,
   "id": "proper-nevada",
   "metadata": {
    "execution": {
     "iopub.execute_input": "2021-08-31T03:24:46.964449Z",
     "iopub.status.busy": "2021-08-31T03:24:46.963635Z",
     "iopub.status.idle": "2021-08-31T03:24:47.066745Z",
     "shell.execute_reply": "2021-08-31T03:24:47.066166Z",
     "shell.execute_reply.started": "2021-08-31T03:07:28.449765Z"
    },
    "papermill": {
     "duration": 0.165803,
     "end_time": "2021-08-31T03:24:47.066906",
     "exception": false,
     "start_time": "2021-08-31T03:24:46.901103",
     "status": "completed"
    },
    "tags": []
   },
   "outputs": [],
   "source": [
    "mat2 = pd.concat([mat2,mat1.loc[mat1.time_id==5]])\n",
    "mat1 = mat1.pivot(index='time_id', columns='stock_id')\n",
    "mat1.columns = [\"_\".join(x) for x in mat1.columns.ravel()]\n",
    "mat1.reset_index(inplace=True)\n",
    "\n",
    "mat2 = mat2.pivot(index='time_id', columns='stock_id')\n",
    "mat2.columns = [\"_\".join(x) for x in mat2.columns.ravel()]\n",
    "mat2.reset_index(inplace=True)"
   ]
  },
  {
   "cell_type": "code",
   "execution_count": 15,
   "id": "contrary-jungle",
   "metadata": {
    "execution": {
     "iopub.execute_input": "2021-08-31T03:24:47.183246Z",
     "iopub.status.busy": "2021-08-31T03:24:47.181682Z",
     "iopub.status.idle": "2021-08-31T03:24:48.371021Z",
     "shell.execute_reply": "2021-08-31T03:24:48.370517Z",
     "shell.execute_reply.started": "2021-08-31T03:07:28.582385Z"
    },
    "papermill": {
     "duration": 1.251183,
     "end_time": "2021-08-31T03:24:48.371179",
     "exception": false,
     "start_time": "2021-08-31T03:24:47.119996",
     "status": "completed"
    },
    "tags": []
   },
   "outputs": [],
   "source": [
    "nnn = ['time_id',\n",
    "     'realized_vol1_mean_0c1',\n",
    "     'realized_vol1_mean_1c1',     \n",
    "     'realized_vol1_mean_3c1',\n",
    "     'realized_vol1_mean_4c1',     \n",
    "     #'realized_vol1_sum_6c1',\n",
    "     'total_volume_sum_0c1',\n",
    "     'total_volume_sum_1c1', \n",
    "     'total_volume_sum_3c1',\n",
    "     'total_volume_sum_4c1', \n",
    "     #'total_volume_sum_6c1',\n",
    "     'size_sum_0c1',\n",
    "     'size_sum_1c1', \n",
    "     'size_sum_3c1',\n",
    "     'size_sum_4c1', \n",
    "     #'size_sum_6c1',\n",
    "     'amount_sum_0c1',\n",
    "     'amount_sum_1c1', \n",
    "     'amount_sum_3c1',\n",
    "     'amount_sum_4c1', \n",
    "     #'amount_sum_6c1',\n",
    "     'order_count_sum_0c1',\n",
    "     'order_count_sum_1c1',\n",
    "     'order_count_sum_3c1',\n",
    "     'order_count_sum_4c1',\n",
    "     #'order_count_sum_6c1',      \n",
    "     'price_spread_sum_0c1',\n",
    "     'price_spread_sum_1c1',\n",
    "     'price_spread_sum_3c1',\n",
    "     'price_spread_sum_4c1',\n",
    "     #'price_spread_sum_6c1',   \n",
    "     'bid_spread_sum_0c1',\n",
    "     'bid_spread_sum_1c1',\n",
    "     'bid_spread_sum_3c1',\n",
    "     'bid_spread_sum_4c1',\n",
    "     #'bid_spread_sum_6c1',       \n",
    "     'ask_spread_sum_0c1',\n",
    "     'ask_spread_sum_1c1',\n",
    "     'ask_spread_sum_3c1',\n",
    "     'ask_spread_sum_4c1',\n",
    "     #'ask_spread_sum_6c1',   \n",
    "     'volume_imbalance_sum_0c1',\n",
    "     'volume_imbalance_sum_1c1',\n",
    "     'volume_imbalance_sum_3c1',\n",
    "     'volume_imbalance_sum_4c1',\n",
    "     #'volume_imbalance_sum_6c1',       \n",
    "     'bid_ask_spread_sum_0c1',\n",
    "     'bid_ask_spread_sum_1c1',\n",
    "     'bid_ask_spread_sum_3c1',\n",
    "     'bid_ask_spread_sum_4c1',\n",
    "     #'bid_ask_spread_sum_6c1',\n",
    "     'size_tau2_0c1',\n",
    "     'size_tau2_1c1',\n",
    "     'size_tau2_3c1',\n",
    "     'size_tau2_4c1',\n",
    "     #'size_tau2_6c1',\n",
    "      ] \n",
    "train = pd.merge(train,mat1[nnn],how='left',on='time_id')\n",
    "test = pd.merge(test,mat2[nnn],how='left',on='time_id')"
   ]
  },
  {
   "cell_type": "code",
   "execution_count": 16,
   "id": "acute-wireless",
   "metadata": {
    "execution": {
     "iopub.execute_input": "2021-08-31T03:24:48.973163Z",
     "iopub.status.busy": "2021-08-31T03:24:48.972373Z",
     "iopub.status.idle": "2021-08-31T03:24:48.975809Z",
     "shell.execute_reply": "2021-08-31T03:24:48.976280Z",
     "shell.execute_reply.started": "2021-08-31T03:07:29.900320Z"
    },
    "papermill": {
     "duration": 0.553156,
     "end_time": "2021-08-31T03:24:48.976427",
     "exception": false,
     "start_time": "2021-08-31T03:24:48.423271",
     "status": "completed"
    },
    "tags": []
   },
   "outputs": [
    {
     "data": {
      "text/plain": [
       "65086"
      ]
     },
     "execution_count": 16,
     "metadata": {},
     "output_type": "execute_result"
    }
   ],
   "source": [
    "import gc\n",
    "del mat1,mat2\n",
    "gc.collect()"
   ]
  },
  {
   "cell_type": "markdown",
   "id": "continental-destination",
   "metadata": {
    "papermill": {
     "duration": 0.05086,
     "end_time": "2021-08-31T03:24:49.078636",
     "exception": false,
     "start_time": "2021-08-31T03:24:49.027776",
     "status": "completed"
    },
    "tags": []
   },
   "source": [
    "## Train LGBM model on GPU"
   ]
  },
  {
   "cell_type": "code",
   "execution_count": 17,
   "id": "fantastic-cross",
   "metadata": {
    "execution": {
     "iopub.execute_input": "2021-08-31T03:24:49.194273Z",
     "iopub.status.busy": "2021-08-31T03:24:49.193596Z",
     "iopub.status.idle": "2021-08-31T03:24:49.196608Z",
     "shell.execute_reply": "2021-08-31T03:24:49.196990Z",
     "shell.execute_reply.started": "2021-08-31T03:17:36.568511Z"
    },
    "papermill": {
     "duration": 0.067227,
     "end_time": "2021-08-31T03:24:49.197128",
     "exception": false,
     "start_time": "2021-08-31T03:24:49.129901",
     "status": "completed"
    },
    "tags": []
   },
   "outputs": [],
   "source": [
    "def rmspe(y_true, y_pred):\n",
    "    return np.sqrt(np.mean(np.square((y_true - y_pred) / y_true)))\n",
    "# Function to early stop with root mean squared percentage error\n",
    "def feval_rmspe(y_pred, lgb_train):\n",
    "    y_true = lgb_train.get_label()\n",
    "    return 'RMSPE', rmspe(y_true, y_pred), False\n",
    "\n",
    "def train_and_evaluate(train, test):\n",
    "    # Hyperparammeters (just basic)\n",
    "    seed0=2021\n",
    "    params = {\n",
    "        'objective': 'rmse',\n",
    "        'boosting_type': 'gbdt',\n",
    "        'max_depth': -1,\n",
    "        'max_bin':100,\n",
    "        'min_data_in_leaf':500,\n",
    "        'learning_rate': 0.05,\n",
    "        'subsample': 0.72,\n",
    "        'subsample_freq': 4,\n",
    "        'feature_fraction': 0.5,\n",
    "        'lambda_l1': 0.5,\n",
    "        'lambda_l2': 1.0,\n",
    "        'categorical_column':[0],\n",
    "        'seed':seed0,\n",
    "        'feature_fraction_seed': seed0,\n",
    "        'bagging_seed': seed0,\n",
    "        'drop_seed': seed0,\n",
    "        'data_random_seed': seed0,\n",
    "        \"tree_learner\": 'voting',\n",
    "        'device': \"gpu\",\n",
    "        'gpu_device_id':0,\n",
    "        'verbose': -1}\n",
    "    \n",
    "    # Split features and target\n",
    "    features=[col for col in train.columns if col not in ['row_id', 'target', 'time_id','is_test']]\n",
    "    y = train['target']\n",
    "    # Transform stock id to a numeric value\n",
    "    #x['stock_id'] = x['stock_id'].astype(int)\n",
    "    #x_test['stock_id'] = x_test['stock_id'].astype(int)\n",
    "    \n",
    "    # Create out of folds array\n",
    "    oof_predictions = np.zeros(train.shape[0])\n",
    "    # Create test array to store predictions\n",
    "    test_predictions = np.zeros(test.shape[0])\n",
    "    # Create a KFold object\n",
    "    kfold = KFold(n_splits = 5, random_state = 57, shuffle = True)\n",
    "    # Iterate through each fold\n",
    "    #stack_weight=[0.225,0.225,0.225,0.1,0.225]\n",
    "    for fold, (trn_ind, val_ind) in enumerate(kfold.split(train)):\n",
    "        print(f'Training fold {fold + 1}')\n",
    "        x_train, x_val = train.iloc[trn_ind], train.iloc[val_ind]\n",
    "        y_train, y_val = y.iloc[trn_ind], y.iloc[val_ind]\n",
    "        # Root mean squared percentage error weights\n",
    "        train_weights = 1 / np.square(y_train)\n",
    "        val_weights = 1 / np.square(y_val)\n",
    "        train_dataset = lgb.Dataset(x_train[features], y_train, weight = train_weights)\n",
    "        val_dataset = lgb.Dataset(x_val[features], y_val, weight = val_weights)\n",
    "        model = lgb.train(params = params,\n",
    "                        num_boost_round=1000,\n",
    "                          train_set = train_dataset, \n",
    "                          valid_sets = [train_dataset, val_dataset], \n",
    "                          verbose_eval = 250,\n",
    "                          early_stopping_rounds=50,\n",
    "                          feval = feval_rmspe)\n",
    "        # Add predictions to the out of folds array\n",
    "        oof_predictions[val_ind] = model.predict(x_val[features])\n",
    "        # Predict the test set\n",
    "        test_predictions += model.predict(test[features]) * 0.2#stack_weight[fold]\n",
    "        \n",
    "    rmspe_score = rmspe(y, oof_predictions)\n",
    "    print(f'Our out of folds RMSPE is {rmspe_score}')\n",
    "    lgb.plot_importance(model,max_num_features=20)\n",
    "    # Return test predictions\n",
    "    return test_predictions"
   ]
  },
  {
   "cell_type": "code",
   "execution_count": 18,
   "id": "ongoing-finance",
   "metadata": {
    "execution": {
     "iopub.execute_input": "2021-08-31T03:24:49.303667Z",
     "iopub.status.busy": "2021-08-31T03:24:49.302802Z",
     "iopub.status.idle": "2021-08-31T03:31:30.019327Z",
     "shell.execute_reply": "2021-08-31T03:31:30.020152Z",
     "shell.execute_reply.started": "2021-08-31T03:17:40.410115Z"
    },
    "papermill": {
     "duration": 400.772556,
     "end_time": "2021-08-31T03:31:30.020404",
     "exception": false,
     "start_time": "2021-08-31T03:24:49.247848",
     "status": "completed"
    },
    "tags": []
   },
   "outputs": [
    {
     "name": "stdout",
     "output_type": "stream",
     "text": [
      "Training fold 1\n",
      "Training until validation scores don't improve for 50 rounds\n",
      "[250]\ttraining's rmse: 0.0429176\ttraining's RMSPE: 0.19861\tvalid_1's rmse: 0.0454954\tvalid_1's RMSPE: 0.210634\n",
      "[500]\ttraining's rmse: 0.0407876\ttraining's RMSPE: 0.188753\tvalid_1's rmse: 0.0443487\tvalid_1's RMSPE: 0.205325\n",
      "[750]\ttraining's rmse: 0.039464\ttraining's RMSPE: 0.182628\tvalid_1's rmse: 0.0438219\tvalid_1's RMSPE: 0.202886\n",
      "[1000]\ttraining's rmse: 0.0384804\ttraining's RMSPE: 0.178076\tvalid_1's rmse: 0.0435671\tvalid_1's RMSPE: 0.201706\n",
      "Did not meet early stopping. Best iteration is:\n",
      "[1000]\ttraining's rmse: 0.0384804\ttraining's RMSPE: 0.178076\tvalid_1's rmse: 0.0435671\tvalid_1's RMSPE: 0.201706\n",
      "Training fold 2\n",
      "Training until validation scores don't improve for 50 rounds\n",
      "[250]\ttraining's rmse: 0.0431208\ttraining's RMSPE: 0.199392\tvalid_1's rmse: 0.0439497\tvalid_1's RMSPE: 0.204122\n",
      "[500]\ttraining's rmse: 0.0409284\ttraining's RMSPE: 0.189254\tvalid_1's rmse: 0.0426603\tvalid_1's RMSPE: 0.198134\n",
      "[750]\ttraining's rmse: 0.0396242\ttraining's RMSPE: 0.183223\tvalid_1's rmse: 0.0420886\tvalid_1's RMSPE: 0.195479\n",
      "[1000]\ttraining's rmse: 0.0386355\ttraining's RMSPE: 0.178652\tvalid_1's rmse: 0.0417884\tvalid_1's RMSPE: 0.194085\n",
      "Did not meet early stopping. Best iteration is:\n",
      "[1000]\ttraining's rmse: 0.0386355\ttraining's RMSPE: 0.178652\tvalid_1's rmse: 0.0417884\tvalid_1's RMSPE: 0.194085\n",
      "Training fold 3\n",
      "Training until validation scores don't improve for 50 rounds\n",
      "[250]\ttraining's rmse: 0.0429171\ttraining's RMSPE: 0.198819\tvalid_1's rmse: 0.0463962\tvalid_1's RMSPE: 0.213891\n",
      "[500]\ttraining's rmse: 0.040823\ttraining's RMSPE: 0.189118\tvalid_1's rmse: 0.0448557\tvalid_1's RMSPE: 0.206789\n",
      "[750]\ttraining's rmse: 0.0394467\ttraining's RMSPE: 0.182742\tvalid_1's rmse: 0.0440266\tvalid_1's RMSPE: 0.202967\n",
      "[1000]\ttraining's rmse: 0.0384866\ttraining's RMSPE: 0.178294\tvalid_1's rmse: 0.0434719\tvalid_1's RMSPE: 0.20041\n",
      "Did not meet early stopping. Best iteration is:\n",
      "[1000]\ttraining's rmse: 0.0384866\ttraining's RMSPE: 0.178294\tvalid_1's rmse: 0.0434719\tvalid_1's RMSPE: 0.20041\n",
      "Training fold 4\n",
      "Training until validation scores don't improve for 50 rounds\n",
      "[250]\ttraining's rmse: 0.0428897\ttraining's RMSPE: 0.198405\tvalid_1's rmse: 0.0444052\tvalid_1's RMSPE: 0.205899\n",
      "[500]\ttraining's rmse: 0.0408005\ttraining's RMSPE: 0.188741\tvalid_1's rmse: 0.0430587\tvalid_1's RMSPE: 0.199656\n",
      "[750]\ttraining's rmse: 0.0394655\ttraining's RMSPE: 0.182565\tvalid_1's rmse: 0.0423485\tvalid_1's RMSPE: 0.196362\n",
      "[1000]\ttraining's rmse: 0.0385174\ttraining's RMSPE: 0.17818\tvalid_1's rmse: 0.0419384\tvalid_1's RMSPE: 0.194461\n",
      "Did not meet early stopping. Best iteration is:\n",
      "[1000]\ttraining's rmse: 0.0385174\ttraining's RMSPE: 0.17818\tvalid_1's rmse: 0.0419384\tvalid_1's RMSPE: 0.194461\n",
      "Training fold 5\n",
      "Training until validation scores don't improve for 50 rounds\n",
      "[250]\ttraining's rmse: 0.0430304\ttraining's RMSPE: 0.199244\tvalid_1's rmse: 0.0439309\tvalid_1's RMSPE: 0.202934\n",
      "[500]\ttraining's rmse: 0.0408799\ttraining's RMSPE: 0.189287\tvalid_1's rmse: 0.0424917\tvalid_1's RMSPE: 0.196286\n",
      "[750]\ttraining's rmse: 0.0395043\ttraining's RMSPE: 0.182917\tvalid_1's rmse: 0.0416938\tvalid_1's RMSPE: 0.1926\n",
      "[1000]\ttraining's rmse: 0.0385039\ttraining's RMSPE: 0.178285\tvalid_1's rmse: 0.0412101\tvalid_1's RMSPE: 0.190365\n",
      "Did not meet early stopping. Best iteration is:\n",
      "[1000]\ttraining's rmse: 0.0385039\ttraining's RMSPE: 0.178285\tvalid_1's rmse: 0.0412101\tvalid_1's RMSPE: 0.190365\n",
      "Our out of folds RMSPE is 0.1962509700485399\n"
     ]
    },
    {
     "data": {
      "image/png": "[encoded data removed]",
      "text/plain": [
       "<Figure size 432x288 with 1 Axes>"
      ]
     },
     "metadata": {
      "needs_background": "light"
     },
     "output_type": "display_data"
    }
   ],
   "source": [
    "# Traing and evaluate\n",
    "test_predictions = train_and_evaluate(train, test)\n",
    "# Save test predictions\n",
    "test[\"row_id\"] = test[\"stock_id\"].astype(str) + \"-\" + test[\"time_id\"].astype(str) \n",
    "test[\"target\"] = test_predictions/SCALE"
   ]
  },
  {
   "cell_type": "code",
   "execution_count": 19,
   "id": "close-slope",
   "metadata": {
    "execution": {
     "iopub.execute_input": "2021-08-31T03:31:30.714990Z",
     "iopub.status.busy": "2021-08-31T03:31:30.714062Z",
     "iopub.status.idle": "2021-08-31T03:31:30.718038Z",
     "shell.execute_reply": "2021-08-31T03:31:30.718421Z"
    },
    "papermill": {
     "duration": 0.583415,
     "end_time": "2021-08-31T03:31:30.718569",
     "exception": false,
     "start_time": "2021-08-31T03:31:30.135154",
     "status": "completed"
    },
    "tags": []
   },
   "outputs": [
    {
     "data": {
      "text/plain": [
       "6300"
      ]
     },
     "execution_count": 19,
     "metadata": {},
     "output_type": "execute_result"
    }
   ],
   "source": [
    "gc.collect()"
   ]
  },
  {
   "cell_type": "code",
   "execution_count": 20,
   "id": "designed-sailing",
   "metadata": {
    "execution": {
     "iopub.execute_input": "2021-08-31T03:31:30.857736Z",
     "iopub.status.busy": "2021-08-31T03:31:30.857241Z",
     "iopub.status.idle": "2021-08-31T03:31:30.862792Z",
     "shell.execute_reply": "2021-08-31T03:31:30.862395Z",
     "shell.execute_reply.started": "2021-08-31T03:17:16.835101Z"
    },
    "papermill": {
     "duration": 0.0756,
     "end_time": "2021-08-31T03:31:30.862918",
     "exception": false,
     "start_time": "2021-08-31T03:31:30.787318",
     "status": "completed"
    },
    "tags": []
   },
   "outputs": [
    {
     "data": {
      "text/plain": [
       "(428932, 211)"
      ]
     },
     "execution_count": 20,
     "metadata": {},
     "output_type": "execute_result"
    }
   ],
   "source": [
    "train.shape"
   ]
  },
  {
   "cell_type": "code",
   "execution_count": 21,
   "id": "clean-license",
   "metadata": {
    "execution": {
     "iopub.execute_input": "2021-08-31T03:31:30.988499Z",
     "iopub.status.busy": "2021-08-31T03:31:30.987986Z",
     "iopub.status.idle": "2021-08-31T03:31:30.994537Z",
     "shell.execute_reply": "2021-08-31T03:31:30.993974Z",
     "shell.execute_reply.started": "2021-08-31T03:17:19.077608Z"
    },
    "papermill": {
     "duration": 0.070726,
     "end_time": "2021-08-31T03:31:30.994686",
     "exception": false,
     "start_time": "2021-08-31T03:31:30.923960",
     "status": "completed"
    },
    "tags": []
   },
   "outputs": [
    {
     "name": "stdout",
     "output_type": "stream",
     "text": [
      "/kaggle/working\n"
     ]
    }
   ],
   "source": [
    "%cd /kaggle/working"
   ]
  },
  {
   "cell_type": "code",
   "execution_count": 22,
   "id": "varied-composite",
   "metadata": {
    "execution": {
     "iopub.execute_input": "2021-08-31T03:31:31.123974Z",
     "iopub.status.busy": "2021-08-31T03:31:31.123457Z",
     "iopub.status.idle": "2021-08-31T03:31:31.153418Z",
     "shell.execute_reply": "2021-08-31T03:31:31.152450Z",
     "shell.execute_reply.started": "2021-08-31T03:17:21.131535Z"
    },
    "papermill": {
     "duration": 0.09736,
     "end_time": "2021-08-31T03:31:31.153540",
     "exception": false,
     "start_time": "2021-08-31T03:31:31.056180",
     "status": "completed"
    },
    "tags": []
   },
   "outputs": [],
   "source": [
    "sub_df = load_data(\"test\", path=PATH).merge(cudf.from_pandas(test[[\"row_id\", \"target\"]]), \n",
    "                                            on=\"row_id\", how=\"left\").fillna(0.0)\n",
    "\n",
    "sub_df.to_csv(\"submission.csv\", index=False, columns=[\"row_id\", \"target\"])"
   ]
  },
  {
   "cell_type": "code",
   "execution_count": 23,
   "id": "published-casino",
   "metadata": {
    "execution": {
     "iopub.execute_input": "2021-08-31T03:31:31.283542Z",
     "iopub.status.busy": "2021-08-31T03:31:31.282677Z",
     "iopub.status.idle": "2021-08-31T03:31:31.298911Z",
     "shell.execute_reply": "2021-08-31T03:31:31.298503Z",
     "shell.execute_reply.started": "2021-08-31T03:17:24.197678Z"
    },
    "papermill": {
     "duration": 0.084311,
     "end_time": "2021-08-31T03:31:31.299017",
     "exception": false,
     "start_time": "2021-08-31T03:31:31.214706",
     "status": "completed"
    },
    "tags": []
   },
   "outputs": [
    {
     "data": {
      "text/html": [
       "<div>\n",
       "<style scoped>\n",
       "    .dataframe tbody tr th:only-of-type {\n",
       "        vertical-align: middle;\n",
       "    }\n",
       "\n",
       "    .dataframe tbody tr th {\n",
       "        vertical-align: top;\n",
       "    }\n",
       "\n",
       "    .dataframe thead th {\n",
       "        text-align: right;\n",
       "    }\n",
       "</style>\n",
       "<table border=\"1\" class=\"dataframe\">\n",
       "  <thead>\n",
       "    <tr style=\"text-align: right;\">\n",
       "      <th></th>\n",
       "      <th>stock_id</th>\n",
       "      <th>time_id</th>\n",
       "      <th>row_id</th>\n",
       "      <th>target</th>\n",
       "    </tr>\n",
       "  </thead>\n",
       "  <tbody>\n",
       "    <tr>\n",
       "      <th>0</th>\n",
       "      <td>0</td>\n",
       "      <td>4</td>\n",
       "      <td>0-4</td>\n",
       "      <td>0.001829</td>\n",
       "    </tr>\n",
       "    <tr>\n",
       "      <th>1</th>\n",
       "      <td>0</td>\n",
       "      <td>32</td>\n",
       "      <td>0-32</td>\n",
       "      <td>0.000000</td>\n",
       "    </tr>\n",
       "    <tr>\n",
       "      <th>2</th>\n",
       "      <td>0</td>\n",
       "      <td>34</td>\n",
       "      <td>0-34</td>\n",
       "      <td>0.000000</td>\n",
       "    </tr>\n",
       "  </tbody>\n",
       "</table>\n",
       "</div>"
      ],
      "text/plain": [
       "   stock_id  time_id row_id    target\n",
       "0         0        4    0-4  0.001829\n",
       "1         0       32   0-32  0.000000\n",
       "2         0       34   0-34  0.000000"
      ]
     },
     "execution_count": 23,
     "metadata": {},
     "output_type": "execute_result"
    }
   ],
   "source": [
    "sub_df.head(3)\n"
   ]
  }
 ],
 "metadata": {
  "kernelspec": {
   "display_name": "Python 3",
   "language": "python",
   "name": "python3"
  },
  "language_info": {
   "codemirror_mode": {
    "name": "ipython",
    "version": 3
   },
   "file_extension": ".py",
   "mimetype": "text/x-python",
   "name": "python",
   "nbconvert_exporter": "python",
   "pygments_lexer": "ipython3",
   "version": "3.7.10"
  },
  "papermill": {
   "default_parameters": {},
   "duration": 750.953938,
   "end_time": "2021-08-31T03:31:34.517407",
   "environment_variables": {},
   "exception": null,
   "input_path": "__notebook__.ipynb",
   "output_path": "__notebook__.ipynb",
   "parameters": {},
   "start_time": "2021-08-31T03:19:03.563469",
   "version": "2.3.3"
  }
 },
 "nbformat": 4,
 "nbformat_minor": 5
}
