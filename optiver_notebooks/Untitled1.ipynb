{
 "cells": [
  {
   "cell_type": "code",
   "execution_count": 7,
   "metadata": {},
   "outputs": [],
   "source": [
    "import os\n",
    "import time\n",
    "import numpy as np # linear algebra\n",
    "import pandas as pd # data processing, CSV file I/O (e.g. pd.read_csv)\n",
    "from tqdm import tqdm\n",
    "import math\n",
    "from sklearn.model_selection import train_test_split\n",
    "from sklearn import metrics\n",
    "\n",
    "from keras.preprocessing.text import Tokenizer\n",
    "from keras.preprocessing.sequence import pad_sequences\n",
    "from keras.layers import Dense, Input, LSTM, Embedding, Dropout, Activation, GRU, Conv1D\n",
    "from keras.layers import Bidirectional, GlobalMaxPool1D, GlobalMaxPooling1D, GlobalAveragePooling1D\n",
    "from keras.layers import Input, Embedding, Dense, Conv2D, MaxPool2D, concatenate\n",
    "from keras.layers import Reshape, Flatten, Concatenate, Dropout, SpatialDropout1D\n",
    "from keras.layers import BatchNormalization, InputSpec, add\n",
    "from keras.optimizers import Adam\n",
    "from keras.models import Model, load_model\n",
    "from keras import backend as K\n",
    "from keras.engine.topology import Layer\n",
    "from keras import initializers, regularizers, constraints, optimizers, layers, activations\n",
    "from keras.callbacks import Callback, EarlyStopping, ModelCheckpoint\n",
    "from keras.utils import Sequence\n",
    "from sklearn.preprocessing import LabelEncoder\n",
    "import matplotlib.pyplot as plt"
   ]
  },
  {
   "cell_type": "code",
   "execution_count": 33,
   "metadata": {},
   "outputs": [],
   "source": [
    "train = pd.read_csv('train_cust_starter.csv')\n",
    "# i = 0"
   ]
  },
  {
   "cell_type": "code",
   "execution_count": 84,
   "metadata": {},
   "outputs": [],
   "source": [
    "# plt.scatter(np.log(train.loc[train.stock_id==0].pred_lgb2),\n",
    "#             np.log(train.loc[train.stock_id==0].target),\n",
    "#            c = np.log(train.loc[train.stock_id==0][ind[i]]))\n",
    "# i+=1\n",
    "cor = train.corr()"
   ]
  },
  {
   "cell_type": "code",
   "execution_count": 85,
   "metadata": {},
   "outputs": [
    {
     "data": {
      "text/plain": [
       "diff                        1.000000\n",
       "target                      0.637025\n",
       "wap_balance_std_300         0.269491\n",
       "wap_balance_std             0.266752\n",
       "price_spread_std_300        0.266250\n",
       "                              ...   \n",
       "total_volume_std_480        0.002697\n",
       "total_volume_std_540        0.000707\n",
       "sum_size                    0.000672\n",
       "median_size                 0.000412\n",
       "volume_imbalance_std_540    0.000298\n",
       "Name: diff, Length: 71, dtype: float64"
      ]
     },
     "execution_count": 85,
     "metadata": {},
     "output_type": "execute_result"
    }
   ],
   "source": [
    "abs(cor['diff']).sort_values(ascending = False)"
   ]
  },
  {
   "cell_type": "code",
   "execution_count": 124,
   "metadata": {},
   "outputs": [
    {
     "data": {
      "text/plain": [
       "(0.06669284053926318,\n",
       " 0.06687452717852636,\n",
       " -2.320099157176529e-05,\n",
       " -0.00039914047893942114)"
      ]
     },
     "execution_count": 124,
     "metadata": {},
     "output_type": "execute_result"
    }
   ],
   "source": [
    "# train\n",
    "# ind = (abs(cor['target']).sort_values(ascending = False)>0.8).index.tolist()\n",
    "# ind[i-1]\n",
    "# train['diff'] = (train['pred_lgb2'] - train['target'])\n",
    "i = 0.5\n",
    "train['diff_2'] = (train['pred_lgb2']*(i) - train['target'] + train['log_return1']*(1-i))\n",
    "# np.mean(train['diff'])\n",
    "abs(train['diff_2']).max() , abs(train['diff']).max() , train['diff_2'].mean() ,train['diff'].mean()"
   ]
  },
  {
   "cell_type": "code",
   "execution_count": 111,
   "metadata": {},
   "outputs": [
    {
     "data": {
      "text/plain": [
       "(0.06654749122785264,\n",
       " 0.06687452717852636,\n",
       " 0.00027755059832236203,\n",
       " -0.00039914047893942114)"
      ]
     },
     "execution_count": 111,
     "metadata": {},
     "output_type": "execute_result"
    }
   ],
   "source": [
    "# (train.iloc[abs(train['diff']).argsort()[-10000:]].time_id).mode()\n"
   ]
  },
  {
   "cell_type": "code",
   "execution_count": 148,
   "metadata": {},
   "outputs": [],
   "source": [
    "# plt.plot(train.loc[train.stock_id == 0,'sum_size'])\n",
    "# plt.plot(train.loc[train.stock_id == 0,'target']*1000000)\n",
    "tes = train.groupby(['stock_id','time_id']).apply(sum)\n",
    "# train.info()"
   ]
  },
  {
   "cell_type": "code",
   "execution_count": 150,
   "metadata": {},
   "outputs": [
    {
     "data": {
      "text/plain": [
       "<matplotlib.axes._subplots.AxesSubplot at 0x20b00de3e48>"
      ]
     },
     "execution_count": 150,
     "metadata": {},
     "output_type": "execute_result"
    },
    {
     "data": {
      "image/png": "[encoded data removed]",
      "text/plain": [
       "<Figure size 432x288 with 1 Axes>"
      ]
     },
     "metadata": {
      "needs_background": "light"
     },
     "output_type": "display_data"
    }
   ],
   "source": [
    "# (tes['sum_size']).sort_values(ascending = False)\n",
    "import seaborn as sns \n",
    "sns.distplot((tes['sum_size']))"
   ]
  },
  {
   "cell_type": "code",
   "execution_count": null,
   "metadata": {},
   "outputs": [],
   "source": []
  }
 ],
 "metadata": {
  "kernelspec": {
   "display_name": "Python 3",
   "language": "python",
   "name": "python3"
  },
  "language_info": {
   "codemirror_mode": {
    "name": "ipython",
    "version": 3
   },
   "file_extension": ".py",
   "mimetype": "text/x-python",
   "name": "python",
   "nbconvert_exporter": "python",
   "pygments_lexer": "ipython3",
   "version": "3.7.4"
  }
 },
 "nbformat": 4,
 "nbformat_minor": 4
}
