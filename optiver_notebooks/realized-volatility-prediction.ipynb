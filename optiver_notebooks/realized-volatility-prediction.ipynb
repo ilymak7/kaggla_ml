{
 "cells": [
  {
   "cell_type": "code",
   "execution_count": 69,
   "metadata": {
    "_cell_guid": "b1076dfc-b9ad-4769-8c92-a6c4dae69d19",
    "_uuid": "8f2839f25d086af736a60e9eeb907d3b93b6e0e5",
    "execution": {
     "iopub.execute_input": "2021-07-04T09:31:54.705874Z",
     "iopub.status.busy": "2021-07-04T09:31:54.705509Z",
     "iopub.status.idle": "2021-07-04T09:31:57.752627Z",
     "shell.execute_reply": "2021-07-04T09:31:57.751798Z",
     "shell.execute_reply.started": "2021-07-04T09:31:54.705797Z"
    }
   },
   "outputs": [],
   "source": [
    "import numpy as np # linear algebra\n",
    "import pandas as pd # data processing, CSV file I/O (e.g. pd.read_csv)\n",
    "import glob\n",
    "from joblib import Parallel, delayed\n",
    "import xgboost as xgb\n",
    "import copy\n",
    "from xgboost.sklearn import XGBRegressor\n",
    "import os\n",
    "from sklearn.linear_model import LinearRegression\n",
    "import warnings\n",
    "import joblib\n",
    "from sklearn.model_selection import train_test_split, KFold\n",
    "import lightgbm as lgb\n",
    "import datatable as dt\n",
    "from sklearn.metrics import mean_squared_error\n",
    "from sklearn.preprocessing import OneHotEncoder, RobustScaler, StandardScaler\n",
    "warnings.filterwarnings(action='ignore', category=UserWarning)\n",
    "# import warnings\n",
    "warnings.filterwarnings(\"ignore\")\n",
    "# warnings.filterwarnings(\"ignore\", category=ConvergenceWarning)\n",
    "import os\n",
    "os.environ[\"PYTHONWARNINGS\"] = \"ignore\" # Also affect subprocesses\n"
   ]
  },
  {
   "cell_type": "code",
   "execution_count": 2,
   "metadata": {},
   "outputs": [
    {
     "data": {
      "text/html": [
       "<div>\n",
       "<style scoped>\n",
       "    .dataframe tbody tr th:only-of-type {\n",
       "        vertical-align: middle;\n",
       "    }\n",
       "\n",
       "    .dataframe tbody tr th {\n",
       "        vertical-align: top;\n",
       "    }\n",
       "\n",
       "    .dataframe thead th {\n",
       "        text-align: right;\n",
       "    }\n",
       "</style>\n",
       "<table border=\"1\" class=\"dataframe\">\n",
       "  <thead>\n",
       "    <tr style=\"text-align: right;\">\n",
       "      <th></th>\n",
       "      <th>time_id</th>\n",
       "      <th>seconds_in_bucket</th>\n",
       "      <th>bid_price1</th>\n",
       "      <th>ask_price1</th>\n",
       "      <th>bid_price2</th>\n",
       "      <th>ask_price2</th>\n",
       "      <th>bid_size1</th>\n",
       "      <th>ask_size1</th>\n",
       "      <th>bid_size2</th>\n",
       "      <th>ask_size2</th>\n",
       "    </tr>\n",
       "  </thead>\n",
       "  <tbody>\n",
       "    <tr>\n",
       "      <th>0</th>\n",
       "      <td>5</td>\n",
       "      <td>0</td>\n",
       "      <td>1.001422</td>\n",
       "      <td>1.002301</td>\n",
       "      <td>1.001370</td>\n",
       "      <td>1.002353</td>\n",
       "      <td>3</td>\n",
       "      <td>226</td>\n",
       "      <td>2</td>\n",
       "      <td>100</td>\n",
       "    </tr>\n",
       "    <tr>\n",
       "      <th>1</th>\n",
       "      <td>5</td>\n",
       "      <td>1</td>\n",
       "      <td>1.001422</td>\n",
       "      <td>1.002301</td>\n",
       "      <td>1.001370</td>\n",
       "      <td>1.002353</td>\n",
       "      <td>3</td>\n",
       "      <td>100</td>\n",
       "      <td>2</td>\n",
       "      <td>100</td>\n",
       "    </tr>\n",
       "    <tr>\n",
       "      <th>2</th>\n",
       "      <td>5</td>\n",
       "      <td>5</td>\n",
       "      <td>1.001422</td>\n",
       "      <td>1.002301</td>\n",
       "      <td>1.001370</td>\n",
       "      <td>1.002405</td>\n",
       "      <td>3</td>\n",
       "      <td>100</td>\n",
       "      <td>2</td>\n",
       "      <td>100</td>\n",
       "    </tr>\n",
       "    <tr>\n",
       "      <th>3</th>\n",
       "      <td>5</td>\n",
       "      <td>6</td>\n",
       "      <td>1.001422</td>\n",
       "      <td>1.002301</td>\n",
       "      <td>1.001370</td>\n",
       "      <td>1.002405</td>\n",
       "      <td>3</td>\n",
       "      <td>126</td>\n",
       "      <td>2</td>\n",
       "      <td>100</td>\n",
       "    </tr>\n",
       "    <tr>\n",
       "      <th>4</th>\n",
       "      <td>5</td>\n",
       "      <td>7</td>\n",
       "      <td>1.001422</td>\n",
       "      <td>1.002301</td>\n",
       "      <td>1.001370</td>\n",
       "      <td>1.002405</td>\n",
       "      <td>3</td>\n",
       "      <td>126</td>\n",
       "      <td>2</td>\n",
       "      <td>100</td>\n",
       "    </tr>\n",
       "    <tr>\n",
       "      <th>...</th>\n",
       "      <td>...</td>\n",
       "      <td>...</td>\n",
       "      <td>...</td>\n",
       "      <td>...</td>\n",
       "      <td>...</td>\n",
       "      <td>...</td>\n",
       "      <td>...</td>\n",
       "      <td>...</td>\n",
       "      <td>...</td>\n",
       "      <td>...</td>\n",
       "    </tr>\n",
       "    <tr>\n",
       "      <th>917548</th>\n",
       "      <td>32767</td>\n",
       "      <td>568</td>\n",
       "      <td>0.998275</td>\n",
       "      <td>0.998754</td>\n",
       "      <td>0.997796</td>\n",
       "      <td>0.998946</td>\n",
       "      <td>90</td>\n",
       "      <td>90</td>\n",
       "      <td>48</td>\n",
       "      <td>28</td>\n",
       "    </tr>\n",
       "    <tr>\n",
       "      <th>917549</th>\n",
       "      <td>32767</td>\n",
       "      <td>569</td>\n",
       "      <td>0.998275</td>\n",
       "      <td>0.998754</td>\n",
       "      <td>0.997892</td>\n",
       "      <td>0.998946</td>\n",
       "      <td>91</td>\n",
       "      <td>90</td>\n",
       "      <td>200</td>\n",
       "      <td>28</td>\n",
       "    </tr>\n",
       "    <tr>\n",
       "      <th>917550</th>\n",
       "      <td>32767</td>\n",
       "      <td>571</td>\n",
       "      <td>0.998275</td>\n",
       "      <td>0.998754</td>\n",
       "      <td>0.997892</td>\n",
       "      <td>0.998946</td>\n",
       "      <td>91</td>\n",
       "      <td>90</td>\n",
       "      <td>100</td>\n",
       "      <td>28</td>\n",
       "    </tr>\n",
       "    <tr>\n",
       "      <th>917551</th>\n",
       "      <td>32767</td>\n",
       "      <td>572</td>\n",
       "      <td>0.998275</td>\n",
       "      <td>0.998754</td>\n",
       "      <td>0.997892</td>\n",
       "      <td>0.998946</td>\n",
       "      <td>92</td>\n",
       "      <td>90</td>\n",
       "      <td>100</td>\n",
       "      <td>28</td>\n",
       "    </tr>\n",
       "    <tr>\n",
       "      <th>917552</th>\n",
       "      <td>32767</td>\n",
       "      <td>582</td>\n",
       "      <td>0.998275</td>\n",
       "      <td>0.998754</td>\n",
       "      <td>0.998179</td>\n",
       "      <td>0.998946</td>\n",
       "      <td>92</td>\n",
       "      <td>90</td>\n",
       "      <td>26</td>\n",
       "      <td>28</td>\n",
       "    </tr>\n",
       "  </tbody>\n",
       "</table>\n",
       "<p>917553 rows × 10 columns</p>\n",
       "</div>"
      ],
      "text/plain": [
       "        time_id  seconds_in_bucket  bid_price1  ask_price1  bid_price2  \\\n",
       "0             5                  0    1.001422    1.002301    1.001370   \n",
       "1             5                  1    1.001422    1.002301    1.001370   \n",
       "2             5                  5    1.001422    1.002301    1.001370   \n",
       "3             5                  6    1.001422    1.002301    1.001370   \n",
       "4             5                  7    1.001422    1.002301    1.001370   \n",
       "...         ...                ...         ...         ...         ...   \n",
       "917548    32767                568    0.998275    0.998754    0.997796   \n",
       "917549    32767                569    0.998275    0.998754    0.997892   \n",
       "917550    32767                571    0.998275    0.998754    0.997892   \n",
       "917551    32767                572    0.998275    0.998754    0.997892   \n",
       "917552    32767                582    0.998275    0.998754    0.998179   \n",
       "\n",
       "        ask_price2  bid_size1  ask_size1  bid_size2  ask_size2  \n",
       "0         1.002353          3        226          2        100  \n",
       "1         1.002353          3        100          2        100  \n",
       "2         1.002405          3        100          2        100  \n",
       "3         1.002405          3        126          2        100  \n",
       "4         1.002405          3        126          2        100  \n",
       "...            ...        ...        ...        ...        ...  \n",
       "917548    0.998946         90         90         48         28  \n",
       "917549    0.998946         91         90        200         28  \n",
       "917550    0.998946         91         90        100         28  \n",
       "917551    0.998946         92         90        100         28  \n",
       "917552    0.998946         92         90         26         28  \n",
       "\n",
       "[917553 rows x 10 columns]"
      ]
     },
     "execution_count": 2,
     "metadata": {},
     "output_type": "execute_result"
    }
   ],
   "source": [
    "stock_id = 0\n",
    "dataType = 'train'\n",
    "pd.read_parquet(f'../data/book_{dataType}.parquet/stock_id={stock_id}/')"
   ]
  },
  {
   "cell_type": "markdown",
   "metadata": {},
   "source": [
    "# Train: https://www.kaggle.com/yus002/realized-volatility-prediction-lgbm-train"
   ]
  },
  {
   "cell_type": "markdown",
   "metadata": {},
   "source": [
    "# Reference: https://www.kaggle.com/mayunnan/realized-volatility-prediction-code-template"
   ]
  },
  {
   "cell_type": "code",
   "execution_count": 3,
   "metadata": {
    "execution": {
     "iopub.execute_input": "2021-07-04T09:32:01.971715Z",
     "iopub.status.busy": "2021-07-04T09:32:01.971378Z",
     "iopub.status.idle": "2021-07-04T09:32:01.983687Z",
     "shell.execute_reply": "2021-07-04T09:32:01.982903Z",
     "shell.execute_reply.started": "2021-07-04T09:32:01.971684Z"
    }
   },
   "outputs": [],
   "source": [
    "def my_metrics(y_true, y_pred):\n",
    "    return np.sqrt(np.mean(np.square((y_true - y_pred) / y_true)))\n",
    "def rmspe(y_true, y_pred):  # f(y_true: array, y_pred: array) -> name: string, eval_result: float, is_higher_better: bool\n",
    "    output = my_metrics(y_true, y_pred)\n",
    "    return 'rmspe', output, False\n",
    "def log_return(list_stock_prices):\n",
    "    return np.log(list_stock_prices).diff() \n",
    "def realized_volatility(series_log_return):\n",
    "    return np.sqrt(np.sum(series_log_return**2))\n",
    "\n",
    "def get_stock_stat(stock_id : int, dataType = 'train'):   \n",
    "    book_train_subset = pd.read_parquet(f'../data/book_{dataType}.parquet/stock_id={stock_id}/')\n",
    "    book_train_subset.sort_values(by=['time_id', 'seconds_in_bucket'])\n",
    "\n",
    "    book_train_subset['bas'] = (book_train_subset[['ask_price1', 'ask_price2']].min(axis = 1)\n",
    "                                / book_train_subset[['bid_price1', 'bid_price2']].max(axis = 1)\n",
    "                                - 1)                               \n",
    "    book_train_subset['wap'] = (book_train_subset['bid_price1'] * book_train_subset['ask_size1'] +\n",
    "                            book_train_subset['ask_price1'] * book_train_subset['bid_size1']) / (\n",
    "                            book_train_subset['bid_size1']+ book_train_subset['ask_size1'])\n",
    "    book_train_subset['log_return'] = (book_train_subset.groupby(by = ['time_id'])['wap'].\n",
    "                                       apply(log_return).\n",
    "                                       reset_index(drop = True).\n",
    "                                       fillna(0)\n",
    "                                      )\n",
    "    stock_stat = pd.merge(\n",
    "        book_train_subset.groupby(by = ['time_id'])['log_return'].agg(realized_volatility).reset_index(),\n",
    "        book_train_subset.groupby(by = ['time_id'], as_index = False)['bas'].mean(),\n",
    "        on = ['time_id'],\n",
    "        how = 'left'\n",
    "    )\n",
    "    stock_stat['stock_id'] = stock_id\n",
    "    return stock_stat\n",
    "def get_dataSet(stock_ids : list, dataType = 'train'):\n",
    "    stock_stat = Parallel(n_jobs=-1)(\n",
    "        delayed(get_stock_stat)(stock_id, dataType) \n",
    "        for stock_id in stock_ids\n",
    "    )\n",
    "    stock_stat_df = pd.concat(stock_stat, ignore_index = True)\n",
    "    return stock_stat_df"
   ]
  },
  {
   "cell_type": "code",
   "execution_count": 4,
   "metadata": {
    "execution": {
     "iopub.execute_input": "2021-07-04T09:32:03.322529Z",
     "iopub.status.busy": "2021-07-04T09:32:03.322194Z",
     "iopub.status.idle": "2021-07-04T09:32:05.109561Z",
     "shell.execute_reply": "2021-07-04T09:32:05.108693Z",
     "shell.execute_reply.started": "2021-07-04T09:32:03.322498Z"
    }
   },
   "outputs": [],
   "source": [
    "stock_id = 0\n",
    "book_train_subset = pd.read_parquet(f'../data/book_train.parquet/stock_id={stock_id}/')\n",
    "book_train_subset.sort_values(by=['time_id', 'seconds_in_bucket'])\n",
    "\n",
    "book_train_subset['bas'] = (book_train_subset[['ask_price1', 'ask_price2']].min(axis = 1)\n",
    "                            / book_train_subset[['bid_price1', 'bid_price2']].max(axis = 1)\n",
    "                            - 1)                               \n",
    "book_train_subset['wap'] = (book_train_subset['bid_price1'] * book_train_subset['ask_size1'] +\n",
    "                        book_train_subset['ask_price1'] * book_train_subset['bid_size1']) / (\n",
    "                        book_train_subset['bid_size1']+ book_train_subset['ask_size1'])\n",
    "book_train_subset['log_return'] = (book_train_subset.groupby(by = ['time_id'])['wap'].\n",
    "                                   apply(log_return).\n",
    "                                   reset_index(drop = True).\n",
    "                                   fillna(0)\n",
    "                                  )"
   ]
  },
  {
   "cell_type": "code",
   "execution_count": 735,
   "metadata": {},
   "outputs": [],
   "source": [
    "a = book_train_subset.loc[book_train_subset.time_id == 5,'log_return']\n",
    "# plt.plot((a-a.mean()))\n",
    "# plt.plot(a.rolling)\n",
    "# realized_volatility(a.rolling(60).mean().fillna(0))\n",
    "\n",
    "# miss = list(set(range(600))-set(a.seconds_in_bucket.values.tolist()))\n",
    "# b = pd.DataFrame({'seconds_in_bucket' : miss , 'time_id' :5})\n",
    "# a = pd.concat([a,b],axis = 0).sort_values(by = 'seconds_in_bucket').fillna(0)\n",
    "# realized_volatility(a.log_return)"
   ]
  },
  {
   "cell_type": "code",
   "execution_count": 739,
   "metadata": {},
   "outputs": [
    {
     "data": {
      "text/plain": [
       "0.004499369"
      ]
     },
     "execution_count": 739,
     "metadata": {},
     "output_type": "execute_result"
    }
   ],
   "source": [
    "# n = 20\n",
    "# realized_volatility(a['log_return'].rolling(n).mean().fillna(0)[n-1::n])\n",
    "# df.rolling(n).min()[n-1::n]\n",
    "# plt.plot(a['log_return'].rolling(1).sum().fillna(0))\n",
    "# a['logre']\n",
    "np.sqrt(((a)**2).sum())"
   ]
  },
  {
   "cell_type": "code",
   "execution_count": 720,
   "metadata": {},
   "outputs": [
    {
     "data": {
      "text/html": [
       "<div>\n",
       "<style scoped>\n",
       "    .dataframe tbody tr th:only-of-type {\n",
       "        vertical-align: middle;\n",
       "    }\n",
       "\n",
       "    .dataframe tbody tr th {\n",
       "        vertical-align: top;\n",
       "    }\n",
       "\n",
       "    .dataframe thead th {\n",
       "        text-align: right;\n",
       "    }\n",
       "</style>\n",
       "<table border=\"1\" class=\"dataframe\">\n",
       "  <thead>\n",
       "    <tr style=\"text-align: right;\">\n",
       "      <th></th>\n",
       "      <th>time_id</th>\n",
       "      <th>seconds_in_bucket</th>\n",
       "      <th>bid_price1</th>\n",
       "      <th>ask_price1</th>\n",
       "      <th>bid_price2</th>\n",
       "      <th>ask_price2</th>\n",
       "      <th>bid_size1</th>\n",
       "      <th>ask_size1</th>\n",
       "      <th>bid_size2</th>\n",
       "      <th>ask_size2</th>\n",
       "      <th>bas</th>\n",
       "      <th>wap</th>\n",
       "      <th>log_return</th>\n",
       "    </tr>\n",
       "  </thead>\n",
       "  <tbody>\n",
       "    <tr>\n",
       "      <th>1</th>\n",
       "      <td>5</td>\n",
       "      <td>1</td>\n",
       "      <td>1.001422</td>\n",
       "      <td>1.002301</td>\n",
       "      <td>1.001370</td>\n",
       "      <td>1.002353</td>\n",
       "      <td>3.0</td>\n",
       "      <td>100.0</td>\n",
       "      <td>2.0</td>\n",
       "      <td>100.0</td>\n",
       "      <td>0.000878</td>\n",
       "      <td>1.001448</td>\n",
       "      <td>0.000014</td>\n",
       "    </tr>\n",
       "    <tr>\n",
       "      <th>5</th>\n",
       "      <td>5</td>\n",
       "      <td>11</td>\n",
       "      <td>1.001422</td>\n",
       "      <td>1.002301</td>\n",
       "      <td>1.001370</td>\n",
       "      <td>1.002405</td>\n",
       "      <td>3.0</td>\n",
       "      <td>100.0</td>\n",
       "      <td>2.0</td>\n",
       "      <td>100.0</td>\n",
       "      <td>0.000878</td>\n",
       "      <td>1.001448</td>\n",
       "      <td>0.000005</td>\n",
       "    </tr>\n",
       "    <tr>\n",
       "      <th>10</th>\n",
       "      <td>5</td>\n",
       "      <td>17</td>\n",
       "      <td>1.001422</td>\n",
       "      <td>1.002301</td>\n",
       "      <td>1.001370</td>\n",
       "      <td>1.002405</td>\n",
       "      <td>3.0</td>\n",
       "      <td>100.0</td>\n",
       "      <td>2.0</td>\n",
       "      <td>100.0</td>\n",
       "      <td>0.000878</td>\n",
       "      <td>1.001448</td>\n",
       "      <td>0.000005</td>\n",
       "    </tr>\n",
       "    <tr>\n",
       "      <th>13</th>\n",
       "      <td>5</td>\n",
       "      <td>21</td>\n",
       "      <td>1.001422</td>\n",
       "      <td>1.002818</td>\n",
       "      <td>1.001370</td>\n",
       "      <td>1.002922</td>\n",
       "      <td>3.0</td>\n",
       "      <td>30.0</td>\n",
       "      <td>2.0</td>\n",
       "      <td>100.0</td>\n",
       "      <td>0.001394</td>\n",
       "      <td>1.001549</td>\n",
       "      <td>0.000106</td>\n",
       "    </tr>\n",
       "    <tr>\n",
       "      <th>14</th>\n",
       "      <td>5</td>\n",
       "      <td>24</td>\n",
       "      <td>1.001474</td>\n",
       "      <td>1.002818</td>\n",
       "      <td>1.001422</td>\n",
       "      <td>1.002922</td>\n",
       "      <td>155.0</td>\n",
       "      <td>30.0</td>\n",
       "      <td>3.0</td>\n",
       "      <td>100.0</td>\n",
       "      <td>0.001343</td>\n",
       "      <td>1.002600</td>\n",
       "      <td>0.001049</td>\n",
       "    </tr>\n",
       "    <tr>\n",
       "      <th>...</th>\n",
       "      <td>...</td>\n",
       "      <td>...</td>\n",
       "      <td>...</td>\n",
       "      <td>...</td>\n",
       "      <td>...</td>\n",
       "      <td>...</td>\n",
       "      <td>...</td>\n",
       "      <td>...</td>\n",
       "      <td>...</td>\n",
       "      <td>...</td>\n",
       "      <td>...</td>\n",
       "      <td>...</td>\n",
       "      <td>...</td>\n",
       "    </tr>\n",
       "    <tr>\n",
       "      <th>290</th>\n",
       "      <td>5</td>\n",
       "      <td>572</td>\n",
       "      <td>1.002767</td>\n",
       "      <td>1.003646</td>\n",
       "      <td>1.002405</td>\n",
       "      <td>1.003749</td>\n",
       "      <td>100.0</td>\n",
       "      <td>101.0</td>\n",
       "      <td>200.0</td>\n",
       "      <td>3.0</td>\n",
       "      <td>0.000877</td>\n",
       "      <td>1.003204</td>\n",
       "      <td>0.000490</td>\n",
       "    </tr>\n",
       "    <tr>\n",
       "      <th>291</th>\n",
       "      <td>5</td>\n",
       "      <td>573</td>\n",
       "      <td>1.002870</td>\n",
       "      <td>1.003646</td>\n",
       "      <td>1.002767</td>\n",
       "      <td>1.003749</td>\n",
       "      <td>1.0</td>\n",
       "      <td>1.0</td>\n",
       "      <td>100.0</td>\n",
       "      <td>3.0</td>\n",
       "      <td>0.000773</td>\n",
       "      <td>1.003258</td>\n",
       "      <td>0.000054</td>\n",
       "    </tr>\n",
       "    <tr>\n",
       "      <th>293</th>\n",
       "      <td>5</td>\n",
       "      <td>575</td>\n",
       "      <td>1.002870</td>\n",
       "      <td>1.003439</td>\n",
       "      <td>1.002353</td>\n",
       "      <td>1.003646</td>\n",
       "      <td>100.0</td>\n",
       "      <td>6.0</td>\n",
       "      <td>26.0</td>\n",
       "      <td>1.0</td>\n",
       "      <td>0.000567</td>\n",
       "      <td>1.003407</td>\n",
       "      <td>0.000148</td>\n",
       "    </tr>\n",
       "    <tr>\n",
       "      <th>295</th>\n",
       "      <td>5</td>\n",
       "      <td>581</td>\n",
       "      <td>1.002974</td>\n",
       "      <td>1.003646</td>\n",
       "      <td>1.002870</td>\n",
       "      <td>1.003749</td>\n",
       "      <td>26.0</td>\n",
       "      <td>1.0</td>\n",
       "      <td>100.0</td>\n",
       "      <td>3.0</td>\n",
       "      <td>0.000670</td>\n",
       "      <td>1.003621</td>\n",
       "      <td>0.000213</td>\n",
       "    </tr>\n",
       "    <tr>\n",
       "      <th>297</th>\n",
       "      <td>5</td>\n",
       "      <td>585</td>\n",
       "      <td>1.003129</td>\n",
       "      <td>1.003749</td>\n",
       "      <td>1.003025</td>\n",
       "      <td>1.003801</td>\n",
       "      <td>100.0</td>\n",
       "      <td>3.0</td>\n",
       "      <td>26.0</td>\n",
       "      <td>3.0</td>\n",
       "      <td>0.000619</td>\n",
       "      <td>1.003731</td>\n",
       "      <td>0.000245</td>\n",
       "    </tr>\n",
       "  </tbody>\n",
       "</table>\n",
       "<p>117 rows × 13 columns</p>\n",
       "</div>"
      ],
      "text/plain": [
       "     time_id  seconds_in_bucket  bid_price1  ask_price1  bid_price2  \\\n",
       "1          5                  1    1.001422    1.002301    1.001370   \n",
       "5          5                 11    1.001422    1.002301    1.001370   \n",
       "10         5                 17    1.001422    1.002301    1.001370   \n",
       "13         5                 21    1.001422    1.002818    1.001370   \n",
       "14         5                 24    1.001474    1.002818    1.001422   \n",
       "..       ...                ...         ...         ...         ...   \n",
       "290        5                572    1.002767    1.003646    1.002405   \n",
       "291        5                573    1.002870    1.003646    1.002767   \n",
       "293        5                575    1.002870    1.003439    1.002353   \n",
       "295        5                581    1.002974    1.003646    1.002870   \n",
       "297        5                585    1.003129    1.003749    1.003025   \n",
       "\n",
       "     ask_price2  bid_size1  ask_size1  bid_size2  ask_size2       bas  \\\n",
       "1      1.002353        3.0      100.0        2.0      100.0  0.000878   \n",
       "5      1.002405        3.0      100.0        2.0      100.0  0.000878   \n",
       "10     1.002405        3.0      100.0        2.0      100.0  0.000878   \n",
       "13     1.002922        3.0       30.0        2.0      100.0  0.001394   \n",
       "14     1.002922      155.0       30.0        3.0      100.0  0.001343   \n",
       "..          ...        ...        ...        ...        ...       ...   \n",
       "290    1.003749      100.0      101.0      200.0        3.0  0.000877   \n",
       "291    1.003749        1.0        1.0      100.0        3.0  0.000773   \n",
       "293    1.003646      100.0        6.0       26.0        1.0  0.000567   \n",
       "295    1.003749       26.0        1.0      100.0        3.0  0.000670   \n",
       "297    1.003801      100.0        3.0       26.0        3.0  0.000619   \n",
       "\n",
       "          wap  log_return  \n",
       "1    1.001448    0.000014  \n",
       "5    1.001448    0.000005  \n",
       "10   1.001448    0.000005  \n",
       "13   1.001549    0.000106  \n",
       "14   1.002600    0.001049  \n",
       "..        ...         ...  \n",
       "290  1.003204    0.000490  \n",
       "291  1.003258    0.000054  \n",
       "293  1.003407    0.000148  \n",
       "295  1.003621    0.000213  \n",
       "297  1.003731    0.000245  \n",
       "\n",
       "[117 rows x 13 columns]"
      ]
     },
     "execution_count": 720,
     "metadata": {},
     "output_type": "execute_result"
    }
   ],
   "source": [
    "a[(a.log_return>0) & (a.seconds_in_bucket>0) ]"
   ]
  },
  {
   "cell_type": "code",
   "execution_count": 8,
   "metadata": {
    "execution": {
     "iopub.execute_input": "2021-07-04T09:42:56.037601Z",
     "iopub.status.busy": "2021-07-04T09:42:56.037283Z",
     "iopub.status.idle": "2021-07-04T09:42:56.045880Z",
     "shell.execute_reply": "2021-07-04T09:42:56.044976Z",
     "shell.execute_reply.started": "2021-07-04T09:42:56.037573Z"
    }
   },
   "outputs": [
    {
     "data": {
      "text/plain": [
       "0.004499369"
      ]
     },
     "execution_count": 8,
     "metadata": {},
     "output_type": "execute_result"
    }
   ],
   "source": [
    "def realized_volatility(series_log_return):\n",
    "    return np.sqrt(np.sum(series_log_return**2))\n",
    "realized_volatility(book_train_subset.loc[(book_train_subset.time_id == 5) ,'log_return' ])"
   ]
  },
  {
   "cell_type": "code",
   "execution_count": 60,
   "metadata": {
    "execution": {
     "iopub.execute_input": "2021-07-04T10:02:16.598807Z",
     "iopub.status.busy": "2021-07-04T10:02:16.598451Z",
     "iopub.status.idle": "2021-07-04T10:02:24.334153Z",
     "shell.execute_reply": "2021-07-04T10:02:24.333217Z",
     "shell.execute_reply.started": "2021-07-04T10:02:16.598771Z"
    }
   },
   "outputs": [],
   "source": [
    "# book_train_subset.loc[(book_train_subset.time_id == 11) ,'log_return' ]\n",
    "import seaborn as sns \n",
    "sns.distplot(book_train_subset['log_return'])"
   ]
  },
  {
   "cell_type": "code",
   "execution_count": 42,
   "metadata": {},
   "outputs": [
    {
     "data": {
      "text/plain": [
       "7.588485339101379e-06"
      ]
     },
     "execution_count": 42,
     "metadata": {},
     "output_type": "execute_result"
    }
   ],
   "source": [
    "ts.mean()"
   ]
  },
  {
   "cell_type": "code",
   "execution_count": 612,
   "metadata": {
    "execution": {
     "iopub.execute_input": "2021-07-04T10:40:20.246354Z",
     "iopub.status.busy": "2021-07-04T10:40:20.246023Z",
     "iopub.status.idle": "2021-07-04T10:40:20.469310Z",
     "shell.execute_reply": "2021-07-04T10:40:20.468414Z",
     "shell.execute_reply.started": "2021-07-04T10:40:20.246323Z"
    }
   },
   "outputs": [
    {
     "name": "stdout",
     "output_type": "stream",
     "text": [
      "0.0006895937912357807\n"
     ]
    }
   ],
   "source": [
    "import matplotlib.pyplot as plt \n",
    "from arch.__future__ import reindexing\n",
    "np.seterr(all='ignore')\n",
    "ts = (book_train_subset.loc[(book_train_subset.time_id == 5) ,'log_return' ]).astype('double')\n",
    "# from statsmodels.graphics.tsaplots import plot_acf\n",
    "# plot_acf(ts**2)\n",
    "# ts\n",
    "m = ts.mean()\n",
    "# ts = ts -m\n",
    "# n_test = 50\n",
    "from arch import arch_model\n",
    "# split into train/test\n",
    "# train, test = ts[:-n_test], ts[-n_test:]\n",
    "train = ts\n",
    "\n",
    "model = arch_model((train), mean='Constant', vol='ARCH', p=1,rescale = True)\n",
    "# model = arch_model((train), mean='Constant', p=5,o=1,q =1,rescale = True,power = 2.0 )\n",
    "model_fit = model.fit(disp = 'off')\n",
    "# forecast the test set\n",
    "yhat = model_fit.forecast(horizon=600)\n",
    "print(((yhat.variance.values[-1, :].mean()))/model_fit.scale)\n",
    "# model_fit\n",
    "\n",
    "# plot the actual variance\n",
    "# var = test.reset_index(drop = True)-m\n",
    "# plt.plot(var)\n",
    "# plot forecast variance\n",
    "# plt.plot((yhat.variance.values[-1, :]/(model_fit.scale**2) ) )\n",
    "# plt.show()"
   ]
  },
  {
   "cell_type": "code",
   "execution_count": null,
   "metadata": {},
   "outputs": [],
   "source": []
  },
  {
   "cell_type": "code",
   "execution_count": 563,
   "metadata": {},
   "outputs": [
    {
     "data": {
      "text/plain": [
       "0.00026860979693316974"
      ]
     },
     "execution_count": 563,
     "metadata": {},
     "output_type": "execute_result"
    }
   ],
   "source": [
    "m = (yhat.variance.values[-1, :]/(model_fit.scale**2) ) \n",
    "np.sqrt(m.mean())"
   ]
  },
  {
   "cell_type": "code",
   "execution_count": 521,
   "metadata": {},
   "outputs": [
    {
     "data": {
      "image/png": "[encoded data removed]",
      "text/plain": [
       "<Figure size 432x288 with 1 Axes>"
      ]
     },
     "execution_count": 521,
     "metadata": {},
     "output_type": "execute_result"
    },
    {
     "data": {
      "image/png": "[encoded data removed]",
      "text/plain": [
       "<Figure size 432x288 with 1 Axes>"
      ]
     },
     "metadata": {
      "needs_background": "light"
     },
     "output_type": "display_data"
    }
   ],
   "source": [
    "from statsmodels.graphics.tsaplots import plot_acf\n",
    "plot_acf(train)"
   ]
  },
  {
   "cell_type": "code",
   "execution_count": 512,
   "metadata": {},
   "outputs": [
    {
     "data": {
      "text/plain": [
       "Series([], Name: log_return, dtype: float64)"
      ]
     },
     "execution_count": 512,
     "metadata": {},
     "output_type": "execute_result"
    }
   ],
   "source": [
    "# from scipy.stats import t,norm\n",
    "# sns.distplot(train,fit = t)\n",
    "# 302/21.5\n",
    "train"
   ]
  },
  {
   "cell_type": "code",
   "execution_count": 824,
   "metadata": {},
   "outputs": [],
   "source": [
    "from tqdm import tqdm\n",
    "def arch_vol(ts):\n",
    "    ts = ts.astype('double')\n",
    "    model = arch_model(ts, mean='Constant', vol='ARCH', p=1,rescale = False)\n",
    "    model_fit = model.fit(disp='off', show_warning=False)\n",
    "    # forecast the test set\n",
    "    yhat = model_fit.forecast(horizon=600)\n",
    "    return np.sqrt(yhat.variance.values[-1, :].max())  \n",
    "#     np.sqrt(ts.shape[0]-) return np.sqrt(yhat.variance.values[-1, :].sum())\n",
    "def realized_volatility_per_time_id(file_path, prediction_column_name):\n",
    "    df_book_data = pd.read_parquet(file_path)\n",
    "    a = (df_book_data['bid_price1'] * df_book_data['ask_size1'] +\n",
    "                                df_book_data['ask_price1'] * df_book_data['bid_size1']) / (\n",
    "                                       df_book_data['bid_size1']+ df_book_data['ask_size1'])\n",
    "\n",
    "    b = (df_book_data['bid_price2'] * df_book_data['ask_size2'] +\n",
    "                                df_book_data['ask_price2'] * df_book_data['bid_size2']) / (\n",
    "                                       df_book_data['bid_size2']+ df_book_data['ask_size2'])\n",
    "    df_book_data['wap'] = (a+b)/2\n",
    "    df_book_data['log_return'] = df_book_data.groupby(['time_id'])['wap'].apply(log_return)\n",
    "    df_book_data = df_book_data[~df_book_data['log_return'].isnull()]\n",
    "    df_realized_vol_per_stock =  pd.DataFrame(df_book_data.groupby(['time_id'])['log_return'].agg(arch_vol)).reset_index()\n",
    "    df_realized_vol_per_stock = df_realized_vol_per_stock.rename(columns = {'log_return':prediction_column_name})\n",
    "    stock_id = file_path.split('=')[1]\n",
    "    df_realized_vol_per_stock['row_id'] = df_realized_vol_per_stock['time_id'].apply(lambda x:f'{stock_id}-{x}')\n",
    "    return df_realized_vol_per_stock[['row_id',prediction_column_name]]\n",
    "def past_realized_volatility_per_stock(list_file,prediction_column_name):\n",
    "    df_past_realized = pd.DataFrame()\n",
    "    for file in tqdm(list_file):\n",
    "        df_past_realized = pd.concat([df_past_realized,\n",
    "                                     realized_volatility_per_time_id(file,prediction_column_name)])\n",
    "    return df_past_realized"
   ]
  },
  {
   "cell_type": "code",
   "execution_count": 827,
   "metadata": {},
   "outputs": [
    {
     "data": {
      "text/plain": [
       "0.00017239582258430668"
      ]
     },
     "execution_count": 827,
     "metadata": {},
     "output_type": "execute_result"
    }
   ],
   "source": [
    "arch_vol((book_train_subset.loc[(book_train_subset.time_id == 16) ,'log_return' ]))\n",
    "# book_train_subset.groupby(['time_id'])['log_return'].agg(arch_vol)"
   ]
  },
  {
   "cell_type": "code",
   "execution_count": 199,
   "metadata": {},
   "outputs": [],
   "source": [
    "# np.sqrt(302)\n",
    "train['row_id'] = train[['stock_id', 'time_id']].astype('str').agg('-'.join, axis=1)"
   ]
  },
  {
   "cell_type": "code",
   "execution_count": 393,
   "metadata": {},
   "outputs": [],
   "source": [
    "df = train.merge(final_pred2,on = 'row_id')"
   ]
  },
  {
   "cell_type": "code",
   "execution_count": 203,
   "metadata": {},
   "outputs": [
    {
     "data": {
      "text/html": [
       "<div>\n",
       "<style scoped>\n",
       "    .dataframe tbody tr th:only-of-type {\n",
       "        vertical-align: middle;\n",
       "    }\n",
       "\n",
       "    .dataframe tbody tr th {\n",
       "        vertical-align: top;\n",
       "    }\n",
       "\n",
       "    .dataframe thead th {\n",
       "        text-align: right;\n",
       "    }\n",
       "</style>\n",
       "<table border=\"1\" class=\"dataframe\">\n",
       "  <thead>\n",
       "    <tr style=\"text-align: right;\">\n",
       "      <th></th>\n",
       "      <th>target_x</th>\n",
       "      <th>target_y</th>\n",
       "    </tr>\n",
       "  </thead>\n",
       "  <tbody>\n",
       "    <tr>\n",
       "      <th>target_x</th>\n",
       "      <td>1.0000</td>\n",
       "      <td>-0.0004</td>\n",
       "    </tr>\n",
       "    <tr>\n",
       "      <th>target_y</th>\n",
       "      <td>-0.0004</td>\n",
       "      <td>1.0000</td>\n",
       "    </tr>\n",
       "  </tbody>\n",
       "</table>\n",
       "</div>"
      ],
      "text/plain": [
       "          target_x  target_y\n",
       "target_x    1.0000   -0.0004\n",
       "target_y   -0.0004    1.0000"
      ]
     },
     "execution_count": 203,
     "metadata": {},
     "output_type": "execute_result"
    }
   ],
   "source": [
    "rmspe"
   ]
  },
  {
   "cell_type": "code",
   "execution_count": 55,
   "metadata": {
    "execution": {
     "iopub.execute_input": "2021-07-04T10:38:24.315406Z",
     "iopub.status.busy": "2021-07-04T10:38:24.315089Z",
     "iopub.status.idle": "2021-07-04T10:38:24.322070Z",
     "shell.execute_reply": "2021-07-04T10:38:24.321232Z",
     "shell.execute_reply.started": "2021-07-04T10:38:24.315376Z"
    }
   },
   "outputs": [
    {
     "name": "stdout",
     "output_type": "stream",
     "text": [
      "Iteration:      1,   Func. Count:      6,   Neg. LLF: -2073.6969189037263\n",
      "Iteration:      2,   Func. Count:     22,   Neg. LLF: -2073.855263911387\n",
      "Inequality constraints incompatible    (Exit mode 4)\n",
      "            Current function value: -2073.855263723061\n",
      "            Iterations: 2\n",
      "            Function evaluations: 22\n",
      "            Gradient evaluations: 2\n"
     ]
    },
    {
     "name": "stderr",
     "output_type": "stream",
     "text": [
      "C:\\Users\\amakr\\AppData\\Local\\Continuum\\anaconda3\\lib\\site-packages\\arch\\univariate\\base.py:317: DataScaleWarning: y is poorly scaled, which may affect convergence of the optimizer when\n",
      "estimating the model parameters. The scale of y is 6.698e-08. Parameter\n",
      "estimation work better when this value is between 1 and 1000. The recommended\n",
      "rescaling is 1e+04 * y.\n",
      "\n",
      "This warning can be disabled by either rescaling y before initializing the\n",
      "model or by setting rescale=False.\n",
      "\n",
      "  data_scale_warning.format(orig_scale, rescale), DataScaleWarning\n",
      "C:\\Users\\amakr\\AppData\\Local\\Continuum\\anaconda3\\lib\\site-packages\\arch\\univariate\\base.py:752: ConvergenceWarning: The optimizer returned code 4. The message is:\n",
      "Inequality constraints incompatible\n",
      "See scipy.optimize.fmin_slsqp for code meaning.\n",
      "\n",
      "  ConvergenceWarning,\n"
     ]
    }
   ],
   "source": [
    "# model_fit.variance\n",
    "# (yhat.compute_variance)\n",
    "# 16*np.sqrt(yhat.variance.values[-1, :].mean())\n",
    "from arch.univariate import ConstantMean,GARCH, Normal\n",
    "# from arch import \n",
    "ts = (book_train_subset.loc[(book_train_subset.time_id == 5) ,'log_return' ]).astype('double')\n",
    "\n",
    "am = ConstantMean(ts)\n",
    "am.volatility = GARCH(1, 0, 1)\n",
    "am.distribution = Normal()\n",
    "res = am.fit()\n",
    "yhat = res.forecast(horizon=600)\n",
    "# np.sqrt(sum(model_fit.conditional_volatility))\n",
    "# yhat.variance.values[]"
   ]
  },
  {
   "cell_type": "code",
   "execution_count": 385,
   "metadata": {},
   "outputs": [
    {
     "data": {
      "text/plain": [
       "[13484, 22079]"
      ]
     },
     "execution_count": 385,
     "metadata": {},
     "output_type": "execute_result"
    }
   ],
   "source": [
    "list(set(book_train_subset.time_id.unique().tolist())-set(( book_train_subset.loc[book_train_subset['seconds_in_bucket']>=540].groupby(['time_id']).apply(len)).index.tolist()))"
   ]
  },
  {
   "cell_type": "code",
   "execution_count": 389,
   "metadata": {},
   "outputs": [
    {
     "data": {
      "text/plain": [
       "True"
      ]
     },
     "execution_count": 389,
     "metadata": {},
     "output_type": "execute_result"
    }
   ],
   "source": [
    "(book_train_subset.groupby(['time_id'])"
   ]
  },
  {
   "cell_type": "code",
   "execution_count": null,
   "metadata": {
    "execution": {
     "iopub.execute_input": "2021-07-03T10:19:14.462946Z",
     "iopub.status.busy": "2021-07-03T10:19:14.462587Z",
     "iopub.status.idle": "2021-07-03T10:19:14.473892Z",
     "shell.execute_reply": "2021-07-03T10:19:14.472838Z",
     "shell.execute_reply.started": "2021-07-03T10:19:14.46291Z"
    }
   },
   "outputs": [],
   "source": [
    "# import seaborn as sns \n",
    "# import matplotlib.pyplot as plt\n",
    "# plt.plot(book_train_subset.loc[book_train_subset.time_id == 72, 'bas'])\n",
    "# book_train_subset.time_id.unique()[1:8]\n",
    "# (book_train_subset['log_return']).mean()"
   ]
  },
  {
   "cell_type": "code",
   "execution_count": null,
   "metadata": {
    "execution": {
     "iopub.execute_input": "2021-07-03T09:55:06.742389Z",
     "iopub.status.busy": "2021-07-03T09:55:06.742034Z",
     "iopub.status.idle": "2021-07-03T09:55:06.745619Z",
     "shell.execute_reply": "2021-07-03T09:55:06.744799Z",
     "shell.execute_reply.started": "2021-07-03T09:55:06.742355Z"
    }
   },
   "outputs": [],
   "source": [
    "#keep_stock_id = 1\n",
    "keep_stock_id = 0\n"
   ]
  },
  {
   "cell_type": "code",
   "execution_count": null,
   "metadata": {
    "execution": {
     "iopub.execute_input": "2021-07-03T10:20:25.860439Z",
     "iopub.status.busy": "2021-07-03T10:20:25.860017Z",
     "iopub.status.idle": "2021-07-03T10:20:28.695854Z",
     "shell.execute_reply": "2021-07-03T10:20:28.695048Z",
     "shell.execute_reply.started": "2021-07-03T10:20:25.860407Z"
    }
   },
   "outputs": [],
   "source": [
    "# dt.fread('../input/mytrain/X_stock_id_cat.csv').to_pandas()"
   ]
  },
  {
   "cell_type": "code",
   "execution_count": null,
   "metadata": {
    "execution": {
     "iopub.execute_input": "2021-07-03T09:55:18.893462Z",
     "iopub.status.busy": "2021-07-03T09:55:18.893114Z",
     "iopub.status.idle": "2021-07-03T09:55:20.507087Z",
     "shell.execute_reply": "2021-07-03T09:55:20.505805Z",
     "shell.execute_reply.started": "2021-07-03T09:55:18.89343Z"
    }
   },
   "outputs": [],
   "source": [
    "# train -------------------------\n",
    "if keep_stock_id:\n",
    "    td = dt.fread('../input/mytrain/X_stock_id_cat.csv')\n",
    "    X = td.to_pandas()\n",
    "    del td\n",
    "else: \n",
    "    X = pd.read_csv(\"../input/mytrain/X.csv\")\n",
    "y = pd.read_csv(\"../input/mytrain/y.csv\")\n",
    "# to_test ----------------------------------------------------\n",
    "test = pd.read_csv('../input/optiver-realized-volatility-prediction/test.csv')\n",
    "test_stock_stat_df = get_dataSet(stock_ids = test['stock_id'].unique(), dataType = 'test')\n",
    "test_dataSet = pd.merge(test, test_stock_stat_df, on = ['stock_id', 'time_id'], how = 'left')\n",
    "test_dataSet = test_dataSet\n",
    "final_pred1 = test_dataSet[['row_id']]\n",
    "to_test = test_dataSet.drop(['row_id'], axis = 1).fillna(0)\n",
    "if keep_stock_id:\n",
    "    train = pd.read_csv(\"../input/optiver-realized-volatility-prediction/train.csv\")\n",
    "    cols = [f'stock_id_{c}' for c in list(set(train.stock_id))]\n",
    "    to_test[cols] = pd.DataFrame(np.stack([(to_test.stock_id == c).astype('int') for c in list(set(train.stock_id))]).T, columns = cols)\n",
    "    to_test = to_test.drop(\"stock_id\", axis = 1)\n",
    "# else:\n",
    "#     to_test = to_test.drop(\"stock_id\", axis = 1)\n",
    "#     X = X.drop(\"stock_id\", axis = 1)"
   ]
  },
  {
   "cell_type": "markdown",
   "metadata": {},
   "source": [
    "# Load in models"
   ]
  },
  {
   "cell_type": "code",
   "execution_count": null,
   "metadata": {
    "execution": {
     "iopub.execute_input": "2021-07-03T09:56:05.692396Z",
     "iopub.status.busy": "2021-07-03T09:56:05.692055Z",
     "iopub.status.idle": "2021-07-03T09:56:06.883429Z",
     "shell.execute_reply": "2021-07-03T09:56:06.882716Z",
     "shell.execute_reply.started": "2021-07-03T09:56:05.692364Z"
    }
   },
   "outputs": [],
   "source": [
    "output = []\n",
    "if keep_stock_id:\n",
    "    for filepath in glob.iglob('../input/629rvp-train/*.pkl'):\n",
    "        model = joblib.load(filepath)\n",
    "        y_pred = model.predict(to_test, num_iteration = model.best_iteration_)\n",
    "        output.append(y_pred)\n",
    "        del model\n",
    "        del y_pred\n",
    "else:\n",
    "    for filepath in glob.iglob('../input/629rvpstock-id-as-continous/*.pkl'):\n",
    "        model = joblib.load(filepath)\n",
    "        y_pred = model.predict(to_test, num_iteration = model.best_iteration_)\n",
    "        output.append(y_pred)\n",
    "        del model\n",
    "        del y_pred\n",
    "y_pred = sum(output) / len(output)"
   ]
  },
  {
   "cell_type": "code",
   "execution_count": null,
   "metadata": {
    "execution": {
     "iopub.execute_input": "2021-07-03T09:56:17.659794Z",
     "iopub.status.busy": "2021-07-03T09:56:17.659448Z",
     "iopub.status.idle": "2021-07-03T09:56:17.664768Z",
     "shell.execute_reply": "2021-07-03T09:56:17.663871Z",
     "shell.execute_reply.started": "2021-07-03T09:56:17.659763Z"
    }
   },
   "outputs": [],
   "source": [
    "final_pred1 = final_pred1.assign(target = y_pred)"
   ]
  },
  {
   "cell_type": "code",
   "execution_count": null,
   "metadata": {},
   "outputs": [],
   "source": [
    "realized_volatility_per_time_id()"
   ]
  },
  {
   "cell_type": "markdown",
   "metadata": {
    "execution": {
     "iopub.execute_input": "2021-07-03T10:30:23.60295Z",
     "iopub.status.busy": "2021-07-03T10:30:23.602606Z",
     "iopub.status.idle": "2021-07-03T10:30:23.611625Z",
     "shell.execute_reply": "2021-07-03T10:30:23.610763Z",
     "shell.execute_reply.started": "2021-07-03T10:30:23.602919Z"
    }
   },
   "source": [
    "# final_pred2\n",
    "train = pd.read_csv('../data/train.csv')\n",
    "train[]"
   ]
  },
  {
   "cell_type": "markdown",
   "metadata": {},
   "source": [
    "# Best Naive baseline 0.29082\n",
    "# Reference: https://www.kaggle.com/pratibha9/a-quick-model"
   ]
  },
  {
   "cell_type": "code",
   "execution_count": 390,
   "metadata": {
    "execution": {
     "iopub.execute_input": "2021-07-04T09:32:33.209732Z",
     "iopub.status.busy": "2021-07-04T09:32:33.209236Z",
     "iopub.status.idle": "2021-07-04T09:32:33.224162Z",
     "shell.execute_reply": "2021-07-04T09:32:33.222751Z",
     "shell.execute_reply.started": "2021-07-04T09:32:33.209684Z"
    }
   },
   "outputs": [],
   "source": [
    "def realized_volatility_per_time_id(file_path, prediction_column_name):\n",
    "    df_book_data = pd.read_parquet(file_path)\n",
    "    a = (df_book_data['bid_price1'] * df_book_data['ask_size1'] +\n",
    "                                df_book_data['ask_price1'] * df_book_data['bid_size1']) / (\n",
    "                                       df_book_data['bid_size1']+ df_book_data['ask_size1'])\n",
    "\n",
    "    b = (df_book_data['bid_price2'] * df_book_data['ask_size2'] +\n",
    "                                df_book_data['ask_price2'] * df_book_data['bid_size2']) / (\n",
    "                                       df_book_data['bid_size2']+ df_book_data['ask_size2'])\n",
    "    df_book_data['wap'] = (a+b)/2\n",
    "    df_book_data['log_return'] = df_book_data.groupby(['time_id'])['wap'].apply(log_return)\n",
    "    df_book_data = df_book_data[~df_book_data['log_return'].isnull()]\n",
    "    df_realized_vol_per_stock =  pd.DataFrame(df_book_data.groupby(['time_id'])['log_return'].agg(realized_volatility)).reset_index()\n",
    "    df_realized_vol_per_stock = df_realized_vol_per_stock.rename(columns = {'log_return':prediction_column_name})\n",
    "    stock_id = file_path.split('=')[1]\n",
    "    df_realized_vol_per_stock['row_id'] = df_realized_vol_per_stock['time_id'].apply(lambda x:f'{stock_id}-{x}')\n",
    "    df_realized_vol_per_stock['len'] = df_book_data.groupby(['time_id']).apply(len).values\n",
    "#     a = df_book_data.loc[df_book_data['seconds_in_bucket']>=540].groupby(['time_id']).apply(len)\n",
    "#     a= pd.DataFrame({'time_id':a.index,'len_last_min': a.values})\n",
    "#     df_realized_vol_per_stock= pd.merge(df_realized_vol_per_stock,a, on = 'time_id') \n",
    "    df_realized_vol_per_stock['len_last_min'] = df_book_data.groupby(['time_id']).apply(lambda x: x[x['seconds_in_bucket']>=540].shape[0] ).values\n",
    "\n",
    "    df_realized_vol_per_stock['len_last_5'] = df_book_data.groupby(['time_id']).apply(lambda x: x[x['seconds_in_bucket']>=300].shape[0] ).values\n",
    "    return df_realized_vol_per_stock[['row_id',prediction_column_name,'len','len_last_min','len_last_5']]\n",
    "def past_realized_volatility_per_stock(list_file,prediction_column_name):\n",
    "    df_past_realized = pd.DataFrame()\n",
    "    for file in tqdm(list_file):\n",
    "        df_past_realized = pd.concat([df_past_realized,\n",
    "                                     realized_volatility_per_time_id(file,prediction_column_name)])\n",
    "    return df_past_realized"
   ]
  },
  {
   "cell_type": "code",
   "execution_count": 370,
   "metadata": {},
   "outputs": [],
   "source": [
    "# def get_len(file_path):\n",
    "#     df_book_data = pd.read_parquet(file_path)\n",
    "#     return ( df_book_data.loc[df_book_data['seconds_in_bucket']>=540].groupby(['time_id']).apply(len))\n",
    "# pd.DataFrame(get_len(list_order_book_file_train[0]),columns= ['len_last_min']).merge"
   ]
  },
  {
   "cell_type": "code",
   "execution_count": 391,
   "metadata": {
    "_kg_hide-output": true,
    "execution": {
     "iopub.execute_input": "2021-07-04T10:52:18.868973Z",
     "iopub.status.busy": "2021-07-04T10:52:18.868620Z",
     "iopub.status.idle": "2021-07-04T10:52:18.895921Z",
     "shell.execute_reply": "2021-07-04T10:52:18.895227Z",
     "shell.execute_reply.started": "2021-07-04T10:52:18.868939Z"
    }
   },
   "outputs": [
    {
     "name": "stderr",
     "output_type": "stream",
     "text": [
      "100%|████████████████████████████████████████████████████████████████████████████████| 112/112 [14:23<00:00,  7.71s/it]\n"
     ]
    }
   ],
   "source": [
    "list_order_book_file_train = glob.glob('../data/book_train.parquet/*')\n",
    "final_pred3 = past_realized_volatility_per_stock(list_file=list_order_book_file_train,\n",
    "                                                           prediction_column_name='target')\n",
    "# final_pred2"
   ]
  },
  {
   "cell_type": "code",
   "execution_count": 392,
   "metadata": {},
   "outputs": [
    {
     "data": {
      "text/html": [
       "<div>\n",
       "<style scoped>\n",
       "    .dataframe tbody tr th:only-of-type {\n",
       "        vertical-align: middle;\n",
       "    }\n",
       "\n",
       "    .dataframe tbody tr th {\n",
       "        vertical-align: top;\n",
       "    }\n",
       "\n",
       "    .dataframe thead th {\n",
       "        text-align: right;\n",
       "    }\n",
       "</style>\n",
       "<table border=\"1\" class=\"dataframe\">\n",
       "  <thead>\n",
       "    <tr style=\"text-align: right;\">\n",
       "      <th></th>\n",
       "      <th>row_id</th>\n",
       "      <th>target</th>\n",
       "      <th>len</th>\n",
       "      <th>len_last_min</th>\n",
       "      <th>len_last_5</th>\n",
       "    </tr>\n",
       "  </thead>\n",
       "  <tbody>\n",
       "    <tr>\n",
       "      <th>0</th>\n",
       "      <td>0-5</td>\n",
       "      <td>0.004115</td>\n",
       "      <td>301</td>\n",
       "      <td>28</td>\n",
       "      <td>139</td>\n",
       "    </tr>\n",
       "    <tr>\n",
       "      <th>1</th>\n",
       "      <td>0-11</td>\n",
       "      <td>0.001268</td>\n",
       "      <td>199</td>\n",
       "      <td>22</td>\n",
       "      <td>115</td>\n",
       "    </tr>\n",
       "    <tr>\n",
       "      <th>2</th>\n",
       "      <td>0-16</td>\n",
       "      <td>0.002719</td>\n",
       "      <td>187</td>\n",
       "      <td>8</td>\n",
       "      <td>68</td>\n",
       "    </tr>\n",
       "    <tr>\n",
       "      <th>3</th>\n",
       "      <td>0-31</td>\n",
       "      <td>0.002625</td>\n",
       "      <td>119</td>\n",
       "      <td>7</td>\n",
       "      <td>53</td>\n",
       "    </tr>\n",
       "    <tr>\n",
       "      <th>4</th>\n",
       "      <td>0-62</td>\n",
       "      <td>0.001901</td>\n",
       "      <td>175</td>\n",
       "      <td>11</td>\n",
       "      <td>89</td>\n",
       "    </tr>\n",
       "    <tr>\n",
       "      <th>...</th>\n",
       "      <td>...</td>\n",
       "      <td>...</td>\n",
       "      <td>...</td>\n",
       "      <td>...</td>\n",
       "      <td>...</td>\n",
       "    </tr>\n",
       "    <tr>\n",
       "      <th>3825</th>\n",
       "      <td>99-32751</td>\n",
       "      <td>0.001555</td>\n",
       "      <td>488</td>\n",
       "      <td>58</td>\n",
       "      <td>265</td>\n",
       "    </tr>\n",
       "    <tr>\n",
       "      <th>3826</th>\n",
       "      <td>99-32753</td>\n",
       "      <td>0.001774</td>\n",
       "      <td>369</td>\n",
       "      <td>33</td>\n",
       "      <td>179</td>\n",
       "    </tr>\n",
       "    <tr>\n",
       "      <th>3827</th>\n",
       "      <td>99-32758</td>\n",
       "      <td>0.001583</td>\n",
       "      <td>501</td>\n",
       "      <td>49</td>\n",
       "      <td>239</td>\n",
       "    </tr>\n",
       "    <tr>\n",
       "      <th>3828</th>\n",
       "      <td>99-32763</td>\n",
       "      <td>0.002299</td>\n",
       "      <td>505</td>\n",
       "      <td>52</td>\n",
       "      <td>255</td>\n",
       "    </tr>\n",
       "    <tr>\n",
       "      <th>3829</th>\n",
       "      <td>99-32767</td>\n",
       "      <td>0.001160</td>\n",
       "      <td>421</td>\n",
       "      <td>40</td>\n",
       "      <td>194</td>\n",
       "    </tr>\n",
       "  </tbody>\n",
       "</table>\n",
       "<p>428932 rows × 5 columns</p>\n",
       "</div>"
      ],
      "text/plain": [
       "        row_id    target  len  len_last_min  len_last_5\n",
       "0          0-5  0.004115  301            28         139\n",
       "1         0-11  0.001268  199            22         115\n",
       "2         0-16  0.002719  187             8          68\n",
       "3         0-31  0.002625  119             7          53\n",
       "4         0-62  0.001901  175            11          89\n",
       "...        ...       ...  ...           ...         ...\n",
       "3825  99-32751  0.001555  488            58         265\n",
       "3826  99-32753  0.001774  369            33         179\n",
       "3827  99-32758  0.001583  501            49         239\n",
       "3828  99-32763  0.002299  505            52         255\n",
       "3829  99-32767  0.001160  421            40         194\n",
       "\n",
       "[428932 rows x 5 columns]"
      ]
     },
     "execution_count": 392,
     "metadata": {},
     "output_type": "execute_result"
    }
   ],
   "source": [
    "# realized_volatility_per_time_id(list_order_book_file_train[0],'target')\n",
    "final_pred3"
   ]
  },
  {
   "cell_type": "code",
   "execution_count": 296,
   "metadata": {},
   "outputs": [
    {
     "data": {
      "text/html": [
       "<div>\n",
       "<style scoped>\n",
       "    .dataframe tbody tr th:only-of-type {\n",
       "        vertical-align: middle;\n",
       "    }\n",
       "\n",
       "    .dataframe tbody tr th {\n",
       "        vertical-align: top;\n",
       "    }\n",
       "\n",
       "    .dataframe thead th {\n",
       "        text-align: right;\n",
       "    }\n",
       "</style>\n",
       "<table border=\"1\" class=\"dataframe\">\n",
       "  <thead>\n",
       "    <tr style=\"text-align: right;\">\n",
       "      <th></th>\n",
       "      <th>target_x</th>\n",
       "      <th>len</th>\n",
       "    </tr>\n",
       "  </thead>\n",
       "  <tbody>\n",
       "    <tr>\n",
       "      <th>target_x</th>\n",
       "      <td>1.000000</td>\n",
       "      <td>-0.066996</td>\n",
       "    </tr>\n",
       "    <tr>\n",
       "      <th>len</th>\n",
       "      <td>-0.066996</td>\n",
       "      <td>1.000000</td>\n",
       "    </tr>\n",
       "  </tbody>\n",
       "</table>\n",
       "</div>"
      ],
      "text/plain": [
       "          target_x       len\n",
       "target_x  1.000000 -0.066996\n",
       "len      -0.066996  1.000000"
      ]
     },
     "execution_count": 296,
     "metadata": {},
     "output_type": "execute_result"
    }
   ],
   "source": [
    "# train\n",
    "np.log(df[['target_x','len']]).corr()"
   ]
  },
  {
   "cell_type": "code",
   "execution_count": 284,
   "metadata": {},
   "outputs": [],
   "source": [
    "final_pred3.to_csv('preds_naive.csv',index = False)"
   ]
  },
  {
   "cell_type": "code",
   "execution_count": 394,
   "metadata": {},
   "outputs": [],
   "source": [
    "df = df.merge(final_pred3,on = 'row_id')\n",
    "# df['tes'] = df['target_y']*np.sqrt(df['len'])"
   ]
  },
  {
   "cell_type": "code",
   "execution_count": 542,
   "metadata": {},
   "outputs": [
    {
     "data": {
      "text/plain": [
       "<matplotlib.axes._subplots.AxesSubplot at 0x1e94c35ef48>"
      ]
     },
     "execution_count": 542,
     "metadata": {},
     "output_type": "execute_result"
    },
    {
     "data": {
      "image/png": "[encoded data removed]",
      "text/plain": [
       "<Figure size 432x288 with 1 Axes>"
      ]
     },
     "metadata": {
      "needs_background": "light"
     },
     "output_type": "display_data"
    }
   ],
   "source": [
    "# np.log(df[['target_x','target','len','len_last_min','len_last_5']]+1).corr()\n",
    "# df.groupby('stock_id').get_group(1)[['target_x','target','len','len_last_min','len_last_5']].corr()\n",
    "# plt.scatter(df.target_x,df.target_y)\n",
    "sns.distplot(df2.target)\n",
    "sns.distplot(df.target_x)"
   ]
  },
  {
   "cell_type": "code",
   "execution_count": 592,
   "metadata": {},
   "outputs": [],
   "source": [
    "# final_pred2.to_csv('preds_arch.csv',index = False)\n",
    "# final_pred2.target.clip(upper = 0.1)\n",
    "df2 = final_pred2.copy()\n",
    "df2['target'].values[df2['target'] > 0.009] = 0.0031\n"
   ]
  },
  {
   "cell_type": "code",
   "execution_count": 593,
   "metadata": {},
   "outputs": [
    {
     "data": {
      "text/plain": [
       "0.5790718181538687"
      ]
     },
     "execution_count": 593,
     "metadata": {},
     "output_type": "execute_result"
    }
   ],
   "source": [
    "# sns.distplot(df2.target)\n",
    "rmse(df['target_x'],df2['target'])\n"
   ]
  },
  {
   "cell_type": "code",
   "execution_count": 621,
   "metadata": {},
   "outputs": [
    {
     "data": {
      "text/plain": [
       "0         0.004136\n",
       "1         0.001445\n",
       "2         0.002168\n",
       "3         0.002195\n",
       "4         0.001747\n",
       "            ...   \n",
       "428927    0.003461\n",
       "428928    0.003113\n",
       "428929    0.004070\n",
       "428930    0.003357\n",
       "428931    0.002090\n",
       "Name: target_x, Length: 428932, dtype: float64"
      ]
     },
     "execution_count": 621,
     "metadata": {},
     "output_type": "execute_result"
    }
   ],
   "source": [
    "# np.corrcoef(df['target_x'],df2['target'])\n",
    "df.target_x"
   ]
  },
  {
   "cell_type": "code",
   "execution_count": 622,
   "metadata": {},
   "outputs": [
    {
     "data": {
      "text/html": [
       "<div>\n",
       "<style scoped>\n",
       "    .dataframe tbody tr th:only-of-type {\n",
       "        vertical-align: middle;\n",
       "    }\n",
       "\n",
       "    .dataframe tbody tr th {\n",
       "        vertical-align: top;\n",
       "    }\n",
       "\n",
       "    .dataframe thead th {\n",
       "        text-align: right;\n",
       "    }\n",
       "</style>\n",
       "<table border=\"1\" class=\"dataframe\">\n",
       "  <thead>\n",
       "    <tr style=\"text-align: right;\">\n",
       "      <th></th>\n",
       "      <th>stock_id</th>\n",
       "      <th>time_id</th>\n",
       "      <th>target_x</th>\n",
       "      <th>row_id</th>\n",
       "      <th>target_y</th>\n",
       "      <th>target</th>\n",
       "      <th>len</th>\n",
       "      <th>len_last_min</th>\n",
       "      <th>len_last_5</th>\n",
       "    </tr>\n",
       "  </thead>\n",
       "  <tbody>\n",
       "    <tr>\n",
       "      <th>0</th>\n",
       "      <td>0</td>\n",
       "      <td>5</td>\n",
       "      <td>0.004136</td>\n",
       "      <td>0-5</td>\n",
       "      <td>0.003793</td>\n",
       "      <td>0.004115</td>\n",
       "      <td>301</td>\n",
       "      <td>28</td>\n",
       "      <td>139</td>\n",
       "    </tr>\n",
       "    <tr>\n",
       "      <th>1</th>\n",
       "      <td>0</td>\n",
       "      <td>11</td>\n",
       "      <td>0.001445</td>\n",
       "      <td>0-11</td>\n",
       "      <td>0.001438</td>\n",
       "      <td>0.001268</td>\n",
       "      <td>199</td>\n",
       "      <td>22</td>\n",
       "      <td>115</td>\n",
       "    </tr>\n",
       "    <tr>\n",
       "      <th>2</th>\n",
       "      <td>0</td>\n",
       "      <td>16</td>\n",
       "      <td>0.002168</td>\n",
       "      <td>0-16</td>\n",
       "      <td>0.003178</td>\n",
       "      <td>0.002719</td>\n",
       "      <td>187</td>\n",
       "      <td>8</td>\n",
       "      <td>68</td>\n",
       "    </tr>\n",
       "    <tr>\n",
       "      <th>3</th>\n",
       "      <td>0</td>\n",
       "      <td>31</td>\n",
       "      <td>0.002195</td>\n",
       "      <td>0-31</td>\n",
       "      <td>0.003836</td>\n",
       "      <td>0.002625</td>\n",
       "      <td>119</td>\n",
       "      <td>7</td>\n",
       "      <td>53</td>\n",
       "    </tr>\n",
       "    <tr>\n",
       "      <th>4</th>\n",
       "      <td>0</td>\n",
       "      <td>62</td>\n",
       "      <td>0.001747</td>\n",
       "      <td>0-62</td>\n",
       "      <td>0.002299</td>\n",
       "      <td>0.001901</td>\n",
       "      <td>175</td>\n",
       "      <td>11</td>\n",
       "      <td>89</td>\n",
       "    </tr>\n",
       "    <tr>\n",
       "      <th>...</th>\n",
       "      <td>...</td>\n",
       "      <td>...</td>\n",
       "      <td>...</td>\n",
       "      <td>...</td>\n",
       "      <td>...</td>\n",
       "      <td>...</td>\n",
       "      <td>...</td>\n",
       "      <td>...</td>\n",
       "      <td>...</td>\n",
       "    </tr>\n",
       "    <tr>\n",
       "      <th>428927</th>\n",
       "      <td>126</td>\n",
       "      <td>32751</td>\n",
       "      <td>0.003461</td>\n",
       "      <td>126-32751</td>\n",
       "      <td>0.003037</td>\n",
       "      <td>0.003338</td>\n",
       "      <td>309</td>\n",
       "      <td>32</td>\n",
       "      <td>142</td>\n",
       "    </tr>\n",
       "    <tr>\n",
       "      <th>428928</th>\n",
       "      <td>126</td>\n",
       "      <td>32753</td>\n",
       "      <td>0.003113</td>\n",
       "      <td>126-32753</td>\n",
       "      <td>0.003578</td>\n",
       "      <td>0.003347</td>\n",
       "      <td>222</td>\n",
       "      <td>32</td>\n",
       "      <td>105</td>\n",
       "    </tr>\n",
       "    <tr>\n",
       "      <th>428929</th>\n",
       "      <td>126</td>\n",
       "      <td>32758</td>\n",
       "      <td>0.004070</td>\n",
       "      <td>126-32758</td>\n",
       "      <td>0.003701</td>\n",
       "      <td>0.003695</td>\n",
       "      <td>255</td>\n",
       "      <td>32</td>\n",
       "      <td>167</td>\n",
       "    </tr>\n",
       "    <tr>\n",
       "      <th>428930</th>\n",
       "      <td>126</td>\n",
       "      <td>32763</td>\n",
       "      <td>0.003357</td>\n",
       "      <td>126-32763</td>\n",
       "      <td>0.002707</td>\n",
       "      <td>0.003375</td>\n",
       "      <td>398</td>\n",
       "      <td>37</td>\n",
       "      <td>191</td>\n",
       "    </tr>\n",
       "    <tr>\n",
       "      <th>428931</th>\n",
       "      <td>126</td>\n",
       "      <td>32767</td>\n",
       "      <td>0.002090</td>\n",
       "      <td>126-32767</td>\n",
       "      <td>0.002158</td>\n",
       "      <td>0.001984</td>\n",
       "      <td>216</td>\n",
       "      <td>27</td>\n",
       "      <td>96</td>\n",
       "    </tr>\n",
       "  </tbody>\n",
       "</table>\n",
       "<p>428932 rows × 9 columns</p>\n",
       "</div>"
      ],
      "text/plain": [
       "        stock_id  time_id  target_x     row_id  target_y    target  len  \\\n",
       "0              0        5  0.004136        0-5  0.003793  0.004115  301   \n",
       "1              0       11  0.001445       0-11  0.001438  0.001268  199   \n",
       "2              0       16  0.002168       0-16  0.003178  0.002719  187   \n",
       "3              0       31  0.002195       0-31  0.003836  0.002625  119   \n",
       "4              0       62  0.001747       0-62  0.002299  0.001901  175   \n",
       "...          ...      ...       ...        ...       ...       ...  ...   \n",
       "428927       126    32751  0.003461  126-32751  0.003037  0.003338  309   \n",
       "428928       126    32753  0.003113  126-32753  0.003578  0.003347  222   \n",
       "428929       126    32758  0.004070  126-32758  0.003701  0.003695  255   \n",
       "428930       126    32763  0.003357  126-32763  0.002707  0.003375  398   \n",
       "428931       126    32767  0.002090  126-32767  0.002158  0.001984  216   \n",
       "\n",
       "        len_last_min  len_last_5  \n",
       "0                 28         139  \n",
       "1                 22         115  \n",
       "2                  8          68  \n",
       "3                  7          53  \n",
       "4                 11          89  \n",
       "...              ...         ...  \n",
       "428927            32         142  \n",
       "428928            32         105  \n",
       "428929            32         167  \n",
       "428930            37         191  \n",
       "428931            27          96  \n",
       "\n",
       "[428932 rows x 9 columns]"
      ]
     },
     "execution_count": 622,
     "metadata": {},
     "output_type": "execute_result"
    }
   ],
   "source": [
    "df"
   ]
  },
  {
   "cell_type": "code",
   "execution_count": 204,
   "metadata": {},
   "outputs": [],
   "source": [
    "def rmse(y_true, y_pred):\n",
    "    '''\n",
    "    Compute Root Mean Square Percentage Error between two arrays.\n",
    "    '''\n",
    "    loss = np.sqrt(np.mean(np.square(((y_true - y_pred) / y_true)), axis=0))\n",
    "\n",
    "    return loss\n"
   ]
  },
  {
   "cell_type": "code",
   "execution_count": 554,
   "metadata": {},
   "outputs": [
    {
     "data": {
      "text/plain": [
       "<matplotlib.axes._subplots.AxesSubplot at 0x1e991e91808>"
      ]
     },
     "execution_count": 554,
     "metadata": {},
     "output_type": "execute_result"
    },
    {
     "data": {
      "image/png": "[encoded data removed]",
      "text/plain": [
       "<Figure size 432x288 with 1 Axes>"
      ]
     },
     "metadata": {
      "needs_background": "light"
     },
     "output_type": "display_data"
    }
   ],
   "source": [
    "# df2\n",
    "# np.exp(np.log(df['target_x']).mean())\n",
    "sns.distplot(df[df.target_y>0.1]['target_x'])"
   ]
  },
  {
   "cell_type": "code",
   "execution_count": 567,
   "metadata": {},
   "outputs": [
    {
     "data": {
      "text/plain": [
       "0.8308062139691802"
      ]
     },
     "execution_count": 567,
     "metadata": {},
     "output_type": "execute_result"
    }
   ],
   "source": [
    "rmse(df[df.target_y<0.1]['target_x'],df[df.target_y<0.1]['target_y'])\n",
    "# df[df.target_y<0.01].shape[0]/df.shape[0]\n",
    "# df['sqrt_len']=np.sqrt(df['len'])\n",
    "# df.groupby(['stock_id']).get_group(0)[['target_x','len','target']].corr()"
   ]
  },
  {
   "cell_type": "code",
   "execution_count": 260,
   "metadata": {},
   "outputs": [
    {
     "data": {
      "text/html": [
       "<div>\n",
       "<style scoped>\n",
       "    .dataframe tbody tr th:only-of-type {\n",
       "        vertical-align: middle;\n",
       "    }\n",
       "\n",
       "    .dataframe tbody tr th {\n",
       "        vertical-align: top;\n",
       "    }\n",
       "\n",
       "    .dataframe thead th {\n",
       "        text-align: right;\n",
       "    }\n",
       "</style>\n",
       "<table border=\"1\" class=\"dataframe\">\n",
       "  <thead>\n",
       "    <tr style=\"text-align: right;\">\n",
       "      <th></th>\n",
       "      <th>target_x</th>\n",
       "      <th>len</th>\n",
       "      <th>target</th>\n",
       "    </tr>\n",
       "  </thead>\n",
       "  <tbody>\n",
       "    <tr>\n",
       "      <th>target_x</th>\n",
       "      <td>1.000000</td>\n",
       "      <td>-0.288174</td>\n",
       "      <td>0.866859</td>\n",
       "    </tr>\n",
       "    <tr>\n",
       "      <th>len</th>\n",
       "      <td>-0.288174</td>\n",
       "      <td>1.000000</td>\n",
       "      <td>-0.231883</td>\n",
       "    </tr>\n",
       "    <tr>\n",
       "      <th>target</th>\n",
       "      <td>0.866859</td>\n",
       "      <td>-0.231883</td>\n",
       "      <td>1.000000</td>\n",
       "    </tr>\n",
       "  </tbody>\n",
       "</table>\n",
       "</div>"
      ],
      "text/plain": [
       "          target_x       len    target\n",
       "target_x  1.000000 -0.288174  0.866859\n",
       "len      -0.288174  1.000000 -0.231883\n",
       "target    0.866859 -0.231883  1.000000"
      ]
     },
     "execution_count": 260,
     "metadata": {},
     "output_type": "execute_result"
    }
   ],
   "source": [
    "(df[['target_x','len','target']]).corr()"
   ]
  },
  {
   "cell_type": "code",
   "execution_count": 92,
   "metadata": {},
   "outputs": [
    {
     "data": {
      "text/html": [
       "<div>\n",
       "<style scoped>\n",
       "    .dataframe tbody tr th:only-of-type {\n",
       "        vertical-align: middle;\n",
       "    }\n",
       "\n",
       "    .dataframe tbody tr th {\n",
       "        vertical-align: top;\n",
       "    }\n",
       "\n",
       "    .dataframe thead th {\n",
       "        text-align: right;\n",
       "    }\n",
       "</style>\n",
       "<table border=\"1\" class=\"dataframe\">\n",
       "  <thead>\n",
       "    <tr style=\"text-align: right;\">\n",
       "      <th></th>\n",
       "      <th>row_id</th>\n",
       "      <th>target</th>\n",
       "      <th>time_id</th>\n",
       "      <th>stock_id</th>\n",
       "    </tr>\n",
       "  </thead>\n",
       "  <tbody>\n",
       "    <tr>\n",
       "      <th>0</th>\n",
       "      <td>0-5</td>\n",
       "      <td>0.004115</td>\n",
       "      <td>5</td>\n",
       "      <td>0</td>\n",
       "    </tr>\n",
       "    <tr>\n",
       "      <th>1</th>\n",
       "      <td>0-11</td>\n",
       "      <td>0.001268</td>\n",
       "      <td>11</td>\n",
       "      <td>0</td>\n",
       "    </tr>\n",
       "    <tr>\n",
       "      <th>2</th>\n",
       "      <td>0-16</td>\n",
       "      <td>0.002719</td>\n",
       "      <td>16</td>\n",
       "      <td>0</td>\n",
       "    </tr>\n",
       "    <tr>\n",
       "      <th>3</th>\n",
       "      <td>0-31</td>\n",
       "      <td>0.002625</td>\n",
       "      <td>31</td>\n",
       "      <td>0</td>\n",
       "    </tr>\n",
       "    <tr>\n",
       "      <th>4</th>\n",
       "      <td>0-62</td>\n",
       "      <td>0.001901</td>\n",
       "      <td>62</td>\n",
       "      <td>0</td>\n",
       "    </tr>\n",
       "    <tr>\n",
       "      <th>...</th>\n",
       "      <td>...</td>\n",
       "      <td>...</td>\n",
       "      <td>...</td>\n",
       "      <td>...</td>\n",
       "    </tr>\n",
       "    <tr>\n",
       "      <th>3825</th>\n",
       "      <td>99-32751</td>\n",
       "      <td>0.001555</td>\n",
       "      <td>32751</td>\n",
       "      <td>99</td>\n",
       "    </tr>\n",
       "    <tr>\n",
       "      <th>3826</th>\n",
       "      <td>99-32753</td>\n",
       "      <td>0.001774</td>\n",
       "      <td>32753</td>\n",
       "      <td>99</td>\n",
       "    </tr>\n",
       "    <tr>\n",
       "      <th>3827</th>\n",
       "      <td>99-32758</td>\n",
       "      <td>0.001583</td>\n",
       "      <td>32758</td>\n",
       "      <td>99</td>\n",
       "    </tr>\n",
       "    <tr>\n",
       "      <th>3828</th>\n",
       "      <td>99-32763</td>\n",
       "      <td>0.002299</td>\n",
       "      <td>32763</td>\n",
       "      <td>99</td>\n",
       "    </tr>\n",
       "    <tr>\n",
       "      <th>3829</th>\n",
       "      <td>99-32767</td>\n",
       "      <td>0.001160</td>\n",
       "      <td>32767</td>\n",
       "      <td>99</td>\n",
       "    </tr>\n",
       "  </tbody>\n",
       "</table>\n",
       "<p>428932 rows × 4 columns</p>\n",
       "</div>"
      ],
      "text/plain": [
       "        row_id    target time_id stock_id\n",
       "0          0-5  0.004115       5        0\n",
       "1         0-11  0.001268      11        0\n",
       "2         0-16  0.002719      16        0\n",
       "3         0-31  0.002625      31        0\n",
       "4         0-62  0.001901      62        0\n",
       "...        ...       ...     ...      ...\n",
       "3825  99-32751  0.001555   32751       99\n",
       "3826  99-32753  0.001774   32753       99\n",
       "3827  99-32758  0.001583   32758       99\n",
       "3828  99-32763  0.002299   32763       99\n",
       "3829  99-32767  0.001160   32767       99\n",
       "\n",
       "[428932 rows x 4 columns]"
      ]
     },
     "execution_count": 92,
     "metadata": {},
     "output_type": "execute_result"
    }
   ],
   "source": [
    "#\n",
    "final_pred2['time_id'] = final_pred2['row_id'].apply(lambda x : x.split('-')[1])\n",
    "final_pred2['stock_id'] = final_pred2['row_id'].apply(lambda x : x.split('-')[0])\n",
    "\n",
    "final_pred2"
   ]
  },
  {
   "cell_type": "code",
   "execution_count": null,
   "metadata": {
    "execution": {
     "iopub.execute_input": "2021-07-03T09:56:36.799576Z",
     "iopub.status.busy": "2021-07-03T09:56:36.799259Z",
     "iopub.status.idle": "2021-07-03T09:56:36.828398Z",
     "shell.execute_reply": "2021-07-03T09:56:36.827468Z",
     "shell.execute_reply.started": "2021-07-03T09:56:36.799546Z"
    }
   },
   "outputs": [],
   "source": [
    "output = final_pred1.merge(final_pred2, on = \"row_id\", how = \"outer\").fillna(0)\n",
    "# x: my pred, y: naive\n",
    "my_pred_weight = 0.5\n",
    "output[\"target\"] = output.target_x * my_pred_weight + output.target_y * (1 - my_pred_weight)\n",
    "output = output[[\"row_id\", \"target\"]]\n",
    "output.to_csv('submission.csv',index = False)\n",
    "print(output)"
   ]
  },
  {
   "cell_type": "code",
   "execution_count": null,
   "metadata": {
    "execution": {
     "iopub.execute_input": "2021-07-03T10:40:20.473156Z",
     "iopub.status.busy": "2021-07-03T10:40:20.472779Z",
     "iopub.status.idle": "2021-07-03T10:40:20.761277Z",
     "shell.execute_reply": "2021-07-03T10:40:20.760279Z",
     "shell.execute_reply.started": "2021-07-03T10:40:20.473125Z"
    }
   },
   "outputs": [],
   "source": [
    "# get_stock_stat(0)\n",
    "# plt.plot((book_train_subset.time_id.unique()))\n",
    "# plt.plot(np.log(book_train_subset['wap']))"
   ]
  },
  {
   "cell_type": "code",
   "execution_count": 15,
   "metadata": {},
   "outputs": [],
   "source": [
    "train = pd.read_csv('../data/train.csv')"
   ]
  },
  {
   "cell_type": "code",
   "execution_count": 22,
   "metadata": {},
   "outputs": [],
   "source": [
    "tr = train.loc[train.stock_id == 0][['time_id','target']]\n",
    "import matplotlib.pyplot as plt"
   ]
  },
  {
   "cell_type": "code",
   "execution_count": 30,
   "metadata": {},
   "outputs": [
    {
     "data": {
      "text/plain": [
       "[<matplotlib.lines.Line2D at 0x1f7cc49ff48>]"
      ]
     },
     "execution_count": 30,
     "metadata": {},
     "output_type": "execute_result"
    },
    {
     "data": {
      "image/png": "[encoded data removed]",
      "text/plain": [
       "<Figure size 432x288 with 1 Axes>"
      ]
     },
     "metadata": {
      "needs_background": "light"
     },
     "output_type": "display_data"
    }
   ],
   "source": [
    "plt.plot((tr.time_id[:1000]), np.log(tr.target[:1000]))"
   ]
  },
  {
   "cell_type": "code",
   "execution_count": 78,
   "metadata": {},
   "outputs": [
    {
     "name": "stderr",
     "output_type": "stream",
     "text": [
      "C:\\Users\\amakr\\AppData\\Local\\Continuum\\anaconda3\\lib\\site-packages\\seaborn\\distributions.py:2557: FutureWarning: `distplot` is a deprecated function and will be removed in a future version. Please adapt your code to use either `displot` (a figure-level function with similar flexibility) or `histplot` (an axes-level function for histograms).\n",
      "  warnings.warn(msg, FutureWarning)\n"
     ]
    },
    {
     "data": {
      "text/plain": [
       "<matplotlib.axes._subplots.AxesSubplot at 0x1f7d080cb08>"
      ]
     },
     "execution_count": 78,
     "metadata": {},
     "output_type": "execute_result"
    },
    {
     "data": {
      "image/png": "[encoded data removed]",
      "text/plain": [
       "<Figure size 432x288 with 1 Axes>"
      ]
     },
     "metadata": {
      "needs_background": "light"
     },
     "output_type": "display_data"
    }
   ],
   "source": [
    "from scipy.stats import norm\n",
    "tr = train.loc[train.stock_id == 16][['time_id','target']]\n",
    "sns.distplot(np.log(tr.target),fit = norm)"
   ]
  },
  {
   "cell_type": "code",
   "execution_count": 57,
   "metadata": {},
   "outputs": [],
   "source": [
    "def normality_test(data):\n",
    "    from scipy.stats import normaltest\n",
    "    mu, std = norm.fit(data)\n",
    "    stat, p = normaltest((data-mu)/std)\n",
    "    print('Statistics=%.3f, p=%.3f' % (stat, p))\n",
    "    # interpret\n",
    "    alpha = 0.05\n",
    "    if p > alpha:\n",
    "        print('Sample looks Gaussian (fail to reject H0)')\n",
    "    else:\n",
    "        print('Sample does not look Gaussian (reject H0)')"
   ]
  },
  {
   "cell_type": "code",
   "execution_count": 67,
   "metadata": {},
   "outputs": [
    {
     "name": "stdout",
     "output_type": "stream",
     "text": [
      "Statistics=9.444, p=0.009\n",
      "Sample does not look Gaussian (reject H0)\n"
     ]
    }
   ],
   "source": [
    "tr = train.loc[train.stock_id == 6][['time_id','target']]\n",
    "normality_test(np.log(tr.target))\n",
    "# mu, std = norm.fit(np.log(tr.target))\n",
    "# mu, std"
   ]
  },
  {
   "cell_type": "code",
   "execution_count": 94,
   "metadata": {},
   "outputs": [
    {
     "data": {
      "text/plain": [
       "(112,)"
      ]
     },
     "execution_count": 94,
     "metadata": {},
     "output_type": "execute_result"
    }
   ],
   "source": []
  },
  {
   "cell_type": "code",
   "execution_count": 98,
   "metadata": {},
   "outputs": [
    {
     "data": {
      "text/html": [
       "<div>\n",
       "<style scoped>\n",
       "    .dataframe tbody tr th:only-of-type {\n",
       "        vertical-align: middle;\n",
       "    }\n",
       "\n",
       "    .dataframe tbody tr th {\n",
       "        vertical-align: top;\n",
       "    }\n",
       "\n",
       "    .dataframe thead th {\n",
       "        text-align: right;\n",
       "    }\n",
       "</style>\n",
       "<table border=\"1\" class=\"dataframe\">\n",
       "  <thead>\n",
       "    <tr style=\"text-align: right;\">\n",
       "      <th></th>\n",
       "      <th>row_id</th>\n",
       "      <th>target</th>\n",
       "      <th>time_id</th>\n",
       "      <th>stock_id</th>\n",
       "    </tr>\n",
       "  </thead>\n",
       "  <tbody>\n",
       "    <tr>\n",
       "      <th>103</th>\n",
       "      <td>0-1000</td>\n",
       "      <td>0.002205</td>\n",
       "      <td>1000</td>\n",
       "      <td>0</td>\n",
       "    </tr>\n",
       "    <tr>\n",
       "      <th>1185</th>\n",
       "      <td>0-10000</td>\n",
       "      <td>0.002476</td>\n",
       "      <td>10000</td>\n",
       "      <td>0</td>\n",
       "    </tr>\n",
       "    <tr>\n",
       "      <th>1186</th>\n",
       "      <td>0-10005</td>\n",
       "      <td>0.008702</td>\n",
       "      <td>10005</td>\n",
       "      <td>0</td>\n",
       "    </tr>\n",
       "    <tr>\n",
       "      <th>1187</th>\n",
       "      <td>0-10017</td>\n",
       "      <td>0.011859</td>\n",
       "      <td>10017</td>\n",
       "      <td>0</td>\n",
       "    </tr>\n",
       "    <tr>\n",
       "      <th>1188</th>\n",
       "      <td>0-10030</td>\n",
       "      <td>0.002571</td>\n",
       "      <td>10030</td>\n",
       "      <td>0</td>\n",
       "    </tr>\n",
       "    <tr>\n",
       "      <th>...</th>\n",
       "      <td>...</td>\n",
       "      <td>...</td>\n",
       "      <td>...</td>\n",
       "      <td>...</td>\n",
       "    </tr>\n",
       "    <tr>\n",
       "      <th>1180</th>\n",
       "      <td>99-9972</td>\n",
       "      <td>0.001711</td>\n",
       "      <td>9972</td>\n",
       "      <td>99</td>\n",
       "    </tr>\n",
       "    <tr>\n",
       "      <th>1181</th>\n",
       "      <td>99-9973</td>\n",
       "      <td>0.010117</td>\n",
       "      <td>9973</td>\n",
       "      <td>99</td>\n",
       "    </tr>\n",
       "    <tr>\n",
       "      <th>1182</th>\n",
       "      <td>99-9976</td>\n",
       "      <td>0.004754</td>\n",
       "      <td>9976</td>\n",
       "      <td>99</td>\n",
       "    </tr>\n",
       "    <tr>\n",
       "      <th>1183</th>\n",
       "      <td>99-9988</td>\n",
       "      <td>0.001345</td>\n",
       "      <td>9988</td>\n",
       "      <td>99</td>\n",
       "    </tr>\n",
       "    <tr>\n",
       "      <th>1184</th>\n",
       "      <td>99-9993</td>\n",
       "      <td>0.002575</td>\n",
       "      <td>9993</td>\n",
       "      <td>99</td>\n",
       "    </tr>\n",
       "  </tbody>\n",
       "</table>\n",
       "<p>428932 rows × 4 columns</p>\n",
       "</div>"
      ],
      "text/plain": [
       "       row_id    target time_id stock_id\n",
       "103    0-1000  0.002205    1000        0\n",
       "1185  0-10000  0.002476   10000        0\n",
       "1186  0-10005  0.008702   10005        0\n",
       "1187  0-10017  0.011859   10017        0\n",
       "1188  0-10030  0.002571   10030        0\n",
       "...       ...       ...     ...      ...\n",
       "1180  99-9972  0.001711    9972       99\n",
       "1181  99-9973  0.010117    9973       99\n",
       "1182  99-9976  0.004754    9976       99\n",
       "1183  99-9988  0.001345    9988       99\n",
       "1184  99-9993  0.002575    9993       99\n",
       "\n",
       "[428932 rows x 4 columns]"
      ]
     },
     "execution_count": 98,
     "metadata": {},
     "output_type": "execute_result"
    }
   ],
   "source": [
    "final_pred2.sort_values(['stock_id', 'time_id'], ascending = (True,True))"
   ]
  },
  {
   "cell_type": "code",
   "execution_count": 596,
   "metadata": {},
   "outputs": [
    {
     "data": {
      "text/plain": [
       "0       0.003793\n",
       "1       0.001438\n",
       "2       0.003178\n",
       "3       0.003836\n",
       "4       0.002299\n",
       "          ...   \n",
       "3825    0.001126\n",
       "3826    0.001478\n",
       "3827    0.001129\n",
       "3828    0.001637\n",
       "3829    0.000905\n",
       "Name: target, Length: 428932, dtype: float32"
      ]
     },
     "execution_count": 596,
     "metadata": {},
     "output_type": "execute_result"
    }
   ],
   "source": [
    "df2.target == "
   ]
  },
  {
   "cell_type": "code",
   "execution_count": 544,
   "metadata": {},
   "outputs": [],
   "source": [
    "# final_pred3.to_csv('with_len.csv')\n",
    "from sklearn.linear_model import LinearRegression\n",
    "X = np.array([[1, 1], [1, 2], [2, 2], [2, 3]])\n",
    "# y = 1 * x_0 + 2 * x_1 + 3\n",
    "y = np.dot(X, np.array([1, 2])) + 3\n",
    "reg = LinearRegression().fit(X, y)\n",
    "reg.score(X, y)\n",
    "\n",
    "reg.coef_\n",
    "\n",
    "reg.intercept_\n",
    "\n",
    "reg.predict(np.array([[3, 5]]))"
   ]
  },
  {
   "cell_type": "code",
   "execution_count": 617,
   "metadata": {},
   "outputs": [
    {
     "data": {
      "text/html": [
       "<div>\n",
       "<style scoped>\n",
       "    .dataframe tbody tr th:only-of-type {\n",
       "        vertical-align: middle;\n",
       "    }\n",
       "\n",
       "    .dataframe tbody tr th {\n",
       "        vertical-align: top;\n",
       "    }\n",
       "\n",
       "    .dataframe thead th {\n",
       "        text-align: right;\n",
       "    }\n",
       "</style>\n",
       "<table border=\"1\" class=\"dataframe\">\n",
       "  <thead>\n",
       "    <tr style=\"text-align: right;\">\n",
       "      <th></th>\n",
       "      <th>stock_id</th>\n",
       "      <th>time_id</th>\n",
       "      <th>target_x</th>\n",
       "      <th>row_id</th>\n",
       "      <th>target_y</th>\n",
       "      <th>target</th>\n",
       "      <th>len</th>\n",
       "      <th>len_last_min</th>\n",
       "      <th>len_last_5</th>\n",
       "    </tr>\n",
       "  </thead>\n",
       "  <tbody>\n",
       "    <tr>\n",
       "      <th>0</th>\n",
       "      <td>0</td>\n",
       "      <td>5</td>\n",
       "      <td>0.004136</td>\n",
       "      <td>0-5</td>\n",
       "      <td>0.003793</td>\n",
       "      <td>0.004115</td>\n",
       "      <td>301</td>\n",
       "      <td>28</td>\n",
       "      <td>139</td>\n",
       "    </tr>\n",
       "    <tr>\n",
       "      <th>1</th>\n",
       "      <td>0</td>\n",
       "      <td>11</td>\n",
       "      <td>0.001445</td>\n",
       "      <td>0-11</td>\n",
       "      <td>0.001438</td>\n",
       "      <td>0.001268</td>\n",
       "      <td>199</td>\n",
       "      <td>22</td>\n",
       "      <td>115</td>\n",
       "    </tr>\n",
       "    <tr>\n",
       "      <th>2</th>\n",
       "      <td>0</td>\n",
       "      <td>16</td>\n",
       "      <td>0.002168</td>\n",
       "      <td>0-16</td>\n",
       "      <td>0.003178</td>\n",
       "      <td>0.002719</td>\n",
       "      <td>187</td>\n",
       "      <td>8</td>\n",
       "      <td>68</td>\n",
       "    </tr>\n",
       "    <tr>\n",
       "      <th>3</th>\n",
       "      <td>0</td>\n",
       "      <td>31</td>\n",
       "      <td>0.002195</td>\n",
       "      <td>0-31</td>\n",
       "      <td>0.003836</td>\n",
       "      <td>0.002625</td>\n",
       "      <td>119</td>\n",
       "      <td>7</td>\n",
       "      <td>53</td>\n",
       "    </tr>\n",
       "    <tr>\n",
       "      <th>4</th>\n",
       "      <td>0</td>\n",
       "      <td>62</td>\n",
       "      <td>0.001747</td>\n",
       "      <td>0-62</td>\n",
       "      <td>0.002299</td>\n",
       "      <td>0.001901</td>\n",
       "      <td>175</td>\n",
       "      <td>11</td>\n",
       "      <td>89</td>\n",
       "    </tr>\n",
       "    <tr>\n",
       "      <th>...</th>\n",
       "      <td>...</td>\n",
       "      <td>...</td>\n",
       "      <td>...</td>\n",
       "      <td>...</td>\n",
       "      <td>...</td>\n",
       "      <td>...</td>\n",
       "      <td>...</td>\n",
       "      <td>...</td>\n",
       "      <td>...</td>\n",
       "    </tr>\n",
       "    <tr>\n",
       "      <th>428927</th>\n",
       "      <td>126</td>\n",
       "      <td>32751</td>\n",
       "      <td>0.003461</td>\n",
       "      <td>126-32751</td>\n",
       "      <td>0.003037</td>\n",
       "      <td>0.003338</td>\n",
       "      <td>309</td>\n",
       "      <td>32</td>\n",
       "      <td>142</td>\n",
       "    </tr>\n",
       "    <tr>\n",
       "      <th>428928</th>\n",
       "      <td>126</td>\n",
       "      <td>32753</td>\n",
       "      <td>0.003113</td>\n",
       "      <td>126-32753</td>\n",
       "      <td>0.003578</td>\n",
       "      <td>0.003347</td>\n",
       "      <td>222</td>\n",
       "      <td>32</td>\n",
       "      <td>105</td>\n",
       "    </tr>\n",
       "    <tr>\n",
       "      <th>428929</th>\n",
       "      <td>126</td>\n",
       "      <td>32758</td>\n",
       "      <td>0.004070</td>\n",
       "      <td>126-32758</td>\n",
       "      <td>0.003701</td>\n",
       "      <td>0.003695</td>\n",
       "      <td>255</td>\n",
       "      <td>32</td>\n",
       "      <td>167</td>\n",
       "    </tr>\n",
       "    <tr>\n",
       "      <th>428930</th>\n",
       "      <td>126</td>\n",
       "      <td>32763</td>\n",
       "      <td>0.003357</td>\n",
       "      <td>126-32763</td>\n",
       "      <td>0.002707</td>\n",
       "      <td>0.003375</td>\n",
       "      <td>398</td>\n",
       "      <td>37</td>\n",
       "      <td>191</td>\n",
       "    </tr>\n",
       "    <tr>\n",
       "      <th>428931</th>\n",
       "      <td>126</td>\n",
       "      <td>32767</td>\n",
       "      <td>0.002090</td>\n",
       "      <td>126-32767</td>\n",
       "      <td>0.002158</td>\n",
       "      <td>0.001984</td>\n",
       "      <td>216</td>\n",
       "      <td>27</td>\n",
       "      <td>96</td>\n",
       "    </tr>\n",
       "  </tbody>\n",
       "</table>\n",
       "<p>428932 rows × 9 columns</p>\n",
       "</div>"
      ],
      "text/plain": [
       "        stock_id  time_id  target_x     row_id  target_y    target  len  \\\n",
       "0              0        5  0.004136        0-5  0.003793  0.004115  301   \n",
       "1              0       11  0.001445       0-11  0.001438  0.001268  199   \n",
       "2              0       16  0.002168       0-16  0.003178  0.002719  187   \n",
       "3              0       31  0.002195       0-31  0.003836  0.002625  119   \n",
       "4              0       62  0.001747       0-62  0.002299  0.001901  175   \n",
       "...          ...      ...       ...        ...       ...       ...  ...   \n",
       "428927       126    32751  0.003461  126-32751  0.003037  0.003338  309   \n",
       "428928       126    32753  0.003113  126-32753  0.003578  0.003347  222   \n",
       "428929       126    32758  0.004070  126-32758  0.003701  0.003695  255   \n",
       "428930       126    32763  0.003357  126-32763  0.002707  0.003375  398   \n",
       "428931       126    32767  0.002090  126-32767  0.002158  0.001984  216   \n",
       "\n",
       "        len_last_min  len_last_5  \n",
       "0                 28         139  \n",
       "1                 22         115  \n",
       "2                  8          68  \n",
       "3                  7          53  \n",
       "4                 11          89  \n",
       "...              ...         ...  \n",
       "428927            32         142  \n",
       "428928            32         105  \n",
       "428929            32         167  \n",
       "428930            37         191  \n",
       "428931            27          96  \n",
       "\n",
       "[428932 rows x 9 columns]"
      ]
     },
     "execution_count": 617,
     "metadata": {},
     "output_type": "execute_result"
    }
   ],
   "source": [
    "# df2.merge(df,on = 'row_id')\n",
    "df"
   ]
  },
  {
   "cell_type": "code",
   "execution_count": 627,
   "metadata": {},
   "outputs": [],
   "source": [
    "# df.to_csv('train_2.csv',index = False)\n",
    "ind_0 = df.groupby('stock_id').get_group(0)['target'].sort_values(ascending = False).index\n",
    "val_0 = df.groupby('stock_id').get_group(0)['target'].sort_values(ascending = False).values"
   ]
  },
  {
   "cell_type": "code",
   "execution_count": 636,
   "metadata": {},
   "outputs": [],
   "source": [
    "# plt.plot(val_0)\n"
   ]
  },
  {
   "cell_type": "code",
   "execution_count": 666,
   "metadata": {},
   "outputs": [
    {
     "data": {
      "text/html": [
       "<div>\n",
       "<style scoped>\n",
       "    .dataframe tbody tr th:only-of-type {\n",
       "        vertical-align: middle;\n",
       "    }\n",
       "\n",
       "    .dataframe tbody tr th {\n",
       "        vertical-align: top;\n",
       "    }\n",
       "\n",
       "    .dataframe thead th {\n",
       "        text-align: right;\n",
       "    }\n",
       "</style>\n",
       "<table border=\"1\" class=\"dataframe\">\n",
       "  <thead>\n",
       "    <tr style=\"text-align: right;\">\n",
       "      <th></th>\n",
       "      <th>stock_id</th>\n",
       "      <th>time_id</th>\n",
       "      <th>target_x</th>\n",
       "      <th>row_id</th>\n",
       "      <th>target_y</th>\n",
       "      <th>target</th>\n",
       "      <th>len</th>\n",
       "      <th>len_last_min</th>\n",
       "      <th>len_last_5</th>\n",
       "    </tr>\n",
       "  </thead>\n",
       "  <tbody>\n",
       "    <tr>\n",
       "      <th>0</th>\n",
       "      <td>0</td>\n",
       "      <td>5</td>\n",
       "      <td>0.004136</td>\n",
       "      <td>0-5</td>\n",
       "      <td>0.003793</td>\n",
       "      <td>0.004115</td>\n",
       "      <td>301</td>\n",
       "      <td>28</td>\n",
       "      <td>139</td>\n",
       "    </tr>\n",
       "    <tr>\n",
       "      <th>1</th>\n",
       "      <td>0</td>\n",
       "      <td>11</td>\n",
       "      <td>0.001445</td>\n",
       "      <td>0-11</td>\n",
       "      <td>0.001438</td>\n",
       "      <td>0.001268</td>\n",
       "      <td>199</td>\n",
       "      <td>22</td>\n",
       "      <td>115</td>\n",
       "    </tr>\n",
       "    <tr>\n",
       "      <th>2</th>\n",
       "      <td>0</td>\n",
       "      <td>16</td>\n",
       "      <td>0.002168</td>\n",
       "      <td>0-16</td>\n",
       "      <td>0.003178</td>\n",
       "      <td>0.002719</td>\n",
       "      <td>187</td>\n",
       "      <td>8</td>\n",
       "      <td>68</td>\n",
       "    </tr>\n",
       "    <tr>\n",
       "      <th>3</th>\n",
       "      <td>0</td>\n",
       "      <td>31</td>\n",
       "      <td>0.002195</td>\n",
       "      <td>0-31</td>\n",
       "      <td>0.003836</td>\n",
       "      <td>0.002625</td>\n",
       "      <td>119</td>\n",
       "      <td>7</td>\n",
       "      <td>53</td>\n",
       "    </tr>\n",
       "    <tr>\n",
       "      <th>4</th>\n",
       "      <td>0</td>\n",
       "      <td>62</td>\n",
       "      <td>0.001747</td>\n",
       "      <td>0-62</td>\n",
       "      <td>0.002299</td>\n",
       "      <td>0.001901</td>\n",
       "      <td>175</td>\n",
       "      <td>11</td>\n",
       "      <td>89</td>\n",
       "    </tr>\n",
       "    <tr>\n",
       "      <th>...</th>\n",
       "      <td>...</td>\n",
       "      <td>...</td>\n",
       "      <td>...</td>\n",
       "      <td>...</td>\n",
       "      <td>...</td>\n",
       "      <td>...</td>\n",
       "      <td>...</td>\n",
       "      <td>...</td>\n",
       "      <td>...</td>\n",
       "    </tr>\n",
       "    <tr>\n",
       "      <th>3825</th>\n",
       "      <td>0</td>\n",
       "      <td>32751</td>\n",
       "      <td>0.002611</td>\n",
       "      <td>0-32751</td>\n",
       "      <td>0.002298</td>\n",
       "      <td>0.002474</td>\n",
       "      <td>296</td>\n",
       "      <td>24</td>\n",
       "      <td>150</td>\n",
       "    </tr>\n",
       "    <tr>\n",
       "      <th>3826</th>\n",
       "      <td>0</td>\n",
       "      <td>32753</td>\n",
       "      <td>0.001190</td>\n",
       "      <td>0-32753</td>\n",
       "      <td>0.002061</td>\n",
       "      <td>0.001845</td>\n",
       "      <td>205</td>\n",
       "      <td>22</td>\n",
       "      <td>100</td>\n",
       "    </tr>\n",
       "    <tr>\n",
       "      <th>3827</th>\n",
       "      <td>0</td>\n",
       "      <td>32758</td>\n",
       "      <td>0.004264</td>\n",
       "      <td>0-32758</td>\n",
       "      <td>0.002710</td>\n",
       "      <td>0.002320</td>\n",
       "      <td>187</td>\n",
       "      <td>27</td>\n",
       "      <td>104</td>\n",
       "    </tr>\n",
       "    <tr>\n",
       "      <th>3828</th>\n",
       "      <td>0</td>\n",
       "      <td>32763</td>\n",
       "      <td>0.004352</td>\n",
       "      <td>0-32763</td>\n",
       "      <td>0.002835</td>\n",
       "      <td>0.003100</td>\n",
       "      <td>306</td>\n",
       "      <td>35</td>\n",
       "      <td>163</td>\n",
       "    </tr>\n",
       "    <tr>\n",
       "      <th>3829</th>\n",
       "      <td>0</td>\n",
       "      <td>32767</td>\n",
       "      <td>0.001084</td>\n",
       "      <td>0-32767</td>\n",
       "      <td>0.001772</td>\n",
       "      <td>0.001672</td>\n",
       "      <td>227</td>\n",
       "      <td>23</td>\n",
       "      <td>114</td>\n",
       "    </tr>\n",
       "  </tbody>\n",
       "</table>\n",
       "<p>3830 rows × 9 columns</p>\n",
       "</div>"
      ],
      "text/plain": [
       "      stock_id  time_id  target_x   row_id  target_y    target  len  \\\n",
       "0            0        5  0.004136      0-5  0.003793  0.004115  301   \n",
       "1            0       11  0.001445     0-11  0.001438  0.001268  199   \n",
       "2            0       16  0.002168     0-16  0.003178  0.002719  187   \n",
       "3            0       31  0.002195     0-31  0.003836  0.002625  119   \n",
       "4            0       62  0.001747     0-62  0.002299  0.001901  175   \n",
       "...        ...      ...       ...      ...       ...       ...  ...   \n",
       "3825         0    32751  0.002611  0-32751  0.002298  0.002474  296   \n",
       "3826         0    32753  0.001190  0-32753  0.002061  0.001845  205   \n",
       "3827         0    32758  0.004264  0-32758  0.002710  0.002320  187   \n",
       "3828         0    32763  0.004352  0-32763  0.002835  0.003100  306   \n",
       "3829         0    32767  0.001084  0-32767  0.001772  0.001672  227   \n",
       "\n",
       "      len_last_min  len_last_5  \n",
       "0               28         139  \n",
       "1               22         115  \n",
       "2                8          68  \n",
       "3                7          53  \n",
       "4               11          89  \n",
       "...            ...         ...  \n",
       "3825            24         150  \n",
       "3826            22         100  \n",
       "3827            27         104  \n",
       "3828            35         163  \n",
       "3829            23         114  \n",
       "\n",
       "[3830 rows x 9 columns]"
      ]
     },
     "execution_count": 666,
     "metadata": {},
     "output_type": "execute_result"
    }
   ],
   "source": [
    "# tes['id'] = tes.index\n",
    "# tes.columns\n",
    "df.groupby('stock_id').get_group(0)"
   ]
  },
  {
   "cell_type": "code",
   "execution_count": 759,
   "metadata": {},
   "outputs": [
    {
     "data": {
      "text/plain": [
       "<matplotlib.axes._subplots.AxesSubplot at 0x1e9a1b08888>"
      ]
     },
     "execution_count": 759,
     "metadata": {},
     "output_type": "execute_result"
    },
    {
     "data": {
      "image/png": "[encoded data removed]",
      "text/plain": [
       "<Figure size 432x288 with 1 Axes>"
      ]
     },
     "metadata": {
      "needs_background": "light"
     },
     "output_type": "display_data"
    }
   ],
   "source": [
    "# df.loc[df.time_id == 5][['stock_id','target']]\n",
    "# plt.scatter(df.loc[df.time_id == time_id]['stock_id'],df.loc[df.time_id == time]['target'],c= df.loc[df.time_id == 5]['target_x'] )\n",
    "sns.distplot(np.log(df.loc[df.time_id == 5]['target']))\n",
    "sns.distplot(np.log(df.loc[df.time_id == 11]['target']))\n",
    "sns.distplot(np.log(df.loc[df.time_id == 16]['target']))\n",
    "sns.distplot(np.log(df.loc[df.time_id == 31]['target']))\n",
    "sns.distplot(np.log(df.loc[df.time_id == 62]['target']))\n",
    "sns.distplot(np.log(df.loc[df.time_id == 72]['target']))\n",
    "sns.distplot(np.log(df.loc[df.time_id == 97]['target']))\n",
    "\n"
   ]
  },
  {
   "cell_type": "code",
   "execution_count": 768,
   "metadata": {},
   "outputs": [
    {
     "data": {
      "text/plain": [
       "[<matplotlib.lines.Line2D at 0x1e9a3d2ffc8>]"
      ]
     },
     "execution_count": 768,
     "metadata": {},
     "output_type": "execute_result"
    },
    {
     "data": {
      "image/png": "[encoded data removed]",
      "text/plain": [
       "<Figure size 432x288 with 1 Axes>"
      ]
     },
     "metadata": {
      "needs_background": "light"
     },
     "output_type": "display_data"
    }
   ],
   "source": [
    "# df.time_id.unique().tolist()\n",
    "# sns.distplot(np.log(df.target))\n",
    "# plt.plot(df.target.sort_values(ascending = False).values)\n",
    "# plt.plot(df.loc[df.time_id == 11].target.sort_values(ascending = False).values)\n"
   ]
  },
  {
   "cell_type": "code",
   "execution_count": 660,
   "metadata": {},
   "outputs": [
    {
     "data": {
      "text/plain": [
       "[<matplotlib.lines.Line2D at 0x1e9973a9348>]"
      ]
     },
     "execution_count": 660,
     "metadata": {},
     "output_type": "execute_result"
    },
    {
     "data": {
      "image/png": "[encoded data removed]",
      "text/plain": [
       "<Figure size 432x288 with 1 Axes>"
      ]
     },
     "metadata": {
      "needs_background": "light"
     },
     "output_type": "display_data"
    }
   ],
   "source": [
    "tes = df.groupby('stock_id').get_group(1)\n",
    "tes = tes[['time_id', 'target_x', 'target_y', 'target',\n",
    "       'len', 'len_last_min', 'len_last_5']].sort_values(by= 'target',ascending = False)\n",
    "plt.plot(tes.reset_index()['target'])\n",
    "# plt.plot(tes.reset_index()['len']/54000)\n",
    "plt.plot(tes.reset_index()['time_id'])\n"
   ]
  },
  {
   "cell_type": "code",
   "execution_count": 806,
   "metadata": {},
   "outputs": [],
   "source": [
    "# tes.corr()['target_x']\n",
    "def alpha_estimator2(alpha,T,X):\n",
    "    \"\"\"\n",
    "        Estimate Alpha parameter for  pareto stochastic process this method require X to be defined \n",
    "    \"\"\"\n",
    "    C=np.zeros(X.shape)\n",
    "    n = len(X)\n",
    "    for i in range(1,n):\n",
    "        C[i]=np.log(X[i]/X[i-1])+((alpha[0])*np.log((T[i]+alpha[1])/(T[i-1]+alpha[1])))\n",
    "    out1=0\n",
    "    for i in range(1,n):\n",
    "        out1=out1+((C[i])**2)\n",
    "    return out1"
   ]
  },
  {
   "cell_type": "code",
   "execution_count": 814,
   "metadata": {},
   "outputs": [
    {
     "data": {
      "text/plain": [
       "7.437953012863379"
      ]
     },
     "execution_count": 814,
     "metadata": {},
     "output_type": "execute_result"
    }
   ],
   "source": [
    "alpha = [-1.2, 0]\n",
    "b= a[a>0].reset_index(drop = True)\n",
    "T = np.array(range(1,len(b)+1))\n",
    "alpha_estimator2(alpha,T,(np.sqrt((b**2).cumsum())))\n",
    "# b"
   ]
  },
  {
   "cell_type": "code",
   "execution_count": 815,
   "metadata": {},
   "outputs": [
    {
     "data": {
      "text/plain": [
       "[]"
      ]
     },
     "execution_count": 815,
     "metadata": {},
     "output_type": "execute_result"
    },
    {
     "data": {
      "image/png": "[encoded data removed]",
      "text/plain": [
       "<Figure size 432x288 with 1 Axes>"
      ]
     },
     "metadata": {
      "needs_background": "light"
     },
     "output_type": "display_data"
    }
   ],
   "source": [
    "plt.plot()\n"
   ]
  },
  {
   "cell_type": "code",
   "execution_count": null,
   "metadata": {},
   "outputs": [],
   "source": []
  }
 ],
 "metadata": {
  "kernelspec": {
   "display_name": "Python 3",
   "language": "python",
   "name": "python3"
  },
  "language_info": {
   "codemirror_mode": {
    "name": "ipython",
    "version": 3
   },
   "file_extension": ".py",
   "mimetype": "text/x-python",
   "name": "python",
   "nbconvert_exporter": "python",
   "pygments_lexer": "ipython3",
   "version": "3.7.4"
  }
 },
 "nbformat": 4,
 "nbformat_minor": 4
}
