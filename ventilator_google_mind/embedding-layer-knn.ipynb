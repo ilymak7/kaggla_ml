{
 "cells": [
  {
   "cell_type": "code",
   "execution_count": 4,
   "id": "da2aab53",
   "metadata": {
    "execution": {
     "iopub.execute_input": "2021-10-21T09:34:59.498586Z",
     "iopub.status.busy": "2021-10-21T09:34:59.497929Z",
     "iopub.status.idle": "2021-10-21T09:34:59.513496Z",
     "shell.execute_reply": "2021-10-21T09:34:59.512766Z",
     "shell.execute_reply.started": "2021-10-20T21:45:01.702473Z"
    },
    "papermill": {
     "duration": 0.041483,
     "end_time": "2021-10-21T09:34:59.513686",
     "exception": false,
     "start_time": "2021-10-21T09:34:59.472203",
     "status": "completed"
    },
    "tags": []
   },
   "outputs": [],
   "source": [
    "\n",
    "def distances(i,train_p):\n",
    "    res = []\n",
    "    for j in tqdm(range(train_p.shape[0])):\n",
    "        distance, _ = fastdtw(train_p.iloc[i,:40].values, train_p.iloc[j,:40].values, dist=None,radius=5)\n",
    "        res.append(distance)\n",
    "    return np.array(res)\n",
    "def encode_data(train, test):\n",
    "    all_data = pd.concat([train, test])\n",
    "    all_data['label'] = '_'\n",
    "#     all_data['distance'] = 0\n",
    "    all_ids = all_data.breath_id.unique().tolist()\n",
    "    train_ids = train.breath_id.unique().tolist()\n",
    "    test_ids = test.breath_id.unique().tolist()\n",
    "    all_data.id = all_data.id%80\n",
    "    all_data.loc[all_data.id == 0,'id'] = 80 \n",
    "    clus = 0\n",
    "    train_p = all_data.pivot(index = \"breath_id\", columns = 'id', values = 'u_in' )\n",
    "    while len(all_ids)>0:\n",
    "        train_p_2 =  train_p.loc[all_ids]\n",
    "        lis = distances(0,train_p_2)\n",
    "        id_0 = train_p_2.reset_index()[['breath_id']]\n",
    "        # # \n",
    "        print(clus)\n",
    "#         id_0 = id_0.iloc[0::80].reset_index(drop=True)\n",
    "        id_0['distance'] = lis\n",
    "#         all_data.loc[all_data.breath_id.isin(id_0.loc[id_0.distance<=id_0['distance'].quantile(0.00125)].breath_id.values),'label']+= str(clus)\n",
    "        all_data.loc[all_data.breath_id.isin(id_0.sort_values(by = 'distance')[:125]['breath_id'].values),'label']+= str(clus)\n",
    "#         all_data.loc[all_data.breath_id.isin(id_0.sort_values(by = 'distance')[:125]['breath_id'].values),'distance'] = id_0.sort_values(by = 'distance')[:125]['distance'].values \n",
    "        clus+=1\n",
    "#         l = id_0.loc[id_0.distance<=id_0['distance'].quantile(0.00125)].breath_id.values.tolist()\n",
    "        l = id_0.sort_values(by = 'distance')[:125]['breath_id'].values.tolist()\n",
    "        all_ids = [e for e in all_ids if e not in l]\n",
    "        print(len(all_ids))\n",
    "    train_df = all_data.loc[all_data.breath_id.isin(train_ids)]\n",
    "    test_df = all_data.loc[all_data.breath_id.isin(test_ids)]\n",
    "    return train_df , test_df\n"
   ]
  },
  {
   "cell_type": "code",
   "execution_count": 5,
   "id": "fceb7e19",
   "metadata": {
    "_cell_guid": "b1076dfc-b9ad-4769-8c92-a6c4dae69d19",
    "_uuid": "8f2839f25d086af736a60e9eeb907d3b93b6e0e5",
    "execution": {
     "iopub.execute_input": "2021-10-21T09:34:59.548538Z",
     "iopub.status.busy": "2021-10-21T09:34:59.547841Z",
     "iopub.status.idle": "2021-10-21T09:35:34.371777Z",
     "shell.execute_reply": "2021-10-21T09:35:34.371180Z",
     "shell.execute_reply.started": "2021-10-20T20:35:43.140724Z"
    },
    "papermill": {
     "duration": 34.843962,
     "end_time": "2021-10-21T09:35:34.371928",
     "exception": false,
     "start_time": "2021-10-21T09:34:59.527966",
     "status": "completed"
    },
    "tags": []
   },
   "outputs": [],
   "source": [
    "# !pip install fastdtw\n",
    "import numpy as np # linear algebra\n",
    "import pandas as pd # data processing, CSV file I/O (e.g. pd.read_csv)\n",
    "from fastdtw import fastdtw\n",
    "from scipy.spatial.distance import euclidean\n",
    "from tqdm import tqdm\n",
    "train = pd.read_csv('./data/train.csv')\n",
    "test = pd.read_csv('./data/test.csv')\n",
    "\n",
    "# train.shape[0],  test.shape[0] , all_data.shape[0]\n"
   ]
  },
  {
   "cell_type": "code",
   "execution_count": 6,
   "id": "7a2ecc87",
   "metadata": {
    "execution": {
     "iopub.execute_input": "2021-10-21T09:35:34.413428Z",
     "iopub.status.busy": "2021-10-21T09:35:34.412694Z",
     "iopub.status.idle": "2021-10-21T09:35:34.417712Z",
     "shell.execute_reply": "2021-10-21T09:35:34.417169Z",
     "shell.execute_reply.started": "2021-10-20T21:44:24.412301Z"
    },
    "papermill": {
     "duration": 0.027497,
     "end_time": "2021-10-21T09:35:34.417855",
     "exception": false,
     "start_time": "2021-10-21T09:35:34.390358",
     "status": "completed"
    },
    "tags": []
   },
   "outputs": [],
   "source": [
    "# # from sklearn.cluster import KMeans\n",
    "# all_data = pd.concat([train, test])\n",
    "# all_data['label'] = '_'\n",
    "# all_ids = all_data.breath_id.unique().tolist()\n",
    "# train_ids = train.breath_id.unique().tolist()\n",
    "# test_ids = train.breath_id.unique().tolist()\n",
    "# all_data.id = all_data.id%80\n",
    "# all_data.loc[all_data.id == 0,'id'] = 80 \n",
    "# clus = 0\n",
    "# train_p = all_data.pivot(index = \"breath_id\", columns = 'id', values = 'u_in' )\n",
    "# while len(all_ids)>0:\n",
    "#     train_p_2 =  train_p.loc[all_ids]\n",
    "#     lis = distances(0,train_p_2)\n",
    "#     id_0 = train_p_2.reset_index()[['breath_id']]\n",
    "#     # # \n",
    "#     print(clus)\n",
    "# #         id_0 = id_0.iloc[0::80].reset_index(drop=True)\n",
    "#     id_0['distance'] = lis\n",
    "#     all_data.loc[all_data.breath_id.isin(id_0.sort_values(by = 'distance')[:250]['breath_id'].values),'label']+= str(clus)\n",
    "#     clus+=1\n",
    "# #     all_ids = [e for e in all_ids if e not in id_0.loc[id_0.distance<=id_0['distance'].quantile(0.00125)].breath_id.values.tolist()]\n",
    "#     l = id_0.sort_values(by = 'distance')[:250]['breath_id'].values.tolist()\n",
    "#     all_ids = [e for e in all_ids if e not in l]\n",
    "    "
   ]
  },
  {
   "cell_type": "code",
   "execution_count": 7,
   "id": "8a6c2d0c",
   "metadata": {
    "execution": {
     "iopub.execute_input": "2021-10-21T09:35:34.458804Z",
     "iopub.status.busy": "2021-10-21T09:35:34.457894Z",
     "iopub.status.idle": "2021-10-21T13:28:05.946855Z",
     "shell.execute_reply": "2021-10-21T13:28:05.947537Z",
     "shell.execute_reply.started": "2021-10-20T21:45:09.567373Z"
    },
    "papermill": {
     "duration": 13951.51257,
     "end_time": "2021-10-21T13:28:05.947854",
     "exception": false,
     "start_time": "2021-10-21T09:35:34.435284",
     "status": "completed"
    },
    "tags": []
   },
   "outputs": [
    {
     "name": "stderr",
     "output_type": "stream",
     "text": [
      "100%|██████████████████████████████████████████████████████████████████████████| 125750/125750 [22:11<00:00, 94.45it/s]\n"
     ]
    },
    {
     "name": "stdout",
     "output_type": "stream",
     "text": [
      "0\n",
      "125625\n"
     ]
    },
    {
     "name": "stderr",
     "output_type": "stream",
     "text": [
      "100%|████████████████████████████████████████████████████████████████████████| 125625/125625 [2:03:17<00:00, 16.98it/s]\n"
     ]
    },
    {
     "name": "stdout",
     "output_type": "stream",
     "text": [
      "1\n",
      "125500\n"
     ]
    },
    {
     "name": "stderr",
     "output_type": "stream",
     "text": [
      "100%|██████████████████████████████████████████████████████████████████████████| 125500/125500 [23:15<00:00, 89.91it/s]\n"
     ]
    },
    {
     "name": "stdout",
     "output_type": "stream",
     "text": [
      "2\n",
      "125375\n"
     ]
    },
    {
     "name": "stderr",
     "output_type": "stream",
     "text": [
      "100%|██████████████████████████████████████████████████████████████████████████| 125375/125375 [27:35<00:00, 75.74it/s]\n"
     ]
    },
    {
     "name": "stdout",
     "output_type": "stream",
     "text": [
      "3\n",
      "125250\n"
     ]
    },
    {
     "name": "stderr",
     "output_type": "stream",
     "text": [
      "100%|████████████████████████████████████████████████████████████████████████| 125250/125250 [2:06:59<00:00, 16.44it/s]\n"
     ]
    },
    {
     "name": "stdout",
     "output_type": "stream",
     "text": [
      "4\n",
      "125125\n"
     ]
    },
    {
     "name": "stderr",
     "output_type": "stream",
     "text": [
      "100%|██████████████████████████████████████████████████████████████████████████| 125125/125125 [25:41<00:00, 81.18it/s]\n"
     ]
    },
    {
     "name": "stdout",
     "output_type": "stream",
     "text": [
      "5\n",
      "125000\n"
     ]
    },
    {
     "name": "stderr",
     "output_type": "stream",
     "text": [
      "100%|██████████████████████████████████████████████████████████████████████████| 125000/125000 [28:54<00:00, 72.05it/s]\n"
     ]
    },
    {
     "name": "stdout",
     "output_type": "stream",
     "text": [
      "6\n",
      "124875\n"
     ]
    },
    {
     "name": "stderr",
     "output_type": "stream",
     "text": [
      "100%|██████████████████████████████████████████████████████████████████████████| 124875/124875 [27:03<00:00, 76.90it/s]\n"
     ]
    },
    {
     "name": "stdout",
     "output_type": "stream",
     "text": [
      "7\n",
      "124750\n"
     ]
    },
    {
     "name": "stderr",
     "output_type": "stream",
     "text": [
      "100%|██████████████████████████████████████████████████████████████████████████| 124750/124750 [23:36<00:00, 88.05it/s]\n"
     ]
    },
    {
     "name": "stdout",
     "output_type": "stream",
     "text": [
      "8\n",
      "124625\n"
     ]
    },
    {
     "name": "stderr",
     "output_type": "stream",
     "text": [
      " 64%|███████████████████████████████████████████████▉                           | 79660/124625 [17:05<09:38, 77.69it/s]\n"
     ]
    },
    {
     "ename": "KeyboardInterrupt",
     "evalue": "",
     "output_type": "error",
     "traceback": [
      "\u001b[1;31m---------------------------------------------------------------------------\u001b[0m",
      "\u001b[1;31mKeyboardInterrupt\u001b[0m                         Traceback (most recent call last)",
      "\u001b[1;32m<ipython-input-7-d5e83d9d0ae6>\u001b[0m in \u001b[0;36m<module>\u001b[1;34m\u001b[0m\n\u001b[1;32m----> 1\u001b[1;33m \u001b[0mtrain\u001b[0m\u001b[1;33m,\u001b[0m \u001b[0mtest\u001b[0m \u001b[1;33m=\u001b[0m \u001b[0mencode_data\u001b[0m\u001b[1;33m(\u001b[0m\u001b[0mtrain\u001b[0m\u001b[1;33m,\u001b[0m \u001b[0mtest\u001b[0m\u001b[1;33m)\u001b[0m\u001b[1;33m\u001b[0m\u001b[1;33m\u001b[0m\u001b[0m\n\u001b[0m\u001b[0;32m      2\u001b[0m \u001b[1;31m# all_ids\u001b[0m\u001b[1;33m\u001b[0m\u001b[1;33m\u001b[0m\u001b[1;33m\u001b[0m\u001b[0m\n\u001b[0;32m      3\u001b[0m \u001b[0mtrain\u001b[0m\u001b[1;33m.\u001b[0m\u001b[0mto_csv\u001b[0m\u001b[1;33m(\u001b[0m\u001b[1;34m'train_clus.csv'\u001b[0m\u001b[1;33m,\u001b[0m\u001b[0mindex\u001b[0m \u001b[1;33m=\u001b[0m \u001b[1;32mFalse\u001b[0m\u001b[1;33m)\u001b[0m\u001b[1;33m\u001b[0m\u001b[1;33m\u001b[0m\u001b[0m\n\u001b[0;32m      4\u001b[0m \u001b[0mtest\u001b[0m\u001b[1;33m.\u001b[0m\u001b[0mto_csv\u001b[0m\u001b[1;33m(\u001b[0m\u001b[1;34m'test_clus.csv'\u001b[0m\u001b[1;33m,\u001b[0m\u001b[0mindex\u001b[0m \u001b[1;33m=\u001b[0m \u001b[1;32mFalse\u001b[0m\u001b[1;33m)\u001b[0m\u001b[1;33m\u001b[0m\u001b[1;33m\u001b[0m\u001b[0m\n",
      "\u001b[1;32m<ipython-input-4-4b892cb932cb>\u001b[0m in \u001b[0;36mencode_data\u001b[1;34m(train, test)\u001b[0m\n\u001b[0;32m     18\u001b[0m     \u001b[1;32mwhile\u001b[0m \u001b[0mlen\u001b[0m\u001b[1;33m(\u001b[0m\u001b[0mall_ids\u001b[0m\u001b[1;33m)\u001b[0m\u001b[1;33m>\u001b[0m\u001b[1;36m0\u001b[0m\u001b[1;33m:\u001b[0m\u001b[1;33m\u001b[0m\u001b[1;33m\u001b[0m\u001b[0m\n\u001b[0;32m     19\u001b[0m         \u001b[0mtrain_p_2\u001b[0m \u001b[1;33m=\u001b[0m  \u001b[0mtrain_p\u001b[0m\u001b[1;33m.\u001b[0m\u001b[0mloc\u001b[0m\u001b[1;33m[\u001b[0m\u001b[0mall_ids\u001b[0m\u001b[1;33m]\u001b[0m\u001b[1;33m\u001b[0m\u001b[1;33m\u001b[0m\u001b[0m\n\u001b[1;32m---> 20\u001b[1;33m         \u001b[0mlis\u001b[0m \u001b[1;33m=\u001b[0m \u001b[0mdistances\u001b[0m\u001b[1;33m(\u001b[0m\u001b[1;36m0\u001b[0m\u001b[1;33m,\u001b[0m\u001b[0mtrain_p_2\u001b[0m\u001b[1;33m)\u001b[0m\u001b[1;33m\u001b[0m\u001b[1;33m\u001b[0m\u001b[0m\n\u001b[0m\u001b[0;32m     21\u001b[0m         \u001b[0mid_0\u001b[0m \u001b[1;33m=\u001b[0m \u001b[0mtrain_p_2\u001b[0m\u001b[1;33m.\u001b[0m\u001b[0mreset_index\u001b[0m\u001b[1;33m(\u001b[0m\u001b[1;33m)\u001b[0m\u001b[1;33m[\u001b[0m\u001b[1;33m[\u001b[0m\u001b[1;34m'breath_id'\u001b[0m\u001b[1;33m]\u001b[0m\u001b[1;33m]\u001b[0m\u001b[1;33m\u001b[0m\u001b[1;33m\u001b[0m\u001b[0m\n\u001b[0;32m     22\u001b[0m         \u001b[1;31m# #\u001b[0m\u001b[1;33m\u001b[0m\u001b[1;33m\u001b[0m\u001b[1;33m\u001b[0m\u001b[0m\n",
      "\u001b[1;32m<ipython-input-4-4b892cb932cb>\u001b[0m in \u001b[0;36mdistances\u001b[1;34m(i, train_p)\u001b[0m\n\u001b[0;32m      2\u001b[0m     \u001b[0mres\u001b[0m \u001b[1;33m=\u001b[0m \u001b[1;33m[\u001b[0m\u001b[1;33m]\u001b[0m\u001b[1;33m\u001b[0m\u001b[1;33m\u001b[0m\u001b[0m\n\u001b[0;32m      3\u001b[0m     \u001b[1;32mfor\u001b[0m \u001b[0mj\u001b[0m \u001b[1;32min\u001b[0m \u001b[0mtqdm\u001b[0m\u001b[1;33m(\u001b[0m\u001b[0mrange\u001b[0m\u001b[1;33m(\u001b[0m\u001b[0mtrain_p\u001b[0m\u001b[1;33m.\u001b[0m\u001b[0mshape\u001b[0m\u001b[1;33m[\u001b[0m\u001b[1;36m0\u001b[0m\u001b[1;33m]\u001b[0m\u001b[1;33m)\u001b[0m\u001b[1;33m)\u001b[0m\u001b[1;33m:\u001b[0m\u001b[1;33m\u001b[0m\u001b[1;33m\u001b[0m\u001b[0m\n\u001b[1;32m----> 4\u001b[1;33m         \u001b[0mdistance\u001b[0m\u001b[1;33m,\u001b[0m \u001b[0m_\u001b[0m \u001b[1;33m=\u001b[0m \u001b[0mfastdtw\u001b[0m\u001b[1;33m(\u001b[0m\u001b[0mtrain_p\u001b[0m\u001b[1;33m.\u001b[0m\u001b[0miloc\u001b[0m\u001b[1;33m[\u001b[0m\u001b[0mi\u001b[0m\u001b[1;33m,\u001b[0m\u001b[1;33m:\u001b[0m\u001b[1;36m40\u001b[0m\u001b[1;33m]\u001b[0m\u001b[1;33m.\u001b[0m\u001b[0mvalues\u001b[0m\u001b[1;33m,\u001b[0m \u001b[0mtrain_p\u001b[0m\u001b[1;33m.\u001b[0m\u001b[0miloc\u001b[0m\u001b[1;33m[\u001b[0m\u001b[0mj\u001b[0m\u001b[1;33m,\u001b[0m\u001b[1;33m:\u001b[0m\u001b[1;36m40\u001b[0m\u001b[1;33m]\u001b[0m\u001b[1;33m.\u001b[0m\u001b[0mvalues\u001b[0m\u001b[1;33m,\u001b[0m \u001b[0mdist\u001b[0m\u001b[1;33m=\u001b[0m\u001b[1;32mNone\u001b[0m\u001b[1;33m,\u001b[0m\u001b[0mradius\u001b[0m\u001b[1;33m=\u001b[0m\u001b[1;36m5\u001b[0m\u001b[1;33m)\u001b[0m\u001b[1;33m\u001b[0m\u001b[1;33m\u001b[0m\u001b[0m\n\u001b[0m\u001b[0;32m      5\u001b[0m         \u001b[0mres\u001b[0m\u001b[1;33m.\u001b[0m\u001b[0mappend\u001b[0m\u001b[1;33m(\u001b[0m\u001b[0mdistance\u001b[0m\u001b[1;33m)\u001b[0m\u001b[1;33m\u001b[0m\u001b[1;33m\u001b[0m\u001b[0m\n\u001b[0;32m      6\u001b[0m     \u001b[1;32mreturn\u001b[0m \u001b[0mnp\u001b[0m\u001b[1;33m.\u001b[0m\u001b[0marray\u001b[0m\u001b[1;33m(\u001b[0m\u001b[0mres\u001b[0m\u001b[1;33m)\u001b[0m\u001b[1;33m\u001b[0m\u001b[1;33m\u001b[0m\u001b[0m\n",
      "\u001b[1;32m~\\AppData\\Local\\Continuum\\anaconda3\\lib\\site-packages\\fastdtw\\fastdtw.py\u001b[0m in \u001b[0;36mfastdtw\u001b[1;34m(x, y, radius, dist)\u001b[0m\n\u001b[0;32m     51\u001b[0m     '''\n\u001b[0;32m     52\u001b[0m     \u001b[0mx\u001b[0m\u001b[1;33m,\u001b[0m \u001b[0my\u001b[0m\u001b[1;33m,\u001b[0m \u001b[0mdist\u001b[0m \u001b[1;33m=\u001b[0m \u001b[0m__prep_inputs\u001b[0m\u001b[1;33m(\u001b[0m\u001b[0mx\u001b[0m\u001b[1;33m,\u001b[0m \u001b[0my\u001b[0m\u001b[1;33m,\u001b[0m \u001b[0mdist\u001b[0m\u001b[1;33m)\u001b[0m\u001b[1;33m\u001b[0m\u001b[1;33m\u001b[0m\u001b[0m\n\u001b[1;32m---> 53\u001b[1;33m     \u001b[1;32mreturn\u001b[0m \u001b[0m__fastdtw\u001b[0m\u001b[1;33m(\u001b[0m\u001b[0mx\u001b[0m\u001b[1;33m,\u001b[0m \u001b[0my\u001b[0m\u001b[1;33m,\u001b[0m \u001b[0mradius\u001b[0m\u001b[1;33m,\u001b[0m \u001b[0mdist\u001b[0m\u001b[1;33m)\u001b[0m\u001b[1;33m\u001b[0m\u001b[1;33m\u001b[0m\u001b[0m\n\u001b[0m\u001b[0;32m     54\u001b[0m \u001b[1;33m\u001b[0m\u001b[0m\n\u001b[0;32m     55\u001b[0m \u001b[1;33m\u001b[0m\u001b[0m\n",
      "\u001b[1;32m~\\AppData\\Local\\Continuum\\anaconda3\\lib\\site-packages\\fastdtw\\fastdtw.py\u001b[0m in \u001b[0;36m__fastdtw\u001b[1;34m(x, y, radius, dist)\u001b[0m\n\u001b[0;32m     71\u001b[0m     \u001b[0my_shrinked\u001b[0m \u001b[1;33m=\u001b[0m \u001b[0m__reduce_by_half\u001b[0m\u001b[1;33m(\u001b[0m\u001b[0my\u001b[0m\u001b[1;33m)\u001b[0m\u001b[1;33m\u001b[0m\u001b[1;33m\u001b[0m\u001b[0m\n\u001b[0;32m     72\u001b[0m     \u001b[0mdistance\u001b[0m\u001b[1;33m,\u001b[0m \u001b[0mpath\u001b[0m \u001b[1;33m=\u001b[0m\u001b[0;31m \u001b[0m\u001b[0;31m\\\u001b[0m\u001b[1;33m\u001b[0m\u001b[1;33m\u001b[0m\u001b[0m\n\u001b[1;32m---> 73\u001b[1;33m         \u001b[0m__fastdtw\u001b[0m\u001b[1;33m(\u001b[0m\u001b[0mx_shrinked\u001b[0m\u001b[1;33m,\u001b[0m \u001b[0my_shrinked\u001b[0m\u001b[1;33m,\u001b[0m \u001b[0mradius\u001b[0m\u001b[1;33m=\u001b[0m\u001b[0mradius\u001b[0m\u001b[1;33m,\u001b[0m \u001b[0mdist\u001b[0m\u001b[1;33m=\u001b[0m\u001b[0mdist\u001b[0m\u001b[1;33m)\u001b[0m\u001b[1;33m\u001b[0m\u001b[1;33m\u001b[0m\u001b[0m\n\u001b[0m\u001b[0;32m     74\u001b[0m     \u001b[0mwindow\u001b[0m \u001b[1;33m=\u001b[0m \u001b[0m__expand_window\u001b[0m\u001b[1;33m(\u001b[0m\u001b[0mpath\u001b[0m\u001b[1;33m,\u001b[0m \u001b[0mlen\u001b[0m\u001b[1;33m(\u001b[0m\u001b[0mx\u001b[0m\u001b[1;33m)\u001b[0m\u001b[1;33m,\u001b[0m \u001b[0mlen\u001b[0m\u001b[1;33m(\u001b[0m\u001b[0my\u001b[0m\u001b[1;33m)\u001b[0m\u001b[1;33m,\u001b[0m \u001b[0mradius\u001b[0m\u001b[1;33m)\u001b[0m\u001b[1;33m\u001b[0m\u001b[1;33m\u001b[0m\u001b[0m\n\u001b[0;32m     75\u001b[0m     \u001b[1;32mreturn\u001b[0m \u001b[0m__dtw\u001b[0m\u001b[1;33m(\u001b[0m\u001b[0mx\u001b[0m\u001b[1;33m,\u001b[0m \u001b[0my\u001b[0m\u001b[1;33m,\u001b[0m \u001b[0mwindow\u001b[0m\u001b[1;33m,\u001b[0m \u001b[0mdist\u001b[0m\u001b[1;33m=\u001b[0m\u001b[0mdist\u001b[0m\u001b[1;33m)\u001b[0m\u001b[1;33m\u001b[0m\u001b[1;33m\u001b[0m\u001b[0m\n",
      "\u001b[1;32m~\\AppData\\Local\\Continuum\\anaconda3\\lib\\site-packages\\fastdtw\\fastdtw.py\u001b[0m in \u001b[0;36m__fastdtw\u001b[1;34m(x, y, radius, dist)\u001b[0m\n\u001b[0;32m     73\u001b[0m         \u001b[0m__fastdtw\u001b[0m\u001b[1;33m(\u001b[0m\u001b[0mx_shrinked\u001b[0m\u001b[1;33m,\u001b[0m \u001b[0my_shrinked\u001b[0m\u001b[1;33m,\u001b[0m \u001b[0mradius\u001b[0m\u001b[1;33m=\u001b[0m\u001b[0mradius\u001b[0m\u001b[1;33m,\u001b[0m \u001b[0mdist\u001b[0m\u001b[1;33m=\u001b[0m\u001b[0mdist\u001b[0m\u001b[1;33m)\u001b[0m\u001b[1;33m\u001b[0m\u001b[1;33m\u001b[0m\u001b[0m\n\u001b[0;32m     74\u001b[0m     \u001b[0mwindow\u001b[0m \u001b[1;33m=\u001b[0m \u001b[0m__expand_window\u001b[0m\u001b[1;33m(\u001b[0m\u001b[0mpath\u001b[0m\u001b[1;33m,\u001b[0m \u001b[0mlen\u001b[0m\u001b[1;33m(\u001b[0m\u001b[0mx\u001b[0m\u001b[1;33m)\u001b[0m\u001b[1;33m,\u001b[0m \u001b[0mlen\u001b[0m\u001b[1;33m(\u001b[0m\u001b[0my\u001b[0m\u001b[1;33m)\u001b[0m\u001b[1;33m,\u001b[0m \u001b[0mradius\u001b[0m\u001b[1;33m)\u001b[0m\u001b[1;33m\u001b[0m\u001b[1;33m\u001b[0m\u001b[0m\n\u001b[1;32m---> 75\u001b[1;33m     \u001b[1;32mreturn\u001b[0m \u001b[0m__dtw\u001b[0m\u001b[1;33m(\u001b[0m\u001b[0mx\u001b[0m\u001b[1;33m,\u001b[0m \u001b[0my\u001b[0m\u001b[1;33m,\u001b[0m \u001b[0mwindow\u001b[0m\u001b[1;33m,\u001b[0m \u001b[0mdist\u001b[0m\u001b[1;33m=\u001b[0m\u001b[0mdist\u001b[0m\u001b[1;33m)\u001b[0m\u001b[1;33m\u001b[0m\u001b[1;33m\u001b[0m\u001b[0m\n\u001b[0m\u001b[0;32m     76\u001b[0m \u001b[1;33m\u001b[0m\u001b[0m\n\u001b[0;32m     77\u001b[0m \u001b[1;33m\u001b[0m\u001b[0m\n",
      "\u001b[1;31mKeyboardInterrupt\u001b[0m: "
     ]
    }
   ],
   "source": [
    "train, test = encode_data(train, test)\n",
    "# all_ids\n",
    "train.to_csv('train_clus.csv',index = False)\n",
    "test.to_csv('test_clus.csv',index = False)"
   ]
  },
  {
   "cell_type": "code",
   "execution_count": null,
   "id": "47f548be",
   "metadata": {
    "execution": {
     "iopub.execute_input": "2021-10-21T13:29:29.941107Z",
     "iopub.status.busy": "2021-10-21T13:29:29.940382Z",
     "iopub.status.idle": "2021-10-21T13:29:29.943676Z",
     "shell.execute_reply": "2021-10-21T13:29:29.942937Z",
     "shell.execute_reply.started": "2021-10-20T20:56:22.662009Z"
    },
    "papermill": {
     "duration": 41.849473,
     "end_time": "2021-10-21T13:29:29.943832",
     "exception": false,
     "start_time": "2021-10-21T13:28:48.094359",
     "status": "completed"
    },
    "tags": []
   },
   "outputs": [],
   "source": [
    "# train_p.values\n",
    "# 1572*80"
   ]
  },
  {
   "cell_type": "code",
   "execution_count": null,
   "id": "0d68c602",
   "metadata": {
    "execution": {
     "iopub.execute_input": "2021-10-21T13:30:53.137902Z",
     "iopub.status.busy": "2021-10-21T13:30:53.136485Z",
     "iopub.status.idle": "2021-10-21T13:30:53.140842Z",
     "shell.execute_reply": "2021-10-21T13:30:53.140143Z",
     "shell.execute_reply.started": "2021-10-20T21:40:51.677971Z"
    },
    "papermill": {
     "duration": 41.390677,
     "end_time": "2021-10-21T13:30:53.140993",
     "exception": false,
     "start_time": "2021-10-21T13:30:11.750316",
     "status": "completed"
    },
    "tags": []
   },
   "outputs": [],
   "source": [
    "\n",
    "# 1006000/80\n",
    "# all_data.shape [0]/80"
   ]
  },
  {
   "cell_type": "code",
   "execution_count": null,
   "id": "7bf42b85",
   "metadata": {
    "execution": {
     "iopub.execute_input": "2021-10-21T13:32:16.723555Z",
     "iopub.status.busy": "2021-10-21T13:32:16.722790Z",
     "iopub.status.idle": "2021-10-21T13:32:16.724868Z",
     "shell.execute_reply": "2021-10-21T13:32:16.724327Z"
    },
    "papermill": {
     "duration": 41.785759,
     "end_time": "2021-10-21T13:32:16.725007",
     "exception": false,
     "start_time": "2021-10-21T13:31:34.939248",
     "status": "completed"
    },
    "tags": []
   },
   "outputs": [],
   "source": [
    "# # kmeans.cluster_centers_[0].shape\n",
    "# import matplotlib.pyplot as plt\n",
    "# def plot_clusters(df,n_clusters,cl = 0,n_samples = 10, inhale_only = True):\n",
    "#     df.id = df.id%80\n",
    "#     df.loc[df.id == 0,'id'] = 80 \n",
    "#     if inhale_only:\n",
    "#         df = df.loc[df.id<40]\n",
    "#     df1 = df.pivot(index = \"breath_id\", columns = 'id', values = 'u_in' )\n",
    "#     kmeans = KMeans(n_clusters=n_clusters, random_state=0).fit(df1.values)\n",
    "#     res = pd.DataFrame({'k_means_labels':kmeans.labels_, 'breath_id': df1.index})\n",
    "    \n",
    "#     plt.plot(kmeans.cluster_centers_[cl])\n",
    "#     for i in range(n_samples):\n",
    "#         plt.plot(df.loc[df.breath_id==res.loc[res.k_means_labels==cl, \n",
    "#                                                   'breath_id'].values[i],'u_in'].values)\n",
    "#     return res"
   ]
  },
  {
   "cell_type": "code",
   "execution_count": null,
   "id": "7e26e2a3",
   "metadata": {
    "papermill": {
     "duration": 41.745119,
     "end_time": "2021-10-21T13:33:40.144539",
     "exception": false,
     "start_time": "2021-10-21T13:32:58.399420",
     "status": "completed"
    },
    "tags": []
   },
   "outputs": [],
   "source": []
  },
  {
   "cell_type": "code",
   "execution_count": null,
   "id": "00ad90b2",
   "metadata": {
    "execution": {
     "iopub.execute_input": "2021-10-21T13:35:03.928849Z",
     "iopub.status.busy": "2021-10-21T13:35:03.927752Z",
     "iopub.status.idle": "2021-10-21T13:35:03.930414Z",
     "shell.execute_reply": "2021-10-21T13:35:03.929889Z"
    },
    "papermill": {
     "duration": 41.436898,
     "end_time": "2021-10-21T13:35:03.930568",
     "exception": false,
     "start_time": "2021-10-21T13:34:22.493670",
     "status": "completed"
    },
    "tags": []
   },
   "outputs": [],
   "source": [
    "# plot_clusters(train,n_clusters = 500,cl = 0)\n",
    "\n",
    "# distance, path = fastdtw(train_p.iloc[0].values, train_p.iloc[2].values, dist=euclidean)\n",
    "\n",
    "# print(distance)\n",
    "# print(path)\n",
    "# train"
   ]
  },
  {
   "cell_type": "code",
   "execution_count": null,
   "id": "d0779481",
   "metadata": {
    "papermill": {
     "duration": 41.545885,
     "end_time": "2021-10-21T13:36:27.462068",
     "exception": false,
     "start_time": "2021-10-21T13:35:45.916183",
     "status": "completed"
    },
    "tags": []
   },
   "outputs": [],
   "source": []
  },
  {
   "cell_type": "code",
   "execution_count": null,
   "id": "25af5f01",
   "metadata": {
    "execution": {
     "iopub.execute_input": "2021-10-21T13:37:51.245062Z",
     "iopub.status.busy": "2021-10-21T13:37:51.244401Z",
     "iopub.status.idle": "2021-10-21T13:37:51.246390Z",
     "shell.execute_reply": "2021-10-21T13:37:51.246899Z"
    },
    "papermill": {
     "duration": 42.241945,
     "end_time": "2021-10-21T13:37:51.247071",
     "exception": false,
     "start_time": "2021-10-21T13:37:09.005126",
     "status": "completed"
    },
    "tags": []
   },
   "outputs": [],
   "source": [
    "# kmeans.labels\n"
   ]
  },
  {
   "cell_type": "code",
   "execution_count": null,
   "id": "9e9efeaa",
   "metadata": {
    "papermill": {
     "duration": 44.219984,
     "end_time": "2021-10-21T13:39:17.173680",
     "exception": false,
     "start_time": "2021-10-21T13:38:32.953696",
     "status": "completed"
    },
    "tags": []
   },
   "outputs": [],
   "source": []
  },
  {
   "cell_type": "code",
   "execution_count": null,
   "id": "8cd8fddf",
   "metadata": {
    "papermill": {
     "duration": 41.83379,
     "end_time": "2021-10-21T13:40:40.400922",
     "exception": false,
     "start_time": "2021-10-21T13:39:58.567132",
     "status": "completed"
    },
    "tags": []
   },
   "outputs": [],
   "source": []
  },
  {
   "cell_type": "code",
   "execution_count": null,
   "id": "f2f8ae52",
   "metadata": {
    "execution": {
     "iopub.execute_input": "2021-10-21T13:42:03.939604Z",
     "iopub.status.busy": "2021-10-21T13:42:03.938655Z",
     "iopub.status.idle": "2021-10-21T13:42:03.940586Z",
     "shell.execute_reply": "2021-10-21T13:42:03.941363Z"
    },
    "papermill": {
     "duration": 42.009858,
     "end_time": "2021-10-21T13:42:03.941601",
     "exception": false,
     "start_time": "2021-10-21T13:41:21.931743",
     "status": "completed"
    },
    "tags": []
   },
   "outputs": [],
   "source": [
    "# import seaborn as sns\n",
    "# sns.distplot(lis)"
   ]
  },
  {
   "cell_type": "code",
   "execution_count": null,
   "id": "31e6ee4a",
   "metadata": {
    "execution": {
     "iopub.execute_input": "2021-10-21T13:43:27.270468Z",
     "iopub.status.busy": "2021-10-21T13:43:27.269544Z",
     "iopub.status.idle": "2021-10-21T13:43:27.271853Z",
     "shell.execute_reply": "2021-10-21T13:43:27.272480Z"
    },
    "papermill": {
     "duration": 41.633536,
     "end_time": "2021-10-21T13:43:27.272659",
     "exception": false,
     "start_time": "2021-10-21T13:42:45.639123",
     "status": "completed"
    },
    "tags": []
   },
   "outputs": [],
   "source": [
    "\n",
    "# train_p"
   ]
  },
  {
   "cell_type": "code",
   "execution_count": null,
   "id": "38762109",
   "metadata": {
    "execution": {
     "iopub.execute_input": "2021-10-21T13:44:50.685378Z",
     "iopub.status.busy": "2021-10-21T13:44:50.684111Z",
     "iopub.status.idle": "2021-10-21T13:44:50.686365Z",
     "shell.execute_reply": "2021-10-21T13:44:50.686895Z"
    },
    "papermill": {
     "duration": 41.899607,
     "end_time": "2021-10-21T13:44:50.687076",
     "exception": false,
     "start_time": "2021-10-21T13:44:08.787469",
     "status": "completed"
    },
    "tags": []
   },
   "outputs": [],
   "source": [
    "# for i in :\n",
    "# #     plt.plot(train_p.loc[i])\n",
    "#     plt.plot(train.loc[train.breath_id == i , 'pressure'].values)\n",
    "# # plt.plot(train)\n",
    "# print(id_0.loc[id_0.distance<=15.536774].breath_id.values.shape[0])"
   ]
  },
  {
   "cell_type": "code",
   "execution_count": null,
   "id": "782cecf6",
   "metadata": {
    "execution": {
     "iopub.execute_input": "2021-10-21T13:46:14.127992Z",
     "iopub.status.busy": "2021-10-21T13:46:14.127303Z",
     "iopub.status.idle": "2021-10-21T13:46:14.129510Z",
     "shell.execute_reply": "2021-10-21T13:46:14.128915Z"
    },
    "papermill": {
     "duration": 41.542914,
     "end_time": "2021-10-21T13:46:14.129651",
     "exception": false,
     "start_time": "2021-10-21T13:45:32.586737",
     "status": "completed"
    },
    "tags": []
   },
   "outputs": [],
   "source": [
    "# train_p.iloc[0,]\n",
    "# id_0.shape"
   ]
  },
  {
   "cell_type": "code",
   "execution_count": null,
   "id": "b6f59056",
   "metadata": {
    "papermill": {
     "duration": 41.612757,
     "end_time": "2021-10-21T13:47:37.624900",
     "exception": false,
     "start_time": "2021-10-21T13:46:56.012143",
     "status": "completed"
    },
    "tags": []
   },
   "outputs": [],
   "source": []
  }
 ],
 "metadata": {
  "kernelspec": {
   "display_name": "Python 3 (ipykernel)",
   "language": "python",
   "name": "python3"
  },
  "papermill": {
   "default_parameters": {},
   "duration": 15210.789849,
   "end_time": "2021-10-21T13:48:21.183948",
   "environment_variables": {},
   "exception": null,
   "input_path": "__notebook__.ipynb",
   "output_path": "__notebook__.ipynb",
   "parameters": {},
   "start_time": "2021-10-21T09:34:50.394099",
   "version": "2.3.3"
  }
 },
 "nbformat": 4,
 "nbformat_minor": 5
}
