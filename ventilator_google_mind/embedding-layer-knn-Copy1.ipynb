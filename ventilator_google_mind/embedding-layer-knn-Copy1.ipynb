{
 "cells": [
  {
   "cell_type": "code",
   "execution_count": 1,
   "id": "f2b97d04",
   "metadata": {},
   "outputs": [],
   "source": [
    "import numpy as np # linear algebra\n",
    "import pandas as pd # data processing, CSV file I/O (e.g. pd.read_csv)\n",
    "from fastdtw import fastdtw\n",
    "from scipy.spatial.distance import euclidean\n",
    "from tqdm import tqdm\n",
    "train = pd.read_csv('./data/train.csv')\n",
    "test = pd.read_csv('./data/test.csv')\n",
    "all_data = pd.concat([train, test])\n",
    "# all_data['label'] = '_'\n",
    "all_ids = all_data.breath_id.unique().tolist()\n",
    "train_ids = train.breath_id.unique().tolist()\n",
    "test_ids = test.breath_id.unique().tolist()\n",
    "all_data.id = all_data.id%80\n",
    "all_data.loc[all_data.id == 0,'id'] = 80 \n",
    "all_data = all_data.loc[all_data.id<=40]\n",
    "\n",
    "# train_p = all_data.pivot(index = \"breath_id\", columns = 'id', values = 'u_in' )"
   ]
  },
  {
   "cell_type": "code",
   "execution_count": 9,
   "id": "620e256f",
   "metadata": {},
   "outputs": [
    {
     "name": "stdout",
     "output_type": "stream",
     "text": [
      "Requirement already satisfied: fastdtw in c:\\users\\amakr\\appdata\\local\\continuum\\anaconda3\\lib\\site-packages (0.3.4)\n",
      "Requirement already satisfied: numpy in c:\\users\\amakr\\appdata\\local\\continuum\\anaconda3\\lib\\site-packages (from fastdtw) (1.19.5)\n"
     ]
    },
    {
     "name": "stderr",
     "output_type": "stream",
     "text": [
      "Error processing line 1 of C:\\Users\\amakr\\AppData\\Local\\Continuum\\anaconda3\\lib\\site-packages\\vision-1.0.0-py3.7-nspkg.pth:\n",
      "\n",
      "  Traceback (most recent call last):\n",
      "    File \"C:\\Users\\amakr\\AppData\\Local\\Continuum\\anaconda3\\lib\\site.py\", line 168, in addpackage\n",
      "      exec(line)\n",
      "    File \"<string>\", line 1, in <module>\n",
      "    File \"<frozen importlib._bootstrap>\", line 580, in module_from_spec\n",
      "  AttributeError: 'NoneType' object has no attribute 'loader'\n",
      "\n",
      "Remainder of file ignored\n"
     ]
    },
    {
     "ename": "ModuleNotFoundError",
     "evalue": "No module named 'fastdtw'",
     "output_type": "error",
     "traceback": [
      "\u001b[1;31m---------------------------------------------------------------------------\u001b[0m",
      "\u001b[1;31mModuleNotFoundError\u001b[0m                       Traceback (most recent call last)",
      "\u001b[1;32m<ipython-input-9-8c97fbabc3e5>\u001b[0m in \u001b[0;36m<module>\u001b[1;34m\u001b[0m\n\u001b[0;32m      2\u001b[0m \u001b[0mget_ipython\u001b[0m\u001b[1;33m(\u001b[0m\u001b[1;33m)\u001b[0m\u001b[1;33m.\u001b[0m\u001b[0msystem\u001b[0m\u001b[1;33m(\u001b[0m\u001b[1;34m'pip install fastdtw'\u001b[0m\u001b[1;33m)\u001b[0m\u001b[1;33m\u001b[0m\u001b[1;33m\u001b[0m\u001b[0m\n\u001b[0;32m      3\u001b[0m \u001b[1;31m# !pip uninstall fastdtw\u001b[0m\u001b[1;33m\u001b[0m\u001b[1;33m\u001b[0m\u001b[1;33m\u001b[0m\u001b[0m\n\u001b[1;32m----> 4\u001b[1;33m \u001b[1;32mfrom\u001b[0m \u001b[0mfastdtw\u001b[0m \u001b[1;32mimport\u001b[0m \u001b[0mfastdtw\u001b[0m\u001b[1;33m\u001b[0m\u001b[1;33m\u001b[0m\u001b[0m\n\u001b[0m",
      "\u001b[1;31mModuleNotFoundError\u001b[0m: No module named 'fastdtw'"
     ]
    }
   ],
   "source": [
    "# import cython\n",
    "!pip install fastdtw\n",
    "# !pip uninstall fastdtw \n",
    "from fastdtw import fastdtw\n"
   ]
  },
  {
   "cell_type": "code",
   "execution_count": 17,
   "id": "dbfbcfce",
   "metadata": {},
   "outputs": [
    {
     "name": "stderr",
     "output_type": "stream",
     "text": [
      "\n",
      "  0%|                                                                                       | 0/125750 [00:00<?, ?it/s]\u001b[A\n",
      "  0%|                                                                               | 6/125750 [00:00<36:19, 57.69it/s]\u001b[A\n",
      "  0%|                                                                              | 12/125750 [00:00<36:19, 57.69it/s]\u001b[A\n",
      "  0%|                                                                              | 20/125750 [00:00<32:37, 64.22it/s]\u001b[A\n",
      "  0%|                                                                              | 27/125750 [00:00<32:59, 63.52it/s]\u001b[A\n",
      "  0%|                                                                              | 34/125750 [00:00<33:11, 63.14it/s]\u001b[A\n",
      "  0%|                                                                              | 41/125750 [00:00<33:17, 62.93it/s]\u001b[A\n",
      "  0%|                                                                              | 48/125750 [00:00<33:22, 62.78it/s]\u001b[A\n",
      "  0%|                                                                              | 55/125750 [00:00<32:39, 64.16it/s]\u001b[A\n",
      "  0%|                                                                              | 62/125750 [00:00<32:10, 65.11it/s]\u001b[A\n",
      "  0%|                                                                              | 69/125750 [00:01<33:19, 62.86it/s]\u001b[A\n",
      "  0%|                                                                              | 76/125750 [00:01<33:29, 62.55it/s]\u001b[A\n",
      "  0%|                                                                              | 84/125750 [00:01<31:23, 66.71it/s]\u001b[A\n",
      "  0%|                                                                              | 91/125750 [00:01<32:01, 65.41it/s]\u001b[A\n",
      "  0%|                                                                              | 98/125750 [00:01<32:27, 64.53it/s]\u001b[A\n",
      "  0%|                                                                             | 105/125750 [00:01<32:45, 63.91it/s]\u001b[A\n",
      "  0%|                                                                             | 112/125750 [00:01<32:16, 64.88it/s]\u001b[A\n",
      "  0%|                                                                             | 119/125750 [00:01<35:29, 58.99it/s]\u001b[A\n",
      "  0%|                                                                             | 126/125750 [00:02<35:36, 58.79it/s]\u001b[A\n",
      "  0%|                                                                             | 132/125750 [00:02<35:47, 58.49it/s]\u001b[A\n",
      "  0%|                                                                             | 139/125750 [00:02<35:04, 59.68it/s]\u001b[A\n",
      "  0%|                                                                             | 146/125750 [00:02<34:35, 60.51it/s]\u001b[A\n",
      "  0%|                                                                             | 153/125750 [00:02<33:31, 62.43it/s]\u001b[A\n",
      "  0%|                                                                             | 161/125750 [00:02<32:07, 65.15it/s]\u001b[A\n",
      "  0%|                                                                             | 169/125750 [00:02<31:12, 67.05it/s]\u001b[A\n",
      "  0%|                                                                             | 176/125750 [00:02<31:10, 67.12it/s]\u001b[A\n",
      "  0%|                                                                             | 183/125750 [00:02<32:32, 64.31it/s]\u001b[A\n",
      "  0%|                                                                             | 190/125750 [00:03<33:31, 62.43it/s]\u001b[A\n",
      "  0%|                                                                             | 197/125750 [00:03<33:30, 62.45it/s]\u001b[A\n",
      "  0%|                                                                             | 204/125750 [00:03<32:47, 63.81it/s]\u001b[A\n",
      "  0%|▏                                                                            | 211/125750 [00:03<32:16, 64.82it/s]\u001b[A\n",
      "  0%|▏                                                                            | 218/125750 [00:03<32:38, 64.11it/s]\u001b[A\n",
      "  0%|▏                                                                            | 225/125750 [00:03<32:10, 65.03it/s]\u001b[A\n",
      "  0%|▏                                                                            | 232/125750 [00:03<31:50, 65.69it/s]\u001b[A\n",
      "  0%|▏                                                                            | 239/125750 [00:03<32:19, 64.71it/s]\u001b[A\n",
      "  0%|▏                                                                            | 246/125750 [00:03<34:06, 61.34it/s]\u001b[A\n",
      "  0%|▏                                                                            | 253/125750 [00:04<35:20, 59.18it/s]\u001b[A\n",
      "  0%|▏                                                                            | 260/125750 [00:04<34:46, 60.14it/s]\u001b[A\n",
      "  0%|▏                                                                            | 267/125750 [00:04<35:05, 59.59it/s]\u001b[A\n",
      "  0%|▏                                                                            | 274/125750 [00:04<34:00, 61.48it/s]\u001b[A\n",
      "  0%|▏                                                                            | 282/125750 [00:04<32:27, 64.42it/s]\u001b[A\n",
      "  0%|▏                                                                            | 289/125750 [00:04<32:02, 65.24it/s]\u001b[A\n",
      "  0%|▏                                                                            | 296/125750 [00:04<31:45, 65.84it/s]\u001b[A\n",
      "  0%|▏                                                                            | 303/125750 [00:04<31:33, 66.26it/s]\u001b[A\n",
      "  0%|▏                                                                            | 311/125750 [00:04<30:07, 69.39it/s]\u001b[A\n",
      "  0%|▏                                                                            | 319/125750 [00:04<29:11, 71.61it/s]\u001b[A\n",
      "  0%|▏                                                                            | 327/125750 [00:05<29:51, 70.00it/s]\u001b[A\n",
      "  0%|▏                                                                            | 335/125750 [00:05<30:57, 67.50it/s]\u001b[A\n",
      "  0%|▏                                                                            | 342/125750 [00:05<33:38, 62.12it/s]\u001b[A\n",
      "  0%|▏                                                                            | 350/125750 [00:05<32:16, 64.76it/s]\u001b[A\n",
      "  0%|▏                                                                            | 358/125750 [00:05<30:41, 68.08it/s]\u001b[A\n",
      "  0%|▏                                                                            | 365/125750 [00:05<31:27, 66.43it/s]\u001b[A\n",
      "  0%|▏                                                                            | 372/125750 [00:05<32:01, 65.26it/s]\u001b[A\n",
      "  0%|▏                                                                            | 379/125750 [00:05<32:25, 64.44it/s]\u001b[A\n",
      "  0%|▏                                                                            | 386/125750 [00:06<32:43, 63.86it/s]\u001b[A\n",
      "  0%|▏                                                                            | 393/125750 [00:06<33:37, 62.13it/s]\u001b[A\n",
      "  0%|▏                                                                            | 400/125750 [00:06<35:41, 58.53it/s]\u001b[A\n",
      "  0%|▏                                                                            | 406/125750 [00:06<36:34, 57.12it/s]\u001b[A\n",
      "  0%|▎                                                                            | 412/125750 [00:06<37:14, 56.10it/s]\u001b[A\n",
      "  0%|▎                                                                            | 418/125750 [00:06<36:56, 56.54it/s]\u001b[A\n",
      "  0%|▎                                                                            | 425/125750 [00:06<35:02, 59.60it/s]\u001b[A\n",
      "  0%|▎                                                                            | 432/125750 [00:06<33:47, 61.81it/s]\u001b[A\n",
      "  0%|▎                                                                            | 440/125750 [00:06<32:14, 64.77it/s]\u001b[A\n",
      "  0%|▎                                                                            | 447/125750 [00:07<31:52, 65.51it/s]\u001b[A\n",
      "  0%|▎                                                                            | 454/125750 [00:07<35:10, 59.36it/s]\u001b[A\n",
      "  0%|▎                                                                            | 461/125750 [00:07<35:21, 59.05it/s]\u001b[A\n"
     ]
    },
    {
     "name": "stderr",
     "output_type": "stream",
     "text": [
      "  0%|▎                                                                            | 467/125750 [00:07<35:35, 58.67it/s]\u001b[A\n",
      "  0%|▎                                                                            | 474/125750 [00:07<34:54, 59.80it/s]\u001b[A\n",
      "  0%|▎                                                                            | 481/125750 [00:07<33:43, 61.92it/s]\u001b[A\n",
      "  0%|▎                                                                            | 488/125750 [00:07<32:55, 63.41it/s]\u001b[A\n",
      "  0%|▎                                                                            | 495/125750 [00:07<32:20, 64.55it/s]\u001b[A\n",
      "  0%|▎                                                                            | 503/125750 [00:07<30:37, 68.17it/s]\u001b[A\n",
      "  0%|▎                                                                            | 511/125750 [00:08<29:29, 70.76it/s]\u001b[A\n",
      "  0%|▎                                                                            | 519/125750 [00:08<29:24, 70.97it/s]\u001b[A\n",
      "  0%|▎                                                                            | 527/125750 [00:08<29:21, 71.11it/s]\u001b[A\n",
      "  0%|▎                                                                            | 535/125750 [00:08<29:18, 71.21it/s]\u001b[A\n",
      "  0%|▎                                                                            | 543/125750 [00:08<29:16, 71.28it/s]\u001b[A\n",
      "  0%|▎                                                                            | 552/125750 [00:08<28:11, 74.03it/s]\u001b[A\n",
      "  0%|▎                                                                            | 560/125750 [00:08<29:06, 71.70it/s]\u001b[A\n",
      "  0%|▎                                                                            | 568/125750 [00:08<29:45, 70.13it/s]\u001b[A\n",
      "  0%|▎                                                                            | 576/125750 [00:08<32:04, 65.06it/s]\u001b[A\n",
      "  0%|▎                                                                            | 583/125750 [00:09<33:04, 63.08it/s]\u001b[A\n",
      "  0%|▎                                                                            | 590/125750 [00:09<32:29, 64.21it/s]\u001b[A\n",
      "  0%|▎                                                                            | 597/125750 [00:09<32:44, 63.71it/s]\u001b[A\n",
      "  0%|▎                                                                            | 604/125750 [00:09<32:55, 63.36it/s]\u001b[A\n",
      "  0%|▎                                                                            | 611/125750 [00:09<33:44, 61.80it/s]\u001b[A\n",
      "  0%|▍                                                                            | 618/125750 [00:09<35:04, 59.46it/s]\u001b[A\n",
      "  0%|▍                                                                            | 624/125750 [00:09<36:50, 56.62it/s]\u001b[A\n",
      "  1%|▍                                                                            | 630/125750 [00:09<36:38, 56.91it/s]\u001b[A\n",
      "  1%|▍                                                                            | 636/125750 [00:10<36:30, 57.13it/s]\u001b[A\n",
      "  1%|▍                                                                            | 642/125750 [00:10<37:11, 56.06it/s]\u001b[A\n",
      "  1%|▍                                                                            | 649/125750 [00:10<35:57, 57.99it/s]\u001b[A\n",
      "  1%|▍                                                                            | 656/125750 [00:10<35:07, 59.35it/s]\u001b[A\n",
      "  1%|▍                                                                            | 663/125750 [00:10<33:50, 61.61it/s]\u001b[A\n",
      "  1%|▍                                                                            | 670/125750 [00:10<32:57, 63.26it/s]\u001b[A\n",
      "  1%|▍                                                                            | 677/125750 [00:10<33:04, 63.03it/s]\u001b[A\n",
      "  1%|▍                                                                            | 684/125750 [00:10<32:25, 64.27it/s]\u001b[A\n",
      "  1%|▍                                                                            | 691/125750 [00:10<33:25, 62.35it/s]\u001b[A\n",
      "  1%|▍                                                                            | 698/125750 [00:11<33:24, 62.39it/s]\u001b[A\n",
      "  1%|▍                                                                            | 705/125750 [00:11<34:06, 61.11it/s]\u001b[A\n",
      "  1%|▍                                                                            | 712/125750 [00:11<34:35, 60.25it/s]\u001b[A\n",
      "  1%|▍                                                                            | 719/125750 [00:11<33:29, 62.21it/s]\u001b[A\n",
      "  1%|▍                                                                            | 726/125750 [00:11<32:44, 63.65it/s]\u001b[A\n",
      "  1%|▍                                                                            | 734/125750 [00:11<31:33, 66.02it/s]\u001b[A\n",
      "  1%|▍                                                                            | 741/125750 [00:11<33:27, 62.26it/s]\u001b[A\n",
      "  1%|▍                                                                            | 748/125750 [00:11<32:43, 63.67it/s]\u001b[A"
     ]
    },
    {
     "ename": "KeyboardInterrupt",
     "evalue": "",
     "output_type": "error",
     "traceback": [
      "\u001b[1;31m---------------------------------------------------------------------------\u001b[0m",
      "\u001b[1;31mKeyboardInterrupt\u001b[0m                         Traceback (most recent call last)",
      "\u001b[1;32m<ipython-input-17-63d599d2e0b7>\u001b[0m in \u001b[0;36m<module>\u001b[1;34m\u001b[0m\n\u001b[0;32m      1\u001b[0m \u001b[0mtrain_p\u001b[0m \u001b[1;33m=\u001b[0m \u001b[0mall_data\u001b[0m\u001b[1;33m.\u001b[0m\u001b[0mpivot\u001b[0m\u001b[1;33m(\u001b[0m\u001b[0mindex\u001b[0m \u001b[1;33m=\u001b[0m \u001b[1;34m\"breath_id\"\u001b[0m\u001b[1;33m,\u001b[0m \u001b[0mcolumns\u001b[0m \u001b[1;33m=\u001b[0m \u001b[1;34m'id'\u001b[0m\u001b[1;33m,\u001b[0m \u001b[0mvalues\u001b[0m \u001b[1;33m=\u001b[0m \u001b[1;34m'u_in'\u001b[0m \u001b[1;33m)\u001b[0m\u001b[1;33m\u001b[0m\u001b[1;33m\u001b[0m\u001b[0m\n\u001b[1;32m----> 2\u001b[1;33m \u001b[0mdistances\u001b[0m\u001b[1;33m(\u001b[0m\u001b[1;36m0\u001b[0m\u001b[1;33m,\u001b[0m\u001b[0mtrain_p\u001b[0m\u001b[1;33m)\u001b[0m\u001b[1;33m\u001b[0m\u001b[1;33m\u001b[0m\u001b[0m\n\u001b[0m",
      "\u001b[1;32m<ipython-input-15-5ebb46bbd9ed>\u001b[0m in \u001b[0;36mdistances\u001b[1;34m(i, train_p)\u001b[0m\n\u001b[0;32m      7\u001b[0m \u001b[1;32mdef\u001b[0m \u001b[0mdistances\u001b[0m\u001b[1;33m(\u001b[0m\u001b[0mi\u001b[0m\u001b[1;33m,\u001b[0m\u001b[0mtrain_p\u001b[0m\u001b[1;33m)\u001b[0m\u001b[1;33m:\u001b[0m\u001b[1;33m\u001b[0m\u001b[1;33m\u001b[0m\u001b[0m\n\u001b[0;32m      8\u001b[0m     return np.array([fastdtw(train_p.iloc[i,:40].values, \n\u001b[1;32m----> 9\u001b[1;33m                                       train_p.iloc[j,:40].values, dist=None,radius=5) for  j in tqdm(range(train_p.shape[0]))])\n\u001b[0m\u001b[0;32m     10\u001b[0m \u001b[1;31m#     res = []\u001b[0m\u001b[1;33m\u001b[0m\u001b[1;33m\u001b[0m\u001b[1;33m\u001b[0m\u001b[0m\n\u001b[0;32m     11\u001b[0m \u001b[1;31m#     for j in ):\u001b[0m\u001b[1;33m\u001b[0m\u001b[1;33m\u001b[0m\u001b[1;33m\u001b[0m\u001b[0m\n",
      "\u001b[1;32m<ipython-input-15-5ebb46bbd9ed>\u001b[0m in \u001b[0;36m<listcomp>\u001b[1;34m(.0)\u001b[0m\n\u001b[0;32m      7\u001b[0m \u001b[1;32mdef\u001b[0m \u001b[0mdistances\u001b[0m\u001b[1;33m(\u001b[0m\u001b[0mi\u001b[0m\u001b[1;33m,\u001b[0m\u001b[0mtrain_p\u001b[0m\u001b[1;33m)\u001b[0m\u001b[1;33m:\u001b[0m\u001b[1;33m\u001b[0m\u001b[1;33m\u001b[0m\u001b[0m\n\u001b[0;32m      8\u001b[0m     return np.array([fastdtw(train_p.iloc[i,:40].values, \n\u001b[1;32m----> 9\u001b[1;33m                                       train_p.iloc[j,:40].values, dist=None,radius=5) for  j in tqdm(range(train_p.shape[0]))])\n\u001b[0m\u001b[0;32m     10\u001b[0m \u001b[1;31m#     res = []\u001b[0m\u001b[1;33m\u001b[0m\u001b[1;33m\u001b[0m\u001b[1;33m\u001b[0m\u001b[0m\n\u001b[0;32m     11\u001b[0m \u001b[1;31m#     for j in ):\u001b[0m\u001b[1;33m\u001b[0m\u001b[1;33m\u001b[0m\u001b[1;33m\u001b[0m\u001b[0m\n",
      "\u001b[1;32m~\\AppData\\Local\\Continuum\\anaconda3\\lib\\site-packages\\fastdtw\\fastdtw.py\u001b[0m in \u001b[0;36mfastdtw\u001b[1;34m(x, y, radius, dist)\u001b[0m\n\u001b[0;32m     51\u001b[0m     '''\n\u001b[0;32m     52\u001b[0m     \u001b[0mx\u001b[0m\u001b[1;33m,\u001b[0m \u001b[0my\u001b[0m\u001b[1;33m,\u001b[0m \u001b[0mdist\u001b[0m \u001b[1;33m=\u001b[0m \u001b[0m__prep_inputs\u001b[0m\u001b[1;33m(\u001b[0m\u001b[0mx\u001b[0m\u001b[1;33m,\u001b[0m \u001b[0my\u001b[0m\u001b[1;33m,\u001b[0m \u001b[0mdist\u001b[0m\u001b[1;33m)\u001b[0m\u001b[1;33m\u001b[0m\u001b[1;33m\u001b[0m\u001b[0m\n\u001b[1;32m---> 53\u001b[1;33m     \u001b[1;32mreturn\u001b[0m \u001b[0m__fastdtw\u001b[0m\u001b[1;33m(\u001b[0m\u001b[0mx\u001b[0m\u001b[1;33m,\u001b[0m \u001b[0my\u001b[0m\u001b[1;33m,\u001b[0m \u001b[0mradius\u001b[0m\u001b[1;33m,\u001b[0m \u001b[0mdist\u001b[0m\u001b[1;33m)\u001b[0m\u001b[1;33m\u001b[0m\u001b[1;33m\u001b[0m\u001b[0m\n\u001b[0m\u001b[0;32m     54\u001b[0m \u001b[1;33m\u001b[0m\u001b[0m\n\u001b[0;32m     55\u001b[0m \u001b[1;33m\u001b[0m\u001b[0m\n",
      "\u001b[1;32m~\\AppData\\Local\\Continuum\\anaconda3\\lib\\site-packages\\fastdtw\\fastdtw.py\u001b[0m in \u001b[0;36m__fastdtw\u001b[1;34m(x, y, radius, dist)\u001b[0m\n\u001b[0;32m     71\u001b[0m     \u001b[0my_shrinked\u001b[0m \u001b[1;33m=\u001b[0m \u001b[0m__reduce_by_half\u001b[0m\u001b[1;33m(\u001b[0m\u001b[0my\u001b[0m\u001b[1;33m)\u001b[0m\u001b[1;33m\u001b[0m\u001b[1;33m\u001b[0m\u001b[0m\n\u001b[0;32m     72\u001b[0m     \u001b[0mdistance\u001b[0m\u001b[1;33m,\u001b[0m \u001b[0mpath\u001b[0m \u001b[1;33m=\u001b[0m\u001b[0;31m \u001b[0m\u001b[0;31m\\\u001b[0m\u001b[1;33m\u001b[0m\u001b[1;33m\u001b[0m\u001b[0m\n\u001b[1;32m---> 73\u001b[1;33m         \u001b[0m__fastdtw\u001b[0m\u001b[1;33m(\u001b[0m\u001b[0mx_shrinked\u001b[0m\u001b[1;33m,\u001b[0m \u001b[0my_shrinked\u001b[0m\u001b[1;33m,\u001b[0m \u001b[0mradius\u001b[0m\u001b[1;33m=\u001b[0m\u001b[0mradius\u001b[0m\u001b[1;33m,\u001b[0m \u001b[0mdist\u001b[0m\u001b[1;33m=\u001b[0m\u001b[0mdist\u001b[0m\u001b[1;33m)\u001b[0m\u001b[1;33m\u001b[0m\u001b[1;33m\u001b[0m\u001b[0m\n\u001b[0m\u001b[0;32m     74\u001b[0m     \u001b[0mwindow\u001b[0m \u001b[1;33m=\u001b[0m \u001b[0m__expand_window\u001b[0m\u001b[1;33m(\u001b[0m\u001b[0mpath\u001b[0m\u001b[1;33m,\u001b[0m \u001b[0mlen\u001b[0m\u001b[1;33m(\u001b[0m\u001b[0mx\u001b[0m\u001b[1;33m)\u001b[0m\u001b[1;33m,\u001b[0m \u001b[0mlen\u001b[0m\u001b[1;33m(\u001b[0m\u001b[0my\u001b[0m\u001b[1;33m)\u001b[0m\u001b[1;33m,\u001b[0m \u001b[0mradius\u001b[0m\u001b[1;33m)\u001b[0m\u001b[1;33m\u001b[0m\u001b[1;33m\u001b[0m\u001b[0m\n\u001b[0;32m     75\u001b[0m     \u001b[1;32mreturn\u001b[0m \u001b[0m__dtw\u001b[0m\u001b[1;33m(\u001b[0m\u001b[0mx\u001b[0m\u001b[1;33m,\u001b[0m \u001b[0my\u001b[0m\u001b[1;33m,\u001b[0m \u001b[0mwindow\u001b[0m\u001b[1;33m,\u001b[0m \u001b[0mdist\u001b[0m\u001b[1;33m=\u001b[0m\u001b[0mdist\u001b[0m\u001b[1;33m)\u001b[0m\u001b[1;33m\u001b[0m\u001b[1;33m\u001b[0m\u001b[0m\n",
      "\u001b[1;32m~\\AppData\\Local\\Continuum\\anaconda3\\lib\\site-packages\\fastdtw\\fastdtw.py\u001b[0m in \u001b[0;36m__fastdtw\u001b[1;34m(x, y, radius, dist)\u001b[0m\n\u001b[0;32m     71\u001b[0m     \u001b[0my_shrinked\u001b[0m \u001b[1;33m=\u001b[0m \u001b[0m__reduce_by_half\u001b[0m\u001b[1;33m(\u001b[0m\u001b[0my\u001b[0m\u001b[1;33m)\u001b[0m\u001b[1;33m\u001b[0m\u001b[1;33m\u001b[0m\u001b[0m\n\u001b[0;32m     72\u001b[0m     \u001b[0mdistance\u001b[0m\u001b[1;33m,\u001b[0m \u001b[0mpath\u001b[0m \u001b[1;33m=\u001b[0m\u001b[0;31m \u001b[0m\u001b[0;31m\\\u001b[0m\u001b[1;33m\u001b[0m\u001b[1;33m\u001b[0m\u001b[0m\n\u001b[1;32m---> 73\u001b[1;33m         \u001b[0m__fastdtw\u001b[0m\u001b[1;33m(\u001b[0m\u001b[0mx_shrinked\u001b[0m\u001b[1;33m,\u001b[0m \u001b[0my_shrinked\u001b[0m\u001b[1;33m,\u001b[0m \u001b[0mradius\u001b[0m\u001b[1;33m=\u001b[0m\u001b[0mradius\u001b[0m\u001b[1;33m,\u001b[0m \u001b[0mdist\u001b[0m\u001b[1;33m=\u001b[0m\u001b[0mdist\u001b[0m\u001b[1;33m)\u001b[0m\u001b[1;33m\u001b[0m\u001b[1;33m\u001b[0m\u001b[0m\n\u001b[0m\u001b[0;32m     74\u001b[0m     \u001b[0mwindow\u001b[0m \u001b[1;33m=\u001b[0m \u001b[0m__expand_window\u001b[0m\u001b[1;33m(\u001b[0m\u001b[0mpath\u001b[0m\u001b[1;33m,\u001b[0m \u001b[0mlen\u001b[0m\u001b[1;33m(\u001b[0m\u001b[0mx\u001b[0m\u001b[1;33m)\u001b[0m\u001b[1;33m,\u001b[0m \u001b[0mlen\u001b[0m\u001b[1;33m(\u001b[0m\u001b[0my\u001b[0m\u001b[1;33m)\u001b[0m\u001b[1;33m,\u001b[0m \u001b[0mradius\u001b[0m\u001b[1;33m)\u001b[0m\u001b[1;33m\u001b[0m\u001b[1;33m\u001b[0m\u001b[0m\n\u001b[0;32m     75\u001b[0m     \u001b[1;32mreturn\u001b[0m \u001b[0m__dtw\u001b[0m\u001b[1;33m(\u001b[0m\u001b[0mx\u001b[0m\u001b[1;33m,\u001b[0m \u001b[0my\u001b[0m\u001b[1;33m,\u001b[0m \u001b[0mwindow\u001b[0m\u001b[1;33m,\u001b[0m \u001b[0mdist\u001b[0m\u001b[1;33m=\u001b[0m\u001b[0mdist\u001b[0m\u001b[1;33m)\u001b[0m\u001b[1;33m\u001b[0m\u001b[1;33m\u001b[0m\u001b[0m\n",
      "\u001b[1;32m~\\AppData\\Local\\Continuum\\anaconda3\\lib\\site-packages\\fastdtw\\fastdtw.py\u001b[0m in \u001b[0;36m__fastdtw\u001b[1;34m(x, y, radius, dist)\u001b[0m\n\u001b[0;32m     73\u001b[0m         \u001b[0m__fastdtw\u001b[0m\u001b[1;33m(\u001b[0m\u001b[0mx_shrinked\u001b[0m\u001b[1;33m,\u001b[0m \u001b[0my_shrinked\u001b[0m\u001b[1;33m,\u001b[0m \u001b[0mradius\u001b[0m\u001b[1;33m=\u001b[0m\u001b[0mradius\u001b[0m\u001b[1;33m,\u001b[0m \u001b[0mdist\u001b[0m\u001b[1;33m=\u001b[0m\u001b[0mdist\u001b[0m\u001b[1;33m)\u001b[0m\u001b[1;33m\u001b[0m\u001b[1;33m\u001b[0m\u001b[0m\n\u001b[0;32m     74\u001b[0m     \u001b[0mwindow\u001b[0m \u001b[1;33m=\u001b[0m \u001b[0m__expand_window\u001b[0m\u001b[1;33m(\u001b[0m\u001b[0mpath\u001b[0m\u001b[1;33m,\u001b[0m \u001b[0mlen\u001b[0m\u001b[1;33m(\u001b[0m\u001b[0mx\u001b[0m\u001b[1;33m)\u001b[0m\u001b[1;33m,\u001b[0m \u001b[0mlen\u001b[0m\u001b[1;33m(\u001b[0m\u001b[0my\u001b[0m\u001b[1;33m)\u001b[0m\u001b[1;33m,\u001b[0m \u001b[0mradius\u001b[0m\u001b[1;33m)\u001b[0m\u001b[1;33m\u001b[0m\u001b[1;33m\u001b[0m\u001b[0m\n\u001b[1;32m---> 75\u001b[1;33m     \u001b[1;32mreturn\u001b[0m \u001b[0m__dtw\u001b[0m\u001b[1;33m(\u001b[0m\u001b[0mx\u001b[0m\u001b[1;33m,\u001b[0m \u001b[0my\u001b[0m\u001b[1;33m,\u001b[0m \u001b[0mwindow\u001b[0m\u001b[1;33m,\u001b[0m \u001b[0mdist\u001b[0m\u001b[1;33m=\u001b[0m\u001b[0mdist\u001b[0m\u001b[1;33m)\u001b[0m\u001b[1;33m\u001b[0m\u001b[1;33m\u001b[0m\u001b[0m\n\u001b[0m\u001b[0;32m     76\u001b[0m \u001b[1;33m\u001b[0m\u001b[0m\n\u001b[0;32m     77\u001b[0m \u001b[1;33m\u001b[0m\u001b[0m\n",
      "\u001b[1;32m~\\AppData\\Local\\Continuum\\anaconda3\\lib\\site-packages\\fastdtw\\fastdtw.py\u001b[0m in \u001b[0;36m__dtw\u001b[1;34m(x, y, window, dist)\u001b[0m\n\u001b[0;32m    141\u001b[0m         \u001b[0mdt\u001b[0m \u001b[1;33m=\u001b[0m \u001b[0mdist\u001b[0m\u001b[1;33m(\u001b[0m\u001b[0mx\u001b[0m\u001b[1;33m[\u001b[0m\u001b[0mi\u001b[0m\u001b[1;33m-\u001b[0m\u001b[1;36m1\u001b[0m\u001b[1;33m]\u001b[0m\u001b[1;33m,\u001b[0m \u001b[0my\u001b[0m\u001b[1;33m[\u001b[0m\u001b[0mj\u001b[0m\u001b[1;33m-\u001b[0m\u001b[1;36m1\u001b[0m\u001b[1;33m]\u001b[0m\u001b[1;33m)\u001b[0m\u001b[1;33m\u001b[0m\u001b[1;33m\u001b[0m\u001b[0m\n\u001b[0;32m    142\u001b[0m         D[i, j] = min((D[i-1, j][0]+dt, i-1, j), (D[i, j-1][0]+dt, i, j-1),\n\u001b[1;32m--> 143\u001b[1;33m                       (D[i-1, j-1][0]+dt, i-1, j-1), key=lambda a: a[0])\n\u001b[0m\u001b[0;32m    144\u001b[0m     \u001b[0mpath\u001b[0m \u001b[1;33m=\u001b[0m \u001b[1;33m[\u001b[0m\u001b[1;33m]\u001b[0m\u001b[1;33m\u001b[0m\u001b[1;33m\u001b[0m\u001b[0m\n\u001b[0;32m    145\u001b[0m     \u001b[0mi\u001b[0m\u001b[1;33m,\u001b[0m \u001b[0mj\u001b[0m \u001b[1;33m=\u001b[0m \u001b[0mlen_x\u001b[0m\u001b[1;33m,\u001b[0m \u001b[0mlen_y\u001b[0m\u001b[1;33m\u001b[0m\u001b[1;33m\u001b[0m\u001b[0m\n",
      "\u001b[1;31mKeyboardInterrupt\u001b[0m: "
     ]
    }
   ],
   "source": [
    "train_p = all_data.pivot(index = \"breath_id\", columns = 'id', values = 'u_in' )\n",
    "distances(0,train_p)"
   ]
  },
  {
   "cell_type": "code",
   "execution_count": 9,
   "id": "da2aab53",
   "metadata": {
    "execution": {
     "iopub.execute_input": "2021-10-21T09:34:59.498586Z",
     "iopub.status.busy": "2021-10-21T09:34:59.497929Z",
     "iopub.status.idle": "2021-10-21T09:34:59.513496Z",
     "shell.execute_reply": "2021-10-21T09:34:59.512766Z",
     "shell.execute_reply.started": "2021-10-20T21:45:01.702473Z"
    },
    "papermill": {
     "duration": 0.041483,
     "end_time": "2021-10-21T09:34:59.513686",
     "exception": false,
     "start_time": "2021-10-21T09:34:59.472203",
     "status": "completed"
    },
    "tags": []
   },
   "outputs": [],
   "source": [
    "\n",
    "\n",
    "def encode_data(train, test):\n",
    "    all_data = pd.concat([train, test])\n",
    "    all_data['label'] = '_'\n",
    "    all_ids = all_data.breath_id.unique().tolist()\n",
    "    train_ids = train.breath_id.unique().tolist()\n",
    "    test_ids = test.breath_id.unique().tolist()\n",
    "    all_data.id = all_data.id%80\n",
    "    all_data.loc[all_data.id == 0,'id'] = 80 \n",
    "    clus = 0\n",
    "    train_p = all_data.pivot(index = \"breath_id\", columns = 'id', values = 'u_in' )\n",
    "    while len(all_ids)>0:\n",
    "        train_p_2 =  train_p.loc[all_ids]\n",
    "        lis = distances(0,train_p_2)\n",
    "        id_0 = train_p_2.reset_index()[['breath_id']]\n",
    "        # # \n",
    "        print(clus)\n",
    "#         id_0 = id_0.iloc[0::80].reset_index(drop=True)\n",
    "        id_0['distance'] = lis\n",
    "#         all_data.loc[all_data.breath_id.isin(id_0.loc[id_0.distance<=id_0['distance'].quantile(0.00125)].breath_id.values),'label']+= str(clus)\n",
    "        all_data.loc[all_data.breath_id.isin(id_0.sort_values(by = 'distance')[:250]['breath_id'].values),'label']+= str(clus)\n",
    "\n",
    "        clus+=1\n",
    "#         l = id_0.loc[id_0.distance<=id_0['distance'].quantile(0.00125)].breath_id.values.tolist()\n",
    "        l = id_0.sort_values(by = 'distance')[:125]['breath_id'].values.tolist()\n",
    "        all_ids = [e for e in all_ids if e not in l]\n",
    "        print(len(all_ids))\n",
    "    train_df = all_data.loc[all_data.breath_id.isin(train_ids)]\n",
    "    test_df = all_data.loc[all_data.breath_id.isin(test_ids)]\n",
    "    return train_df , test_df\n"
   ]
  },
  {
   "cell_type": "code",
   "execution_count": 3,
   "id": "fceb7e19",
   "metadata": {
    "_cell_guid": "b1076dfc-b9ad-4769-8c92-a6c4dae69d19",
    "_uuid": "8f2839f25d086af736a60e9eeb907d3b93b6e0e5",
    "execution": {
     "iopub.execute_input": "2021-10-21T09:34:59.548538Z",
     "iopub.status.busy": "2021-10-21T09:34:59.547841Z",
     "iopub.status.idle": "2021-10-21T09:35:34.371777Z",
     "shell.execute_reply": "2021-10-21T09:35:34.371180Z",
     "shell.execute_reply.started": "2021-10-20T20:35:43.140724Z"
    },
    "papermill": {
     "duration": 34.843962,
     "end_time": "2021-10-21T09:35:34.371928",
     "exception": false,
     "start_time": "2021-10-21T09:34:59.527966",
     "status": "completed"
    },
    "tags": []
   },
   "outputs": [
    {
     "name": "stderr",
     "output_type": "stream",
     "text": [
      "Error processing line 1 of C:\\Users\\amakr\\AppData\\Local\\Continuum\\anaconda3\\lib\\site-packages\\vision-1.0.0-py3.7-nspkg.pth:\n",
      "\n",
      "  Traceback (most recent call last):\n",
      "    File \"C:\\Users\\amakr\\AppData\\Local\\Continuum\\anaconda3\\lib\\site.py\", line 168, in addpackage\n",
      "      exec(line)\n",
      "    File \"<string>\", line 1, in <module>\n",
      "    File \"<frozen importlib._bootstrap>\", line 580, in module_from_spec\n",
      "  AttributeError: 'NoneType' object has no attribute 'loader'\n",
      "\n",
      "Remainder of file ignored\n"
     ]
    },
    {
     "name": "stdout",
     "output_type": "stream",
     "text": [
      "Requirement already satisfied: fastdtw in c:\\users\\amakr\\appdata\\local\\continuum\\anaconda3\\lib\\site-packages (0.3.4)\n",
      "Requirement already satisfied: numpy in c:\\users\\amakr\\appdata\\local\\continuum\\anaconda3\\lib\\site-packages (from fastdtw) (1.19.5)\n"
     ]
    }
   ],
   "source": [
    "# !pip install fastdtw\n",
    "\n",
    "\n",
    "# train.shape[0],  test.shape[0] , all_data.shape[0]\n"
   ]
  },
  {
   "cell_type": "code",
   "execution_count": 15,
   "id": "7a2ecc87",
   "metadata": {
    "execution": {
     "iopub.execute_input": "2021-10-21T09:35:34.413428Z",
     "iopub.status.busy": "2021-10-21T09:35:34.412694Z",
     "iopub.status.idle": "2021-10-21T09:35:34.417712Z",
     "shell.execute_reply": "2021-10-21T09:35:34.417169Z",
     "shell.execute_reply.started": "2021-10-20T21:44:24.412301Z"
    },
    "papermill": {
     "duration": 0.027497,
     "end_time": "2021-10-21T09:35:34.417855",
     "exception": false,
     "start_time": "2021-10-21T09:35:34.390358",
     "status": "completed"
    },
    "tags": []
   },
   "outputs": [],
   "source": [
    "# def distances(i,train_p):\n",
    "#     res = []\n",
    "#     for j in tqdm(range(train_p.shape[0])):\n",
    "#         distance, _ = fastdtw(train_p.iloc[i,:40].values, train_p.iloc[j,:40].values, dist=None,radius=5)\n",
    "#         res.append(distance)\n",
    "#     return np.array(res)\n",
    "def distances(i,train_p):\n",
    "    return np.array([fastdtw(train_p.iloc[i,:40].values, \n",
    "                                      train_p.iloc[j,:40].values, dist=None,radius=5)[0] for  j in tqdm(range(train_p.shape[0]))])\n",
    "#     res = []\n",
    "#     for j in ):\n",
    "#         distance, _ = \n",
    "#         res.append(distance)\n",
    "#     return np.array(res)"
   ]
  },
  {
   "cell_type": "code",
   "execution_count": 10,
   "id": "8a6c2d0c",
   "metadata": {
    "execution": {
     "iopub.execute_input": "2021-10-21T09:35:34.458804Z",
     "iopub.status.busy": "2021-10-21T09:35:34.457894Z",
     "iopub.status.idle": "2021-10-21T13:28:05.946855Z",
     "shell.execute_reply": "2021-10-21T13:28:05.947537Z",
     "shell.execute_reply.started": "2021-10-20T21:45:09.567373Z"
    },
    "papermill": {
     "duration": 13951.51257,
     "end_time": "2021-10-21T13:28:05.947854",
     "exception": false,
     "start_time": "2021-10-21T09:35:34.435284",
     "status": "completed"
    },
    "tags": []
   },
   "outputs": [
    {
     "name": "stderr",
     "output_type": "stream",
     "text": [
      "100%|██████████████████████████████████████████████████████████████████████| 125750/125750 [00:00<00:00, 188051.58it/s]\n"
     ]
    },
    {
     "name": "stdout",
     "output_type": "stream",
     "text": [
      "0\n"
     ]
    },
    {
     "ename": "TypeError",
     "evalue": "'<' not supported between instances of 'function' and 'function'",
     "output_type": "error",
     "traceback": [
      "\u001b[1;31m---------------------------------------------------------------------------\u001b[0m",
      "\u001b[1;31mTypeError\u001b[0m                                 Traceback (most recent call last)",
      "\u001b[1;32m<ipython-input-10-d5e83d9d0ae6>\u001b[0m in \u001b[0;36m<module>\u001b[1;34m\u001b[0m\n\u001b[1;32m----> 1\u001b[1;33m \u001b[0mtrain\u001b[0m\u001b[1;33m,\u001b[0m \u001b[0mtest\u001b[0m \u001b[1;33m=\u001b[0m \u001b[0mencode_data\u001b[0m\u001b[1;33m(\u001b[0m\u001b[0mtrain\u001b[0m\u001b[1;33m,\u001b[0m \u001b[0mtest\u001b[0m\u001b[1;33m)\u001b[0m\u001b[1;33m\u001b[0m\u001b[1;33m\u001b[0m\u001b[0m\n\u001b[0m\u001b[0;32m      2\u001b[0m \u001b[1;31m# all_ids\u001b[0m\u001b[1;33m\u001b[0m\u001b[1;33m\u001b[0m\u001b[1;33m\u001b[0m\u001b[0m\n\u001b[0;32m      3\u001b[0m \u001b[0mtrain\u001b[0m\u001b[1;33m.\u001b[0m\u001b[0mto_csv\u001b[0m\u001b[1;33m(\u001b[0m\u001b[1;34m'train_clus.csv'\u001b[0m\u001b[1;33m,\u001b[0m\u001b[0mindex\u001b[0m \u001b[1;33m=\u001b[0m \u001b[1;32mFalse\u001b[0m\u001b[1;33m)\u001b[0m\u001b[1;33m\u001b[0m\u001b[1;33m\u001b[0m\u001b[0m\n\u001b[0;32m      4\u001b[0m \u001b[0mtest\u001b[0m\u001b[1;33m.\u001b[0m\u001b[0mto_csv\u001b[0m\u001b[1;33m(\u001b[0m\u001b[1;34m'test_clus.csv'\u001b[0m\u001b[1;33m,\u001b[0m\u001b[0mindex\u001b[0m \u001b[1;33m=\u001b[0m \u001b[1;32mFalse\u001b[0m\u001b[1;33m)\u001b[0m\u001b[1;33m\u001b[0m\u001b[1;33m\u001b[0m\u001b[0m\n",
      "\u001b[1;32m<ipython-input-9-53cacee5b8fa>\u001b[0m in \u001b[0;36mencode_data\u001b[1;34m(train, test)\u001b[0m\n\u001b[0;32m     18\u001b[0m         \u001b[0mid_0\u001b[0m\u001b[1;33m[\u001b[0m\u001b[1;34m'distance'\u001b[0m\u001b[1;33m]\u001b[0m \u001b[1;33m=\u001b[0m \u001b[0mlis\u001b[0m\u001b[1;33m\u001b[0m\u001b[1;33m\u001b[0m\u001b[0m\n\u001b[0;32m     19\u001b[0m \u001b[1;31m#         all_data.loc[all_data.breath_id.isin(id_0.loc[id_0.distance<=id_0['distance'].quantile(0.00125)].breath_id.values),'label']+= str(clus)\u001b[0m\u001b[1;33m\u001b[0m\u001b[1;33m\u001b[0m\u001b[1;33m\u001b[0m\u001b[0m\n\u001b[1;32m---> 20\u001b[1;33m         \u001b[0mall_data\u001b[0m\u001b[1;33m.\u001b[0m\u001b[0mloc\u001b[0m\u001b[1;33m[\u001b[0m\u001b[0mall_data\u001b[0m\u001b[1;33m.\u001b[0m\u001b[0mbreath_id\u001b[0m\u001b[1;33m.\u001b[0m\u001b[0misin\u001b[0m\u001b[1;33m(\u001b[0m\u001b[0mid_0\u001b[0m\u001b[1;33m.\u001b[0m\u001b[0msort_values\u001b[0m\u001b[1;33m(\u001b[0m\u001b[0mby\u001b[0m \u001b[1;33m=\u001b[0m \u001b[1;34m'distance'\u001b[0m\u001b[1;33m)\u001b[0m\u001b[1;33m[\u001b[0m\u001b[1;33m:\u001b[0m\u001b[1;36m250\u001b[0m\u001b[1;33m]\u001b[0m\u001b[1;33m[\u001b[0m\u001b[1;34m'breath_id'\u001b[0m\u001b[1;33m]\u001b[0m\u001b[1;33m.\u001b[0m\u001b[0mvalues\u001b[0m\u001b[1;33m)\u001b[0m\u001b[1;33m,\u001b[0m\u001b[1;34m'label'\u001b[0m\u001b[1;33m]\u001b[0m\u001b[1;33m+=\u001b[0m \u001b[0mstr\u001b[0m\u001b[1;33m(\u001b[0m\u001b[0mclus\u001b[0m\u001b[1;33m)\u001b[0m\u001b[1;33m\u001b[0m\u001b[1;33m\u001b[0m\u001b[0m\n\u001b[0m\u001b[0;32m     21\u001b[0m \u001b[1;33m\u001b[0m\u001b[0m\n\u001b[0;32m     22\u001b[0m         \u001b[0mclus\u001b[0m\u001b[1;33m+=\u001b[0m\u001b[1;36m1\u001b[0m\u001b[1;33m\u001b[0m\u001b[1;33m\u001b[0m\u001b[0m\n",
      "\u001b[1;32m~\\AppData\\Local\\Continuum\\anaconda3\\lib\\site-packages\\pandas\\core\\frame.py\u001b[0m in \u001b[0;36msort_values\u001b[1;34m(self, by, axis, ascending, inplace, kind, na_position, ignore_index, key)\u001b[0m\n\u001b[0;32m   5463\u001b[0m \u001b[1;33m\u001b[0m\u001b[0m\n\u001b[0;32m   5464\u001b[0m             indexer = nargsort(\n\u001b[1;32m-> 5465\u001b[1;33m                 \u001b[0mk\u001b[0m\u001b[1;33m,\u001b[0m \u001b[0mkind\u001b[0m\u001b[1;33m=\u001b[0m\u001b[0mkind\u001b[0m\u001b[1;33m,\u001b[0m \u001b[0mascending\u001b[0m\u001b[1;33m=\u001b[0m\u001b[0mascending\u001b[0m\u001b[1;33m,\u001b[0m \u001b[0mna_position\u001b[0m\u001b[1;33m=\u001b[0m\u001b[0mna_position\u001b[0m\u001b[1;33m,\u001b[0m \u001b[0mkey\u001b[0m\u001b[1;33m=\u001b[0m\u001b[0mkey\u001b[0m\u001b[1;33m\u001b[0m\u001b[1;33m\u001b[0m\u001b[0m\n\u001b[0m\u001b[0;32m   5466\u001b[0m             )\n\u001b[0;32m   5467\u001b[0m \u001b[1;33m\u001b[0m\u001b[0m\n",
      "\u001b[1;32m~\\AppData\\Local\\Continuum\\anaconda3\\lib\\site-packages\\pandas\\core\\sorting.py\u001b[0m in \u001b[0;36mnargsort\u001b[1;34m(items, kind, ascending, na_position, key, mask)\u001b[0m\n\u001b[0;32m    378\u001b[0m         \u001b[0mnon_nans\u001b[0m \u001b[1;33m=\u001b[0m \u001b[0mnon_nans\u001b[0m\u001b[1;33m[\u001b[0m\u001b[1;33m:\u001b[0m\u001b[1;33m:\u001b[0m\u001b[1;33m-\u001b[0m\u001b[1;36m1\u001b[0m\u001b[1;33m]\u001b[0m\u001b[1;33m\u001b[0m\u001b[1;33m\u001b[0m\u001b[0m\n\u001b[0;32m    379\u001b[0m         \u001b[0mnon_nan_idx\u001b[0m \u001b[1;33m=\u001b[0m \u001b[0mnon_nan_idx\u001b[0m\u001b[1;33m[\u001b[0m\u001b[1;33m:\u001b[0m\u001b[1;33m:\u001b[0m\u001b[1;33m-\u001b[0m\u001b[1;36m1\u001b[0m\u001b[1;33m]\u001b[0m\u001b[1;33m\u001b[0m\u001b[1;33m\u001b[0m\u001b[0m\n\u001b[1;32m--> 380\u001b[1;33m     \u001b[0mindexer\u001b[0m \u001b[1;33m=\u001b[0m \u001b[0mnon_nan_idx\u001b[0m\u001b[1;33m[\u001b[0m\u001b[0mnon_nans\u001b[0m\u001b[1;33m.\u001b[0m\u001b[0margsort\u001b[0m\u001b[1;33m(\u001b[0m\u001b[0mkind\u001b[0m\u001b[1;33m=\u001b[0m\u001b[0mkind\u001b[0m\u001b[1;33m)\u001b[0m\u001b[1;33m]\u001b[0m\u001b[1;33m\u001b[0m\u001b[1;33m\u001b[0m\u001b[0m\n\u001b[0m\u001b[0;32m    381\u001b[0m     \u001b[1;32mif\u001b[0m \u001b[1;32mnot\u001b[0m \u001b[0mascending\u001b[0m\u001b[1;33m:\u001b[0m\u001b[1;33m\u001b[0m\u001b[1;33m\u001b[0m\u001b[0m\n\u001b[0;32m    382\u001b[0m         \u001b[0mindexer\u001b[0m \u001b[1;33m=\u001b[0m \u001b[0mindexer\u001b[0m\u001b[1;33m[\u001b[0m\u001b[1;33m:\u001b[0m\u001b[1;33m:\u001b[0m\u001b[1;33m-\u001b[0m\u001b[1;36m1\u001b[0m\u001b[1;33m]\u001b[0m\u001b[1;33m\u001b[0m\u001b[1;33m\u001b[0m\u001b[0m\n",
      "\u001b[1;31mTypeError\u001b[0m: '<' not supported between instances of 'function' and 'function'"
     ]
    }
   ],
   "source": [
    "train, test = encode_data(train, test)\n",
    "# all_ids\n",
    "train.to_csv('train_clus.csv',index = False)\n",
    "test.to_csv('test_clus.csv',index = False)"
   ]
  },
  {
   "cell_type": "code",
   "execution_count": 22,
   "id": "47f548be",
   "metadata": {
    "execution": {
     "iopub.execute_input": "2021-10-21T13:29:29.941107Z",
     "iopub.status.busy": "2021-10-21T13:29:29.940382Z",
     "iopub.status.idle": "2021-10-21T13:29:29.943676Z",
     "shell.execute_reply": "2021-10-21T13:29:29.942937Z",
     "shell.execute_reply.started": "2021-10-20T20:56:22.662009Z"
    },
    "papermill": {
     "duration": 41.849473,
     "end_time": "2021-10-21T13:29:29.943832",
     "exception": false,
     "start_time": "2021-10-21T13:28:48.094359",
     "status": "completed"
    },
    "tags": []
   },
   "outputs": [
    {
     "name": "stdout",
     "output_type": "stream",
     "text": [
      "Collecting pydtw"
     ]
    },
    {
     "name": "stderr",
     "output_type": "stream",
     "text": [
      "Error processing line 1 of C:\\Users\\amakr\\AppData\\Local\\Continuum\\anaconda3\\lib\\site-packages\\vision-1.0.0-py3.7-nspkg.pth:\n",
      "\n",
      "  Traceback (most recent call last):\n",
      "    File \"C:\\Users\\amakr\\AppData\\Local\\Continuum\\anaconda3\\lib\\site.py\", line 168, in addpackage\n",
      "      exec(line)\n",
      "    File \"<string>\", line 1, in <module>\n",
      "    File \"<frozen importlib._bootstrap>\", line 580, in module_from_spec\n",
      "  AttributeError: 'NoneType' object has no attribute 'loader'"
     ]
    },
    {
     "name": "stdout",
     "output_type": "stream",
     "text": [
      "\n",
      "  Downloading pydtw-2.0.2.tar.gz (4.6 kB)\n",
      "Building wheels for collected packages: pydtw\n",
      "  Building wheel for pydtw (setup.py): started\n",
      "  Building wheel for pydtw (setup.py): finished with status 'done'\n",
      "  Created wheel for pydtw: filename=pydtw-2.0.2-cp37-cp37m-win_amd64.whl size=83055 sha256=864288ad37e5adbe4417862434f173782a9c8dbdf3265f4574994233d94c91e1\n",
      "  Stored in directory: c:\\users\\amakr\\appdata\\local\\pip\\cache\\wheels\\5c\\af\\ab\\26fc6a5c8ea5faa3c7f67821ce89f5c31b8557faa006138d13\n",
      "Successfully built pydtw\n",
      "Installing collected packages: pydtw\n",
      "Successfully installed pydtw-2.0.2\n"
     ]
    },
    {
     "name": "stderr",
     "output_type": "stream",
     "text": [
      "\n",
      "\n",
      "Remainder of file ignored\n"
     ]
    }
   ],
   "source": [
    "# train_p.values\n",
    "# 1572*80\n",
    "# train_p\n",
    "# train_p.apply(fastdtw)\n",
    "!pip install pydtw"
   ]
  },
  {
   "cell_type": "code",
   "execution_count": 33,
   "id": "0d68c602",
   "metadata": {
    "execution": {
     "iopub.execute_input": "2021-10-21T13:30:53.137902Z",
     "iopub.status.busy": "2021-10-21T13:30:53.136485Z",
     "iopub.status.idle": "2021-10-21T13:30:53.140842Z",
     "shell.execute_reply": "2021-10-21T13:30:53.140143Z",
     "shell.execute_reply.started": "2021-10-20T21:40:51.677971Z"
    },
    "papermill": {
     "duration": 41.390677,
     "end_time": "2021-10-21T13:30:53.140993",
     "exception": false,
     "start_time": "2021-10-21T13:30:11.750316",
     "status": "completed"
    },
    "tags": []
   },
   "outputs": [
    {
     "data": {
      "text/plain": [
       "inf"
      ]
     },
     "execution_count": 33,
     "metadata": {},
     "output_type": "execute_result"
    }
   ],
   "source": [
    "from pydtw import dtw1d\n",
    "# 1006000/80\n",
    "# all_data.shape [0]/80\n",
    "# a = np.random.rand(10)\n",
    "# b = np.random.rand(15)\n",
    "cost_matrix, cost, alignment_a, alignment_b = dtw1d(train_p.iloc[0,:40].values, train_p.iloc[6,:40].values)\n",
    "cost"
   ]
  },
  {
   "cell_type": "code",
   "execution_count": 32,
   "id": "51076b7d",
   "metadata": {},
   "outputs": [
    {
     "data": {
      "text/plain": [
       "([0,\n",
       "  0,\n",
       "  1,\n",
       "  1,\n",
       "  1,\n",
       "  1,\n",
       "  1,\n",
       "  2,\n",
       "  2,\n",
       "  3,\n",
       "  3,\n",
       "  3,\n",
       "  4,\n",
       "  5,\n",
       "  6,\n",
       "  7,\n",
       "  8,\n",
       "  9,\n",
       "  10,\n",
       "  11,\n",
       "  12,\n",
       "  13,\n",
       "  14,\n",
       "  15,\n",
       "  16,\n",
       "  17,\n",
       "  18,\n",
       "  19,\n",
       "  20,\n",
       "  21,\n",
       "  22,\n",
       "  23,\n",
       "  23,\n",
       "  23,\n",
       "  23,\n",
       "  23,\n",
       "  23,\n",
       "  23,\n",
       "  23,\n",
       "  23,\n",
       "  23,\n",
       "  23,\n",
       "  23,\n",
       "  24,\n",
       "  25,\n",
       "  26,\n",
       "  27,\n",
       "  28,\n",
       "  29,\n",
       "  30,\n",
       "  31,\n",
       "  32,\n",
       "  33,\n",
       "  34,\n",
       "  35,\n",
       "  36,\n",
       "  37,\n",
       "  38,\n",
       "  39],\n",
       " [0,\n",
       "  1,\n",
       "  2,\n",
       "  3,\n",
       "  4,\n",
       "  5,\n",
       "  6,\n",
       "  7,\n",
       "  8,\n",
       "  9,\n",
       "  10,\n",
       "  11,\n",
       "  12,\n",
       "  13,\n",
       "  13,\n",
       "  13,\n",
       "  13,\n",
       "  13,\n",
       "  13,\n",
       "  13,\n",
       "  13,\n",
       "  13,\n",
       "  13,\n",
       "  13,\n",
       "  13,\n",
       "  13,\n",
       "  14,\n",
       "  15,\n",
       "  16,\n",
       "  17,\n",
       "  18,\n",
       "  19,\n",
       "  20,\n",
       "  21,\n",
       "  22,\n",
       "  23,\n",
       "  24,\n",
       "  25,\n",
       "  26,\n",
       "  27,\n",
       "  28,\n",
       "  29,\n",
       "  30,\n",
       "  31,\n",
       "  32,\n",
       "  32,\n",
       "  32,\n",
       "  32,\n",
       "  32,\n",
       "  32,\n",
       "  32,\n",
       "  32,\n",
       "  33,\n",
       "  34,\n",
       "  35,\n",
       "  36,\n",
       "  37,\n",
       "  38,\n",
       "  39])"
      ]
     },
     "execution_count": 32,
     "metadata": {},
     "output_type": "execute_result"
    }
   ],
   "source": [
    "alignment_a, alignment_b"
   ]
  },
  {
   "cell_type": "code",
   "execution_count": 7,
   "id": "7bf42b85",
   "metadata": {
    "execution": {
     "iopub.execute_input": "2021-10-21T13:32:16.723555Z",
     "iopub.status.busy": "2021-10-21T13:32:16.722790Z",
     "iopub.status.idle": "2021-10-21T13:32:16.724868Z",
     "shell.execute_reply": "2021-10-21T13:32:16.724327Z"
    },
    "papermill": {
     "duration": 41.785759,
     "end_time": "2021-10-21T13:32:16.725007",
     "exception": false,
     "start_time": "2021-10-21T13:31:34.939248",
     "status": "completed"
    },
    "tags": []
   },
   "outputs": [],
   "source": [
    "# # kmeans.cluster_centers_[0].shape\n",
    "# import matplotlib.pyplot as plt\n",
    "# def plot_clusters(df,n_clusters,cl = 0,n_samples = 10, inhale_only = True):\n",
    "#     df.id = df.id%80\n",
    "#     df.loc[df.id == 0,'id'] = 80 \n",
    "#     if inhale_only:\n",
    "#         df = df.loc[df.id<40]\n",
    "#     df1 = df.pivot(index = \"breath_id\", columns = 'id', values = 'u_in' )\n",
    "#     kmeans = KMeans(n_clusters=n_clusters, random_state=0).fit(df1.values)\n",
    "#     res = pd.DataFrame({'k_means_labels':kmeans.labels_, 'breath_id': df1.index})\n",
    "    \n",
    "#     plt.plot(kmeans.cluster_centers_[cl])\n",
    "#     for i in range(n_samples):\n",
    "#         plt.plot(df.loc[df.breath_id==res.loc[res.k_means_labels==cl, \n",
    "#                                                   'breath_id'].values[i],'u_in'].values)\n",
    "#     return res"
   ]
  },
  {
   "cell_type": "code",
   "execution_count": null,
   "id": "7e26e2a3",
   "metadata": {
    "papermill": {
     "duration": 41.745119,
     "end_time": "2021-10-21T13:33:40.144539",
     "exception": false,
     "start_time": "2021-10-21T13:32:58.399420",
     "status": "completed"
    },
    "tags": []
   },
   "outputs": [],
   "source": []
  },
  {
   "cell_type": "code",
   "execution_count": 8,
   "id": "00ad90b2",
   "metadata": {
    "execution": {
     "iopub.execute_input": "2021-10-21T13:35:03.928849Z",
     "iopub.status.busy": "2021-10-21T13:35:03.927752Z",
     "iopub.status.idle": "2021-10-21T13:35:03.930414Z",
     "shell.execute_reply": "2021-10-21T13:35:03.929889Z"
    },
    "papermill": {
     "duration": 41.436898,
     "end_time": "2021-10-21T13:35:03.930568",
     "exception": false,
     "start_time": "2021-10-21T13:34:22.493670",
     "status": "completed"
    },
    "tags": []
   },
   "outputs": [],
   "source": [
    "# plot_clusters(train,n_clusters = 500,cl = 0)\n",
    "\n",
    "# distance, path = fastdtw(train_p.iloc[0].values, train_p.iloc[2].values, dist=euclidean)\n",
    "\n",
    "# print(distance)\n",
    "# print(path)\n",
    "# train"
   ]
  },
  {
   "cell_type": "code",
   "execution_count": null,
   "id": "d0779481",
   "metadata": {
    "papermill": {
     "duration": 41.545885,
     "end_time": "2021-10-21T13:36:27.462068",
     "exception": false,
     "start_time": "2021-10-21T13:35:45.916183",
     "status": "completed"
    },
    "tags": []
   },
   "outputs": [],
   "source": []
  },
  {
   "cell_type": "code",
   "execution_count": 9,
   "id": "25af5f01",
   "metadata": {
    "execution": {
     "iopub.execute_input": "2021-10-21T13:37:51.245062Z",
     "iopub.status.busy": "2021-10-21T13:37:51.244401Z",
     "iopub.status.idle": "2021-10-21T13:37:51.246390Z",
     "shell.execute_reply": "2021-10-21T13:37:51.246899Z"
    },
    "papermill": {
     "duration": 42.241945,
     "end_time": "2021-10-21T13:37:51.247071",
     "exception": false,
     "start_time": "2021-10-21T13:37:09.005126",
     "status": "completed"
    },
    "tags": []
   },
   "outputs": [],
   "source": [
    "# kmeans.labels\n"
   ]
  },
  {
   "cell_type": "code",
   "execution_count": null,
   "id": "9e9efeaa",
   "metadata": {
    "papermill": {
     "duration": 44.219984,
     "end_time": "2021-10-21T13:39:17.173680",
     "exception": false,
     "start_time": "2021-10-21T13:38:32.953696",
     "status": "completed"
    },
    "tags": []
   },
   "outputs": [],
   "source": []
  },
  {
   "cell_type": "code",
   "execution_count": null,
   "id": "8cd8fddf",
   "metadata": {
    "papermill": {
     "duration": 41.83379,
     "end_time": "2021-10-21T13:40:40.400922",
     "exception": false,
     "start_time": "2021-10-21T13:39:58.567132",
     "status": "completed"
    },
    "tags": []
   },
   "outputs": [],
   "source": []
  },
  {
   "cell_type": "code",
   "execution_count": 10,
   "id": "f2f8ae52",
   "metadata": {
    "execution": {
     "iopub.execute_input": "2021-10-21T13:42:03.939604Z",
     "iopub.status.busy": "2021-10-21T13:42:03.938655Z",
     "iopub.status.idle": "2021-10-21T13:42:03.940586Z",
     "shell.execute_reply": "2021-10-21T13:42:03.941363Z"
    },
    "papermill": {
     "duration": 42.009858,
     "end_time": "2021-10-21T13:42:03.941601",
     "exception": false,
     "start_time": "2021-10-21T13:41:21.931743",
     "status": "completed"
    },
    "tags": []
   },
   "outputs": [],
   "source": [
    "# import seaborn as sns\n",
    "# sns.distplot(lis)"
   ]
  },
  {
   "cell_type": "code",
   "execution_count": 11,
   "id": "31e6ee4a",
   "metadata": {
    "execution": {
     "iopub.execute_input": "2021-10-21T13:43:27.270468Z",
     "iopub.status.busy": "2021-10-21T13:43:27.269544Z",
     "iopub.status.idle": "2021-10-21T13:43:27.271853Z",
     "shell.execute_reply": "2021-10-21T13:43:27.272480Z"
    },
    "papermill": {
     "duration": 41.633536,
     "end_time": "2021-10-21T13:43:27.272659",
     "exception": false,
     "start_time": "2021-10-21T13:42:45.639123",
     "status": "completed"
    },
    "tags": []
   },
   "outputs": [],
   "source": [
    "\n",
    "# train_p"
   ]
  },
  {
   "cell_type": "code",
   "execution_count": 12,
   "id": "38762109",
   "metadata": {
    "execution": {
     "iopub.execute_input": "2021-10-21T13:44:50.685378Z",
     "iopub.status.busy": "2021-10-21T13:44:50.684111Z",
     "iopub.status.idle": "2021-10-21T13:44:50.686365Z",
     "shell.execute_reply": "2021-10-21T13:44:50.686895Z"
    },
    "papermill": {
     "duration": 41.899607,
     "end_time": "2021-10-21T13:44:50.687076",
     "exception": false,
     "start_time": "2021-10-21T13:44:08.787469",
     "status": "completed"
    },
    "tags": []
   },
   "outputs": [],
   "source": [
    "# for i in :\n",
    "# #     plt.plot(train_p.loc[i])\n",
    "#     plt.plot(train.loc[train.breath_id == i , 'pressure'].values)\n",
    "# # plt.plot(train)\n",
    "# print(id_0.loc[id_0.distance<=15.536774].breath_id.values.shape[0])"
   ]
  },
  {
   "cell_type": "code",
   "execution_count": 13,
   "id": "782cecf6",
   "metadata": {
    "execution": {
     "iopub.execute_input": "2021-10-21T13:46:14.127992Z",
     "iopub.status.busy": "2021-10-21T13:46:14.127303Z",
     "iopub.status.idle": "2021-10-21T13:46:14.129510Z",
     "shell.execute_reply": "2021-10-21T13:46:14.128915Z"
    },
    "papermill": {
     "duration": 41.542914,
     "end_time": "2021-10-21T13:46:14.129651",
     "exception": false,
     "start_time": "2021-10-21T13:45:32.586737",
     "status": "completed"
    },
    "tags": []
   },
   "outputs": [],
   "source": [
    "# train_p.iloc[0,]\n",
    "# id_0.shape"
   ]
  },
  {
   "cell_type": "code",
   "execution_count": null,
   "id": "b6f59056",
   "metadata": {
    "papermill": {
     "duration": 41.612757,
     "end_time": "2021-10-21T13:47:37.624900",
     "exception": false,
     "start_time": "2021-10-21T13:46:56.012143",
     "status": "completed"
    },
    "tags": []
   },
   "outputs": [],
   "source": []
  }
 ],
 "metadata": {
  "kernelspec": {
   "display_name": "tf",
   "language": "python",
   "name": "tf"
  },
  "language_info": {
   "codemirror_mode": {
    "name": "ipython",
    "version": 3
   },
   "file_extension": ".py",
   "mimetype": "text/x-python",
   "name": "python",
   "nbconvert_exporter": "python",
   "pygments_lexer": "ipython3",
   "version": "3.7.7"
  },
  "papermill": {
   "default_parameters": {},
   "duration": 15210.789849,
   "end_time": "2021-10-21T13:48:21.183948",
   "environment_variables": {},
   "exception": null,
   "input_path": "__notebook__.ipynb",
   "output_path": "__notebook__.ipynb",
   "parameters": {},
   "start_time": "2021-10-21T09:34:50.394099",
   "version": "2.3.3"
  }
 },
 "nbformat": 4,
 "nbformat_minor": 5
}
