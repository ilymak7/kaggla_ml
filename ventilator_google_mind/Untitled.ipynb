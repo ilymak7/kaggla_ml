{
 "cells": [
  {
   "cell_type": "code",
   "execution_count": 19,
   "id": "ffad83f1",
   "metadata": {},
   "outputs": [
    {
     "data": {
      "text/html": [
       "        <script type=\"text/javascript\">\n",
       "        window.PlotlyConfig = {MathJaxConfig: 'local'};\n",
       "        if (window.MathJax) {MathJax.Hub.Config({SVG: {font: \"STIX-Web\"}});}\n",
       "        if (typeof require !== 'undefined') {\n",
       "        require.undef(\"plotly\");\n",
       "        requirejs.config({\n",
       "            paths: {\n",
       "                'plotly': ['https://cdn.plot.ly/plotly-latest.min']\n",
       "            }\n",
       "        });\n",
       "        require(['plotly'], function(Plotly) {\n",
       "            window._Plotly = Plotly;\n",
       "        });\n",
       "        }\n",
       "        </script>\n",
       "        "
      ]
     },
     "metadata": {},
     "output_type": "display_data"
    }
   ],
   "source": [
    "import numpy as np \n",
    "import pandas as pd\n",
    "import plotly as py\n",
    "import plotly.graph_objs as go\n",
    "import plotly.express as px\n",
    "from plotly.offline import init_notebook_mode\n",
    "init_notebook_mode(connected = True)\n",
    "import seaborn as sns\n",
    "\n",
    "import matplotlib.pyplot as plt\n",
    "%matplotlib inline\n",
    "\n",
    "import warnings\n",
    "warnings.filterwarnings(\"ignore\")\n",
    "\n",
    "from sklearn.preprocessing import StandardScaler\n",
    "from sklearn.preprocessing import LabelEncoder\n",
    "\n",
    "from sklearn.metrics import mean_absolute_error\n",
    "\n",
    "from sklearn.model_selection import KFold, GroupKFold\n",
    "\n",
    "from sklearn.ensemble import VotingRegressor\n",
    "\n",
    "#import optuna\n",
    "\n",
    "from lightgbm import LGBMRegressor\n",
    "from xgboost import XGBRegressor\n",
    "#from catboost import CatBoostRegressor\n",
    "import gc\n",
    "pd.set_option('display.max_columns', None)\n",
    "#########################################################\n",
    "input_dir = 'data/'"
   ]
  },
  {
   "cell_type": "code",
   "execution_count": 20,
   "id": "0e198bc4",
   "metadata": {},
   "outputs": [],
   "source": [
    "train = pd.read_csv(input_dir+'train.csv')"
   ]
  },
  {
   "cell_type": "code",
   "execution_count": 128,
   "id": "1c7cc50e",
   "metadata": {},
   "outputs": [],
   "source": [
    "id1 = train.groupby('breath_id').get_group(1)\n",
    "id2 = train.groupby('breath_id').get_group(2)\n",
    "id3 = train.groupby('breath_id').get_group(3)\n"
   ]
  },
  {
   "cell_type": "code",
   "execution_count": 22,
   "id": "65c43c6c",
   "metadata": {},
   "outputs": [
    {
     "data": {
      "text/html": [
       "<div>\n",
       "<style scoped>\n",
       "    .dataframe tbody tr th:only-of-type {\n",
       "        vertical-align: middle;\n",
       "    }\n",
       "\n",
       "    .dataframe tbody tr th {\n",
       "        vertical-align: top;\n",
       "    }\n",
       "\n",
       "    .dataframe thead th {\n",
       "        text-align: right;\n",
       "    }\n",
       "</style>\n",
       "<table border=\"1\" class=\"dataframe\">\n",
       "  <thead>\n",
       "    <tr style=\"text-align: right;\">\n",
       "      <th></th>\n",
       "      <th>id</th>\n",
       "      <th>breath_id</th>\n",
       "      <th>R</th>\n",
       "      <th>C</th>\n",
       "      <th>time_step</th>\n",
       "      <th>u_in</th>\n",
       "      <th>u_out</th>\n",
       "      <th>pressure</th>\n",
       "    </tr>\n",
       "  </thead>\n",
       "  <tbody>\n",
       "    <tr>\n",
       "      <th>0</th>\n",
       "      <td>1</td>\n",
       "      <td>1</td>\n",
       "      <td>20</td>\n",
       "      <td>50</td>\n",
       "      <td>0.000000</td>\n",
       "      <td>0.083334</td>\n",
       "      <td>0</td>\n",
       "      <td>5.837492</td>\n",
       "    </tr>\n",
       "    <tr>\n",
       "      <th>1</th>\n",
       "      <td>2</td>\n",
       "      <td>1</td>\n",
       "      <td>20</td>\n",
       "      <td>50</td>\n",
       "      <td>0.033652</td>\n",
       "      <td>18.383041</td>\n",
       "      <td>0</td>\n",
       "      <td>5.907794</td>\n",
       "    </tr>\n",
       "    <tr>\n",
       "      <th>2</th>\n",
       "      <td>3</td>\n",
       "      <td>1</td>\n",
       "      <td>20</td>\n",
       "      <td>50</td>\n",
       "      <td>0.067514</td>\n",
       "      <td>22.509278</td>\n",
       "      <td>0</td>\n",
       "      <td>7.876254</td>\n",
       "    </tr>\n",
       "    <tr>\n",
       "      <th>3</th>\n",
       "      <td>4</td>\n",
       "      <td>1</td>\n",
       "      <td>20</td>\n",
       "      <td>50</td>\n",
       "      <td>0.101542</td>\n",
       "      <td>22.808822</td>\n",
       "      <td>0</td>\n",
       "      <td>11.742872</td>\n",
       "    </tr>\n",
       "    <tr>\n",
       "      <th>4</th>\n",
       "      <td>5</td>\n",
       "      <td>1</td>\n",
       "      <td>20</td>\n",
       "      <td>50</td>\n",
       "      <td>0.135756</td>\n",
       "      <td>25.355850</td>\n",
       "      <td>0</td>\n",
       "      <td>12.234987</td>\n",
       "    </tr>\n",
       "    <tr>\n",
       "      <th>...</th>\n",
       "      <td>...</td>\n",
       "      <td>...</td>\n",
       "      <td>...</td>\n",
       "      <td>...</td>\n",
       "      <td>...</td>\n",
       "      <td>...</td>\n",
       "      <td>...</td>\n",
       "      <td>...</td>\n",
       "    </tr>\n",
       "    <tr>\n",
       "      <th>75</th>\n",
       "      <td>76</td>\n",
       "      <td>1</td>\n",
       "      <td>20</td>\n",
       "      <td>50</td>\n",
       "      <td>2.553593</td>\n",
       "      <td>4.974474</td>\n",
       "      <td>1</td>\n",
       "      <td>6.399909</td>\n",
       "    </tr>\n",
       "    <tr>\n",
       "      <th>76</th>\n",
       "      <td>77</td>\n",
       "      <td>1</td>\n",
       "      <td>20</td>\n",
       "      <td>50</td>\n",
       "      <td>2.587754</td>\n",
       "      <td>4.978481</td>\n",
       "      <td>1</td>\n",
       "      <td>6.610815</td>\n",
       "    </tr>\n",
       "    <tr>\n",
       "      <th>77</th>\n",
       "      <td>78</td>\n",
       "      <td>1</td>\n",
       "      <td>20</td>\n",
       "      <td>50</td>\n",
       "      <td>2.621773</td>\n",
       "      <td>4.981847</td>\n",
       "      <td>1</td>\n",
       "      <td>6.329607</td>\n",
       "    </tr>\n",
       "    <tr>\n",
       "      <th>78</th>\n",
       "      <td>79</td>\n",
       "      <td>1</td>\n",
       "      <td>20</td>\n",
       "      <td>50</td>\n",
       "      <td>2.655746</td>\n",
       "      <td>4.984683</td>\n",
       "      <td>1</td>\n",
       "      <td>6.540513</td>\n",
       "    </tr>\n",
       "    <tr>\n",
       "      <th>79</th>\n",
       "      <td>80</td>\n",
       "      <td>1</td>\n",
       "      <td>20</td>\n",
       "      <td>50</td>\n",
       "      <td>2.689766</td>\n",
       "      <td>4.987079</td>\n",
       "      <td>1</td>\n",
       "      <td>6.470211</td>\n",
       "    </tr>\n",
       "  </tbody>\n",
       "</table>\n",
       "<p>80 rows × 8 columns</p>\n",
       "</div>"
      ],
      "text/plain": [
       "    id  breath_id   R   C  time_step       u_in  u_out   pressure\n",
       "0    1          1  20  50   0.000000   0.083334      0   5.837492\n",
       "1    2          1  20  50   0.033652  18.383041      0   5.907794\n",
       "2    3          1  20  50   0.067514  22.509278      0   7.876254\n",
       "3    4          1  20  50   0.101542  22.808822      0  11.742872\n",
       "4    5          1  20  50   0.135756  25.355850      0  12.234987\n",
       "..  ..        ...  ..  ..        ...        ...    ...        ...\n",
       "75  76          1  20  50   2.553593   4.974474      1   6.399909\n",
       "76  77          1  20  50   2.587754   4.978481      1   6.610815\n",
       "77  78          1  20  50   2.621773   4.981847      1   6.329607\n",
       "78  79          1  20  50   2.655746   4.984683      1   6.540513\n",
       "79  80          1  20  50   2.689766   4.987079      1   6.470211\n",
       "\n",
       "[80 rows x 8 columns]"
      ]
     },
     "execution_count": 22,
     "metadata": {},
     "output_type": "execute_result"
    }
   ],
   "source": [
    "id1"
   ]
  },
  {
   "cell_type": "code",
   "execution_count": 33,
   "id": "79392155",
   "metadata": {},
   "outputs": [
    {
     "data": {
      "text/plain": [
       "<matplotlib.collections.PathCollection at 0x18045bbccc8>"
      ]
     },
     "execution_count": 33,
     "metadata": {},
     "output_type": "execute_result"
    },
    {
     "data": {
      "image/png": "[encoded data removed]",
      "text/plain": [
       "<Figure size 432x288 with 1 Axes>"
      ]
     },
     "metadata": {
      "needs_background": "light"
     },
     "output_type": "display_data"
    }
   ],
   "source": [
    "plt.scatter(id1.time_step,id1.u_in*id1.u_out,c = id1.pressure)"
   ]
  },
  {
   "cell_type": "code",
   "execution_count": 36,
   "id": "ae581a4a",
   "metadata": {},
   "outputs": [
    {
     "data": {
      "text/plain": [
       "1.0"
      ]
     },
     "execution_count": 36,
     "metadata": {},
     "output_type": "execute_result"
    }
   ],
   "source": [
    "id1.u_out.diff().sum()"
   ]
  },
  {
   "cell_type": "code",
   "execution_count": 41,
   "id": "af8bcc35",
   "metadata": {},
   "outputs": [],
   "source": [
    "a= train.groupby('breath_id')['u_out'].diff()"
   ]
  },
  {
   "cell_type": "code",
   "execution_count": 43,
   "id": "602a6000",
   "metadata": {},
   "outputs": [
    {
     "data": {
      "text/plain": [
       "75450.0"
      ]
     },
     "execution_count": 43,
     "metadata": {},
     "output_type": "execute_result"
    }
   ],
   "source": [
    "a.sum()"
   ]
  },
  {
   "cell_type": "code",
   "execution_count": 46,
   "id": "b5d826a5",
   "metadata": {},
   "outputs": [
    {
     "data": {
      "text/plain": [
       "(75450,)"
      ]
     },
     "execution_count": 46,
     "metadata": {},
     "output_type": "execute_result"
    }
   ],
   "source": [
    "train.breath_id.unique().shape"
   ]
  },
  {
   "cell_type": "code",
   "execution_count": 53,
   "id": "42a40316",
   "metadata": {},
   "outputs": [
    {
     "data": {
      "text/plain": [
       "[<matplotlib.lines.Line2D at 0x180c033cf08>]"
      ]
     },
     "execution_count": 53,
     "metadata": {},
     "output_type": "execute_result"
    },
    {
     "data": {
      "image/png": "[encoded data removed]",
      "text/plain": [
       "<Figure size 432x288 with 1 Axes>"
      ]
     },
     "metadata": {
      "needs_background": "light"
     },
     "output_type": "display_data"
    }
   ],
   "source": [
    "plt.plot(id1.pressure.values)\n",
    "plt.plot(id2.pressure.values)\n",
    "plt.plot(id3.pressure.values)"
   ]
  },
  {
   "cell_type": "markdown",
   "id": "707e4f63",
   "metadata": {},
   "source": [
    "# test pareto generalized"
   ]
  },
  {
   "cell_type": "code",
   "execution_count": 54,
   "id": "8467cfc9",
   "metadata": {},
   "outputs": [],
   "source": [
    "import pandas as pd \n",
    "import numpy as np\n",
    "import numpy as np\n",
    "from sklearn import linear_model as lm\n",
    "from sklearn.preprocessing import StandardScaler\n",
    "from scipy.optimize import curve_fit\n",
    "import matplotlib.pyplot as plt\n",
    "from scipy.stats import shapiro\n",
    "from numpy.random import seed\n",
    "from numpy.random import randn"
   ]
  },
  {
   "cell_type": "code",
   "execution_count": 158,
   "id": "fc1b8307",
   "metadata": {},
   "outputs": [],
   "source": [
    "def lin_fit(df,tr=True,vis = False):\n",
    "#     df = train.groupby('breath_id').get_group(i)\n",
    "    def err_curve(x, a,y,u,s):\n",
    "    #     b= 1.5\n",
    "        u_in , time_step = x\n",
    "        return (a/y) * (((x-u)/s)**((1/y)-1)) * ((1+((x-u)/s)**(1/y))**(-1-a)) \n",
    "    # Fit the curve\n",
    "    def fit_err(Time,X):\n",
    "    #     popt, pcov = \n",
    "        return curve_fit(err_curve, Time, X,p0 =[ 1,100,-0.002,1], bounds=(-1000000,1000000), maxfev=10000000)\n",
    "    popt,_ = fit_err(df.time_step.values,df.pressure.values)\n",
    "    a,y,u,s = popt\n",
    "    Y = err_curve(df.time_step.values, a,y,u,s)\n",
    "    if vis :\n",
    "        print(popt)\n",
    "        plt.plot(id2.pressure.values)\n",
    "        plt.plot(Y)\n",
    "    else :\n",
    "        return Y\n",
    "    "
   ]
  },
  {
   "cell_type": "code",
   "execution_count": 417,
   "id": "b27b45e7",
   "metadata": {},
   "outputs": [],
   "source": [
    "# train['lin_model'] = train.groupby('breath_id').apply(lambda x: lin_fit(x))"
   ]
  },
  {
   "cell_type": "code",
   "execution_count": 416,
   "id": "6e5bd562",
   "metadata": {},
   "outputs": [],
   "source": [
    "# err_curve(id1.time_step.values, 1,2,-0.002,0.1)\n",
    "# id1[['pressure','lin_model']].corr()\n",
    "# train[train.breath_id.isin(list(range(1,4)))].corr()\n"
   ]
  },
  {
   "cell_type": "code",
   "execution_count": 415,
   "id": "828db946",
   "metadata": {},
   "outputs": [],
   "source": [
    "# from tqdm import tqdm\n",
    "# breath_ids = train.breath_id.unique().tolist()\n",
    "# train['lin_model']  = 0\n",
    "# for br_id in tqdm(breath_ids):\n",
    "#     train.loc[train.breath_id == br_id,'lin_model']=lin_fit(i = br_id,vis = False)"
   ]
  },
  {
   "cell_type": "code",
   "execution_count": 185,
   "id": "ba7cbaef",
   "metadata": {},
   "outputs": [
    {
     "data": {
      "text/plain": [
       "<AxesSubplot:ylabel='Density'>"
      ]
     },
     "execution_count": 185,
     "metadata": {},
     "output_type": "execute_result"
    },
    {
     "data": {
      "image/png": "[encoded data removed]",
      "text/plain": [
       "<Figure size 432x288 with 1 Axes>"
      ]
     },
     "metadata": {
      "needs_background": "light"
     },
     "output_type": "display_data"
    }
   ],
   "source": [
    "# plt.scatter(id1.u_in.values*id1.u_out.values,id1.pressure.values)\n",
    "# import seaborn as sns\n",
    "# sns.distplot(id2.pressure.values[60:])"
   ]
  },
  {
   "cell_type": "code",
   "execution_count": 137,
   "id": "78f85909",
   "metadata": {},
   "outputs": [
    {
     "data": {
      "text/plain": [
       "80    1900-01-01 00:00:00\n",
       "81    1900-01-01 00:00:00\n",
       "82    1900-01-01 00:00:00\n",
       "83    1900-01-01 00:00:00\n",
       "84    1900-01-01 00:00:00\n",
       "              ...        \n",
       "155   1900-01-01 00:00:02\n",
       "156   1900-01-01 00:00:02\n",
       "157   1900-01-01 00:00:02\n",
       "158   1900-01-01 00:00:02\n",
       "159   1900-01-01 00:00:02\n",
       "Name: time_step, Length: 80, dtype: datetime64[ns]"
      ]
     },
     "execution_count": 137,
     "metadata": {},
     "output_type": "execute_result"
    }
   ],
   "source": [
    "# plt.plot(id2.u_in.rolling(window=10, min_periods=1).mean().values*id2.u_out.rolling(window=10, min_periods=1).mean().values)\n",
    "# plt.plot(id2.u_in.ewm(halflife='time_step',adjust  = True).mean().values)\n",
    "# plt.plot(id2.pressure.values)\n",
    "# type(id2.time_step.values)\n",
    "pd.to_datetime(id2['time_step'],format = \"%S\")\n"
   ]
  },
  {
   "cell_type": "code",
   "execution_count": 189,
   "id": "ff2ce727",
   "metadata": {},
   "outputs": [],
   "source": [
    "id1_0 = id1[id1.u_out == 0]\n",
    "id1_1 = id1[id1.u_out == 1]"
   ]
  },
  {
   "cell_type": "code",
   "execution_count": 209,
   "id": "9c4d28fa",
   "metadata": {},
   "outputs": [],
   "source": [
    "# plt.plot((id1_0.time_step),(id1_0.pressure))\n",
    "# plt.plot((id1_0.time_step),np.log(id1_0.u_in))\n",
    "id1_0['log_u_in'] = np.log(id1_0['u_in'])\n",
    "id1_0['log_pressure'] = np.log(id1_0['pressure'])\n",
    "id1_0['log_time_step'] = np.log(id1_0['time_step'])\n"
   ]
  },
  {
   "cell_type": "code",
   "execution_count": 207,
   "id": "9a61e79d",
   "metadata": {},
   "outputs": [],
   "source": [
    "# id1_0.corr()\n",
    "id1_1['log_u_in'] = np.log(id1_1['u_in'])\n",
    "id1_1['log_pressure'] = np.log(id1_1['pressure'])"
   ]
  },
  {
   "cell_type": "code",
   "execution_count": 210,
   "id": "abe61def",
   "metadata": {},
   "outputs": [
    {
     "data": {
      "text/html": [
       "<div>\n",
       "<style scoped>\n",
       "    .dataframe tbody tr th:only-of-type {\n",
       "        vertical-align: middle;\n",
       "    }\n",
       "\n",
       "    .dataframe tbody tr th {\n",
       "        vertical-align: top;\n",
       "    }\n",
       "\n",
       "    .dataframe thead th {\n",
       "        text-align: right;\n",
       "    }\n",
       "</style>\n",
       "<table border=\"1\" class=\"dataframe\">\n",
       "  <thead>\n",
       "    <tr style=\"text-align: right;\">\n",
       "      <th></th>\n",
       "      <th>id</th>\n",
       "      <th>breath_id</th>\n",
       "      <th>R</th>\n",
       "      <th>C</th>\n",
       "      <th>time_step</th>\n",
       "      <th>u_in</th>\n",
       "      <th>u_out</th>\n",
       "      <th>pressure</th>\n",
       "      <th>lin_model</th>\n",
       "      <th>log_u_in</th>\n",
       "      <th>log_pressure</th>\n",
       "      <th>log_time_step</th>\n",
       "    </tr>\n",
       "  </thead>\n",
       "  <tbody>\n",
       "    <tr>\n",
       "      <th>id</th>\n",
       "      <td>1.000000</td>\n",
       "      <td>NaN</td>\n",
       "      <td>NaN</td>\n",
       "      <td>NaN</td>\n",
       "      <td>0.999999</td>\n",
       "      <td>-0.243773</td>\n",
       "      <td>NaN</td>\n",
       "      <td>0.848241</td>\n",
       "      <td>0.518611</td>\n",
       "      <td>0.183283</td>\n",
       "      <td>0.775382</td>\n",
       "      <td>0.921279</td>\n",
       "    </tr>\n",
       "    <tr>\n",
       "      <th>breath_id</th>\n",
       "      <td>NaN</td>\n",
       "      <td>NaN</td>\n",
       "      <td>NaN</td>\n",
       "      <td>NaN</td>\n",
       "      <td>NaN</td>\n",
       "      <td>NaN</td>\n",
       "      <td>NaN</td>\n",
       "      <td>NaN</td>\n",
       "      <td>NaN</td>\n",
       "      <td>NaN</td>\n",
       "      <td>NaN</td>\n",
       "      <td>NaN</td>\n",
       "    </tr>\n",
       "    <tr>\n",
       "      <th>R</th>\n",
       "      <td>NaN</td>\n",
       "      <td>NaN</td>\n",
       "      <td>NaN</td>\n",
       "      <td>NaN</td>\n",
       "      <td>NaN</td>\n",
       "      <td>NaN</td>\n",
       "      <td>NaN</td>\n",
       "      <td>NaN</td>\n",
       "      <td>NaN</td>\n",
       "      <td>NaN</td>\n",
       "      <td>NaN</td>\n",
       "      <td>NaN</td>\n",
       "    </tr>\n",
       "    <tr>\n",
       "      <th>C</th>\n",
       "      <td>NaN</td>\n",
       "      <td>NaN</td>\n",
       "      <td>NaN</td>\n",
       "      <td>NaN</td>\n",
       "      <td>NaN</td>\n",
       "      <td>NaN</td>\n",
       "      <td>NaN</td>\n",
       "      <td>NaN</td>\n",
       "      <td>NaN</td>\n",
       "      <td>NaN</td>\n",
       "      <td>NaN</td>\n",
       "      <td>NaN</td>\n",
       "    </tr>\n",
       "    <tr>\n",
       "      <th>time_step</th>\n",
       "      <td>0.999999</td>\n",
       "      <td>NaN</td>\n",
       "      <td>NaN</td>\n",
       "      <td>NaN</td>\n",
       "      <td>1.000000</td>\n",
       "      <td>-0.244538</td>\n",
       "      <td>NaN</td>\n",
       "      <td>0.847797</td>\n",
       "      <td>0.517862</td>\n",
       "      <td>0.182689</td>\n",
       "      <td>0.774885</td>\n",
       "      <td>0.921012</td>\n",
       "    </tr>\n",
       "    <tr>\n",
       "      <th>u_in</th>\n",
       "      <td>-0.243773</td>\n",
       "      <td>NaN</td>\n",
       "      <td>NaN</td>\n",
       "      <td>NaN</td>\n",
       "      <td>-0.244538</td>\n",
       "      <td>1.000000</td>\n",
       "      <td>NaN</td>\n",
       "      <td>0.208251</td>\n",
       "      <td>0.667691</td>\n",
       "      <td>0.829010</td>\n",
       "      <td>0.330701</td>\n",
       "      <td>-0.374933</td>\n",
       "    </tr>\n",
       "    <tr>\n",
       "      <th>u_out</th>\n",
       "      <td>NaN</td>\n",
       "      <td>NaN</td>\n",
       "      <td>NaN</td>\n",
       "      <td>NaN</td>\n",
       "      <td>NaN</td>\n",
       "      <td>NaN</td>\n",
       "      <td>NaN</td>\n",
       "      <td>NaN</td>\n",
       "      <td>NaN</td>\n",
       "      <td>NaN</td>\n",
       "      <td>NaN</td>\n",
       "      <td>NaN</td>\n",
       "    </tr>\n",
       "    <tr>\n",
       "      <th>pressure</th>\n",
       "      <td>0.848241</td>\n",
       "      <td>NaN</td>\n",
       "      <td>NaN</td>\n",
       "      <td>NaN</td>\n",
       "      <td>0.847797</td>\n",
       "      <td>0.208251</td>\n",
       "      <td>NaN</td>\n",
       "      <td>1.000000</td>\n",
       "      <td>0.859216</td>\n",
       "      <td>0.451511</td>\n",
       "      <td>0.987139</td>\n",
       "      <td>0.976885</td>\n",
       "    </tr>\n",
       "    <tr>\n",
       "      <th>lin_model</th>\n",
       "      <td>0.518611</td>\n",
       "      <td>NaN</td>\n",
       "      <td>NaN</td>\n",
       "      <td>NaN</td>\n",
       "      <td>0.517862</td>\n",
       "      <td>0.667691</td>\n",
       "      <td>NaN</td>\n",
       "      <td>0.859216</td>\n",
       "      <td>1.000000</td>\n",
       "      <td>0.754234</td>\n",
       "      <td>0.906674</td>\n",
       "      <td>0.754709</td>\n",
       "    </tr>\n",
       "    <tr>\n",
       "      <th>log_u_in</th>\n",
       "      <td>0.183283</td>\n",
       "      <td>NaN</td>\n",
       "      <td>NaN</td>\n",
       "      <td>NaN</td>\n",
       "      <td>0.182689</td>\n",
       "      <td>0.829010</td>\n",
       "      <td>NaN</td>\n",
       "      <td>0.451511</td>\n",
       "      <td>0.754234</td>\n",
       "      <td>1.000000</td>\n",
       "      <td>0.532259</td>\n",
       "      <td>-0.385330</td>\n",
       "    </tr>\n",
       "    <tr>\n",
       "      <th>log_pressure</th>\n",
       "      <td>0.775382</td>\n",
       "      <td>NaN</td>\n",
       "      <td>NaN</td>\n",
       "      <td>NaN</td>\n",
       "      <td>0.774885</td>\n",
       "      <td>0.330701</td>\n",
       "      <td>NaN</td>\n",
       "      <td>0.987139</td>\n",
       "      <td>0.906674</td>\n",
       "      <td>0.532259</td>\n",
       "      <td>1.000000</td>\n",
       "      <td>0.947029</td>\n",
       "    </tr>\n",
       "    <tr>\n",
       "      <th>log_time_step</th>\n",
       "      <td>0.921279</td>\n",
       "      <td>NaN</td>\n",
       "      <td>NaN</td>\n",
       "      <td>NaN</td>\n",
       "      <td>0.921012</td>\n",
       "      <td>-0.374933</td>\n",
       "      <td>NaN</td>\n",
       "      <td>0.976885</td>\n",
       "      <td>0.754709</td>\n",
       "      <td>-0.385330</td>\n",
       "      <td>0.947029</td>\n",
       "      <td>1.000000</td>\n",
       "    </tr>\n",
       "  </tbody>\n",
       "</table>\n",
       "</div>"
      ],
      "text/plain": [
       "                     id  breath_id   R   C  time_step      u_in  u_out  \\\n",
       "id             1.000000        NaN NaN NaN   0.999999 -0.243773    NaN   \n",
       "breath_id           NaN        NaN NaN NaN        NaN       NaN    NaN   \n",
       "R                   NaN        NaN NaN NaN        NaN       NaN    NaN   \n",
       "C                   NaN        NaN NaN NaN        NaN       NaN    NaN   \n",
       "time_step      0.999999        NaN NaN NaN   1.000000 -0.244538    NaN   \n",
       "u_in          -0.243773        NaN NaN NaN  -0.244538  1.000000    NaN   \n",
       "u_out               NaN        NaN NaN NaN        NaN       NaN    NaN   \n",
       "pressure       0.848241        NaN NaN NaN   0.847797  0.208251    NaN   \n",
       "lin_model      0.518611        NaN NaN NaN   0.517862  0.667691    NaN   \n",
       "log_u_in       0.183283        NaN NaN NaN   0.182689  0.829010    NaN   \n",
       "log_pressure   0.775382        NaN NaN NaN   0.774885  0.330701    NaN   \n",
       "log_time_step  0.921279        NaN NaN NaN   0.921012 -0.374933    NaN   \n",
       "\n",
       "               pressure  lin_model  log_u_in  log_pressure  log_time_step  \n",
       "id             0.848241   0.518611  0.183283      0.775382       0.921279  \n",
       "breath_id           NaN        NaN       NaN           NaN            NaN  \n",
       "R                   NaN        NaN       NaN           NaN            NaN  \n",
       "C                   NaN        NaN       NaN           NaN            NaN  \n",
       "time_step      0.847797   0.517862  0.182689      0.774885       0.921012  \n",
       "u_in           0.208251   0.667691  0.829010      0.330701      -0.374933  \n",
       "u_out               NaN        NaN       NaN           NaN            NaN  \n",
       "pressure       1.000000   0.859216  0.451511      0.987139       0.976885  \n",
       "lin_model      0.859216   1.000000  0.754234      0.906674       0.754709  \n",
       "log_u_in       0.451511   0.754234  1.000000      0.532259      -0.385330  \n",
       "log_pressure   0.987139   0.906674  0.532259      1.000000       0.947029  \n",
       "log_time_step  0.976885   0.754709 -0.385330      0.947029       1.000000  "
      ]
     },
     "execution_count": 210,
     "metadata": {},
     "output_type": "execute_result"
    }
   ],
   "source": [
    "id1_0.corr()"
   ]
  },
  {
   "cell_type": "code",
   "execution_count": 428,
   "id": "8a1e5732",
   "metadata": {},
   "outputs": [],
   "source": [
    "def lin_fit2(df,tr=True,vis = False):\n",
    "#     df = train.groupby('breath_id').get_group(i)\n",
    "    print(\"handling \" + str(df.breath_id.unique()))\n",
    "    def err_curve(x, a,b,c):\n",
    "    #     b= 1.5\n",
    "        time_step = x\n",
    "        return c * np.log(a*time_step + b) #+ u_out * d *(1/(time_step+e))**(f)\n",
    "    # Fit the curve\n",
    "    def fit_err(Time,X):\n",
    "    #     popt, pcov = \n",
    "        return curve_fit(err_curve, Time, X,p0 =[ 1,10,1], bounds=(-1000000,1000000), maxfev=10000000)\n",
    "    popt,_ = fit_err(df.loc[df.u_out==0,'time_step'].values,df.loc[df.u_out==0,'pressure'].values)\n",
    "    a,b,c= popt\n",
    "#     df['a'] = a\n",
    "#     df['b'] = b\n",
    "#     df['c'] = c\n",
    "    Y = err_curve(df.loc[df.u_out==0,'time_step'].values, a,b,c)\n",
    "    if vis :\n",
    "        print(popt)\n",
    "        plt.plot(df.loc[df.u_out==0,'pressure'].values)\n",
    "        plt.plot(Y)\n",
    "#     else :\n",
    "#         return Y\n",
    "    def err_curve2(x, d,e,f):\n",
    "    #     b= 1.5\n",
    "        time_step = x\n",
    "        return d *(1/(time_step+abs(e)))**(f)\n",
    "    # Fit the curve\n",
    "    def fit_err2(Time,X):\n",
    "    #     popt, pcov = \n",
    "        return curve_fit(err_curve2, Time, X,p0 =[ 1,10,1], bounds=(-1000000,1000000), maxfev=10000000)\n",
    "    popt,_ = fit_err2(df.loc[df.u_out==1,'time_step'].values,df.loc[df.u_out==1,'pressure'].values)\n",
    "    d,e,f= popt\n",
    "#     new_df['d'] = d\n",
    "#     new_df['e'] = e\n",
    "#     new_df['f'] = f\n",
    "    Y = err_curve2(df.loc[df.u_out==1,'time_step'].values, d,e,f)\n",
    "    if vis :\n",
    "        print(popt)\n",
    "        plt.plot(df.loc[df.u_out==1,'pressure'].values)\n",
    "        plt.plot(Y)\n",
    "#     else :\n",
    "#         return Y\n",
    "    return a,b,c,d,e,f"
   ]
  },
  {
   "cell_type": "code",
   "execution_count": 429,
   "id": "42d895f2",
   "metadata": {},
   "outputs": [
    {
     "name": "stdout",
     "output_type": "stream",
     "text": [
      "handling [1]\n",
      "[-2.35869040e+04  2.36107389e+04  2.43544062e+00]\n",
      "[ 6.90994611e-01  1.06254485e-07 -2.25624207e+00]\n"
     ]
    },
    {
     "data": {
      "text/plain": [
       "(-23586.903990361683,\n",
       " 23610.73889929602,\n",
       " 2.435440624287216,\n",
       " 0.6909946110956897,\n",
       " 1.0625448540853191e-07,\n",
       " -2.2562420710852247)"
      ]
     },
     "execution_count": 429,
     "metadata": {},
     "output_type": "execute_result"
    },
    {
     "data": {
      "image/png": "[encoded data removed]",
      "text/plain": [
       "<Figure size 432x288 with 1 Axes>"
      ]
     },
     "metadata": {
      "needs_background": "light"
     },
     "output_type": "display_data"
    }
   ],
   "source": [
    "def lin_fit2_in(df,tr=True,vis = False):\n",
    "#     df = train.groupby('breath_id').get_group(i)\n",
    "    print(\"handling \" + str(df.breath_id.unique()))\n",
    "    def err_curve(x, a,b,c):\n",
    "    #     b= 1.5\n",
    "        time_step = x\n",
    "        return c * np.log(a*time_step + b) #+ u_out * d *(1/(time_step+e))**(f)\n",
    "    # Fit the curve\n",
    "    def fit_err(Time,X):\n",
    "    #     popt, pcov = \n",
    "        return curve_fit(err_curve, Time, X,p0 =[ 1,10,1], bounds=(-1000000,1000000), maxfev=10000000)\n",
    "    popt,_ = fit_err(df.loc[df.u_out==0,'time_step'].values,df.loc[df.u_out==0,'u_in'].values)\n",
    "    a,b,c= popt\n",
    "#     df['a'] = a\n",
    "#     df['b'] = b\n",
    "#     df['c'] = c\n",
    "    Y = err_curve(df.loc[df.u_out==0,'time_step'].values, a,b,c)\n",
    "    if vis :\n",
    "        print(popt)\n",
    "        plt.plot(df.loc[df.u_out==0,'u_in'].values)\n",
    "        plt.plot(Y)\n",
    "#     else :\n",
    "#         return Y\n",
    "    def err_curve2(x, d,e,f):\n",
    "    #     b= 1.5\n",
    "        time_step = x\n",
    "        return d *(1/(time_step+abs(e)))**(f)\n",
    "    # Fit the curve\n",
    "    def fit_err2(Time,X):\n",
    "    #     popt, pcov = \n",
    "        return curve_fit(err_curve2, Time, X,p0 =[ 1,10,1], bounds=(-1000000,1000000), maxfev=10000000)\n",
    "    popt,_ = fit_err2(df.loc[df.u_out==1,'time_step'].values,df.loc[df.u_out==1,'u_in'].values)\n",
    "    d,e,f= popt\n",
    "#     new_df['d'] = d\n",
    "#     new_df['e'] = e\n",
    "#     new_df['f'] = f\n",
    "    Y = err_curve2(df.loc[df.u_out==1,'time_step'].values, d,e,f)\n",
    "    if vis :\n",
    "        print(popt)\n",
    "        plt.plot(df.loc[df.u_out==1,'u_in'].values)\n",
    "        plt.plot(Y)\n",
    "#     else :\n",
    "#         return Y\n",
    "    return a,b,c,d,e,f\n",
    "lin_fit2_in(id1,tr=True,vis = True)"
   ]
  },
  {
   "cell_type": "code",
   "execution_count": 430,
   "id": "9c33a160",
   "metadata": {},
   "outputs": [
    {
     "name": "stdout",
     "output_type": "stream",
     "text": [
      "handling [1]\n",
      "[111.20672512   2.9963598    4.27510728]\n",
      "[1.11780762e+01 5.83822423e-08 6.99673832e-01]\n"
     ]
    },
    {
     "data": {
      "text/plain": [
       "(111.20672512376913,\n",
       " 2.996359796972625,\n",
       " 4.275107281847082,\n",
       " 11.178076168802429,\n",
       " 5.838224231877143e-08,\n",
       " 0.6996738315054903)"
      ]
     },
     "execution_count": 430,
     "metadata": {},
     "output_type": "execute_result"
    },
    {
     "data": {
      "image/png": "[encoded data removed]",
      "text/plain": [
       "<Figure size 432x288 with 1 Axes>"
      ]
     },
     "metadata": {
      "needs_background": "light"
     },
     "output_type": "display_data"
    }
   ],
   "source": [
    "\n",
    "lin_fit2(id1,tr=True,vis = True)\n",
    "# fit_err2(id1.loc[id1.u_out==1,'time_step'].values,id1.loc[id1.u_out==1,'pressure'].values)\n",
    "# test = train.loc[train.breath_id.isin(train.breath_id.unique().tolist()[:600])]"
   ]
  },
  {
   "cell_type": "code",
   "execution_count": 437,
   "id": "5a01f0d2",
   "metadata": {},
   "outputs": [],
   "source": [
    "# plt.plot(id1.u_in)\n",
    "# plt.plot(id1.pressure)\n",
    "id1['u_id_diff'] = id1.u_in.diff().fillna(0)"
   ]
  },
  {
   "cell_type": "code",
   "execution_count": 439,
   "id": "0f25b411",
   "metadata": {},
   "outputs": [
    {
     "data": {
      "text/plain": [
       "[<matplotlib.lines.Line2D at 0x180677d0d08>]"
      ]
     },
     "execution_count": 439,
     "metadata": {},
     "output_type": "execute_result"
    },
    {
     "data": {
      "image/png": "[encoded data removed]",
      "text/plain": [
       "<Figure size 432x288 with 1 Axes>"
      ]
     },
     "metadata": {
      "needs_background": "light"
     },
     "output_type": "display_data"
    }
   ],
   "source": [
    "plt.plot(id1.u_id_diff)\n",
    "plt.plot(id1.pressure)"
   ]
  },
  {
   "cell_type": "code",
   "execution_count": 300,
   "id": "41807d94",
   "metadata": {},
   "outputs": [
    {
     "name": "stderr",
     "output_type": "stream",
     "text": [
      "  0%|▎                                                                                 | 2/600 [00:00<00:43, 13.89it/s]"
     ]
    },
    {
     "name": "stdout",
     "output_type": "stream",
     "text": [
      "handling [1]\n",
      "handling [2]\n",
      "handling [3]\n"
     ]
    },
    {
     "name": "stderr",
     "output_type": "stream",
     "text": [
      "  1%|▊                                                                                 | 6/600 [00:00<00:34, 17.15it/s]"
     ]
    },
    {
     "name": "stdout",
     "output_type": "stream",
     "text": [
      "handling [4]\n",
      "handling [5]\n",
      "handling [6]\n",
      "handling [7]\n"
     ]
    },
    {
     "name": "stderr",
     "output_type": "stream",
     "text": [
      "  2%|█▎                                                                               | 10/600 [00:01<01:15,  7.76it/s]"
     ]
    },
    {
     "name": "stdout",
     "output_type": "stream",
     "text": [
      "handling [9]\n",
      "handling [10]\n",
      "handling [12]\n"
     ]
    },
    {
     "name": "stderr",
     "output_type": "stream",
     "text": [
      "\r",
      "  2%|█▊                                                                               | 13/600 [00:01<00:54, 10.69it/s]"
     ]
    },
    {
     "name": "stdout",
     "output_type": "stream",
     "text": [
      "handling [13]\n",
      "handling [14]\n",
      "handling [15]\n",
      "handling [16]\n",
      "handling [17]\n"
     ]
    },
    {
     "name": "stderr",
     "output_type": "stream",
     "text": [
      "  3%|██▍                                                                              | 18/600 [00:01<00:41, 13.89it/s]"
     ]
    },
    {
     "name": "stdout",
     "output_type": "stream",
     "text": [
      "handling [18]\n",
      "handling [19]\n",
      "handling [20]\n",
      "handling [21]\n"
     ]
    },
    {
     "name": "stderr",
     "output_type": "stream",
     "text": [
      "\r",
      "  4%|██▊                                                                              | 21/600 [00:01<00:36, 16.00it/s]"
     ]
    },
    {
     "name": "stdout",
     "output_type": "stream",
     "text": [
      "handling [22]\n",
      "handling [23]\n",
      "handling [25]\n"
     ]
    },
    {
     "name": "stderr",
     "output_type": "stream",
     "text": [
      "  4%|███▍                                                                             | 25/600 [00:01<00:35, 16.38it/s]"
     ]
    },
    {
     "name": "stdout",
     "output_type": "stream",
     "text": [
      "handling [26]\n",
      "handling [27]\n",
      "handling [28]\n",
      "handling [29]\n"
     ]
    },
    {
     "name": "stderr",
     "output_type": "stream",
     "text": [
      "  5%|███▉                                                                             | 29/600 [00:02<00:33, 16.92it/s]"
     ]
    },
    {
     "name": "stdout",
     "output_type": "stream",
     "text": [
      "handling [30]\n",
      "handling [32]\n",
      "handling [34]\n",
      "handling [35]\n"
     ]
    },
    {
     "name": "stderr",
     "output_type": "stream",
     "text": [
      "  6%|████▍                                                                            | 33/600 [00:02<00:34, 16.30it/s]"
     ]
    },
    {
     "name": "stdout",
     "output_type": "stream",
     "text": [
      "handling [36]\n",
      "handling [37]\n",
      "handling [39]\n"
     ]
    },
    {
     "name": "stderr",
     "output_type": "stream",
     "text": [
      "\r",
      "  6%|████▋                                                                            | 35/600 [00:02<00:35, 16.08it/s]"
     ]
    },
    {
     "name": "stdout",
     "output_type": "stream",
     "text": [
      "handling [40]\n",
      "handling [41]\n",
      "handling [42]\n",
      "handling [43]\n"
     ]
    },
    {
     "name": "stderr",
     "output_type": "stream",
     "text": [
      "  6%|█████▎                                                                           | 39/600 [00:02<00:34, 16.06it/s]"
     ]
    },
    {
     "name": "stdout",
     "output_type": "stream",
     "text": [
      "handling [44]\n",
      "handling [46]\n",
      "handling [47]\n",
      "handling [48]\n"
     ]
    },
    {
     "name": "stderr",
     "output_type": "stream",
     "text": [
      "  7%|█████▊                                                                           | 43/600 [00:03<00:32, 17.10it/s]"
     ]
    },
    {
     "name": "stdout",
     "output_type": "stream",
     "text": [
      "handling [49]\n",
      "handling [52]\n",
      "handling [53]\n",
      "handling [54]\n"
     ]
    },
    {
     "name": "stderr",
     "output_type": "stream",
     "text": [
      "  8%|██████▍                                                                          | 48/600 [00:03<00:32, 16.75it/s]"
     ]
    },
    {
     "name": "stdout",
     "output_type": "stream",
     "text": [
      "handling [55]\n",
      "handling [57]\n",
      "handling [58]\n",
      "handling [59]\n"
     ]
    },
    {
     "name": "stderr",
     "output_type": "stream",
     "text": [
      "  9%|███████▏                                                                         | 53/600 [00:03<00:29, 18.31it/s]"
     ]
    },
    {
     "name": "stdout",
     "output_type": "stream",
     "text": [
      "handling [60]\n",
      "handling [61]\n",
      "handling [63]\n",
      "handling [64]\n",
      "handling [66]\n"
     ]
    },
    {
     "name": "stderr",
     "output_type": "stream",
     "text": [
      "\r",
      "  9%|███████▍                                                                         | 55/600 [00:03<00:42, 12.83it/s]"
     ]
    },
    {
     "name": "stdout",
     "output_type": "stream",
     "text": [
      "handling [67]\n",
      "handling [68]\n",
      "handling [69]\n"
     ]
    },
    {
     "name": "stderr",
     "output_type": "stream",
     "text": [
      " 10%|███████▉                                                                         | 59/600 [00:04<01:22,  6.54it/s]"
     ]
    },
    {
     "name": "stdout",
     "output_type": "stream",
     "text": [
      "handling [70]\n",
      "handling [71]\n",
      "handling [72]\n"
     ]
    },
    {
     "name": "stderr",
     "output_type": "stream",
     "text": [
      "\r",
      " 10%|████████▏                                                                        | 61/600 [00:05<01:07,  8.00it/s]"
     ]
    },
    {
     "name": "stdout",
     "output_type": "stream",
     "text": [
      "handling [73]\n",
      "handling [75]\n"
     ]
    },
    {
     "name": "stderr",
     "output_type": "stream",
     "text": [
      " 11%|████████▊                                                                        | 65/600 [00:05<01:15,  7.08it/s]"
     ]
    },
    {
     "name": "stdout",
     "output_type": "stream",
     "text": [
      "handling [76]\n",
      "handling [77]\n",
      "handling [79]\n",
      "handling [82]\n"
     ]
    },
    {
     "name": "stderr",
     "output_type": "stream",
     "text": [
      " 12%|█████████▎                                                                       | 69/600 [00:05<00:51, 10.27it/s]"
     ]
    },
    {
     "name": "stdout",
     "output_type": "stream",
     "text": [
      "handling [83]\n",
      "handling [84]\n",
      "handling [87]\n",
      "handling [89]\n",
      "handling [90]\n"
     ]
    },
    {
     "name": "stderr",
     "output_type": "stream",
     "text": [
      " 12%|█████████▉                                                                       | 74/600 [00:06<00:39, 13.26it/s]"
     ]
    },
    {
     "name": "stdout",
     "output_type": "stream",
     "text": [
      "handling [92]\n",
      "handling [93]\n",
      "handling [94]\n",
      "handling [100]\n",
      "handling [101]\n"
     ]
    },
    {
     "name": "stderr",
     "output_type": "stream",
     "text": [
      "\r",
      " 13%|██████████▎                                                                      | 76/600 [00:06<00:44, 11.68it/s]"
     ]
    },
    {
     "name": "stdout",
     "output_type": "stream",
     "text": [
      "handling [104]\n",
      "handling [106]\n"
     ]
    },
    {
     "name": "stderr",
     "output_type": "stream",
     "text": [
      "\r",
      " 13%|██████████▌                                                                      | 78/600 [00:07<01:41,  5.14it/s]"
     ]
    },
    {
     "name": "stdout",
     "output_type": "stream",
     "text": [
      "handling [108]\n"
     ]
    },
    {
     "name": "stderr",
     "output_type": "stream",
     "text": [
      "\r",
      " 13%|██████████▊                                                                      | 80/600 [00:08<02:18,  3.75it/s]"
     ]
    },
    {
     "name": "stdout",
     "output_type": "stream",
     "text": [
      "handling [111]\n",
      "handling [112]\n"
     ]
    },
    {
     "name": "stderr",
     "output_type": "stream",
     "text": [
      " 14%|███████████                                                                      | 82/600 [00:09<02:40,  3.23it/s]"
     ]
    },
    {
     "name": "stdout",
     "output_type": "stream",
     "text": [
      "handling [114]\n",
      "handling [115]\n",
      "handling [117]\n"
     ]
    },
    {
     "name": "stderr",
     "output_type": "stream",
     "text": [
      " 15%|███████████▉                                                                     | 88/600 [00:09<01:07,  7.55it/s]"
     ]
    },
    {
     "name": "stdout",
     "output_type": "stream",
     "text": [
      "handling [118]\n",
      "handling [119]\n",
      "handling [120]\n",
      "handling [122]\n",
      "handling [125]\n"
     ]
    },
    {
     "name": "stderr",
     "output_type": "stream",
     "text": [
      " 16%|████████████▌                                                                    | 93/600 [00:09<00:44, 11.36it/s]"
     ]
    },
    {
     "name": "stdout",
     "output_type": "stream",
     "text": [
      "handling [126]\n",
      "handling [129]\n",
      "handling [130]\n",
      "handling [131]\n"
     ]
    },
    {
     "name": "stderr",
     "output_type": "stream",
     "text": [
      "\r",
      " 16%|████████████▉                                                                    | 96/600 [00:09<00:36, 13.63it/s]"
     ]
    },
    {
     "name": "stdout",
     "output_type": "stream",
     "text": [
      "handling [133]\n",
      "handling [134]\n",
      "handling [135]\n",
      "handling [136]\n",
      "handling [138]\n"
     ]
    },
    {
     "name": "stderr",
     "output_type": "stream",
     "text": [
      " 17%|█████████████▍                                                                  | 101/600 [00:10<00:33, 14.79it/s]"
     ]
    },
    {
     "name": "stdout",
     "output_type": "stream",
     "text": [
      "handling [141]\n",
      "handling [142]\n",
      "handling [143]\n",
      "handling [144]\n",
      "handling [146]\n",
      "handling [147]\n"
     ]
    },
    {
     "name": "stderr",
     "output_type": "stream",
     "text": [
      " 18%|██████████████▏                                                                 | 106/600 [00:11<01:18,  6.29it/s]"
     ]
    },
    {
     "name": "stdout",
     "output_type": "stream",
     "text": [
      "handling [148]\n",
      "handling [149]\n",
      "handling [150]\n",
      "handling [151]\n",
      "handling [152]\n"
     ]
    },
    {
     "name": "stderr",
     "output_type": "stream",
     "text": [
      " 18%|██████████████▊                                                                 | 111/600 [00:11<00:49,  9.82it/s]"
     ]
    },
    {
     "name": "stdout",
     "output_type": "stream",
     "text": [
      "handling [154]\n",
      "handling [155]\n",
      "handling [156]\n",
      "handling [157]\n",
      "handling [160]\n"
     ]
    },
    {
     "name": "stderr",
     "output_type": "stream",
     "text": [
      " 19%|███████████████▍                                                                | 116/600 [00:12<00:36, 13.14it/s]"
     ]
    },
    {
     "name": "stdout",
     "output_type": "stream",
     "text": [
      "handling [162]\n",
      "handling [163]\n",
      "handling [164]\n",
      "handling [165]\n"
     ]
    },
    {
     "name": "stderr",
     "output_type": "stream",
     "text": [
      " 20%|████████████████                                                                | 120/600 [00:13<01:20,  5.97it/s]"
     ]
    },
    {
     "name": "stdout",
     "output_type": "stream",
     "text": [
      "handling [166]\n",
      "handling [167]\n",
      "handling [169]\n",
      "handling [170]\n"
     ]
    },
    {
     "name": "stderr",
     "output_type": "stream",
     "text": [
      " 21%|████████████████▋                                                               | 125/600 [00:13<00:51,  9.29it/s]"
     ]
    },
    {
     "name": "stdout",
     "output_type": "stream",
     "text": [
      "handling [172]\n",
      "handling [173]\n",
      "handling [175]\n",
      "handling [176]\n"
     ]
    },
    {
     "name": "stderr",
     "output_type": "stream",
     "text": [
      "\r",
      " 21%|████████████████▉                                                               | 127/600 [00:13<00:43, 10.80it/s]"
     ]
    },
    {
     "name": "stdout",
     "output_type": "stream",
     "text": [
      "handling [177]\n",
      "handling [179]\n",
      "handling [181]\n"
     ]
    },
    {
     "name": "stderr",
     "output_type": "stream",
     "text": [
      " 22%|█████████████████▌                                                              | 132/600 [00:14<01:09,  6.76it/s]"
     ]
    },
    {
     "name": "stdout",
     "output_type": "stream",
     "text": [
      "handling [183]\n",
      "handling [184]\n",
      "handling [186]\n",
      "handling [187]\n"
     ]
    },
    {
     "name": "stderr",
     "output_type": "stream",
     "text": [
      "\r",
      " 22%|█████████████████▊                                                              | 134/600 [00:15<01:23,  5.59it/s]"
     ]
    },
    {
     "name": "stdout",
     "output_type": "stream",
     "text": [
      "handling [188]\n",
      "handling [189]\n",
      "handling [190]\n",
      "handling [191]\n"
     ]
    },
    {
     "name": "stderr",
     "output_type": "stream",
     "text": [
      " 23%|██████████████████▋                                                             | 140/600 [00:15<00:53,  8.65it/s]"
     ]
    },
    {
     "name": "stdout",
     "output_type": "stream",
     "text": [
      "handling [192]\n",
      "handling [193]\n",
      "handling [197]\n",
      "handling [199]\n",
      "handling [201]\n",
      "handling [202]\n"
     ]
    },
    {
     "name": "stderr",
     "output_type": "stream",
     "text": [
      " 24%|███████████████████▍                                                            | 146/600 [00:16<00:36, 12.57it/s]"
     ]
    },
    {
     "name": "stdout",
     "output_type": "stream",
     "text": [
      "handling [203]\n",
      "handling [204]\n",
      "handling [207]\n",
      "handling [208]\n"
     ]
    },
    {
     "name": "stderr",
     "output_type": "stream",
     "text": [
      "\r",
      " 25%|███████████████████▋                                                            | 148/600 [00:16<01:09,  6.47it/s]"
     ]
    },
    {
     "name": "stdout",
     "output_type": "stream",
     "text": [
      "handling [211]\n",
      "handling [212]\n",
      "handling [213]\n",
      "handling [214]\n"
     ]
    },
    {
     "name": "stderr",
     "output_type": "stream",
     "text": [
      " 26%|████████████████████▍                                                           | 153/600 [00:17<00:47,  9.39it/s]"
     ]
    },
    {
     "name": "stdout",
     "output_type": "stream",
     "text": [
      "handling [216]\n",
      "handling [217]\n",
      "handling [218]\n",
      "handling [219]\n"
     ]
    },
    {
     "name": "stderr",
     "output_type": "stream",
     "text": [
      " 26%|█████████████████████▏                                                          | 159/600 [00:17<00:32, 13.47it/s]"
     ]
    },
    {
     "name": "stdout",
     "output_type": "stream",
     "text": [
      "handling [221]\n",
      "handling [223]\n",
      "handling [224]\n",
      "handling [225]\n"
     ]
    },
    {
     "name": "stderr",
     "output_type": "stream",
     "text": [
      "\r",
      " 27%|█████████████████████▍                                                          | 161/600 [00:17<00:30, 14.31it/s]"
     ]
    },
    {
     "name": "stdout",
     "output_type": "stream",
     "text": [
      "handling [226]\n",
      "handling [227]\n",
      "handling [229]\n",
      "handling [230]\n"
     ]
    },
    {
     "name": "stderr",
     "output_type": "stream",
     "text": [
      " 28%|██████████████████████▏                                                         | 166/600 [00:17<00:25, 17.15it/s]"
     ]
    },
    {
     "name": "stdout",
     "output_type": "stream",
     "text": [
      "handling [231]\n",
      "handling [234]\n",
      "handling [235]\n",
      "handling [237]\n",
      "handling [238]\n"
     ]
    },
    {
     "name": "stderr",
     "output_type": "stream",
     "text": [
      " 28%|██████████████████████▋                                                         | 170/600 [00:18<00:51,  8.39it/s]"
     ]
    },
    {
     "name": "stdout",
     "output_type": "stream",
     "text": [
      "handling [239]\n",
      "handling [240]\n",
      "handling [241]\n",
      "handling [242]\n"
     ]
    },
    {
     "name": "stderr",
     "output_type": "stream",
     "text": [
      " 29%|███████████████████████▎                                                        | 175/600 [00:19<00:34, 12.17it/s]"
     ]
    },
    {
     "name": "stdout",
     "output_type": "stream",
     "text": [
      "handling [244]\n",
      "handling [245]\n",
      "handling [249]\n",
      "handling [251]\n",
      "handling [254]\n",
      "handling [255]\n"
     ]
    },
    {
     "name": "stderr",
     "output_type": "stream",
     "text": [
      " 30%|████████████████████████                                                        | 180/600 [00:19<00:27, 15.30it/s]"
     ]
    },
    {
     "name": "stdout",
     "output_type": "stream",
     "text": [
      "handling [256]\n",
      "handling [257]\n",
      "handling [258]\n",
      "handling [259]\n",
      "handling [262]\n"
     ]
    },
    {
     "name": "stderr",
     "output_type": "stream",
     "text": [
      " 31%|████████████████████████▊                                                       | 186/600 [00:19<00:23, 17.96it/s]"
     ]
    },
    {
     "name": "stdout",
     "output_type": "stream",
     "text": [
      "handling [263]\n",
      "handling [264]\n",
      "handling [267]\n",
      "handling [270]\n",
      "handling [271]\n"
     ]
    },
    {
     "name": "stderr",
     "output_type": "stream",
     "text": [
      " 32%|█████████████████████████▌                                                      | 192/600 [00:19<00:20, 20.03it/s]"
     ]
    },
    {
     "name": "stdout",
     "output_type": "stream",
     "text": [
      "handling [275]\n",
      "handling [277]\n",
      "handling [278]\n",
      "handling [280]\n",
      "handling [281]\n"
     ]
    },
    {
     "name": "stderr",
     "output_type": "stream",
     "text": [
      "\r",
      " 32%|██████████████████████████                                                      | 195/600 [00:19<00:21, 19.15it/s]"
     ]
    },
    {
     "name": "stdout",
     "output_type": "stream",
     "text": [
      "handling [283]\n",
      "handling [284]\n",
      "handling [285]\n",
      "handling [286]\n"
     ]
    },
    {
     "name": "stderr",
     "output_type": "stream",
     "text": [
      " 34%|██████████████████████████▊                                                     | 201/600 [00:20<00:20, 19.93it/s]"
     ]
    },
    {
     "name": "stdout",
     "output_type": "stream",
     "text": [
      "handling [287]\n",
      "handling [289]\n",
      "handling [290]\n",
      "handling [292]\n"
     ]
    },
    {
     "name": "stderr",
     "output_type": "stream",
     "text": [
      "\r",
      " 34%|███████████████████████████▏                                                    | 204/600 [00:20<00:20, 19.25it/s]"
     ]
    },
    {
     "name": "stdout",
     "output_type": "stream",
     "text": [
      "handling [294]\n",
      "handling [296]\n",
      "handling [297]\n",
      "handling [298]\n"
     ]
    },
    {
     "name": "stderr",
     "output_type": "stream",
     "text": [
      "\r",
      " 34%|███████████████████████████▌                                                    | 207/600 [00:20<00:19, 20.32it/s]"
     ]
    },
    {
     "name": "stdout",
     "output_type": "stream",
     "text": [
      "handling [299]\n",
      "handling [302]\n",
      "handling [303]\n",
      "handling [304]\n",
      "handling [305]\n"
     ]
    },
    {
     "name": "stderr",
     "output_type": "stream",
     "text": [
      "\r",
      " 35%|████████████████████████████                                                    | 210/600 [00:20<00:19, 19.51it/s]"
     ]
    },
    {
     "name": "stdout",
     "output_type": "stream",
     "text": [
      "handling [307]\n"
     ]
    },
    {
     "name": "stderr",
     "output_type": "stream",
     "text": [
      " 36%|████████████████████████████▌                                                   | 214/600 [00:25<02:37,  2.45it/s]"
     ]
    },
    {
     "name": "stdout",
     "output_type": "stream",
     "text": [
      "handling [309]\n",
      "handling [313]\n",
      "handling [314]\n",
      "handling [316]\n",
      "handling [317]\n"
     ]
    },
    {
     "name": "stderr",
     "output_type": "stream",
     "text": [
      " 37%|█████████████████████████████▎                                                  | 220/600 [00:25<01:17,  4.90it/s]"
     ]
    },
    {
     "name": "stdout",
     "output_type": "stream",
     "text": [
      "handling [319]\n",
      "handling [321]\n",
      "handling [323]\n",
      "handling [324]\n",
      "handling [325]\n"
     ]
    },
    {
     "name": "stderr",
     "output_type": "stream",
     "text": [
      " 38%|██████████████████████████████                                                  | 225/600 [00:27<01:51,  3.37it/s]"
     ]
    },
    {
     "name": "stdout",
     "output_type": "stream",
     "text": [
      "handling [326]\n",
      "handling [327]\n",
      "handling [328]\n",
      "handling [329]\n",
      "handling [331]\n"
     ]
    },
    {
     "name": "stderr",
     "output_type": "stream",
     "text": [
      "\r",
      " 38%|██████████████████████████████▍                                                 | 228/600 [00:27<01:20,  4.65it/s]"
     ]
    },
    {
     "name": "stdout",
     "output_type": "stream",
     "text": [
      "handling [332]\n",
      "handling [333]\n",
      "handling [334]\n",
      "handling [335]\n"
     ]
    },
    {
     "name": "stderr",
     "output_type": "stream",
     "text": [
      "\r",
      " 38%|██████████████████████████████▋                                                 | 230/600 [00:28<01:40,  3.69it/s]"
     ]
    },
    {
     "name": "stdout",
     "output_type": "stream",
     "text": [
      "handling [337]\n",
      "handling [338]\n"
     ]
    },
    {
     "name": "stderr",
     "output_type": "stream",
     "text": [
      " 39%|███████████████████████████████▏                                                | 234/600 [00:29<01:34,  3.86it/s]"
     ]
    },
    {
     "name": "stdout",
     "output_type": "stream",
     "text": [
      "handling [340]\n",
      "handling [342]\n",
      "handling [344]\n",
      "handling [345]\n",
      "handling [346]\n"
     ]
    },
    {
     "name": "stderr",
     "output_type": "stream",
     "text": [
      " 40%|███████████████████████████████▊                                                | 239/600 [00:30<00:54,  6.58it/s]"
     ]
    },
    {
     "name": "stdout",
     "output_type": "stream",
     "text": [
      "handling [349]\n",
      "handling [352]\n",
      "handling [353]\n",
      "handling [354]\n"
     ]
    },
    {
     "name": "stderr",
     "output_type": "stream",
     "text": [
      " 40%|████████████████████████████████▍                                               | 243/600 [00:30<00:38,  9.31it/s]"
     ]
    },
    {
     "name": "stdout",
     "output_type": "stream",
     "text": [
      "handling [356]\n",
      "handling [357]\n",
      "handling [358]\n",
      "handling [359]\n"
     ]
    },
    {
     "name": "stderr",
     "output_type": "stream",
     "text": [
      " 41%|████████████████████████████████▉                                               | 247/600 [00:30<00:31, 11.13it/s]"
     ]
    },
    {
     "name": "stdout",
     "output_type": "stream",
     "text": [
      "handling [362]\n",
      "handling [363]\n",
      "handling [364]\n"
     ]
    },
    {
     "name": "stderr",
     "output_type": "stream",
     "text": [
      " 42%|█████████████████████████████████▌                                              | 252/600 [00:31<00:32, 10.58it/s]"
     ]
    },
    {
     "name": "stdout",
     "output_type": "stream",
     "text": [
      "handling [366]\n",
      "handling [367]\n",
      "handling [369]\n",
      "handling [370]\n"
     ]
    },
    {
     "name": "stderr",
     "output_type": "stream",
     "text": [
      "\r",
      " 42%|██████████████████████████████████                                              | 255/600 [00:31<00:26, 12.93it/s]"
     ]
    },
    {
     "name": "stdout",
     "output_type": "stream",
     "text": [
      "handling [371]\n",
      "handling [372]\n",
      "handling [373]\n",
      "handling [376]\n",
      "handling [377]\n"
     ]
    },
    {
     "name": "stderr",
     "output_type": "stream",
     "text": [
      " 44%|██████████████████████████████████▊                                             | 261/600 [00:31<00:20, 16.44it/s]"
     ]
    },
    {
     "name": "stdout",
     "output_type": "stream",
     "text": [
      "handling [379]\n",
      "handling [381]\n",
      "handling [385]\n",
      "handling [386]\n"
     ]
    },
    {
     "name": "stderr",
     "output_type": "stream",
     "text": [
      "\r",
      " 44%|███████████████████████████████████▏                                            | 264/600 [00:31<00:18, 18.16it/s]"
     ]
    },
    {
     "name": "stdout",
     "output_type": "stream",
     "text": [
      "handling [387]\n",
      "handling [388]\n",
      "handling [389]\n",
      "handling [391]\n",
      "handling [392]\n"
     ]
    },
    {
     "name": "stderr",
     "output_type": "stream",
     "text": [
      "\r",
      " 44%|███████████████████████████████████▌                                            | 267/600 [00:32<00:17, 18.60it/s]"
     ]
    },
    {
     "name": "stdout",
     "output_type": "stream",
     "text": [
      "handling [394]\n",
      "handling [395]\n",
      "handling [397]\n",
      "handling [399]\n"
     ]
    },
    {
     "name": "stderr",
     "output_type": "stream",
     "text": [
      " 46%|████████████████████████████████████▍                                           | 273/600 [00:32<00:25, 12.74it/s]"
     ]
    },
    {
     "name": "stdout",
     "output_type": "stream",
     "text": [
      "handling [400]\n",
      "handling [402]\n",
      "handling [403]\n",
      "handling [404]\n",
      "handling [405]\n"
     ]
    },
    {
     "name": "stderr",
     "output_type": "stream",
     "text": [
      " 46%|█████████████████████████████████████                                           | 278/600 [00:32<00:21, 14.99it/s]"
     ]
    },
    {
     "name": "stdout",
     "output_type": "stream",
     "text": [
      "handling [407]\n",
      "handling [410]\n",
      "handling [411]\n",
      "handling [412]\n"
     ]
    },
    {
     "name": "stderr",
     "output_type": "stream",
     "text": [
      " 47%|█████████████████████████████████████▌                                          | 282/600 [00:33<00:19, 16.03it/s]"
     ]
    },
    {
     "name": "stdout",
     "output_type": "stream",
     "text": [
      "handling [413]\n",
      "handling [414]\n",
      "handling [415]\n",
      "handling [416]\n"
     ]
    },
    {
     "name": "stderr",
     "output_type": "stream",
     "text": [
      "\r",
      " 48%|██████████████████████████████████████                                          | 285/600 [00:33<00:18, 17.39it/s]"
     ]
    },
    {
     "name": "stdout",
     "output_type": "stream",
     "text": [
      "handling [417]\n",
      "handling [418]\n",
      "handling [422]\n",
      "handling [423]\n",
      "handling [427]\n"
     ]
    },
    {
     "name": "stderr",
     "output_type": "stream",
     "text": [
      " 48%|██████████████████████████████████████▋                                         | 290/600 [00:33<00:17, 18.05it/s]"
     ]
    },
    {
     "name": "stdout",
     "output_type": "stream",
     "text": [
      "handling [428]\n",
      "handling [429]\n",
      "handling [430]\n",
      "handling [432]\n",
      "handling [433]\n"
     ]
    },
    {
     "name": "stderr",
     "output_type": "stream",
     "text": [
      "\r",
      " 49%|███████████████████████████████████████                                         | 293/600 [00:33<00:15, 19.85it/s]"
     ]
    },
    {
     "name": "stdout",
     "output_type": "stream",
     "text": [
      "handling [434]\n",
      "handling [436]\n"
     ]
    },
    {
     "name": "stderr",
     "output_type": "stream",
     "text": [
      " 50%|███████████████████████████████████████▋                                        | 298/600 [00:34<00:32,  9.42it/s]"
     ]
    },
    {
     "name": "stdout",
     "output_type": "stream",
     "text": [
      "handling [437]\n",
      "handling [438]\n",
      "handling [439]\n",
      "handling [441]\n",
      "handling [442]\n"
     ]
    },
    {
     "name": "stderr",
     "output_type": "stream",
     "text": [
      "\r",
      " 50%|████████████████████████████████████████▏                                       | 301/600 [00:34<00:25, 11.80it/s]"
     ]
    },
    {
     "name": "stdout",
     "output_type": "stream",
     "text": [
      "handling [443]\n",
      "handling [446]\n"
     ]
    },
    {
     "name": "stderr",
     "output_type": "stream",
     "text": [
      "\r",
      " 50%|████████████████████████████████████████▍                                       | 303/600 [00:35<00:55,  5.34it/s]"
     ]
    },
    {
     "name": "stdout",
     "output_type": "stream",
     "text": [
      "handling [448]\n",
      "handling [450]\n",
      "handling [451]\n"
     ]
    },
    {
     "name": "stderr",
     "output_type": "stream",
     "text": [
      " 51%|█████████████████████████████████████████                                       | 308/600 [00:36<00:47,  6.11it/s]"
     ]
    },
    {
     "name": "stdout",
     "output_type": "stream",
     "text": [
      "handling [453]\n",
      "handling [454]\n",
      "handling [455]\n",
      "handling [456]\n",
      "handling [458]\n"
     ]
    },
    {
     "name": "stderr",
     "output_type": "stream",
     "text": [
      " 52%|█████████████████████████████████████████▋                                      | 313/600 [00:36<00:30,  9.56it/s]"
     ]
    },
    {
     "name": "stdout",
     "output_type": "stream",
     "text": [
      "handling [459]\n",
      "handling [461]\n",
      "handling [462]\n",
      "handling [463]\n",
      "handling [464]\n"
     ]
    },
    {
     "name": "stderr",
     "output_type": "stream",
     "text": [
      "\r",
      " 53%|██████████████████████████████████████████▏                                     | 316/600 [00:37<00:24, 11.79it/s]"
     ]
    },
    {
     "name": "stdout",
     "output_type": "stream",
     "text": [
      "handling [469]\n",
      "handling [470]\n"
     ]
    },
    {
     "name": "stderr",
     "output_type": "stream",
     "text": [
      " 53%|██████████████████████████████████████████▋                                     | 320/600 [00:37<00:31,  8.80it/s]"
     ]
    },
    {
     "name": "stdout",
     "output_type": "stream",
     "text": [
      "handling [471]\n",
      "handling [472]\n",
      "handling [474]\n",
      "handling [475]\n",
      "handling [476]\n"
     ]
    },
    {
     "name": "stderr",
     "output_type": "stream",
     "text": [
      "\r",
      " 54%|███████████████████████████████████████████                                     | 323/600 [00:37<00:24, 11.42it/s]"
     ]
    },
    {
     "name": "stdout",
     "output_type": "stream",
     "text": [
      "handling [477]\n",
      "handling [478]\n",
      "handling [479]\n"
     ]
    },
    {
     "name": "stderr",
     "output_type": "stream",
     "text": [
      " 55%|███████████████████████████████████████████▋                                    | 328/600 [00:38<00:29,  9.20it/s]"
     ]
    },
    {
     "name": "stdout",
     "output_type": "stream",
     "text": [
      "handling [482]\n",
      "handling [484]\n",
      "handling [486]\n",
      "handling [489]\n",
      "handling [490]\n",
      "handling [494]\n"
     ]
    },
    {
     "name": "stderr",
     "output_type": "stream",
     "text": [
      " 56%|████████████████████████████████████████████▌                                   | 334/600 [00:38<00:19, 13.53it/s]"
     ]
    },
    {
     "name": "stdout",
     "output_type": "stream",
     "text": [
      "handling [496]\n",
      "handling [499]\n",
      "handling [500]\n",
      "handling [501]\n",
      "handling [504]\n",
      "handling [505]\n"
     ]
    },
    {
     "name": "stderr",
     "output_type": "stream",
     "text": [
      " 56%|█████████████████████████████████████████████▏                                  | 339/600 [00:39<00:28,  9.07it/s]"
     ]
    },
    {
     "name": "stdout",
     "output_type": "stream",
     "text": [
      "handling [506]\n",
      "handling [508]\n",
      "handling [510]\n",
      "handling [511]\n"
     ]
    },
    {
     "name": "stderr",
     "output_type": "stream",
     "text": [
      " 57%|█████████████████████████████████████████████▋                                  | 343/600 [00:39<00:22, 11.30it/s]"
     ]
    },
    {
     "name": "stdout",
     "output_type": "stream",
     "text": [
      "handling [512]\n",
      "handling [513]\n",
      "handling [516]\n"
     ]
    },
    {
     "name": "stderr",
     "output_type": "stream",
     "text": [
      "\r",
      " 57%|██████████████████████████████████████████████                                  | 345/600 [00:40<00:22, 11.46it/s]"
     ]
    },
    {
     "name": "stdout",
     "output_type": "stream",
     "text": [
      "handling [518]\n",
      "handling [519]\n"
     ]
    },
    {
     "name": "stderr",
     "output_type": "stream",
     "text": [
      " 58%|██████████████████████████████████████████████▌                                 | 349/600 [00:40<00:28,  8.95it/s]"
     ]
    },
    {
     "name": "stdout",
     "output_type": "stream",
     "text": [
      "handling [521]\n",
      "handling [523]\n",
      "handling [526]\n"
     ]
    },
    {
     "name": "stderr",
     "output_type": "stream",
     "text": [
      "\r",
      " 59%|██████████████████████████████████████████████▉                                 | 352/600 [00:40<00:21, 11.43it/s]"
     ]
    },
    {
     "name": "stdout",
     "output_type": "stream",
     "text": [
      "handling [528]\n",
      "handling [530]\n",
      "handling [532]\n",
      "handling [534]\n",
      "handling [535]"
     ]
    },
    {
     "name": "stderr",
     "output_type": "stream",
     "text": [
      " 60%|███████████████████████████████████████████████▌                                | 357/600 [00:41<00:16, 14.68it/s]"
     ]
    },
    {
     "name": "stdout",
     "output_type": "stream",
     "text": [
      "\n",
      "handling [536]\n",
      "handling [538]\n",
      "handling [539]\n"
     ]
    },
    {
     "name": "stderr",
     "output_type": "stream",
     "text": [
      "\r",
      " 60%|███████████████████████████████████████████████▊                                | 359/600 [00:41<00:16, 14.68it/s]"
     ]
    },
    {
     "name": "stdout",
     "output_type": "stream",
     "text": [
      "handling [540]\n",
      "handling [541]\n",
      "handling [542]\n"
     ]
    },
    {
     "name": "stderr",
     "output_type": "stream",
     "text": [
      " 60%|████████████████████████████████████████████████▍                               | 363/600 [00:42<00:37,  6.33it/s]"
     ]
    },
    {
     "name": "stdout",
     "output_type": "stream",
     "text": [
      "handling [543]\n",
      "handling [545]\n",
      "handling [546]\n"
     ]
    },
    {
     "name": "stderr",
     "output_type": "stream",
     "text": [
      "\r",
      " 61%|████████████████████████████████████████████████▋                               | 365/600 [00:42<00:30,  7.82it/s]"
     ]
    },
    {
     "name": "stdout",
     "output_type": "stream",
     "text": [
      "handling [547]\n",
      "handling [551]\n",
      "handling [553]\n",
      "handling [555]\n"
     ]
    },
    {
     "name": "stderr",
     "output_type": "stream",
     "text": [
      " 62%|█████████████████████████████████████████████████▏                              | 369/600 [00:42<00:21, 10.94it/s]"
     ]
    },
    {
     "name": "stdout",
     "output_type": "stream",
     "text": [
      "handling [556]\n",
      "handling [557]\n",
      "handling [559]\n"
     ]
    },
    {
     "name": "stderr",
     "output_type": "stream",
     "text": [
      " 62%|█████████████████████████████████████████████████▋                              | 373/600 [00:43<00:18, 12.46it/s]"
     ]
    },
    {
     "name": "stdout",
     "output_type": "stream",
     "text": [
      "handling [560]\n",
      "handling [561]\n",
      "handling [564]\n"
     ]
    },
    {
     "name": "stderr",
     "output_type": "stream",
     "text": [
      "\r",
      " 62%|██████████████████████████████████████████████████                              | 375/600 [00:43<00:17, 12.79it/s]"
     ]
    },
    {
     "name": "stdout",
     "output_type": "stream",
     "text": [
      "handling [565]\n",
      "handling [567]\n",
      "handling [573]\n"
     ]
    },
    {
     "name": "stderr",
     "output_type": "stream",
     "text": [
      " 63%|██████████████████████████████████████████████████▌                             | 379/600 [00:43<00:16, 13.80it/s]"
     ]
    },
    {
     "name": "stdout",
     "output_type": "stream",
     "text": [
      "handling [574]\n",
      "handling [575]\n",
      "handling [578]\n",
      "handling [579]\n",
      "handling [581]\n"
     ]
    },
    {
     "name": "stderr",
     "output_type": "stream",
     "text": [
      " 64%|███████████████████████████████████████████████████                             | 383/600 [00:44<00:40,  5.37it/s]"
     ]
    },
    {
     "name": "stdout",
     "output_type": "stream",
     "text": [
      "handling [582]\n",
      "handling [583]\n",
      "handling [584]\n",
      "handling [587]\n"
     ]
    },
    {
     "name": "stderr",
     "output_type": "stream",
     "text": [
      " 65%|███████████████████████████████████████████████████▋                            | 388/600 [00:45<00:23,  8.90it/s]"
     ]
    },
    {
     "name": "stdout",
     "output_type": "stream",
     "text": [
      "handling [588]\n",
      "handling [589]\n",
      "handling [591]\n"
     ]
    },
    {
     "name": "stderr",
     "output_type": "stream",
     "text": [
      "\r",
      " 65%|████████████████████████████████████████████████████                            | 390/600 [00:45<00:20, 10.34it/s]"
     ]
    },
    {
     "name": "stdout",
     "output_type": "stream",
     "text": [
      "handling [592]\n",
      "handling [594]\n",
      "handling [595]\n",
      "handling [596]\n"
     ]
    },
    {
     "name": "stderr",
     "output_type": "stream",
     "text": [
      " 66%|████████████████████████████████████████████████████▌                           | 394/600 [00:45<00:17, 11.96it/s]"
     ]
    },
    {
     "name": "stdout",
     "output_type": "stream",
     "text": [
      "handling [597]\n",
      "handling [598]\n",
      "handling [600]\n",
      "handling [601]\n"
     ]
    },
    {
     "name": "stderr",
     "output_type": "stream",
     "text": [
      "\r",
      " 66%|████████████████████████████████████████████████████▊                           | 396/600 [00:45<00:15, 12.80it/s]"
     ]
    },
    {
     "name": "stdout",
     "output_type": "stream",
     "text": [
      "handling [602]\n",
      "handling [603]\n"
     ]
    },
    {
     "name": "stderr",
     "output_type": "stream",
     "text": [
      " 67%|█████████████████████████████████████████████████████▍                          | 401/600 [00:46<00:27,  7.31it/s]"
     ]
    },
    {
     "name": "stdout",
     "output_type": "stream",
     "text": [
      "handling [606]\n",
      "handling [608]\n",
      "handling [609]\n",
      "handling [610]\n"
     ]
    },
    {
     "name": "stderr",
     "output_type": "stream",
     "text": [
      " 68%|██████████████████████████████████████████████████████                          | 405/600 [00:46<00:19, 10.26it/s]"
     ]
    },
    {
     "name": "stdout",
     "output_type": "stream",
     "text": [
      "handling [611]\n",
      "handling [615]\n",
      "handling [616]\n",
      "handling [617]\n",
      "handling [618]"
     ]
    },
    {
     "name": "stderr",
     "output_type": "stream",
     "text": [
      " 68%|██████████████████████████████████████████████████████▌                         | 409/600 [00:47<00:14, 13.10it/s]"
     ]
    },
    {
     "name": "stdout",
     "output_type": "stream",
     "text": [
      "\n",
      "handling [619]\n",
      "handling [620]\n",
      "handling [621]\n",
      "handling [622]\n"
     ]
    },
    {
     "name": "stderr",
     "output_type": "stream",
     "text": [
      " 69%|███████████████████████████████████████████████████████▎                        | 415/600 [00:47<00:11, 16.74it/s]"
     ]
    },
    {
     "name": "stdout",
     "output_type": "stream",
     "text": [
      "handling [623]\n",
      "handling [624]\n",
      "handling [627]\n",
      "handling [628]\n"
     ]
    },
    {
     "name": "stderr",
     "output_type": "stream",
     "text": [
      "\r",
      " 70%|███████████████████████████████████████████████████████▌                        | 417/600 [00:47<00:10, 17.31it/s]"
     ]
    },
    {
     "name": "stdout",
     "output_type": "stream",
     "text": [
      "handling [630]\n",
      "handling [631]\n",
      "handling [634]\n",
      "handling [637]\n"
     ]
    },
    {
     "name": "stderr",
     "output_type": "stream",
     "text": [
      " 70%|████████████████████████████████████████████████████████▏                       | 421/600 [00:47<00:10, 16.27it/s]"
     ]
    },
    {
     "name": "stdout",
     "output_type": "stream",
     "text": [
      "handling [638]\n",
      "handling [639]\n",
      "handling [644]\n",
      "handling [645]\n"
     ]
    },
    {
     "name": "stderr",
     "output_type": "stream",
     "text": [
      " 71%|████████████████████████████████████████████████████████▋                       | 425/600 [00:48<00:10, 17.25it/s]"
     ]
    },
    {
     "name": "stdout",
     "output_type": "stream",
     "text": [
      "handling [646]\n",
      "handling [647]\n",
      "handling [649]\n",
      "handling [652]\n"
     ]
    },
    {
     "name": "stderr",
     "output_type": "stream",
     "text": [
      " 72%|█████████████████████████████████████████████████████████▎                      | 430/600 [00:48<00:09, 17.98it/s]"
     ]
    },
    {
     "name": "stdout",
     "output_type": "stream",
     "text": [
      "handling [654]\n",
      "handling [655]\n",
      "handling [657]\n",
      "handling [658]\n"
     ]
    },
    {
     "name": "stderr",
     "output_type": "stream",
     "text": [
      "\r",
      " 72%|█████████████████████████████████████████████████████████▌                      | 432/600 [00:48<00:09, 18.31it/s]"
     ]
    },
    {
     "name": "stdout",
     "output_type": "stream",
     "text": [
      "handling [659]\n",
      "handling [661]\n",
      "handling [663]\n"
     ]
    },
    {
     "name": "stderr",
     "output_type": "stream",
     "text": [
      " 73%|██████████████████████████████████████████████████████████▏                     | 436/600 [00:48<00:10, 15.53it/s]"
     ]
    },
    {
     "name": "stdout",
     "output_type": "stream",
     "text": [
      "handling [665]\n",
      "handling [667]\n",
      "handling [668]\n",
      "handling [670]"
     ]
    },
    {
     "name": "stderr",
     "output_type": "stream",
     "text": [
      "\r",
      " 73%|██████████████████████████████████████████████████████████▍                     | 438/600 [00:48<00:10, 15.56it/s]"
     ]
    },
    {
     "name": "stdout",
     "output_type": "stream",
     "text": [
      "\n",
      "handling [671]\n",
      "handling [673]\n",
      "handling [674]\n"
     ]
    },
    {
     "name": "stderr",
     "output_type": "stream",
     "text": [
      " 74%|███████████████████████████████████████████████████████████                     | 443/600 [00:49<00:19,  8.16it/s]"
     ]
    },
    {
     "name": "stdout",
     "output_type": "stream",
     "text": [
      "handling [675]\n",
      "handling [677]\n",
      "handling [678]\n",
      "handling [679]\n"
     ]
    },
    {
     "name": "stderr",
     "output_type": "stream",
     "text": [
      " 75%|███████████████████████████████████████████████████████████▋                    | 448/600 [00:50<00:12, 12.05it/s]"
     ]
    },
    {
     "name": "stdout",
     "output_type": "stream",
     "text": [
      "handling [681]\n",
      "handling [682]\n",
      "handling [683]\n",
      "handling [684]\n",
      "handling [685]\n"
     ]
    },
    {
     "name": "stderr",
     "output_type": "stream",
     "text": [
      "\r",
      " 75%|████████████████████████████████████████████████████████████                    | 450/600 [00:50<00:11, 13.36it/s]"
     ]
    },
    {
     "name": "stdout",
     "output_type": "stream",
     "text": [
      "handling [689]\n"
     ]
    },
    {
     "name": "stderr",
     "output_type": "stream",
     "text": [
      "\r",
      " 75%|████████████████████████████████████████████████████████████▎                   | 452/600 [00:51<00:39,  3.71it/s]"
     ]
    },
    {
     "name": "stdout",
     "output_type": "stream",
     "text": [
      "handling [691]\n",
      "handling [692]\n"
     ]
    },
    {
     "name": "stderr",
     "output_type": "stream",
     "text": [
      " 76%|████████████████████████████████████████████████████████████▊                   | 456/600 [00:52<00:28,  5.10it/s]"
     ]
    },
    {
     "name": "stdout",
     "output_type": "stream",
     "text": [
      "handling [693]\n",
      "handling [697]\n",
      "handling [698]\n"
     ]
    },
    {
     "name": "stderr",
     "output_type": "stream",
     "text": [
      "\r",
      " 76%|█████████████████████████████████████████████████████████████▏                  | 459/600 [00:52<00:19,  7.26it/s]"
     ]
    },
    {
     "name": "stdout",
     "output_type": "stream",
     "text": [
      "handling [699]\n",
      "handling [701]\n",
      "handling [703]\n",
      "handling [704]\n",
      "handling [705]\n"
     ]
    },
    {
     "name": "stderr",
     "output_type": "stream",
     "text": [
      "\r",
      " 77%|█████████████████████████████████████████████████████████████▍                  | 461/600 [00:52<00:16,  8.46it/s]"
     ]
    },
    {
     "name": "stdout",
     "output_type": "stream",
     "text": [
      "handling [708]\n",
      "handling [709]\n",
      "handling [711]\n"
     ]
    },
    {
     "name": "stderr",
     "output_type": "stream",
     "text": [
      " 78%|██████████████████████████████████████████████████████████████▏                 | 466/600 [00:53<00:20,  6.56it/s]"
     ]
    },
    {
     "name": "stdout",
     "output_type": "stream",
     "text": [
      "handling [712]\n",
      "handling [713]\n",
      "handling [714]\n"
     ]
    },
    {
     "name": "stderr",
     "output_type": "stream",
     "text": [
      "\r",
      " 78%|██████████████████████████████████████████████████████████████▌                 | 469/600 [00:53<00:15,  8.67it/s]"
     ]
    },
    {
     "name": "stdout",
     "output_type": "stream",
     "text": [
      "handling [717]\n",
      "handling [718]\n",
      "handling [719]\n",
      "handling [720]\n"
     ]
    },
    {
     "name": "stderr",
     "output_type": "stream",
     "text": [
      " 79%|███████████████████████████████████████████████████████████████                 | 473/600 [00:53<00:11, 11.06it/s]"
     ]
    },
    {
     "name": "stdout",
     "output_type": "stream",
     "text": [
      "handling [727]\n",
      "handling [728]\n",
      "handling [729]\n",
      "handling [733]\n"
     ]
    },
    {
     "name": "stderr",
     "output_type": "stream",
     "text": [
      " 80%|███████████████████████████████████████████████████████████████▌                | 477/600 [00:54<00:09, 13.39it/s]"
     ]
    },
    {
     "name": "stdout",
     "output_type": "stream",
     "text": [
      "handling [735]\n",
      "handling [736]\n",
      "handling [737]\n",
      "handling [738]\n"
     ]
    },
    {
     "name": "stderr",
     "output_type": "stream",
     "text": [
      " 80%|████████████████████████████████████████████████████████████████▏               | 481/600 [00:54<00:07, 15.60it/s]"
     ]
    },
    {
     "name": "stdout",
     "output_type": "stream",
     "text": [
      "handling [739]\n",
      "handling [741]\n",
      "handling [742]\n",
      "handling [747]\n"
     ]
    },
    {
     "name": "stderr",
     "output_type": "stream",
     "text": [
      "\r",
      " 81%|████████████████████████████████████████████████████████████████▌               | 484/600 [00:54<00:06, 17.20it/s]"
     ]
    },
    {
     "name": "stdout",
     "output_type": "stream",
     "text": [
      "handling [750]\n",
      "handling [751]\n"
     ]
    },
    {
     "name": "stderr",
     "output_type": "stream",
     "text": [
      " 82%|█████████████████████████████████████████████████████████████████▏              | 489/600 [00:55<00:13,  8.31it/s]"
     ]
    },
    {
     "name": "stdout",
     "output_type": "stream",
     "text": [
      "handling [752]\n",
      "handling [754]\n",
      "handling [755]\n",
      "handling [757]\n"
     ]
    },
    {
     "name": "stderr",
     "output_type": "stream",
     "text": [
      "\r",
      " 82%|█████████████████████████████████████████████████████████████████▍              | 491/600 [00:55<00:11,  9.45it/s]"
     ]
    },
    {
     "name": "stdout",
     "output_type": "stream",
     "text": [
      "handling [758]\n",
      "handling [759]\n",
      "handling [761]\n",
      "handling [762]\n"
     ]
    },
    {
     "name": "stderr",
     "output_type": "stream",
     "text": [
      " 83%|██████████████████████████████████████████████████████████████████▎             | 497/600 [00:55<00:07, 13.70it/s]"
     ]
    },
    {
     "name": "stdout",
     "output_type": "stream",
     "text": [
      "handling [763]\n",
      "handling [765]\n",
      "handling [766]\n",
      "handling [769]\n"
     ]
    },
    {
     "name": "stderr",
     "output_type": "stream",
     "text": [
      "\r",
      " 83%|██████████████████████████████████████████████████████████████████▌             | 499/600 [00:56<00:06, 14.73it/s]"
     ]
    },
    {
     "name": "stdout",
     "output_type": "stream",
     "text": [
      "handling [770]\n",
      "handling [771]\n",
      "handling [774]\n",
      "handling [776]\n"
     ]
    },
    {
     "name": "stderr",
     "output_type": "stream",
     "text": [
      " 84%|███████████████████████████████████████████████████████████████████             | 503/600 [00:56<00:05, 16.26it/s]"
     ]
    },
    {
     "name": "stdout",
     "output_type": "stream",
     "text": [
      "handling [777]\n",
      "handling [778]\n",
      "handling [779]\n",
      "handling [781]\n"
     ]
    },
    {
     "name": "stderr",
     "output_type": "stream",
     "text": [
      "\r",
      " 84%|███████████████████████████████████████████████████████████████████▎            | 505/600 [00:56<00:06, 15.79it/s]"
     ]
    },
    {
     "name": "stdout",
     "output_type": "stream",
     "text": [
      "handling [783]\n",
      "handling [784]\n"
     ]
    },
    {
     "name": "stderr",
     "output_type": "stream",
     "text": [
      " 85%|███████████████████████████████████████████████████████████████████▊            | 509/600 [00:56<00:06, 13.52it/s]"
     ]
    },
    {
     "name": "stdout",
     "output_type": "stream",
     "text": [
      "handling [785]\n",
      "handling [786]\n",
      "handling [788]\n",
      "handling [794]\n"
     ]
    },
    {
     "name": "stderr",
     "output_type": "stream",
     "text": [
      " 86%|████████████████████████████████████████████████████████████████████▌           | 514/600 [00:57<00:05, 16.38it/s]"
     ]
    },
    {
     "name": "stdout",
     "output_type": "stream",
     "text": [
      "handling [795]\n",
      "handling [796]\n",
      "handling [797]\n",
      "handling [798]\n"
     ]
    },
    {
     "name": "stderr",
     "output_type": "stream",
     "text": [
      "\r",
      " 86%|████████████████████████████████████████████████████████████████████▊           | 516/600 [00:57<00:04, 17.03it/s]"
     ]
    },
    {
     "name": "stdout",
     "output_type": "stream",
     "text": [
      "handling [799]\n",
      "handling [800]\n"
     ]
    },
    {
     "name": "stderr",
     "output_type": "stream",
     "text": [
      " 87%|█████████████████████████████████████████████████████████████████████▎          | 520/600 [00:58<00:16,  4.86it/s]"
     ]
    },
    {
     "name": "stdout",
     "output_type": "stream",
     "text": [
      "handling [801]\n",
      "handling [803]\n",
      "handling [804]\n",
      "handling [805]\n"
     ]
    },
    {
     "name": "stderr",
     "output_type": "stream",
     "text": [
      " 87%|█████████████████████████████████████████████████████████████████████▊          | 524/600 [00:59<00:10,  7.30it/s]"
     ]
    },
    {
     "name": "stdout",
     "output_type": "stream",
     "text": [
      "handling [806]\n",
      "handling [807]\n",
      "handling [809]\n"
     ]
    },
    {
     "name": "stderr",
     "output_type": "stream",
     "text": [
      "\r",
      " 88%|██████████████████████████████████████████████████████████████████████▏         | 526/600 [00:59<00:08,  8.93it/s]"
     ]
    },
    {
     "name": "stdout",
     "output_type": "stream",
     "text": [
      "handling [811]\n",
      "handling [812]\n",
      "handling [814]\n",
      "handling [815]\n"
     ]
    },
    {
     "name": "stderr",
     "output_type": "stream",
     "text": [
      "\r",
      " 88%|██████████████████████████████████████████████████████████████████████▍         | 528/600 [01:00<00:24,  2.99it/s]"
     ]
    },
    {
     "name": "stdout",
     "output_type": "stream",
     "text": [
      "handling [816]\n"
     ]
    },
    {
     "name": "stderr",
     "output_type": "stream",
     "text": [
      " 89%|██████████████████████████████████████████████████████████████████████▉         | 532/600 [01:01<00:16,  4.18it/s]"
     ]
    },
    {
     "name": "stdout",
     "output_type": "stream",
     "text": [
      "handling [817]\n",
      "handling [818]\n",
      "handling [820]\n",
      "handling [823]\n"
     ]
    },
    {
     "name": "stderr",
     "output_type": "stream",
     "text": [
      " 89%|███████████████████████████████████████████████████████████████████████▍        | 536/600 [01:01<00:09,  6.85it/s]"
     ]
    },
    {
     "name": "stdout",
     "output_type": "stream",
     "text": [
      "handling [824]\n",
      "handling [827]\n",
      "handling [828]\n",
      "handling [831]\n"
     ]
    },
    {
     "name": "stderr",
     "output_type": "stream",
     "text": [
      " 90%|████████████████████████████████████████████████████████████████████████        | 540/600 [01:02<00:06,  9.64it/s]"
     ]
    },
    {
     "name": "stdout",
     "output_type": "stream",
     "text": [
      "handling [832]\n",
      "handling [834]\n",
      "handling [842]\n",
      "handling [843]\n"
     ]
    },
    {
     "name": "stderr",
     "output_type": "stream",
     "text": [
      "\r",
      " 90%|████████████████████████████████████████████████████████████████████████▎       | 542/600 [01:02<00:05, 11.03it/s]"
     ]
    },
    {
     "name": "stdout",
     "output_type": "stream",
     "text": [
      "handling [844]\n",
      "handling [848]\n",
      "handling [850]\n",
      "handling [851]\n"
     ]
    },
    {
     "name": "stderr",
     "output_type": "stream",
     "text": [
      "\r",
      " 91%|████████████████████████████████████████████████████████████████████████▋       | 545/600 [01:03<00:09,  5.58it/s]"
     ]
    },
    {
     "name": "stdout",
     "output_type": "stream",
     "text": [
      "handling [854]\n",
      "handling [856]\n"
     ]
    },
    {
     "name": "stderr",
     "output_type": "stream",
     "text": [
      " 92%|█████████████████████████████████████████████████████████████████████████▎      | 550/600 [01:04<00:10,  4.79it/s]"
     ]
    },
    {
     "name": "stdout",
     "output_type": "stream",
     "text": [
      "handling [857]\n",
      "handling [858]\n",
      "handling [859]\n",
      "handling [869]\n",
      "handling [871]\n"
     ]
    },
    {
     "name": "stderr",
     "output_type": "stream",
     "text": [
      "\r",
      " 92%|█████████████████████████████████████████████████████████████████████████▌      | 552/600 [01:05<00:13,  3.52it/s]"
     ]
    },
    {
     "name": "stdout",
     "output_type": "stream",
     "text": [
      "handling [874]\n"
     ]
    },
    {
     "name": "stderr",
     "output_type": "stream",
     "text": [
      " 93%|██████████████████████████████████████████████████████████████████████████▏     | 556/600 [01:07<00:15,  2.86it/s]"
     ]
    },
    {
     "name": "stdout",
     "output_type": "stream",
     "text": [
      "handling [875]\n",
      "handling [878]\n",
      "handling [879]\n",
      "handling [881]\n"
     ]
    },
    {
     "name": "stderr",
     "output_type": "stream",
     "text": [
      " 93%|██████████████████████████████████████████████████████████████████████████▋     | 560/600 [01:07<00:08,  4.82it/s]"
     ]
    },
    {
     "name": "stdout",
     "output_type": "stream",
     "text": [
      "handling [882]\n",
      "handling [883]\n",
      "handling [884]\n"
     ]
    },
    {
     "name": "stderr",
     "output_type": "stream",
     "text": [
      "\r",
      " 94%|██████████████████████████████████████████████████████████████████████████▉     | 562/600 [01:07<00:06,  6.13it/s]"
     ]
    },
    {
     "name": "stdout",
     "output_type": "stream",
     "text": [
      "handling [885]\n",
      "handling [887]\n",
      "handling [888]\n",
      "handling [890]\n",
      "handling [892]\n"
     ]
    },
    {
     "name": "stderr",
     "output_type": "stream",
     "text": [
      "\r",
      " 94%|███████████████████████████████████████████████████████████████████████████▎    | 565/600 [01:08<00:04,  8.49it/s]"
     ]
    },
    {
     "name": "stdout",
     "output_type": "stream",
     "text": [
      "handling [894]\n"
     ]
    },
    {
     "name": "stderr",
     "output_type": "stream",
     "text": [
      " 95%|████████████████████████████████████████████████████████████████████████████    | 570/600 [01:09<00:05,  5.61it/s]"
     ]
    },
    {
     "name": "stdout",
     "output_type": "stream",
     "text": [
      "handling [895]\n",
      "handling [896]\n",
      "handling [897]\n",
      "handling [900]\n",
      "handling [903]\n"
     ]
    },
    {
     "name": "stderr",
     "output_type": "stream",
     "text": [
      " 96%|████████████████████████████████████████████████████████████████████████████▋   | 575/600 [01:09<00:02,  8.90it/s]"
     ]
    },
    {
     "name": "stdout",
     "output_type": "stream",
     "text": [
      "handling [904]\n",
      "handling [908]\n",
      "handling [909]\n",
      "handling [910]\n"
     ]
    },
    {
     "name": "stderr",
     "output_type": "stream",
     "text": [
      "\r",
      " 96%|█████████████████████████████████████████████████████████████████████████████   | 578/600 [01:09<00:01, 11.14it/s]"
     ]
    },
    {
     "name": "stdout",
     "output_type": "stream",
     "text": [
      "handling [911]\n",
      "handling [912]\n",
      "handling [913]\n",
      "handling [914]\n",
      "handling [915]\n",
      "handling [918]\n"
     ]
    },
    {
     "name": "stderr",
     "output_type": "stream",
     "text": [
      " 97%|█████████████████████████████████████████████████████████████████████████████▋  | 583/600 [01:11<00:03,  5.64it/s]"
     ]
    },
    {
     "name": "stdout",
     "output_type": "stream",
     "text": [
      "handling [919]\n",
      "handling [920]\n",
      "handling [924]\n",
      "handling [925]\n"
     ]
    },
    {
     "name": "stderr",
     "output_type": "stream",
     "text": [
      " 98%|██████████████████████████████████████████████████████████████████████████████▎ | 587/600 [01:11<00:01,  8.15it/s]"
     ]
    },
    {
     "name": "stdout",
     "output_type": "stream",
     "text": [
      "handling [926]\n",
      "handling [928]\n",
      "handling [930]\n",
      "handling [931]\n"
     ]
    },
    {
     "name": "stderr",
     "output_type": "stream",
     "text": [
      " 98%|██████████████████████████████████████████████████████████████████████████████▊ | 591/600 [01:11<00:00, 10.57it/s]"
     ]
    },
    {
     "name": "stdout",
     "output_type": "stream",
     "text": [
      "handling [932]\n",
      "handling [934]\n",
      "handling [935]\n",
      "handling [936]\n"
     ]
    },
    {
     "name": "stderr",
     "output_type": "stream",
     "text": [
      "\r",
      " 99%|███████████████████████████████████████████████████████████████████████████████ | 593/600 [01:12<00:00, 11.65it/s]"
     ]
    },
    {
     "name": "stdout",
     "output_type": "stream",
     "text": [
      "handling [937]\n"
     ]
    },
    {
     "name": "stderr",
     "output_type": "stream",
     "text": [
      "100%|███████████████████████████████████████████████████████████████████████████████▋| 598/600 [01:14<00:00,  4.43it/s]"
     ]
    },
    {
     "name": "stdout",
     "output_type": "stream",
     "text": [
      "handling [939]\n",
      "handling [940]\n",
      "handling [941]\n",
      "handling [942]\n"
     ]
    },
    {
     "name": "stderr",
     "output_type": "stream",
     "text": [
      "100%|████████████████████████████████████████████████████████████████████████████████| 600/600 [01:14<00:00,  8.09it/s]"
     ]
    },
    {
     "name": "stdout",
     "output_type": "stream",
     "text": [
      "handling [944]\n",
      "handling [946]\n"
     ]
    },
    {
     "name": "stderr",
     "output_type": "stream",
     "text": [
      "\n"
     ]
    }
   ],
   "source": [
    "ids = new_df.breath_id.unique().tolist()\n",
    "for idz in tqdm(ids):\n",
    "    a,b,c,d,e,f = lin_fit2(test.loc[test.breath_id == idz],tr=True,vis = True)\n",
    "    new_df.loc[new_df.breath_id ==idz,'a'] = a\n",
    "    new_df.loc[new_df.breath_id ==idz,'b'] = b\n",
    "    new_df.loc[new_df.breath_id ==idz,'c'] = c\n",
    "    new_df.loc[new_df.breath_id ==idz,'d'] = d\n",
    "    new_df.loc[new_df.breath_id ==idz,'e'] = e\n",
    "    new_df.loc[new_df.breath_id ==idz,'f'] = f"
   ]
  },
  {
   "cell_type": "code",
   "execution_count": 311,
   "id": "b644f60c",
   "metadata": {},
   "outputs": [
    {
     "data": {
      "text/html": [
       "<div>\n",
       "<style scoped>\n",
       "    .dataframe tbody tr th:only-of-type {\n",
       "        vertical-align: middle;\n",
       "    }\n",
       "\n",
       "    .dataframe tbody tr th {\n",
       "        vertical-align: top;\n",
       "    }\n",
       "\n",
       "    .dataframe thead th {\n",
       "        text-align: right;\n",
       "    }\n",
       "</style>\n",
       "<table border=\"1\" class=\"dataframe\">\n",
       "  <thead>\n",
       "    <tr style=\"text-align: right;\">\n",
       "      <th></th>\n",
       "      <th>a</th>\n",
       "      <th>b</th>\n",
       "      <th>c</th>\n",
       "      <th>d</th>\n",
       "      <th>e</th>\n",
       "      <th>f</th>\n",
       "    </tr>\n",
       "  </thead>\n",
       "  <tbody>\n",
       "    <tr>\n",
       "      <th>breath_id</th>\n",
       "      <td>0.005539</td>\n",
       "      <td>-0.016529</td>\n",
       "      <td>0.012500</td>\n",
       "      <td>0.015133</td>\n",
       "      <td>0.007797</td>\n",
       "      <td>0.024596</td>\n",
       "    </tr>\n",
       "    <tr>\n",
       "      <th>u_in</th>\n",
       "      <td>-0.028818</td>\n",
       "      <td>-0.006262</td>\n",
       "      <td>0.094837</td>\n",
       "      <td>0.020208</td>\n",
       "      <td>-0.008703</td>\n",
       "      <td>0.084664</td>\n",
       "    </tr>\n",
       "    <tr>\n",
       "      <th>R</th>\n",
       "      <td>0.273696</td>\n",
       "      <td>0.069519</td>\n",
       "      <td>0.094111</td>\n",
       "      <td>-0.246334</td>\n",
       "      <td>-0.049569</td>\n",
       "      <td>-0.069316</td>\n",
       "    </tr>\n",
       "    <tr>\n",
       "      <th>C</th>\n",
       "      <td>-0.003935</td>\n",
       "      <td>-0.055327</td>\n",
       "      <td>-0.112365</td>\n",
       "      <td>-0.120046</td>\n",
       "      <td>-0.080369</td>\n",
       "      <td>-0.159969</td>\n",
       "    </tr>\n",
       "    <tr>\n",
       "      <th>u_in_x</th>\n",
       "      <td>0.311477</td>\n",
       "      <td>-0.012407</td>\n",
       "      <td>-0.139530</td>\n",
       "      <td>0.595016</td>\n",
       "      <td>-0.089119</td>\n",
       "      <td>0.287835</td>\n",
       "    </tr>\n",
       "    <tr>\n",
       "      <th>R_x</th>\n",
       "      <td>0.273696</td>\n",
       "      <td>0.069519</td>\n",
       "      <td>0.094111</td>\n",
       "      <td>-0.246334</td>\n",
       "      <td>-0.049569</td>\n",
       "      <td>-0.069316</td>\n",
       "    </tr>\n",
       "    <tr>\n",
       "      <th>C_x</th>\n",
       "      <td>-0.003935</td>\n",
       "      <td>-0.055327</td>\n",
       "      <td>-0.112365</td>\n",
       "      <td>-0.120046</td>\n",
       "      <td>-0.080369</td>\n",
       "      <td>-0.159969</td>\n",
       "    </tr>\n",
       "    <tr>\n",
       "      <th>u_in_y</th>\n",
       "      <td>-0.004950</td>\n",
       "      <td>-0.053099</td>\n",
       "      <td>-0.115902</td>\n",
       "      <td>0.694919</td>\n",
       "      <td>-0.084928</td>\n",
       "      <td>0.295840</td>\n",
       "    </tr>\n",
       "    <tr>\n",
       "      <th>R_y</th>\n",
       "      <td>0.273696</td>\n",
       "      <td>0.069519</td>\n",
       "      <td>0.094111</td>\n",
       "      <td>-0.246334</td>\n",
       "      <td>-0.049569</td>\n",
       "      <td>-0.069316</td>\n",
       "    </tr>\n",
       "    <tr>\n",
       "      <th>C_y</th>\n",
       "      <td>-0.003935</td>\n",
       "      <td>-0.055327</td>\n",
       "      <td>-0.112365</td>\n",
       "      <td>-0.120046</td>\n",
       "      <td>-0.080369</td>\n",
       "      <td>-0.159969</td>\n",
       "    </tr>\n",
       "    <tr>\n",
       "      <th>a</th>\n",
       "      <td>1.000000</td>\n",
       "      <td>0.024130</td>\n",
       "      <td>-0.054860</td>\n",
       "      <td>-0.059748</td>\n",
       "      <td>-0.023881</td>\n",
       "      <td>-0.047511</td>\n",
       "    </tr>\n",
       "    <tr>\n",
       "      <th>b</th>\n",
       "      <td>0.024130</td>\n",
       "      <td>1.000000</td>\n",
       "      <td>-0.011917</td>\n",
       "      <td>-0.073584</td>\n",
       "      <td>-0.005325</td>\n",
       "      <td>-0.055429</td>\n",
       "    </tr>\n",
       "    <tr>\n",
       "      <th>c</th>\n",
       "      <td>-0.054860</td>\n",
       "      <td>-0.011917</td>\n",
       "      <td>1.000000</td>\n",
       "      <td>-0.030179</td>\n",
       "      <td>0.002845</td>\n",
       "      <td>-0.018171</td>\n",
       "    </tr>\n",
       "    <tr>\n",
       "      <th>d</th>\n",
       "      <td>-0.059748</td>\n",
       "      <td>-0.073584</td>\n",
       "      <td>-0.030179</td>\n",
       "      <td>1.000000</td>\n",
       "      <td>-0.254345</td>\n",
       "      <td>0.575092</td>\n",
       "    </tr>\n",
       "    <tr>\n",
       "      <th>e</th>\n",
       "      <td>-0.023881</td>\n",
       "      <td>-0.005325</td>\n",
       "      <td>0.002845</td>\n",
       "      <td>-0.254345</td>\n",
       "      <td>1.000000</td>\n",
       "      <td>-0.348946</td>\n",
       "    </tr>\n",
       "    <tr>\n",
       "      <th>f</th>\n",
       "      <td>-0.047511</td>\n",
       "      <td>-0.055429</td>\n",
       "      <td>-0.018171</td>\n",
       "      <td>0.575092</td>\n",
       "      <td>-0.348946</td>\n",
       "      <td>1.000000</td>\n",
       "    </tr>\n",
       "  </tbody>\n",
       "</table>\n",
       "</div>"
      ],
      "text/plain": [
       "                  a         b         c         d         e         f\n",
       "breath_id  0.005539 -0.016529  0.012500  0.015133  0.007797  0.024596\n",
       "u_in      -0.028818 -0.006262  0.094837  0.020208 -0.008703  0.084664\n",
       "R          0.273696  0.069519  0.094111 -0.246334 -0.049569 -0.069316\n",
       "C         -0.003935 -0.055327 -0.112365 -0.120046 -0.080369 -0.159969\n",
       "u_in_x     0.311477 -0.012407 -0.139530  0.595016 -0.089119  0.287835\n",
       "R_x        0.273696  0.069519  0.094111 -0.246334 -0.049569 -0.069316\n",
       "C_x       -0.003935 -0.055327 -0.112365 -0.120046 -0.080369 -0.159969\n",
       "u_in_y    -0.004950 -0.053099 -0.115902  0.694919 -0.084928  0.295840\n",
       "R_y        0.273696  0.069519  0.094111 -0.246334 -0.049569 -0.069316\n",
       "C_y       -0.003935 -0.055327 -0.112365 -0.120046 -0.080369 -0.159969\n",
       "a          1.000000  0.024130 -0.054860 -0.059748 -0.023881 -0.047511\n",
       "b          0.024130  1.000000 -0.011917 -0.073584 -0.005325 -0.055429\n",
       "c         -0.054860 -0.011917  1.000000 -0.030179  0.002845 -0.018171\n",
       "d         -0.059748 -0.073584 -0.030179  1.000000 -0.254345  0.575092\n",
       "e         -0.023881 -0.005325  0.002845 -0.254345  1.000000 -0.348946\n",
       "f         -0.047511 -0.055429 -0.018171  0.575092 -0.348946  1.000000"
      ]
     },
     "execution_count": 311,
     "metadata": {},
     "output_type": "execute_result"
    }
   ],
   "source": [
    "# id173 = train.groupby('breath_id').get_group(173)\n",
    "new_df3.merge(new_df2.merge(new_df,on = 'breath_id'),on = 'breath_id').corr()[['a','b','c','d','e','f']]"
   ]
  },
  {
   "cell_type": "code",
   "execution_count": 324,
   "id": "7829d768",
   "metadata": {},
   "outputs": [
    {
     "data": {
      "text/plain": [
       "array([False, False, False, False, False, False,  True,  True, False,\n",
       "       False,  True,  True, False,  True,  True, False,  True,  True,\n",
       "       False,  True,  True, False,  True,  True,  True,  True,  True,\n",
       "        True,  True,  True,  True, False, False, False, False, False,\n",
       "       False, False, False, False, False, False, False, False, False,\n",
       "       False, False, False, False, False, False, False, False, False,\n",
       "       False, False, False, False, False, False, False, False, False,\n",
       "       False, False, False, False, False, False, False, False, False,\n",
       "       False, False, False, False, False, False, False, False])"
      ]
     },
     "execution_count": 324,
     "metadata": {},
     "output_type": "execute_result"
    }
   ],
   "source": [
    "(test.groupby('breath_id').get_group(1)['u_in'].diff()<0).values"
   ]
  },
  {
   "cell_type": "code",
   "execution_count": 350,
   "id": "835041e7",
   "metadata": {},
   "outputs": [
    {
     "data": {
      "text/plain": [
       "33"
      ]
     },
     "execution_count": 350,
     "metadata": {},
     "output_type": "execute_result"
    }
   ],
   "source": [
    "# plt.plot(test.groupby('breath_id').get_group(1)['u_in'].diff().values)\n",
    "# plt.plot(test.groupby('breath_id').get_group(2)['u_in'].diff().values)\n",
    "# plt.plot(test.groupby('breath_id').get_group(3)['u_in'].diff().values)\n",
    "(test.groupby('breath_id').get_group(946)['u_in'].diff().values<=0).sum()\n",
    "# test.groupby('breath_id').get_group(1)['u_in'].diff().values\n",
    "(test.groupby('breath_id').get_group(1)['u_in'].diff().values<=0).sum()"
   ]
  },
  {
   "cell_type": "code",
   "execution_count": 360,
   "id": "a654ea97",
   "metadata": {},
   "outputs": [
    {
     "data": {
      "text/plain": [
       "21"
      ]
     },
     "execution_count": 360,
     "metadata": {},
     "output_type": "execute_result"
    }
   ],
   "source": [
    "(test.groupby('breath_id').get_group(946)['u_in'].diff().values==0).sum()"
   ]
  },
  {
   "cell_type": "code",
   "execution_count": 310,
   "id": "0e4e7581",
   "metadata": {},
   "outputs": [],
   "source": [
    "new_df3 = test.groupby('breath_id')[['u_in','R','C']].min().reset_index()"
   ]
  },
  {
   "cell_type": "code",
   "execution_count": null,
   "id": "ee6a576e",
   "metadata": {},
   "outputs": [],
   "source": []
  },
  {
   "cell_type": "code",
   "execution_count": 291,
   "id": "3ac3d718",
   "metadata": {},
   "outputs": [],
   "source": [
    "new_df['a'] = 0\n",
    "new_df['b'] = 0\n",
    "new_df['c'] = 0\n",
    "new_df['d'] = 0\n",
    "new_df['e'] = 0\n",
    "new_df['f'] = 0"
   ]
  },
  {
   "cell_type": "code",
   "execution_count": 377,
   "id": "6cdfa05f",
   "metadata": {},
   "outputs": [
    {
     "data": {
      "text/plain": [
       "3.5998192220430654"
      ]
     },
     "execution_count": 377,
     "metadata": {},
     "output_type": "execute_result"
    }
   ],
   "source": [
    "id2.u_in.std()"
   ]
  },
  {
   "cell_type": "code",
   "execution_count": 371,
   "id": "52e2a775",
   "metadata": {},
   "outputs": [
    {
     "data": {
      "text/html": [
       "<div>\n",
       "<style scoped>\n",
       "    .dataframe tbody tr th:only-of-type {\n",
       "        vertical-align: middle;\n",
       "    }\n",
       "\n",
       "    .dataframe tbody tr th {\n",
       "        vertical-align: top;\n",
       "    }\n",
       "\n",
       "    .dataframe thead th {\n",
       "        text-align: right;\n",
       "    }\n",
       "</style>\n",
       "<table border=\"1\" class=\"dataframe\">\n",
       "  <thead>\n",
       "    <tr style=\"text-align: right;\">\n",
       "      <th></th>\n",
       "      <th>breath_id</th>\n",
       "      <th>u_in</th>\n",
       "      <th>R</th>\n",
       "      <th>C</th>\n",
       "      <th>a</th>\n",
       "      <th>b</th>\n",
       "      <th>c</th>\n",
       "      <th>d</th>\n",
       "      <th>e</th>\n",
       "      <th>f</th>\n",
       "    </tr>\n",
       "  </thead>\n",
       "  <tbody>\n",
       "    <tr>\n",
       "      <th>0</th>\n",
       "      <td>1</td>\n",
       "      <td>10.146007</td>\n",
       "      <td>20</td>\n",
       "      <td>50</td>\n",
       "      <td>111.206725</td>\n",
       "      <td>2.996360</td>\n",
       "      <td>4.275107</td>\n",
       "      <td>11.178076</td>\n",
       "      <td>5.838224e-08</td>\n",
       "      <td>0.699674</td>\n",
       "    </tr>\n",
       "    <tr>\n",
       "      <th>1</th>\n",
       "      <td>2</td>\n",
       "      <td>5.093747</td>\n",
       "      <td>20</td>\n",
       "      <td>20</td>\n",
       "      <td>21.473373</td>\n",
       "      <td>3.192853</td>\n",
       "      <td>5.613360</td>\n",
       "      <td>10.867697</td>\n",
       "      <td>7.496079e-08</td>\n",
       "      <td>0.895630</td>\n",
       "    </tr>\n",
       "    <tr>\n",
       "      <th>2</th>\n",
       "      <td>3</td>\n",
       "      <td>5.457599</td>\n",
       "      <td>50</td>\n",
       "      <td>20</td>\n",
       "      <td>505.263942</td>\n",
       "      <td>2.497404</td>\n",
       "      <td>4.296217</td>\n",
       "      <td>12.396137</td>\n",
       "      <td>-3.171293e-07</td>\n",
       "      <td>0.942889</td>\n",
       "    </tr>\n",
       "    <tr>\n",
       "      <th>3</th>\n",
       "      <td>4</td>\n",
       "      <td>6.002238</td>\n",
       "      <td>50</td>\n",
       "      <td>50</td>\n",
       "      <td>97.645700</td>\n",
       "      <td>1.582106</td>\n",
       "      <td>6.505977</td>\n",
       "      <td>11.848422</td>\n",
       "      <td>2.871544e-07</td>\n",
       "      <td>0.904062</td>\n",
       "    </tr>\n",
       "    <tr>\n",
       "      <th>4</th>\n",
       "      <td>5</td>\n",
       "      <td>12.159061</td>\n",
       "      <td>5</td>\n",
       "      <td>50</td>\n",
       "      <td>2.864396</td>\n",
       "      <td>1.672270</td>\n",
       "      <td>13.012220</td>\n",
       "      <td>13.972355</td>\n",
       "      <td>1.714776e-08</td>\n",
       "      <td>1.278718</td>\n",
       "    </tr>\n",
       "    <tr>\n",
       "      <th>...</th>\n",
       "      <td>...</td>\n",
       "      <td>...</td>\n",
       "      <td>...</td>\n",
       "      <td>...</td>\n",
       "      <td>...</td>\n",
       "      <td>...</td>\n",
       "      <td>...</td>\n",
       "      <td>...</td>\n",
       "      <td>...</td>\n",
       "      <td>...</td>\n",
       "    </tr>\n",
       "    <tr>\n",
       "      <th>595</th>\n",
       "      <td>940</td>\n",
       "      <td>5.894665</td>\n",
       "      <td>5</td>\n",
       "      <td>10</td>\n",
       "      <td>2.588289</td>\n",
       "      <td>1.149000</td>\n",
       "      <td>29.214283</td>\n",
       "      <td>21.651631</td>\n",
       "      <td>-5.183161e-09</td>\n",
       "      <td>2.072104</td>\n",
       "    </tr>\n",
       "    <tr>\n",
       "      <th>596</th>\n",
       "      <td>941</td>\n",
       "      <td>24.188421</td>\n",
       "      <td>5</td>\n",
       "      <td>50</td>\n",
       "      <td>26.190937</td>\n",
       "      <td>2.694637</td>\n",
       "      <td>8.145043</td>\n",
       "      <td>20.380192</td>\n",
       "      <td>-2.219831e-08</td>\n",
       "      <td>1.663614</td>\n",
       "    </tr>\n",
       "    <tr>\n",
       "      <th>597</th>\n",
       "      <td>942</td>\n",
       "      <td>29.626000</td>\n",
       "      <td>5</td>\n",
       "      <td>50</td>\n",
       "      <td>13.545676</td>\n",
       "      <td>1.317935</td>\n",
       "      <td>13.739839</td>\n",
       "      <td>22.933622</td>\n",
       "      <td>6.465681e-08</td>\n",
       "      <td>1.554728</td>\n",
       "    </tr>\n",
       "    <tr>\n",
       "      <th>598</th>\n",
       "      <td>944</td>\n",
       "      <td>4.400304</td>\n",
       "      <td>50</td>\n",
       "      <td>20</td>\n",
       "      <td>30.032766</td>\n",
       "      <td>1.551857</td>\n",
       "      <td>7.254295</td>\n",
       "      <td>8.779830</td>\n",
       "      <td>-2.517917e-08</td>\n",
       "      <td>0.337341</td>\n",
       "    </tr>\n",
       "    <tr>\n",
       "      <th>599</th>\n",
       "      <td>946</td>\n",
       "      <td>6.078248</td>\n",
       "      <td>50</td>\n",
       "      <td>10</td>\n",
       "      <td>16968.657142</td>\n",
       "      <td>6.897906</td>\n",
       "      <td>3.299590</td>\n",
       "      <td>14.929427</td>\n",
       "      <td>-3.420792e-08</td>\n",
       "      <td>1.426376</td>\n",
       "    </tr>\n",
       "  </tbody>\n",
       "</table>\n",
       "<p>600 rows × 10 columns</p>\n",
       "</div>"
      ],
      "text/plain": [
       "     breath_id       u_in   R   C             a         b          c  \\\n",
       "0            1  10.146007  20  50    111.206725  2.996360   4.275107   \n",
       "1            2   5.093747  20  20     21.473373  3.192853   5.613360   \n",
       "2            3   5.457599  50  20    505.263942  2.497404   4.296217   \n",
       "3            4   6.002238  50  50     97.645700  1.582106   6.505977   \n",
       "4            5  12.159061   5  50      2.864396  1.672270  13.012220   \n",
       "..         ...        ...  ..  ..           ...       ...        ...   \n",
       "595        940   5.894665   5  10      2.588289  1.149000  29.214283   \n",
       "596        941  24.188421   5  50     26.190937  2.694637   8.145043   \n",
       "597        942  29.626000   5  50     13.545676  1.317935  13.739839   \n",
       "598        944   4.400304  50  20     30.032766  1.551857   7.254295   \n",
       "599        946   6.078248  50  10  16968.657142  6.897906   3.299590   \n",
       "\n",
       "             d             e         f  \n",
       "0    11.178076  5.838224e-08  0.699674  \n",
       "1    10.867697  7.496079e-08  0.895630  \n",
       "2    12.396137 -3.171293e-07  0.942889  \n",
       "3    11.848422  2.871544e-07  0.904062  \n",
       "4    13.972355  1.714776e-08  1.278718  \n",
       "..         ...           ...       ...  \n",
       "595  21.651631 -5.183161e-09  2.072104  \n",
       "596  20.380192 -2.219831e-08  1.663614  \n",
       "597  22.933622  6.465681e-08  1.554728  \n",
       "598   8.779830 -2.517917e-08  0.337341  \n",
       "599  14.929427 -3.420792e-08  1.426376  \n",
       "\n",
       "[600 rows x 10 columns]"
      ]
     },
     "execution_count": 371,
     "metadata": {},
     "output_type": "execute_result"
    }
   ],
   "source": [
    "# sns.distplot(new_df.a)\n",
    "new_df"
   ]
  },
  {
   "cell_type": "code",
   "execution_count": 440,
   "id": "e97ae846",
   "metadata": {},
   "outputs": [],
   "source": [
    "# sns.distplot(id173.time_step.diff()[1:])\n",
    "# test.groupby('breath_id')['u_in'].diff()\n",
    "def features(df):\n",
    "    df['area'] = df['time_step'] * df['u_in']\n",
    "    df['area'] = df.groupby('breath_id')['area'].cumsum()\n",
    "    \n",
    "    df['u_in_cumsum'] = (df['u_in']).groupby(df['breath_id']).cumsum()\n",
    "    df['u_in_diff'] = (df['u_in']).groupby(df['breath_id']).diff()\n",
    "    #this is wrong\n",
    "    df['u_in_lag2'] = df['u_in'].shift(2).fillna(0)\n",
    "    df['u_in_lag4'] = df['u_in'].shift(4).fillna(0)\n",
    "    \n",
    "    df['R'] = df['R'].astype(str)\n",
    "    df['C'] = df['C'].astype(str)\n",
    "    df = pd.get_dummies(df)\n",
    "    \n",
    "    df['ewm_u_in_mean'] = df.groupby('breath_id')['u_in'].ewm(halflife=5).mean().reset_index(level=0,drop=True)\n",
    "    df['ewm_u_in_std'] = df.groupby('breath_id')['u_in'].ewm(halflife=5).std().reset_index(level=0,drop=True)\n",
    "    df['ewm_u_in_corr'] = df.groupby('breath_id')['u_in'].ewm(halflife=5).corr().reset_index(level=0,drop=True)\n",
    "    \n",
    "    df['rolling_10_mean'] = df.groupby('breath_id')['u_in'].rolling(window=10, min_periods=1).mean().reset_index(level=0,drop=True)\n",
    "    df['rolling_10_max'] = df.groupby('breath_id')['u_in'].rolling(window=10, min_periods=1).max().reset_index(level=0,drop=True)\n",
    "    df['rolling_10_std'] = df.groupby('breath_id')['u_in'].rolling(window=10, min_periods=1).std().reset_index(level=0,drop=True)\n",
    "    \n",
    "    df['expand_mean'] = df.groupby('breath_id')['u_in'].expanding(2).mean().reset_index(level=0,drop=True)\n",
    "    df['expand_max'] = df.groupby('breath_id')['u_in'].expanding(2).max().reset_index(level=0,drop=True)\n",
    "    df['expand_std'] = df.groupby('breath_id')['u_in'].expanding(2).std().reset_index(level=0,drop=True)\n",
    "    \n",
    "    return df\n",
    "\n",
    "train_df = features(train)\n",
    "# test = features(test)"
   ]
  },
  {
   "cell_type": "code",
   "execution_count": 480,
   "id": "e8284ba0",
   "metadata": {},
   "outputs": [],
   "source": [
    "lasts = train_df.iloc[list(range(79,train_df.shape[0],80))]['u_in']\n"
   ]
  },
  {
   "cell_type": "code",
   "execution_count": 481,
   "id": "99e51ba8",
   "metadata": {},
   "outputs": [
    {
     "data": {
      "image/png": "[encoded data removed]",
      "text/plain": [
       "<Figure size 1152x576 with 1 Axes>"
      ]
     },
     "metadata": {
      "needs_background": "light"
     },
     "output_type": "display_data"
    }
   ],
   "source": [
    "# sns.distplot(lasts)\n",
    "from sklearn.cluster import KMeans\n",
    "distortions = []\n",
    "K = range(1,10)\n",
    "for k in K:\n",
    "    kmeanModel = KMeans(n_clusters=k)\n",
    "    kmeanModel.fit(lasts.values.reshape(-1, 1))\n",
    "    distortions.append(kmeanModel.inertia_)\n",
    "plt.figure(figsize=(16,8))\n",
    "plt.plot(K, distortions, 'bx-')\n",
    "plt.xlabel('k')\n",
    "plt.ylabel('Distortion')\n",
    "plt.title('The Elbow Method showing the optimal k')\n",
    "plt.show()"
   ]
  },
  {
   "cell_type": "code",
   "execution_count": 482,
   "id": "034606cc",
   "metadata": {},
   "outputs": [
    {
     "data": {
      "text/plain": [
       "KMeans(n_clusters=2)"
      ]
     },
     "execution_count": 482,
     "metadata": {},
     "output_type": "execute_result"
    }
   ],
   "source": [
    "    kmeanModel = KMeans(n_clusters=2)\n",
    "    kmeanModel.fit(lasts.values.reshape(-1, 1))"
   ]
  },
  {
   "cell_type": "code",
   "execution_count": 497,
   "id": "ea02053d",
   "metadata": {},
   "outputs": [
    {
     "data": {
      "text/plain": [
       "[<matplotlib.lines.Line2D at 0x1807f4213c8>]"
      ]
     },
     "execution_count": 497,
     "metadata": {},
     "output_type": "execute_result"
    },
    {
     "data": {
      "image/png": "[encoded data removed]",
      "text/plain": [
       "<Figure size 432x288 with 1 Axes>"
      ]
     },
     "metadata": {
      "needs_background": "light"
     },
     "output_type": "display_data"
    }
   ],
   "source": [
    "# np.repeat(kmeanModel.labels_,80)\n",
    "plt.plot(train_df.loc[train_df.breath_id==125749,'pressure'].values)\n",
    "plt.plot(train_df.loc[train_df.breath_id==125749,'u_in'].values)\n",
    "plt.plot(train_df.loc[train_df.breath_id==125749,'u_out'].values)\n",
    "\n",
    "# plt.plot(train_df.loc[train_df.breath_id==1,'u_in'].values)\n",
    "# plt.plot(train_df.loc[train_df.breath_id==1,'pressure'].values)"
   ]
  },
  {
   "cell_type": "code",
   "execution_count": 455,
   "id": "7766a59d",
   "metadata": {},
   "outputs": [],
   "source": [
    "# train_df.plot('area')\n",
    "# plt.plot(train_df['area'])\n",
    "# sns.distplot(train_df.loc[train_df.breath_id==1, \"u_in_diff\"])\n",
    "# sns.distplot(train_df.loc[train_df.breath_id==2, \"u_in_diff\"])\n",
    "# sns.distplot(train_df.loc[train_df.breath_id==173, \"u_in_diff\"])\n",
    "# sns.distplot(train_df.loc[train_df.breath_id==4, \"u_in_diff\"])\n",
    "# sns.distplot(np.log(train_df.groupby(\"breath_id\").agg('max')['u_in_diff']+1))\n",
    "# test\n",
    "test2 = train_df.loc[train_df.breath_id.isin(test.breath_id.unique().tolist())]\n",
    "# create_new_features"
   ]
  },
  {
   "cell_type": "code",
   "execution_count": null,
   "id": "10c4a734",
   "metadata": {},
   "outputs": [],
   "source": [
    "from joblib import Parallel, delayed\n",
    "def create_new_features(df):\n",
    "    # Dict for aggregations\n",
    "    create_feature_dict = {\n",
    "        'wap1': [np.sum, np.std ],\n",
    "        'wap2': [np.sum, np.std ],\n",
    "        'wap3': [np.sum, np.std ],\n",
    "        'wap4': [np.sum, np.std ],\n",
    "#         'log_return1': [realized_volatility],\n",
    "#         'log_return2': [realized_volatility],\n",
    "#         'log_return3': [realized_volatility],\n",
    "#         'log_return4': [realized_volatility],\n",
    "        'wap_balance': [np.sum, np.max],\n",
    "        'price_spread':[np.sum, np.max],\n",
    "        'price_spread2':[np.sum, np.max],\n",
    "        'bid_spread':[np.sum, np.max],\n",
    "        'ask_spread':[np.sum, np.max],\n",
    "        'total_volume':[np.sum, np.max],\n",
    "        'volume_imbalance':[np.sum, np.max],\n",
    "        \"bid_ask_spread\":[np.sum,  np.max],\n",
    "    }\n",
    "    create_feature_dict_time = {\n",
    "        'log_return1': [realized_volatility],\n",
    "        'log_return2': [realized_volatility],\n",
    "        'log_return3': [realized_volatility],\n",
    "        'log_return4': [realized_volatility],\n",
    "    }\n",
    "    "
   ]
  },
  {
   "cell_type": "code",
   "execution_count": 466,
   "id": "3906a0d5",
   "metadata": {},
   "outputs": [],
   "source": [
    "# test.groupby('breath_id')['u_in'].apply(cumsum)\n",
    "# (test['u_in']).groupby(test['breath_id']).cumsum()\n",
    "# test.groupby('breath_id').agg(cumsum)\n",
    "tesss = train_df.iloc[train_df.groupby('breath_id')['u_in_diff'].idxmax()]\n",
    "tesss2 = train_df.iloc[train_df.groupby('breath_id')['u_in'].idxmax()]"
   ]
  },
  {
   "cell_type": "code",
   "execution_count": 467,
   "id": "dd5e4273",
   "metadata": {},
   "outputs": [
    {
     "data": {
      "text/plain": [
       "<AxesSubplot:xlabel='time_step', ylabel='Density'>"
      ]
     },
     "execution_count": 467,
     "metadata": {},
     "output_type": "execute_result"
    },
    {
     "data": {
      "image/png": "[encoded data removed]",
      "text/plain": [
       "<Figure size 432x288 with 1 Axes>"
      ]
     },
     "metadata": {
      "needs_background": "light"
     },
     "output_type": "display_data"
    }
   ],
   "source": [
    "sns.distplot(tesss2.time_step)"
   ]
  },
  {
   "cell_type": "code",
   "execution_count": null,
   "id": "65791011",
   "metadata": {},
   "outputs": [],
   "source": [
    "def lung_fea(df):\n",
    "    df['total_pressure'] = ((df.u_in_diff)*(df.time_step.diff().fillna(0))).sum()"
   ]
  }
 ],
 "metadata": {
  "kernelspec": {
   "display_name": "Python 3 (ipykernel)",
   "language": "python",
   "name": "python3"
  },
  "language_info": {
   "codemirror_mode": {
    "name": "ipython",
    "version": 3
   },
   "file_extension": ".py",
   "mimetype": "text/x-python",
   "name": "python",
   "nbconvert_exporter": "python",
   "pygments_lexer": "ipython3",
   "version": "3.7.4"
  }
 },
 "nbformat": 4,
 "nbformat_minor": 5
}
