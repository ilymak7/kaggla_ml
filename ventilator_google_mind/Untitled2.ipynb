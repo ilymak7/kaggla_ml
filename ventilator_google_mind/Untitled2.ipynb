{
 "cells": [
  {
   "cell_type": "code",
   "execution_count": 2,
   "id": "2e4f7f35",
   "metadata": {},
   "outputs": [
    {
     "data": {
      "text/html": [
       "        <script type=\"text/javascript\">\n",
       "        window.PlotlyConfig = {MathJaxConfig: 'local'};\n",
       "        if (window.MathJax) {MathJax.Hub.Config({SVG: {font: \"STIX-Web\"}});}\n",
       "        if (typeof require !== 'undefined') {\n",
       "        require.undef(\"plotly\");\n",
       "        requirejs.config({\n",
       "            paths: {\n",
       "                'plotly': ['https://cdn.plot.ly/plotly-latest.min']\n",
       "            }\n",
       "        });\n",
       "        require(['plotly'], function(Plotly) {\n",
       "            window._Plotly = Plotly;\n",
       "        });\n",
       "        }\n",
       "        </script>\n",
       "        "
      ]
     },
     "metadata": {},
     "output_type": "display_data"
    },
    {
     "data": {
      "text/html": [
       "<style type='text/css'>\n",
       ".datatable table.frame { margin-bottom: 0; }\n",
       ".datatable table.frame thead { border-bottom: none; }\n",
       ".datatable table.frame tr.coltypes td {  color: #FFFFFF;  line-height: 6px;  padding: 0 0.5em;}\n",
       ".datatable .bool    { background: #DDDD99; }\n",
       ".datatable .object  { background: #565656; }\n",
       ".datatable .int     { background: #5D9E5D; }\n",
       ".datatable .float   { background: #4040CC; }\n",
       ".datatable .str     { background: #CC4040; }\n",
       ".datatable .time    { background: #40CC40; }\n",
       ".datatable .row_index {  background: var(--jp-border-color3);  border-right: 1px solid var(--jp-border-color0);  color: var(--jp-ui-font-color3);  font-size: 9px;}\n",
       ".datatable .frame tbody td { text-align: left; }\n",
       ".datatable .frame tr.coltypes .row_index {  background: var(--jp-border-color0);}\n",
       ".datatable th:nth-child(2) { padding-left: 12px; }\n",
       ".datatable .hellipsis {  color: var(--jp-cell-editor-border-color);}\n",
       ".datatable .vellipsis {  background: var(--jp-layout-color0);  color: var(--jp-cell-editor-border-color);}\n",
       ".datatable .na {  color: var(--jp-cell-editor-border-color);  font-size: 80%;}\n",
       ".datatable .sp {  opacity: 0.25;}\n",
       ".datatable .footer { font-size: 9px; }\n",
       ".datatable .frame_dimensions {  background: var(--jp-border-color3);  border-top: 1px solid var(--jp-border-color0);  color: var(--jp-ui-font-color3);  display: inline-block;  opacity: 0.6;  padding: 1px 10px 1px 5px;}\n",
       "</style>\n"
      ],
      "text/plain": [
       "<IPython.core.display.HTML object>"
      ]
     },
     "metadata": {},
     "output_type": "display_data"
    }
   ],
   "source": [
    "import numpy as np \n",
    "import pandas as pd\n",
    "import plotly as py\n",
    "import plotly.graph_objs as go\n",
    "import plotly.express as px\n",
    "from plotly.offline import init_notebook_mode\n",
    "init_notebook_mode(connected = True)\n",
    "import seaborn as sns\n",
    "\n",
    "import matplotlib.pyplot as plt\n",
    "%matplotlib inline\n",
    "\n",
    "import warnings\n",
    "warnings.filterwarnings(\"ignore\")\n",
    "\n",
    "from sklearn.preprocessing import StandardScaler\n",
    "from sklearn.preprocessing import LabelEncoder\n",
    "\n",
    "from sklearn.metrics import mean_absolute_error\n",
    "\n",
    "from sklearn.model_selection import KFold, GroupKFold\n",
    "\n",
    "from sklearn.ensemble import VotingRegressor\n",
    "\n",
    "#import optuna\n",
    "\n",
    "from lightgbm import LGBMRegressor\n",
    "from xgboost import XGBRegressor\n",
    "#from catboost import CatBoostRegressor\n",
    "import gc\n",
    "pd.set_option('display.max_columns', None)\n",
    "#########################################################\n",
    "input_dir = 'data/'\n",
    "train = pd.read_csv(input_dir+'train.csv')"
   ]
  },
  {
   "cell_type": "code",
   "execution_count": 379,
   "id": "9a04d48f",
   "metadata": {},
   "outputs": [],
   "source": [
    "# train = cudf.read_csv('../input/ventilator-pressure-prediction/train.csv')\n",
    "# exhale = 80-train.groupby('breath_id')[['u_out']].agg('sum')\n",
    "# length = train.groupby('breath_id')[['time_step']].agg('max')\n",
    "# print('Train shape:',train.shape)\n",
    "# train.head()\n",
    "train = pd.read_pickle(input_dir+'train.pkl')\n",
    "test = pd.read_pickle(input_dir+'test.pkl')\n"
   ]
  },
  {
   "cell_type": "code",
   "execution_count": 394,
   "id": "fa39405b",
   "metadata": {},
   "outputs": [
    {
     "data": {
      "text/plain": [
       "47.0"
      ]
     },
     "execution_count": 394,
     "metadata": {},
     "output_type": "execute_result"
    }
   ],
   "source": [
    "train.groupby('breath_id')['u_out'].sum().min()\n"
   ]
  },
  {
   "cell_type": "code",
   "execution_count": 392,
   "id": "6e52fb59",
   "metadata": {},
   "outputs": [],
   "source": [
    "# train.groupby('breath_id')['u_out'].sum().min()\n",
    "train['id_1'] = train.id%80\n",
    "train.loc[train.id_1==0] = 80"
   ]
  },
  {
   "cell_type": "code",
   "execution_count": 396,
   "id": "edc0de94",
   "metadata": {},
   "outputs": [],
   "source": [
    "tr = train.loc[train['id_1']<=33]"
   ]
  },
  {
   "cell_type": "code",
   "execution_count": 400,
   "id": "e8e7577d",
   "metadata": {},
   "outputs": [],
   "source": [
    "cor = tr.corr()"
   ]
  },
  {
   "cell_type": "code",
   "execution_count": 428,
   "id": "9fa0ca71",
   "metadata": {},
   "outputs": [],
   "source": [
    "# abs(cor['pressure']).sort_values(ascending = False)\n",
    "# tr.columns\n",
    "# i = 17\n",
    "# plt.scatter(tr[tr.columns[i]],tr.pressure)\n",
    "# print(tr.columns[i])\n",
    "tr['max_vol_reached'] = tr.groupby('breath_id')['sgn_u_in_diff'].apply(lambda x : (x<0).cumsum())"
   ]
  },
  {
   "cell_type": "code",
   "execution_count": 432,
   "id": "68d1d68f",
   "metadata": {},
   "outputs": [],
   "source": [
    "# tr.groupby('breath_id')['max_vol_reached']\n",
    "# plt.scatter(tr[tr.columns[-1]],tr.pressure)\n",
    "# tr.columns[-1]\n",
    "from scipy.stats import pearsonr"
   ]
  },
  {
   "cell_type": "code",
   "execution_count": 439,
   "id": "9cdcf56d",
   "metadata": {},
   "outputs": [
    {
     "data": {
      "text/plain": [
       "(0.37402818111587177, 0.0)"
      ]
     },
     "execution_count": 439,
     "metadata": {},
     "output_type": "execute_result"
    }
   ],
   "source": [
    "pearsonr(tr['time_step'].values,tr['pressure'].values)\n",
    "# tr['id_1'].max()"
   ]
  },
  {
   "cell_type": "code",
   "execution_count": 328,
   "id": "448a9cc2",
   "metadata": {},
   "outputs": [],
   "source": [
    "train['u_in_2nd_diff'] = train.groupby('breath_id')['u_in_diff'].diff().fillna(0)"
   ]
  },
  {
   "cell_type": "code",
   "execution_count": 50,
   "id": "600a47a2",
   "metadata": {},
   "outputs": [],
   "source": [
    "corr = train.corr()"
   ]
  },
  {
   "cell_type": "code",
   "execution_count": 54,
   "id": "45c23432",
   "metadata": {},
   "outputs": [],
   "source": [
    "train_log = np.log(train)"
   ]
  },
  {
   "cell_type": "code",
   "execution_count": 55,
   "id": "fb8a5fe9",
   "metadata": {},
   "outputs": [],
   "source": [
    "corr_log = train_log.fillna(0).corr()"
   ]
  },
  {
   "cell_type": "code",
   "execution_count": 63,
   "id": "3fe7c7cd",
   "metadata": {},
   "outputs": [],
   "source": [
    "# abs(corr_log['pressure']).sort_values(ascending = False).index\n",
    "inhale_train = train.loc[train.u_out ==0]\n",
    "exhale_train = train.loc[train.u_out ==1]\n"
   ]
  },
  {
   "cell_type": "code",
   "execution_count": 68,
   "id": "f1ae224a",
   "metadata": {},
   "outputs": [],
   "source": [
    "corr_inhale = inhale_train.corr()"
   ]
  },
  {
   "cell_type": "code",
   "execution_count": 100,
   "id": "516de9e6",
   "metadata": {},
   "outputs": [],
   "source": [
    "# abs(corr_inhale['pressure']).sort_values(ascending = False)\n",
    "inhale_train = train.loc[train.u_out ==0]\n",
    "exhale_train = train.loc[train.u_out ==1]"
   ]
  },
  {
   "cell_type": "code",
   "execution_count": 78,
   "id": "a9ab7bd8",
   "metadata": {},
   "outputs": [],
   "source": [
    "# abs(corr_inhale['pressure']).sort_values(ascending = False)\n",
    "br_to_remove = inhale_train.loc[(inhale_train['pressure'])<=0,'breath_id']"
   ]
  },
  {
   "cell_type": "code",
   "execution_count": 83,
   "id": "376ad5cd",
   "metadata": {},
   "outputs": [],
   "source": [
    "id_00 = list(set(train.breath_id.unique().tolist())-set(br_to_remove.unique().tolist()))"
   ]
  },
  {
   "cell_type": "code",
   "execution_count": 89,
   "id": "430306df",
   "metadata": {},
   "outputs": [
    {
     "ename": "NameError",
     "evalue": "name 'corr_00' is not defined",
     "output_type": "error",
     "traceback": [
      "\u001b[1;31m---------------------------------------------------------------------------\u001b[0m",
      "\u001b[1;31mNameError\u001b[0m                                 Traceback (most recent call last)",
      "\u001b[1;32m<ipython-input-89-98427d28ac22>\u001b[0m in \u001b[0;36m<module>\u001b[1;34m\u001b[0m\n\u001b[0;32m      1\u001b[0m \u001b[0mcor_00\u001b[0m \u001b[1;33m=\u001b[0m \u001b[0minhale_train\u001b[0m\u001b[1;33m.\u001b[0m\u001b[0mloc\u001b[0m\u001b[1;33m[\u001b[0m\u001b[0minhale_train\u001b[0m\u001b[1;33m.\u001b[0m\u001b[0mbreath_id\u001b[0m\u001b[1;33m.\u001b[0m\u001b[0misin\u001b[0m\u001b[1;33m(\u001b[0m\u001b[0mid_00\u001b[0m\u001b[1;33m)\u001b[0m\u001b[1;33m]\u001b[0m\u001b[1;33m.\u001b[0m\u001b[0mcorr\u001b[0m\u001b[1;33m(\u001b[0m\u001b[1;33m)\u001b[0m\u001b[1;33m\u001b[0m\u001b[1;33m\u001b[0m\u001b[0m\n\u001b[1;32m----> 2\u001b[1;33m \u001b[0mabs\u001b[0m\u001b[1;33m(\u001b[0m\u001b[0mcorr_00\u001b[0m\u001b[1;33m[\u001b[0m\u001b[1;34m'pressure'\u001b[0m\u001b[1;33m]\u001b[0m\u001b[1;33m)\u001b[0m\u001b[1;33m.\u001b[0m\u001b[0msort_values\u001b[0m\u001b[1;33m(\u001b[0m\u001b[0mascending\u001b[0m \u001b[1;33m=\u001b[0m \u001b[1;32mFalse\u001b[0m\u001b[1;33m)\u001b[0m\u001b[1;33m\u001b[0m\u001b[1;33m\u001b[0m\u001b[0m\n\u001b[0m\u001b[0;32m      3\u001b[0m \u001b[1;31m# len(id_00)\u001b[0m\u001b[1;33m\u001b[0m\u001b[1;33m\u001b[0m\u001b[1;33m\u001b[0m\u001b[0m\n",
      "\u001b[1;31mNameError\u001b[0m: name 'corr_00' is not defined"
     ]
    }
   ],
   "source": [
    "cor_00 = inhale_train.loc[inhale_train.breath_id.isin(id_00)].corr()\n",
    "\n",
    "# len(id_00)"
   ]
  },
  {
   "cell_type": "code",
   "execution_count": 91,
   "id": "7ef9e41b",
   "metadata": {},
   "outputs": [
    {
     "data": {
      "text/plain": [
       "Index(['id', 'breath_id', 'time_step', 'u_in', 'u_out', 'pressure', 'area',\n",
       "       'cross', 'cross2', 'u_in_cumsum', 'one', 'count', 'u_in_cummean',\n",
       "       'u_in_diff', 'time_step_diff', 'air_press_lung',\n",
       "       'air_press_lung_cumsum', 'sgn_u_in_diff', 'ewm_u_in_mean',\n",
       "       'ewm_u_in_std', 'u_in_lag_back4', 'u_out_lag_back4', 'rolling_10_mean',\n",
       "       'rolling_10_max', 'rolling_10_std', 'u_in_lag_back2', 'u_out_lag_back2',\n",
       "       'expand_mean', 'expand_max', 'expand_std', 'u_in_lag_back1',\n",
       "       'u_out_lag_back1', 'u_in_lag', 'u_in_lag2', 'u_in_lag3', 'u_in_lag4',\n",
       "       'u_out_lag', 'u_out_lag2', 'u_out_lag3', 'u_out_lag4', 'u_in_2nd_diff',\n",
       "       'breath_id__u_in__max', 'breath_id__u_out__max',\n",
       "       'breath_id__u_in__diffmax', 'breath_id__u_in__diffmean', 'u_in_diff3',\n",
       "       'u_out_diff3', 'u_in_diff4', 'u_out_diff4', 'R_20', 'R_5', 'R_50',\n",
       "       'C_10', 'C_20', 'C_50', 'RC_2010', 'RC_2020', 'RC_2050', 'RC_5010',\n",
       "       'RC_5020', 'RC_5050', 'RC_510', 'RC_520', 'RC_550'],\n",
       "      dtype='object')"
      ]
     },
     "execution_count": 91,
     "metadata": {},
     "output_type": "execute_result"
    }
   ],
   "source": [
    "# abs(cor_00['pressure']).sort_values(asceding = False)"
   ]
  },
  {
   "cell_type": "code",
   "execution_count": 135,
   "id": "cc161994",
   "metadata": {},
   "outputs": [],
   "source": [
    "# i = 0\n",
    "# abs(np.log(inhale_train).fillna(0).corr()['pressure']).sort_values(ascending = False)['u_in_2nd_diff']\n",
    "# import tensorflow as tf\n",
    "inhale_train['pressure_diff'] = inhale_train.groupby('breath_id')['pressure'].diff().fillna(0)"
   ]
  },
  {
   "cell_type": "code",
   "execution_count": 137,
   "id": "5cace5d9",
   "metadata": {},
   "outputs": [],
   "source": [
    "# tf.__version__\n",
    "inhale_train['dp_dt'] = inhale_train['pressure_diff']/inhale_train['time_step_diff'].fillna(0)"
   ]
  },
  {
   "cell_type": "code",
   "execution_count": 157,
   "id": "358720df",
   "metadata": {},
   "outputs": [
    {
     "data": {
      "text/plain": [
       "(array([20, 50,  5], dtype=int64), array([50, 20, 10], dtype=int64))"
      ]
     },
     "execution_count": 157,
     "metadata": {},
     "output_type": "execute_result"
    }
   ],
   "source": [
    "train_inhale.R.unique() , train_inhale.C.unique() "
   ]
  },
  {
   "cell_type": "code",
   "execution_count": 162,
   "id": "4aaa0481",
   "metadata": {},
   "outputs": [
    {
     "data": {
      "text/plain": [
       "<AxesSubplot:xlabel='pressure', ylabel='Density'>"
      ]
     },
     "execution_count": 162,
     "metadata": {},
     "output_type": "execute_result"
    },
    {
     "data": {
      "image/png": "[encoded data removed]",
      "text/plain": [
       "<Figure size 432x288 with 1 Axes>"
      ]
     },
     "metadata": {
      "needs_background": "light"
     },
     "output_type": "display_data"
    }
   ],
   "source": [
    "# sns.distplot(inhale_train['dp_dt'])\n",
    "# abs(inhale_train.loc[train_inhale.id%40 == 2].corr()['pressure']).sort_values(ascending =False)\n",
    "sns.distplot(inhale_train.loc[(train_inhale.id%80 == 1)& (train_inhale.R == 5)& (train_inhale.C == 50),'pressure'])"
   ]
  },
  {
   "cell_type": "code",
   "execution_count": 124,
   "id": "18b748c3",
   "metadata": {},
   "outputs": [
    {
     "ename": "IndexError",
     "evalue": "list index out of range",
     "output_type": "error",
     "traceback": [
      "\u001b[1;31m---------------------------------------------------------------------------\u001b[0m",
      "\u001b[1;31mIndexError\u001b[0m                                Traceback (most recent call last)",
      "\u001b[1;32m<ipython-input-124-eadc5ea41845>\u001b[0m in \u001b[0;36m<module>\u001b[1;34m\u001b[0m\n\u001b[0;32m      2\u001b[0m rcs = ['RC_2010', 'RC_2020', 'RC_2050', 'RC_5010',\n\u001b[0;32m      3\u001b[0m        'RC_5020', 'RC_5050', 'RC_510', 'RC_520', 'RC_550']\n\u001b[1;32m----> 4\u001b[1;33m \u001b[0mabs\u001b[0m\u001b[1;33m(\u001b[0m\u001b[0minhale_train\u001b[0m\u001b[1;33m.\u001b[0m\u001b[0mloc\u001b[0m\u001b[1;33m[\u001b[0m\u001b[0minhale_train\u001b[0m\u001b[1;33m[\u001b[0m\u001b[0mrcs\u001b[0m\u001b[1;33m[\u001b[0m\u001b[0mi\u001b[0m\u001b[1;33m]\u001b[0m\u001b[1;33m]\u001b[0m \u001b[1;33m==\u001b[0m \u001b[1;36m1\u001b[0m\u001b[1;33m]\u001b[0m\u001b[1;33m.\u001b[0m\u001b[0mcorr\u001b[0m\u001b[1;33m(\u001b[0m\u001b[1;33m)\u001b[0m\u001b[1;33m[\u001b[0m\u001b[1;34m'pressure'\u001b[0m\u001b[1;33m]\u001b[0m\u001b[1;33m)\u001b[0m\u001b[1;33m.\u001b[0m\u001b[0msort_values\u001b[0m\u001b[1;33m(\u001b[0m\u001b[0mascending\u001b[0m \u001b[1;33m=\u001b[0m \u001b[1;32mFalse\u001b[0m\u001b[1;33m)\u001b[0m\u001b[1;33m\u001b[0m\u001b[1;33m\u001b[0m\u001b[0m\n\u001b[0m\u001b[0;32m      5\u001b[0m \u001b[1;33m\u001b[0m\u001b[0m\n",
      "\u001b[1;31mIndexError\u001b[0m: list index out of range"
     ]
    }
   ],
   "source": [
    "# abs(corr['pressure']).sort_values(ascending = False).index\n",
    "rcs = ['RC_2010', 'RC_2020', 'RC_2050', 'RC_5010',\n",
    "       'RC_5020', 'RC_5050', 'RC_510', 'RC_520', 'RC_550']\n",
    "abs(inhale_train.loc[inhale_train[rcs[i]] == 1].corr()['pressure']).sort_values(ascending = False)\n",
    "\n"
   ]
  },
  {
   "cell_type": "code",
   "execution_count": 268,
   "id": "722c3a74",
   "metadata": {},
   "outputs": [
    {
     "data": {
      "text/plain": [
       "(1.0, 0.0, 1.0)"
      ]
     },
     "execution_count": 268,
     "metadata": {},
     "output_type": "execute_result"
    }
   ],
   "source": [
    "# from scipy.stats import t, norm \n",
    "# sns.distplot(inhale_train.dp_dt,fit = t)\n",
    "# sns.distplot(inhale_train.air_press_lung,fit = t)\n",
    "t.fit(inhale_train.dp_dt.values)\n",
    "# inhale_train.fillna(0,inplace = True)"
   ]
  },
  {
   "cell_type": "code",
   "execution_count": 289,
   "id": "d6e539e7",
   "metadata": {},
   "outputs": [
    {
     "data": {
      "text/plain": [
       "<AxesSubplot:xlabel='dp_dt', ylabel='Density'>"
      ]
     },
     "execution_count": 289,
     "metadata": {},
     "output_type": "execute_result"
    },
    {
     "data": {
      "image/png": "[encoded data removed]",
      "text/plain": [
       "<Figure size 432x288 with 1 Axes>"
      ]
     },
     "metadata": {
      "needs_background": "light"
     },
     "output_type": "display_data"
    }
   ],
   "source": [
    "sns.distplot(((inhale_train.dp_dt)**(-5)).clip(upper = 6))"
   ]
  },
  {
   "cell_type": "code",
   "execution_count": 249,
   "id": "df4dd26e",
   "metadata": {},
   "outputs": [],
   "source": [
    "# i+=1\n",
    "# from scipy.stats import boxcox\n",
    "# sns.distplot(((inhale_train.dp_dt.astype('float64'))).fillna(0))\n",
    "# inhale_train.dp_dt.max()\n",
    "# sns.displot((inhale_train.u_in_diff/inhale_train.dp_dt).clip(-np.inf).fillna(-10000))\n",
    "a = inhale_train[inhale_train.id.isin(inhale_train.loc[inhale_train.dp_dt<0].groupby('breath_id')['id'].min().values.tolist())].time_step\n",
    "b = inhale_train[inhale_train.id.isin(inhale_train.loc[inhale_train.u_in_diff<0].groupby('breath_id')['id'].min().values.tolist())].time_step"
   ]
  },
  {
   "cell_type": "code",
   "execution_count": 250,
   "id": "178e0d27",
   "metadata": {},
   "outputs": [],
   "source": [
    "# from scipy.stats.stats import pearsonr   \n",
    "# a = [1,4,6]\n",
    "# b = [1,2,3]   \n",
    "# print(pearsonr(a,b))\n",
    "# len(b)\n",
    "# len(b)/inhale_train.breath_id.unique().shape[0]\n",
    "# b.index.isin(a.index\n",
    "a.index = (a.index//80)+1\n",
    "b.index = (b.index//80)+1"
   ]
  },
  {
   "cell_type": "code",
   "execution_count": 266,
   "id": "73b41ee3",
   "metadata": {},
   "outputs": [
    {
     "data": {
      "text/plain": [
       "<AxesSubplot:xlabel='time_step', ylabel='Density'>"
      ]
     },
     "execution_count": 266,
     "metadata": {},
     "output_type": "execute_result"
    },
    {
     "data": {
      "image/png": "[encoded data removed]",
      "text/plain": [
       "<Figure size 432x288 with 1 Axes>"
      ]
     },
     "metadata": {
      "needs_background": "light"
     },
     "output_type": "display_data"
    }
   ],
   "source": [
    "# pearsonr(np.log(a[a.index.isin(b.index)]) , np.log(b[b.index.isin(a.index)]))\n",
    "sns.distplot(a[a.index.isin(b.index)]-b[b.index.isin(a.index)])\n",
    "# sns.distplot()\n"
   ]
  },
  {
   "cell_type": "code",
   "execution_count": 17,
   "id": "7dfa1e05",
   "metadata": {},
   "outputs": [],
   "source": [
    "# # exhale.u_out.unique()\n",
    "\n",
    "# # CONVERT TRAIN TO SERIES\n",
    "# series = train.groupby('breath_id').collect().reset_index()\n",
    "# for k in range(80): series[f'x_{k}'] = series.u_in.list.get(k)\n",
    "# for k in range(80): series[f'y_{k}'] = series.pressure.list.get(k)\n",
    "# for k in range(80): series[f'z_{k}'] = 1-series.u_out.list.get(k)\n",
    "# series.R = series.R.list.get(0)\n",
    "# series.C = series.C.list.get(0)\n",
    "# series = series.drop(['id','time_step','u_in','u_out','pressure'],axis=1)\n",
    "# series = series.merge(exhale,on='breath_id',how='left')\n",
    "# series = series.merge(length,on='breath_id',how='left')\n",
    "# series = series.rename({'time_step':'time_length','u_out':'expire'},axis=1)\n",
    "# series = series.sort_values('breath_id').reset_index(drop=True)\n",
    "\n",
    "# print('Train as series shape:', series.shape )\n",
    "# print('Min inhale length=', series['expire'].min(),',Max inhale length=', series['expire'].max(),\n",
    "#       'Max breath length=',series['time_length'].max() )\n",
    "# series.head()\n"
   ]
  },
  {
   "cell_type": "code",
   "execution_count": 34,
   "id": "7df17b51",
   "metadata": {},
   "outputs": [],
   "source": [
    "# sns.distplot(train.pressure)\n",
    "# train.loc[train.u_out == 0,'time_step' ].max()\n",
    "train['log_time'] = np.log(train['time_step'])\n",
    "train.fillna(0,inplace = True)"
   ]
  },
  {
   "cell_type": "code",
   "execution_count": 36,
   "id": "21717624",
   "metadata": {},
   "outputs": [
    {
     "data": {
      "text/html": [
       "<div>\n",
       "<style scoped>\n",
       "    .dataframe tbody tr th:only-of-type {\n",
       "        vertical-align: middle;\n",
       "    }\n",
       "\n",
       "    .dataframe tbody tr th {\n",
       "        vertical-align: top;\n",
       "    }\n",
       "\n",
       "    .dataframe thead th {\n",
       "        text-align: right;\n",
       "    }\n",
       "</style>\n",
       "<table border=\"1\" class=\"dataframe\">\n",
       "  <thead>\n",
       "    <tr style=\"text-align: right;\">\n",
       "      <th></th>\n",
       "      <th>id</th>\n",
       "      <th>breath_id</th>\n",
       "      <th>R</th>\n",
       "      <th>C</th>\n",
       "      <th>time_step</th>\n",
       "      <th>u_in</th>\n",
       "      <th>u_out</th>\n",
       "      <th>pressure</th>\n",
       "      <th>log_time</th>\n",
       "    </tr>\n",
       "  </thead>\n",
       "  <tbody>\n",
       "    <tr>\n",
       "      <th>id</th>\n",
       "      <td>1.000000</td>\n",
       "      <td>0.999999</td>\n",
       "      <td>0.001853</td>\n",
       "      <td>0.007222</td>\n",
       "      <td>-0.000199</td>\n",
       "      <td>-0.002380</td>\n",
       "      <td>-0.000089</td>\n",
       "      <td>-0.002402</td>\n",
       "      <td>-0.000124</td>\n",
       "    </tr>\n",
       "    <tr>\n",
       "      <th>breath_id</th>\n",
       "      <td>0.999999</td>\n",
       "      <td>1.000000</td>\n",
       "      <td>0.001860</td>\n",
       "      <td>0.007222</td>\n",
       "      <td>-0.000213</td>\n",
       "      <td>-0.002378</td>\n",
       "      <td>-0.000100</td>\n",
       "      <td>-0.002394</td>\n",
       "      <td>-0.000136</td>\n",
       "    </tr>\n",
       "    <tr>\n",
       "      <th>R</th>\n",
       "      <td>0.001853</td>\n",
       "      <td>0.001860</td>\n",
       "      <td>1.000000</td>\n",
       "      <td>-0.096070</td>\n",
       "      <td>-0.014535</td>\n",
       "      <td>-0.148120</td>\n",
       "      <td>-0.007594</td>\n",
       "      <td>0.015976</td>\n",
       "      <td>-0.009353</td>\n",
       "    </tr>\n",
       "    <tr>\n",
       "      <th>C</th>\n",
       "      <td>0.007222</td>\n",
       "      <td>0.007222</td>\n",
       "      <td>-0.096070</td>\n",
       "      <td>1.000000</td>\n",
       "      <td>0.004936</td>\n",
       "      <td>0.151002</td>\n",
       "      <td>0.003720</td>\n",
       "      <td>-0.036727</td>\n",
       "      <td>0.003100</td>\n",
       "    </tr>\n",
       "    <tr>\n",
       "      <th>time_step</th>\n",
       "      <td>-0.000199</td>\n",
       "      <td>-0.000213</td>\n",
       "      <td>-0.014535</td>\n",
       "      <td>0.004936</td>\n",
       "      <td>1.000000</td>\n",
       "      <td>-0.352276</td>\n",
       "      <td>0.839191</td>\n",
       "      <td>-0.524829</td>\n",
       "      <td>0.899358</td>\n",
       "    </tr>\n",
       "    <tr>\n",
       "      <th>u_in</th>\n",
       "      <td>-0.002380</td>\n",
       "      <td>-0.002378</td>\n",
       "      <td>-0.148120</td>\n",
       "      <td>0.151002</td>\n",
       "      <td>-0.352276</td>\n",
       "      <td>1.000000</td>\n",
       "      <td>-0.416985</td>\n",
       "      <td>0.308136</td>\n",
       "      <td>-0.435356</td>\n",
       "    </tr>\n",
       "    <tr>\n",
       "      <th>u_out</th>\n",
       "      <td>-0.000089</td>\n",
       "      <td>-0.000100</td>\n",
       "      <td>-0.007594</td>\n",
       "      <td>0.003720</td>\n",
       "      <td>0.839191</td>\n",
       "      <td>-0.416985</td>\n",
       "      <td>1.000000</td>\n",
       "      <td>-0.614910</td>\n",
       "      <td>0.793884</td>\n",
       "    </tr>\n",
       "    <tr>\n",
       "      <th>pressure</th>\n",
       "      <td>-0.002402</td>\n",
       "      <td>-0.002394</td>\n",
       "      <td>0.015976</td>\n",
       "      <td>-0.036727</td>\n",
       "      <td>-0.524829</td>\n",
       "      <td>0.308136</td>\n",
       "      <td>-0.614910</td>\n",
       "      <td>1.000000</td>\n",
       "      <td>-0.389569</td>\n",
       "    </tr>\n",
       "    <tr>\n",
       "      <th>log_time</th>\n",
       "      <td>-0.000124</td>\n",
       "      <td>-0.000136</td>\n",
       "      <td>-0.009353</td>\n",
       "      <td>0.003100</td>\n",
       "      <td>0.899358</td>\n",
       "      <td>-0.435356</td>\n",
       "      <td>0.793884</td>\n",
       "      <td>-0.389569</td>\n",
       "      <td>1.000000</td>\n",
       "    </tr>\n",
       "  </tbody>\n",
       "</table>\n",
       "</div>"
      ],
      "text/plain": [
       "                 id  breath_id         R         C  time_step      u_in  \\\n",
       "id         1.000000   0.999999  0.001853  0.007222  -0.000199 -0.002380   \n",
       "breath_id  0.999999   1.000000  0.001860  0.007222  -0.000213 -0.002378   \n",
       "R          0.001853   0.001860  1.000000 -0.096070  -0.014535 -0.148120   \n",
       "C          0.007222   0.007222 -0.096070  1.000000   0.004936  0.151002   \n",
       "time_step -0.000199  -0.000213 -0.014535  0.004936   1.000000 -0.352276   \n",
       "u_in      -0.002380  -0.002378 -0.148120  0.151002  -0.352276  1.000000   \n",
       "u_out     -0.000089  -0.000100 -0.007594  0.003720   0.839191 -0.416985   \n",
       "pressure  -0.002402  -0.002394  0.015976 -0.036727  -0.524829  0.308136   \n",
       "log_time  -0.000124  -0.000136 -0.009353  0.003100   0.899358 -0.435356   \n",
       "\n",
       "              u_out  pressure  log_time  \n",
       "id        -0.000089 -0.002402 -0.000124  \n",
       "breath_id -0.000100 -0.002394 -0.000136  \n",
       "R         -0.007594  0.015976 -0.009353  \n",
       "C          0.003720 -0.036727  0.003100  \n",
       "time_step  0.839191 -0.524829  0.899358  \n",
       "u_in      -0.416985  0.308136 -0.435356  \n",
       "u_out      1.000000 -0.614910  0.793884  \n",
       "pressure  -0.614910  1.000000 -0.389569  \n",
       "log_time   0.793884 -0.389569  1.000000  "
      ]
     },
     "execution_count": 36,
     "metadata": {},
     "output_type": "execute_result"
    }
   ],
   "source": [
    "train.corr()"
   ]
  },
  {
   "cell_type": "code",
   "execution_count": 329,
   "id": "c467e5cc",
   "metadata": {},
   "outputs": [],
   "source": [
    "# inhale_train['p_times_dt'] = inhale_train['time_step_diff']*inhale_train['pressure']\n",
    "# train.pivot(index='breath_id', columns='id', values='pressure')\n",
    "train['id'] = train['id']%80\n",
    "train.loc[train['id']==0,'id'] = 80"
   ]
  },
  {
   "cell_type": "code",
   "execution_count": 332,
   "id": "7340dd2b",
   "metadata": {},
   "outputs": [],
   "source": [
    "# train\n",
    "tr = train.pivot(index='breath_id', columns='id', values='pressure')"
   ]
  },
  {
   "cell_type": "code",
   "execution_count": 378,
   "id": "4032dfba",
   "metadata": {},
   "outputs": [
    {
     "data": {
      "text/plain": [
       "64.8125"
      ]
     },
     "execution_count": 378,
     "metadata": {},
     "output_type": "execute_result"
    }
   ],
   "source": [
    "# plt.plot((tr[1]/tr[2]).sort_values().values)\n",
    "# plt.plot((tr[2]/tr[3]).sort_values().values)\n",
    "# plt.plot(((tr[4]-tr[3])/tr[4]).sort_values().values)\n",
    "# (tr[1]/tr[2]).info()\n",
    "# sns.distplot((tr[2])/tr[3])\n",
    "tr.astype('float32').max().max()"
   ]
  },
  {
   "cell_type": "code",
   "execution_count": 320,
   "id": "f8eb6181",
   "metadata": {},
   "outputs": [
    {
     "data": {
      "text/plain": [
       "<AxesSubplot:ylabel='Density'>"
      ]
     },
     "execution_count": 320,
     "metadata": {},
     "output_type": "execute_result"
    },
    {
     "data": {
      "image/png": "[encoded data removed]",
      "text/plain": [
       "<Figure size 432x288 with 1 Axes>"
      ]
     },
     "metadata": {
      "needs_background": "light"
     },
     "output_type": "display_data"
    }
   ],
   "source": [
    "# sns.distplot(inhale_train['p_times_dt']*inhale_train['dp_dt'])\n",
    "# sns.distplot((inhale_train.groupby('breath_id')['pressure_diff'].diff().fillna(0)/(inhale_train.time_step_diff)**2).fillna(0))"
   ]
  },
  {
   "cell_type": "code",
   "execution_count": 37,
   "id": "f0bc30c1",
   "metadata": {},
   "outputs": [],
   "source": [
    "train_inhale = train.loc[train.u_out == 0]\n",
    "train_exhale = train.loc[train.u_out == 1]"
   ]
  },
  {
   "cell_type": "code",
   "execution_count": 303,
   "id": "c306bccc",
   "metadata": {},
   "outputs": [
    {
     "data": {
      "text/plain": [
       "<AxesSubplot:xlabel='dp_dt', ylabel='Density'>"
      ]
     },
     "execution_count": 303,
     "metadata": {},
     "output_type": "execute_result"
    },
    {
     "data": {
      "image/png": "[encoded data removed]",
      "text/plain": [
       "<Figure size 432x288 with 1 Axes>"
      ]
     },
     "metadata": {
      "needs_background": "light"
     },
     "output_type": "display_data"
    }
   ],
   "source": [
    "# \n",
    "sns.distplot(inhale_train.loc[inhale_train.R_20 == 1,'dp_dt'])\n",
    "sns.distplot(inhale_train.loc[inhale_train.R_50 == 1,'dp_dt'])\n",
    "sns.distplot(inhale_train.loc[inhale_train.R_5 == 1,'dp_dt'])\n",
    "\n",
    "# sns.distplot(inhale_train.loc[inhale_train.RC_2020 == 1,'dp_dt'])\n"
   ]
  },
  {
   "cell_type": "code",
   "execution_count": 299,
   "id": "0fddc111",
   "metadata": {},
   "outputs": [
    {
     "data": {
      "text/plain": [
       "Index(['id', 'breath_id', 'time_step', 'u_in', 'u_out', 'pressure', 'area',\n",
       "       'cross', 'cross2', 'u_in_cumsum', 'one', 'count', 'u_in_cummean',\n",
       "       'u_in_diff', 'time_step_diff', 'air_press_lung',\n",
       "       'air_press_lung_cumsum', 'sgn_u_in_diff', 'ewm_u_in_mean',\n",
       "       'ewm_u_in_std', 'u_in_lag_back4', 'u_out_lag_back4', 'rolling_10_mean',\n",
       "       'rolling_10_max', 'rolling_10_std', 'u_in_lag_back2', 'u_out_lag_back2',\n",
       "       'expand_mean', 'expand_max', 'expand_std', 'u_in_lag_back1',\n",
       "       'u_out_lag_back1', 'u_in_lag', 'u_in_lag2', 'u_in_lag3', 'u_in_lag4',\n",
       "       'u_out_lag', 'u_out_lag2', 'u_out_lag3', 'u_out_lag4', 'u_in_2nd_diff',\n",
       "       'breath_id__u_in__max', 'breath_id__u_out__max',\n",
       "       'breath_id__u_in__diffmax', 'breath_id__u_in__diffmean', 'u_in_diff3',\n",
       "       'u_out_diff3', 'u_in_diff4', 'u_out_diff4', 'R_20', 'R_5', 'R_50',\n",
       "       'C_10', 'C_20', 'C_50', 'RC_2010', 'RC_2020', 'RC_2050', 'RC_5010',\n",
       "       'RC_5020', 'RC_5050', 'RC_510', 'RC_520', 'RC_550', 'pressure_diff',\n",
       "       'dp_dt'],\n",
       "      dtype='object')"
      ]
     },
     "execution_count": 299,
     "metadata": {},
     "output_type": "execute_result"
    }
   ],
   "source": [
    "# train_inhale['press_u_in'] = (train_inhale['u_in'])/(train_inhale['pressure']) \n",
    "# train_inhale.fillna(0)\n",
    "inhale_train.columns\n",
    "# train"
   ]
  },
  {
   "cell_type": "code",
   "execution_count": 31,
   "id": "a8665890",
   "metadata": {},
   "outputs": [
    {
     "data": {
      "text/plain": [
       "[<matplotlib.lines.Line2D at 0x1c43d0fed88>]"
      ]
     },
     "execution_count": 31,
     "metadata": {},
     "output_type": "execute_result"
    },
    {
     "data": {
      "image/png": "[encoded data removed]",
      "text/plain": [
       "<Figure size 432x288 with 1 Axes>"
      ]
     },
     "metadata": {
      "needs_background": "light"
     },
     "output_type": "display_data"
    }
   ],
   "source": [
    "plt.plot(train.groupby('breath_id').get_group(1)['time_step'],train.groupby('breath_id').get_group(1)['u_in'])"
   ]
  },
  {
   "cell_type": "code",
   "execution_count": 33,
   "id": "e25c9c72",
   "metadata": {},
   "outputs": [
    {
     "data": {
      "text/html": [
       "<div>\n",
       "<style scoped>\n",
       "    .dataframe tbody tr th:only-of-type {\n",
       "        vertical-align: middle;\n",
       "    }\n",
       "\n",
       "    .dataframe tbody tr th {\n",
       "        vertical-align: top;\n",
       "    }\n",
       "\n",
       "    .dataframe thead th {\n",
       "        text-align: right;\n",
       "    }\n",
       "</style>\n",
       "<table border=\"1\" class=\"dataframe\">\n",
       "  <thead>\n",
       "    <tr style=\"text-align: right;\">\n",
       "      <th></th>\n",
       "      <th>id</th>\n",
       "      <th>breath_id</th>\n",
       "      <th>R</th>\n",
       "      <th>C</th>\n",
       "      <th>time_step</th>\n",
       "      <th>u_in</th>\n",
       "      <th>u_out</th>\n",
       "      <th>pressure</th>\n",
       "      <th>log_time</th>\n",
       "    </tr>\n",
       "  </thead>\n",
       "  <tbody>\n",
       "    <tr>\n",
       "      <th>0</th>\n",
       "      <td>1</td>\n",
       "      <td>1</td>\n",
       "      <td>20</td>\n",
       "      <td>50</td>\n",
       "      <td>0.000000</td>\n",
       "      <td>0.083334</td>\n",
       "      <td>0</td>\n",
       "      <td>5.837492</td>\n",
       "      <td>0.000000</td>\n",
       "    </tr>\n",
       "    <tr>\n",
       "      <th>1</th>\n",
       "      <td>2</td>\n",
       "      <td>1</td>\n",
       "      <td>20</td>\n",
       "      <td>50</td>\n",
       "      <td>0.033652</td>\n",
       "      <td>18.383041</td>\n",
       "      <td>0</td>\n",
       "      <td>5.907794</td>\n",
       "      <td>0.033098</td>\n",
       "    </tr>\n",
       "    <tr>\n",
       "      <th>2</th>\n",
       "      <td>3</td>\n",
       "      <td>1</td>\n",
       "      <td>20</td>\n",
       "      <td>50</td>\n",
       "      <td>0.067514</td>\n",
       "      <td>22.509278</td>\n",
       "      <td>0</td>\n",
       "      <td>7.876254</td>\n",
       "      <td>0.065333</td>\n",
       "    </tr>\n",
       "    <tr>\n",
       "      <th>3</th>\n",
       "      <td>4</td>\n",
       "      <td>1</td>\n",
       "      <td>20</td>\n",
       "      <td>50</td>\n",
       "      <td>0.101542</td>\n",
       "      <td>22.808822</td>\n",
       "      <td>0</td>\n",
       "      <td>11.742872</td>\n",
       "      <td>0.096711</td>\n",
       "    </tr>\n",
       "    <tr>\n",
       "      <th>4</th>\n",
       "      <td>5</td>\n",
       "      <td>1</td>\n",
       "      <td>20</td>\n",
       "      <td>50</td>\n",
       "      <td>0.135756</td>\n",
       "      <td>25.355850</td>\n",
       "      <td>0</td>\n",
       "      <td>12.234987</td>\n",
       "      <td>0.127298</td>\n",
       "    </tr>\n",
       "    <tr>\n",
       "      <th>...</th>\n",
       "      <td>...</td>\n",
       "      <td>...</td>\n",
       "      <td>...</td>\n",
       "      <td>...</td>\n",
       "      <td>...</td>\n",
       "      <td>...</td>\n",
       "      <td>...</td>\n",
       "      <td>...</td>\n",
       "      <td>...</td>\n",
       "    </tr>\n",
       "    <tr>\n",
       "      <th>75</th>\n",
       "      <td>76</td>\n",
       "      <td>1</td>\n",
       "      <td>20</td>\n",
       "      <td>50</td>\n",
       "      <td>2.553593</td>\n",
       "      <td>4.974474</td>\n",
       "      <td>1</td>\n",
       "      <td>6.399909</td>\n",
       "      <td>1.267959</td>\n",
       "    </tr>\n",
       "    <tr>\n",
       "      <th>76</th>\n",
       "      <td>77</td>\n",
       "      <td>1</td>\n",
       "      <td>20</td>\n",
       "      <td>50</td>\n",
       "      <td>2.587754</td>\n",
       "      <td>4.978481</td>\n",
       "      <td>1</td>\n",
       "      <td>6.610815</td>\n",
       "      <td>1.277526</td>\n",
       "    </tr>\n",
       "    <tr>\n",
       "      <th>77</th>\n",
       "      <td>78</td>\n",
       "      <td>1</td>\n",
       "      <td>20</td>\n",
       "      <td>50</td>\n",
       "      <td>2.621773</td>\n",
       "      <td>4.981847</td>\n",
       "      <td>1</td>\n",
       "      <td>6.329607</td>\n",
       "      <td>1.286964</td>\n",
       "    </tr>\n",
       "    <tr>\n",
       "      <th>78</th>\n",
       "      <td>79</td>\n",
       "      <td>1</td>\n",
       "      <td>20</td>\n",
       "      <td>50</td>\n",
       "      <td>2.655746</td>\n",
       "      <td>4.984683</td>\n",
       "      <td>1</td>\n",
       "      <td>6.540513</td>\n",
       "      <td>1.296300</td>\n",
       "    </tr>\n",
       "    <tr>\n",
       "      <th>79</th>\n",
       "      <td>80</td>\n",
       "      <td>1</td>\n",
       "      <td>20</td>\n",
       "      <td>50</td>\n",
       "      <td>2.689766</td>\n",
       "      <td>4.987079</td>\n",
       "      <td>1</td>\n",
       "      <td>6.470211</td>\n",
       "      <td>1.305563</td>\n",
       "    </tr>\n",
       "  </tbody>\n",
       "</table>\n",
       "<p>80 rows × 9 columns</p>\n",
       "</div>"
      ],
      "text/plain": [
       "    id  breath_id   R   C  time_step       u_in  u_out   pressure  log_time\n",
       "0    1          1  20  50   0.000000   0.083334      0   5.837492  0.000000\n",
       "1    2          1  20  50   0.033652  18.383041      0   5.907794  0.033098\n",
       "2    3          1  20  50   0.067514  22.509278      0   7.876254  0.065333\n",
       "3    4          1  20  50   0.101542  22.808822      0  11.742872  0.096711\n",
       "4    5          1  20  50   0.135756  25.355850      0  12.234987  0.127298\n",
       "..  ..        ...  ..  ..        ...        ...    ...        ...       ...\n",
       "75  76          1  20  50   2.553593   4.974474      1   6.399909  1.267959\n",
       "76  77          1  20  50   2.587754   4.978481      1   6.610815  1.277526\n",
       "77  78          1  20  50   2.621773   4.981847      1   6.329607  1.286964\n",
       "78  79          1  20  50   2.655746   4.984683      1   6.540513  1.296300\n",
       "79  80          1  20  50   2.689766   4.987079      1   6.470211  1.305563\n",
       "\n",
       "[80 rows x 9 columns]"
      ]
     },
     "execution_count": 33,
     "metadata": {},
     "output_type": "execute_result"
    }
   ],
   "source": [
    "train.groupby('breath_id').get_group(1)"
   ]
  },
  {
   "cell_type": "code",
   "execution_count": 441,
   "id": "019dbd1d",
   "metadata": {},
   "outputs": [
    {
     "data": {
      "text/html": [
       "<div>\n",
       "<style scoped>\n",
       "    .dataframe tbody tr th:only-of-type {\n",
       "        vertical-align: middle;\n",
       "    }\n",
       "\n",
       "    .dataframe tbody tr th {\n",
       "        vertical-align: top;\n",
       "    }\n",
       "\n",
       "    .dataframe thead th {\n",
       "        text-align: right;\n",
       "    }\n",
       "</style>\n",
       "<table border=\"1\" class=\"dataframe\">\n",
       "  <thead>\n",
       "    <tr style=\"text-align: right;\">\n",
       "      <th></th>\n",
       "      <th>0</th>\n",
       "      <th>1</th>\n",
       "    </tr>\n",
       "  </thead>\n",
       "  <tbody>\n",
       "    <tr>\n",
       "      <th>0</th>\n",
       "      <td>0</td>\n",
       "      <td>1</td>\n",
       "    </tr>\n",
       "    <tr>\n",
       "      <th>1</th>\n",
       "      <td>0</td>\n",
       "      <td>0</td>\n",
       "    </tr>\n",
       "  </tbody>\n",
       "</table>\n",
       "</div>"
      ],
      "text/plain": [
       "   0  1\n",
       "0  0  1\n",
       "1  0  0"
      ]
     },
     "execution_count": 441,
     "metadata": {},
     "output_type": "execute_result"
    }
   ],
   "source": [
    "pd.DataFrame([[0,1],[0,0]])"
   ]
  },
  {
   "cell_type": "code",
   "execution_count": null,
   "id": "c48bee15",
   "metadata": {},
   "outputs": [],
   "source": []
  }
 ],
 "metadata": {
  "kernelspec": {
   "display_name": "Python 3 (ipykernel)",
   "language": "python",
   "name": "python3"
  },
  "language_info": {
   "codemirror_mode": {
    "name": "ipython",
    "version": 3
   },
   "file_extension": ".py",
   "mimetype": "text/x-python",
   "name": "python",
   "nbconvert_exporter": "python",
   "pygments_lexer": "ipython3",
   "version": "3.7.4"
  }
 },
 "nbformat": 4,
 "nbformat_minor": 5
}
